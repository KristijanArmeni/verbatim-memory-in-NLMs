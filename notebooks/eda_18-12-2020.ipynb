{
 "cells": [
  {
   "cell_type": "code",
   "execution_count": 1,
   "metadata": {},
   "outputs": [],
   "source": [
    "import sys, os\n",
    "sys.path.append(\"C:/users/kristijan/documents/projects/jhu1/\")\n",
    "sys.path.append(\"C:/users/kristijan/documents/projects/jhu1/data\")\n",
    "os.chdir(\"C:/users/kristijan/documents/projects/jhu1/\")\n",
    "import pandas as pd\n",
    "import numpy as np\n",
    "import plotly.express as px\n",
    "import seaborn as sns\n",
    "from stimuli import prefixes, prompts_word_prediction\n",
    "import json"
   ]
  },
  {
   "cell_type": "markdown",
   "metadata": {},
   "source": [
    "# Word prediction experiment"
   ]
  },
  {
   "cell_type": "markdown",
   "metadata": {},
   "source": [
    "Can we study the WM of a pretrained language model by looking at its outputs directly?\n",
    "- How many items does GPT-2 hold in memory before it starts forgetting\n",
    "- (What kind a prompt is needed for this?)\n",
    "- (Does the semantic structure of list composition affect its WM performance?)"
   ]
  },
  {
   "cell_type": "markdown",
   "metadata": {},
   "source": [
    "## Dataset"
   ]
  },
  {
   "cell_type": "code",
   "execution_count": 2,
   "metadata": {},
   "outputs": [],
   "source": [
    "# load the word lists\n",
    "with open(\"./data/toronto.json\") as f:\n",
    "    stim = json.load(f)"
   ]
  },
  {
   "cell_type": "markdown",
   "metadata": {},
   "source": [
    "### The Toronto noun pool"
   ]
  },
  {
   "cell_type": "markdown",
   "metadata": {},
   "source": [
    "I randomly sample the Toronto word pool (comes with freq and concretness estimates).  \n",
    "The original data look like this:  "
   ]
  },
  {
   "cell_type": "code",
   "execution_count": 3,
   "metadata": {},
   "outputs": [
    {
     "data": {
      "text/html": [
       "<div>\n",
       "<style scoped>\n",
       "    .dataframe tbody tr th:only-of-type {\n",
       "        vertical-align: middle;\n",
       "    }\n",
       "\n",
       "    .dataframe tbody tr th {\n",
       "        vertical-align: top;\n",
       "    }\n",
       "\n",
       "    .dataframe thead th {\n",
       "        text-align: right;\n",
       "    }\n",
       "</style>\n",
       "<table border=\"1\" class=\"dataframe\">\n",
       "  <thead>\n",
       "    <tr style=\"text-align: right;\">\n",
       "      <th></th>\n",
       "      <th>word</th>\n",
       "      <th>imagery</th>\n",
       "      <th>k-f freq</th>\n",
       "      <th>concreteness</th>\n",
       "    </tr>\n",
       "  </thead>\n",
       "  <tbody>\n",
       "    <tr>\n",
       "      <th>0</th>\n",
       "      <td>ABSENCE</td>\n",
       "      <td>3.0</td>\n",
       "      <td>53</td>\n",
       "      <td>3.7</td>\n",
       "    </tr>\n",
       "    <tr>\n",
       "      <th>1</th>\n",
       "      <td>ACCORD</td>\n",
       "      <td>1.8</td>\n",
       "      <td>9</td>\n",
       "      <td>2.6</td>\n",
       "    </tr>\n",
       "    <tr>\n",
       "      <th>2</th>\n",
       "      <td>ACCOUNT</td>\n",
       "      <td>2.6</td>\n",
       "      <td>117</td>\n",
       "      <td>4.0</td>\n",
       "    </tr>\n",
       "    <tr>\n",
       "      <th>3</th>\n",
       "      <td>ACID</td>\n",
       "      <td>4.4</td>\n",
       "      <td>13</td>\n",
       "      <td>6.1</td>\n",
       "    </tr>\n",
       "    <tr>\n",
       "      <th>4</th>\n",
       "      <td>ACRE</td>\n",
       "      <td>4.6</td>\n",
       "      <td>9</td>\n",
       "      <td>5.7</td>\n",
       "    </tr>\n",
       "    <tr>\n",
       "      <th>...</th>\n",
       "      <td>...</td>\n",
       "      <td>...</td>\n",
       "      <td>...</td>\n",
       "      <td>...</td>\n",
       "    </tr>\n",
       "    <tr>\n",
       "      <th>473</th>\n",
       "      <td>WORKER</td>\n",
       "      <td>5.4</td>\n",
       "      <td>30</td>\n",
       "      <td>6.3</td>\n",
       "    </tr>\n",
       "    <tr>\n",
       "      <th>474</th>\n",
       "      <td>WORSHIP</td>\n",
       "      <td>4.7</td>\n",
       "      <td>36</td>\n",
       "      <td>2.8</td>\n",
       "    </tr>\n",
       "    <tr>\n",
       "      <th>475</th>\n",
       "      <td>WRINKLE</td>\n",
       "      <td>6.0</td>\n",
       "      <td>2</td>\n",
       "      <td>5.2</td>\n",
       "    </tr>\n",
       "    <tr>\n",
       "      <th>476</th>\n",
       "      <td>WRITER</td>\n",
       "      <td>4.8</td>\n",
       "      <td>73</td>\n",
       "      <td>6.2</td>\n",
       "    </tr>\n",
       "    <tr>\n",
       "      <th>477</th>\n",
       "      <td>WRITING</td>\n",
       "      <td>5.5</td>\n",
       "      <td>117</td>\n",
       "      <td>5.3</td>\n",
       "    </tr>\n",
       "  </tbody>\n",
       "</table>\n",
       "<p>478 rows × 4 columns</p>\n",
       "</div>"
      ],
      "text/plain": [
       "        word  imagery  k-f freq  concreteness\n",
       "0    ABSENCE      3.0        53           3.7\n",
       "1     ACCORD      1.8         9           2.6\n",
       "2    ACCOUNT      2.6       117           4.0\n",
       "3       ACID      4.4        13           6.1\n",
       "4       ACRE      4.6         9           5.7\n",
       "..       ...      ...       ...           ...\n",
       "473   WORKER      5.4        30           6.3\n",
       "474  WORSHIP      4.7        36           2.8\n",
       "475  WRINKLE      6.0         2           5.2\n",
       "476   WRITER      4.8        73           6.2\n",
       "477  WRITING      5.5       117           5.3\n",
       "\n",
       "[478 rows x 4 columns]"
      ]
     },
     "execution_count": 3,
     "metadata": {},
     "output_type": "execute_result"
    }
   ],
   "source": [
    "trt = pd.read_csv(\"./data/toronto_freq.txt\", sep=\"\\t\")\n",
    "trt"
   ]
  },
  {
   "cell_type": "markdown",
   "metadata": {},
   "source": [
    "For now, I create word lists of length 3, 5 and 10 words.  \n",
    "I sample, randomly, 20 items per length, giving me 60 word lists in total.  \n",
    "Some example word lists:"
   ]
  },
  {
   "cell_type": "code",
   "execution_count": 4,
   "metadata": {},
   "outputs": [
    {
     "data": {
      "text/plain": [
       "['series, singer, affair.',\n",
       " 'sentence, teacher, array.',\n",
       " 'theater, manner, sorrow, angel, illness.',\n",
       " 'pepper, unit, standard, beggar, meantime.',\n",
       " 'major, hunter, princess, journal, jersey, marble, fortune, limit, spirit, mother.',\n",
       " 'frontier, widow, amount, darkness, tiger, mayor, echo, mountain, olive, silver.']"
      ]
     },
     "execution_count": 4,
     "metadata": {},
     "output_type": "execute_result"
    }
   ],
   "source": [
    "[l for l in stim[0::10]]"
   ]
  },
  {
   "cell_type": "markdown",
   "metadata": {},
   "source": [
    "### Prefixes and prompts"
   ]
  },
  {
   "cell_type": "markdown",
   "metadata": {},
   "source": [
    "The prefixes -- known from before -- I consider using currently:  \n",
    "(simple, syntax-no-meaning, explicit, random, complex)"
   ]
  },
  {
   "cell_type": "code",
   "execution_count": 5,
   "metadata": {},
   "outputs": [
    {
     "data": {
      "text/plain": [
       "{'spl': 'This is a list:',\n",
       " 'syn': 'This is a mist:',\n",
       " 'exp': 'Memorize this list:',\n",
       " 'rnd': 'Penguin was that were:',\n",
       " 'cpl': 'Before going to the store, Mary composed this shopping list:'}"
      ]
     },
     "execution_count": 5,
     "metadata": {},
     "output_type": "execute_result"
    }
   ],
   "source": [
    "prefixes  "
   ]
  },
  {
   "cell_type": "markdown",
   "metadata": {},
   "source": [
    "And some prompts:  \n",
    "(simple, item-specific, random, complex)  "
   ]
  },
  {
   "cell_type": "code",
   "execution_count": 6,
   "metadata": {},
   "outputs": [
    {
     "data": {
      "text/plain": [
       "{'cnt': 'The list contains:',\n",
       " 'end': 'This list started with:',\n",
       " 'rnd': 'At it goals with was:',\n",
       " 'cpl': 'The first item on her shopping list was the following:'}"
      ]
     },
     "execution_count": 6,
     "metadata": {},
     "output_type": "execute_result"
    }
   ],
   "source": [
    "prompts_word_prediction"
   ]
  },
  {
   "cell_type": "markdown",
   "metadata": {},
   "source": [
    "### Current ouput"
   ]
  },
  {
   "cell_type": "code",
   "execution_count": null,
   "metadata": {},
   "outputs": [],
   "source": []
  },
  {
   "cell_type": "code",
   "execution_count": 7,
   "metadata": {},
   "outputs": [],
   "source": [
    "dat = pd.read_csv(\"./output/word_prediction.txt\")"
   ]
  },
  {
   "cell_type": "markdown",
   "metadata": {},
   "source": [
    "I run all combinations of prefixes and prompts.\n",
    "I consider two sampling options:  \n",
    "- only grab the top candiate  \n",
    "- grab the top 5 candidates  "
   ]
  },
  {
   "cell_type": "markdown",
   "metadata": {},
   "source": [
    "For example for:   \n",
    "$\\texttt{This is a list:} \\space L \\space \\texttt{The list contains}$:  \n",
    "The top 1 candidate seems to be the line break"
   ]
  },
  {
   "cell_type": "code",
   "execution_count": 8,
   "metadata": {},
   "outputs": [
    {
     "data": {
      "text/html": [
       "<div>\n",
       "<style scoped>\n",
       "    .dataframe tbody tr th:only-of-type {\n",
       "        vertical-align: middle;\n",
       "    }\n",
       "\n",
       "    .dataframe tbody tr th {\n",
       "        vertical-align: top;\n",
       "    }\n",
       "\n",
       "    .dataframe thead th {\n",
       "        text-align: right;\n",
       "    }\n",
       "</style>\n",
       "<table border=\"1\" class=\"dataframe\">\n",
       "  <thead>\n",
       "    <tr style=\"text-align: right;\">\n",
       "      <th></th>\n",
       "      <th>Unnamed: 0</th>\n",
       "      <th>pref</th>\n",
       "      <th>prompt</th>\n",
       "      <th>prediction</th>\n",
       "      <th>prob</th>\n",
       "      <th>top-k</th>\n",
       "    </tr>\n",
       "  </thead>\n",
       "  <tbody>\n",
       "    <tr>\n",
       "      <th>0</th>\n",
       "      <td>0</td>\n",
       "      <td>spl</td>\n",
       "      <td>cnt</td>\n",
       "      <td>\\n</td>\n",
       "      <td>0.5311000347137451</td>\n",
       "      <td>1</td>\n",
       "    </tr>\n",
       "    <tr>\n",
       "      <th>1</th>\n",
       "      <td>1</td>\n",
       "      <td>spl</td>\n",
       "      <td>cnt</td>\n",
       "      <td>\\n</td>\n",
       "      <td>0.5332574248313904</td>\n",
       "      <td>1</td>\n",
       "    </tr>\n",
       "    <tr>\n",
       "      <th>2</th>\n",
       "      <td>2</td>\n",
       "      <td>spl</td>\n",
       "      <td>cnt</td>\n",
       "      <td>\\n</td>\n",
       "      <td>0.4934692978858948</td>\n",
       "      <td>1</td>\n",
       "    </tr>\n",
       "    <tr>\n",
       "      <th>3</th>\n",
       "      <td>3</td>\n",
       "      <td>spl</td>\n",
       "      <td>cnt</td>\n",
       "      <td>\\n</td>\n",
       "      <td>0.5984312295913696</td>\n",
       "      <td>1</td>\n",
       "    </tr>\n",
       "    <tr>\n",
       "      <th>4</th>\n",
       "      <td>4</td>\n",
       "      <td>spl</td>\n",
       "      <td>cnt</td>\n",
       "      <td>\\n</td>\n",
       "      <td>0.48824551701545715</td>\n",
       "      <td>1</td>\n",
       "    </tr>\n",
       "    <tr>\n",
       "      <th>5</th>\n",
       "      <td>5</td>\n",
       "      <td>spl</td>\n",
       "      <td>cnt</td>\n",
       "      <td>\\n</td>\n",
       "      <td>0.6243464946746826</td>\n",
       "      <td>1</td>\n",
       "    </tr>\n",
       "    <tr>\n",
       "      <th>6</th>\n",
       "      <td>6</td>\n",
       "      <td>spl</td>\n",
       "      <td>cnt</td>\n",
       "      <td>\\n</td>\n",
       "      <td>0.6836918592453003</td>\n",
       "      <td>1</td>\n",
       "    </tr>\n",
       "    <tr>\n",
       "      <th>7</th>\n",
       "      <td>7</td>\n",
       "      <td>spl</td>\n",
       "      <td>cnt</td>\n",
       "      <td>\\n</td>\n",
       "      <td>0.5130649209022522</td>\n",
       "      <td>1</td>\n",
       "    </tr>\n",
       "    <tr>\n",
       "      <th>8</th>\n",
       "      <td>8</td>\n",
       "      <td>spl</td>\n",
       "      <td>cnt</td>\n",
       "      <td>\\n</td>\n",
       "      <td>0.6700116395950317</td>\n",
       "      <td>1</td>\n",
       "    </tr>\n",
       "    <tr>\n",
       "      <th>9</th>\n",
       "      <td>9</td>\n",
       "      <td>spl</td>\n",
       "      <td>cnt</td>\n",
       "      <td>\\n</td>\n",
       "      <td>0.5511378049850464</td>\n",
       "      <td>1</td>\n",
       "    </tr>\n",
       "  </tbody>\n",
       "</table>\n",
       "</div>"
      ],
      "text/plain": [
       "   Unnamed: 0 pref prompt prediction                 prob  top-k\n",
       "0           0  spl    cnt         \\n   0.5311000347137451      1\n",
       "1           1  spl    cnt         \\n   0.5332574248313904      1\n",
       "2           2  spl    cnt         \\n   0.4934692978858948      1\n",
       "3           3  spl    cnt         \\n   0.5984312295913696      1\n",
       "4           4  spl    cnt         \\n  0.48824551701545715      1\n",
       "5           5  spl    cnt         \\n   0.6243464946746826      1\n",
       "6           6  spl    cnt         \\n   0.6836918592453003      1\n",
       "7           7  spl    cnt         \\n   0.5130649209022522      1\n",
       "8           8  spl    cnt         \\n   0.6700116395950317      1\n",
       "9           9  spl    cnt         \\n   0.5511378049850464      1"
      ]
     },
     "execution_count": 8,
     "metadata": {},
     "output_type": "execute_result"
    }
   ],
   "source": [
    "dat.head(10).loc[:, [\"Unnamed: 0\", \"pref\", \"prompt\", \"prediction\", \"prob\", \"top-k\"]]"
   ]
  },
  {
   "cell_type": "markdown",
   "metadata": {},
   "source": [
    "Or consider:  \n",
    "$\\texttt{Before going to the store, Mary composed this shopping list:} \\space L \\space \\texttt{The first item on her shopping list was the following}$:"
   ]
  },
  {
   "cell_type": "markdown",
   "metadata": {},
   "source": [
    "And let's look at the `top-1` scenario:"
   ]
  },
  {
   "cell_type": "code",
   "execution_count": 9,
   "metadata": {},
   "outputs": [
    {
     "data": {
      "text/html": [
       "<div>\n",
       "<style scoped>\n",
       "    .dataframe tbody tr th:only-of-type {\n",
       "        vertical-align: middle;\n",
       "    }\n",
       "\n",
       "    .dataframe tbody tr th {\n",
       "        vertical-align: top;\n",
       "    }\n",
       "\n",
       "    .dataframe thead th {\n",
       "        text-align: right;\n",
       "    }\n",
       "</style>\n",
       "<table border=\"1\" class=\"dataframe\">\n",
       "  <thead>\n",
       "    <tr style=\"text-align: right;\">\n",
       "      <th></th>\n",
       "      <th>Unnamed: 0</th>\n",
       "      <th>pref</th>\n",
       "      <th>prompt</th>\n",
       "      <th>prediction</th>\n",
       "      <th>prob</th>\n",
       "      <th>top-k</th>\n",
       "    </tr>\n",
       "  </thead>\n",
       "  <tbody>\n",
       "    <tr>\n",
       "      <th>1190</th>\n",
       "      <td>1190</td>\n",
       "      <td>cpl</td>\n",
       "      <td>cpl</td>\n",
       "      <td>\"</td>\n",
       "      <td>0.39133214950561523</td>\n",
       "      <td>1</td>\n",
       "    </tr>\n",
       "    <tr>\n",
       "      <th>1191</th>\n",
       "      <td>1191</td>\n",
       "      <td>cpl</td>\n",
       "      <td>cpl</td>\n",
       "      <td>\"</td>\n",
       "      <td>0.37633776664733887</td>\n",
       "      <td>1</td>\n",
       "    </tr>\n",
       "    <tr>\n",
       "      <th>1192</th>\n",
       "      <td>1192</td>\n",
       "      <td>cpl</td>\n",
       "      <td>cpl</td>\n",
       "      <td>\\n</td>\n",
       "      <td>0.34625810384750366</td>\n",
       "      <td>1</td>\n",
       "    </tr>\n",
       "    <tr>\n",
       "      <th>1193</th>\n",
       "      <td>1193</td>\n",
       "      <td>cpl</td>\n",
       "      <td>cpl</td>\n",
       "      <td>\\n</td>\n",
       "      <td>0.3721664249897003</td>\n",
       "      <td>1</td>\n",
       "    </tr>\n",
       "    <tr>\n",
       "      <th>1194</th>\n",
       "      <td>1194</td>\n",
       "      <td>cpl</td>\n",
       "      <td>cpl</td>\n",
       "      <td>\\n</td>\n",
       "      <td>0.39561161398887634</td>\n",
       "      <td>1</td>\n",
       "    </tr>\n",
       "    <tr>\n",
       "      <th>1195</th>\n",
       "      <td>1195</td>\n",
       "      <td>cpl</td>\n",
       "      <td>cpl</td>\n",
       "      <td>\"</td>\n",
       "      <td>0.4603332579135895</td>\n",
       "      <td>1</td>\n",
       "    </tr>\n",
       "    <tr>\n",
       "      <th>1196</th>\n",
       "      <td>1196</td>\n",
       "      <td>cpl</td>\n",
       "      <td>cpl</td>\n",
       "      <td>\\n</td>\n",
       "      <td>0.3521767258644104</td>\n",
       "      <td>1</td>\n",
       "    </tr>\n",
       "    <tr>\n",
       "      <th>1197</th>\n",
       "      <td>1197</td>\n",
       "      <td>cpl</td>\n",
       "      <td>cpl</td>\n",
       "      <td>\"</td>\n",
       "      <td>0.4250360429286957</td>\n",
       "      <td>1</td>\n",
       "    </tr>\n",
       "    <tr>\n",
       "      <th>1198</th>\n",
       "      <td>1198</td>\n",
       "      <td>cpl</td>\n",
       "      <td>cpl</td>\n",
       "      <td>\"</td>\n",
       "      <td>0.4197111129760742</td>\n",
       "      <td>1</td>\n",
       "    </tr>\n",
       "    <tr>\n",
       "      <th>1199</th>\n",
       "      <td>1199</td>\n",
       "      <td>cpl</td>\n",
       "      <td>cpl</td>\n",
       "      <td>\\n</td>\n",
       "      <td>0.5021361708641052</td>\n",
       "      <td>1</td>\n",
       "    </tr>\n",
       "  </tbody>\n",
       "</table>\n",
       "</div>"
      ],
      "text/plain": [
       "      Unnamed: 0 pref prompt prediction                 prob  top-k\n",
       "1190        1190  cpl    cpl          \"  0.39133214950561523      1\n",
       "1191        1191  cpl    cpl          \"  0.37633776664733887      1\n",
       "1192        1192  cpl    cpl         \\n  0.34625810384750366      1\n",
       "1193        1193  cpl    cpl         \\n   0.3721664249897003      1\n",
       "1194        1194  cpl    cpl         \\n  0.39561161398887634      1\n",
       "1195        1195  cpl    cpl          \"   0.4603332579135895      1\n",
       "1196        1196  cpl    cpl         \\n   0.3521767258644104      1\n",
       "1197        1197  cpl    cpl          \"   0.4250360429286957      1\n",
       "1198        1198  cpl    cpl          \"   0.4197111129760742      1\n",
       "1199        1199  cpl    cpl         \\n   0.5021361708641052      1"
      ]
     },
     "execution_count": 9,
     "metadata": {},
     "output_type": "execute_result"
    }
   ],
   "source": [
    "tmp = dat.loc[(dat[\"top-k\"] == 1)]\n",
    "tmp.tail(10).loc[:, [\"Unnamed: 0\", \"pref\", \"prompt\", \"prediction\", \"prob\", \"top-k\"]]"
   ]
  },
  {
   "cell_type": "markdown",
   "metadata": {},
   "source": [
    "And the \"noise\" is also in the `top-5 scenario`:"
   ]
  },
  {
   "cell_type": "code",
   "execution_count": 10,
   "metadata": {},
   "outputs": [
    {
     "data": {
      "text/html": [
       "<div>\n",
       "<style scoped>\n",
       "    .dataframe tbody tr th:only-of-type {\n",
       "        vertical-align: middle;\n",
       "    }\n",
       "\n",
       "    .dataframe tbody tr th {\n",
       "        vertical-align: top;\n",
       "    }\n",
       "\n",
       "    .dataframe thead th {\n",
       "        text-align: right;\n",
       "    }\n",
       "</style>\n",
       "<table border=\"1\" class=\"dataframe\">\n",
       "  <thead>\n",
       "    <tr style=\"text-align: right;\">\n",
       "      <th></th>\n",
       "      <th>Unnamed: 0</th>\n",
       "      <th>pref</th>\n",
       "      <th>prompt</th>\n",
       "      <th>prediction</th>\n",
       "      <th>prob</th>\n",
       "      <th>top-k</th>\n",
       "    </tr>\n",
       "  </thead>\n",
       "  <tbody>\n",
       "    <tr>\n",
       "      <th>2390</th>\n",
       "      <td>2390</td>\n",
       "      <td>cpl</td>\n",
       "      <td>cpl</td>\n",
       "      <td>\"\\n a the $</td>\n",
       "      <td>[0.39133214950561523, 0.3469286262989044, 0.04...</td>\n",
       "      <td>5</td>\n",
       "    </tr>\n",
       "    <tr>\n",
       "      <th>2391</th>\n",
       "      <td>2391</td>\n",
       "      <td>cpl</td>\n",
       "      <td>cpl</td>\n",
       "      <td>\"\\n a the sunset</td>\n",
       "      <td>[0.37633776664733887, 0.2485126554965973, 0.08...</td>\n",
       "      <td>5</td>\n",
       "    </tr>\n",
       "    <tr>\n",
       "      <th>2392</th>\n",
       "      <td>2392</td>\n",
       "      <td>cpl</td>\n",
       "      <td>cpl</td>\n",
       "      <td>\\n \" a $ diamond</td>\n",
       "      <td>[0.34625810384750366, 0.33191266655921936, 0.0...</td>\n",
       "      <td>5</td>\n",
       "    </tr>\n",
       "    <tr>\n",
       "      <th>2393</th>\n",
       "      <td>2393</td>\n",
       "      <td>cpl</td>\n",
       "      <td>cpl</td>\n",
       "      <td>\\n \" a the I</td>\n",
       "      <td>[0.3721664249897003, 0.34648990631103516, 0.07...</td>\n",
       "      <td>5</td>\n",
       "    </tr>\n",
       "    <tr>\n",
       "      <th>2394</th>\n",
       "      <td>2394</td>\n",
       "      <td>cpl</td>\n",
       "      <td>cpl</td>\n",
       "      <td>\\n \" a $ A</td>\n",
       "      <td>[0.39561161398887634, 0.32124248147010803, 0.0...</td>\n",
       "      <td>5</td>\n",
       "    </tr>\n",
       "    <tr>\n",
       "      <th>2395</th>\n",
       "      <td>2395</td>\n",
       "      <td>cpl</td>\n",
       "      <td>cpl</td>\n",
       "      <td>\"\\n a the '</td>\n",
       "      <td>[0.4603332579135895, 0.28773531317710876, 0.05...</td>\n",
       "      <td>5</td>\n",
       "    </tr>\n",
       "    <tr>\n",
       "      <th>2396</th>\n",
       "      <td>2396</td>\n",
       "      <td>cpl</td>\n",
       "      <td>cpl</td>\n",
       "      <td>\\n \" a $ the</td>\n",
       "      <td>[0.3521767258644104, 0.2822273075580597, 0.082...</td>\n",
       "      <td>5</td>\n",
       "    </tr>\n",
       "    <tr>\n",
       "      <th>2397</th>\n",
       "      <td>2397</td>\n",
       "      <td>cpl</td>\n",
       "      <td>cpl</td>\n",
       "      <td>\"\\n a the The</td>\n",
       "      <td>[0.4250360429286957, 0.3691312372684479, 0.039...</td>\n",
       "      <td>5</td>\n",
       "    </tr>\n",
       "    <tr>\n",
       "      <th>2398</th>\n",
       "      <td>2398</td>\n",
       "      <td>cpl</td>\n",
       "      <td>cpl</td>\n",
       "      <td>\"\\n a\\n\\n the</td>\n",
       "      <td>[0.4197111129760742, 0.412942498922348, 0.0481...</td>\n",
       "      <td>5</td>\n",
       "    </tr>\n",
       "    <tr>\n",
       "      <th>2399</th>\n",
       "      <td>2399</td>\n",
       "      <td>cpl</td>\n",
       "      <td>cpl</td>\n",
       "      <td>\\n \" a the\\n\\n</td>\n",
       "      <td>[0.5021361708641052, 0.2106030136346817, 0.104...</td>\n",
       "      <td>5</td>\n",
       "    </tr>\n",
       "  </tbody>\n",
       "</table>\n",
       "</div>"
      ],
      "text/plain": [
       "      Unnamed: 0 pref prompt         prediction  \\\n",
       "2390        2390  cpl    cpl        \"\\n a the $   \n",
       "2391        2391  cpl    cpl   \"\\n a the sunset   \n",
       "2392        2392  cpl    cpl   \\n \" a $ diamond   \n",
       "2393        2393  cpl    cpl       \\n \" a the I   \n",
       "2394        2394  cpl    cpl         \\n \" a $ A   \n",
       "2395        2395  cpl    cpl        \"\\n a the '   \n",
       "2396        2396  cpl    cpl       \\n \" a $ the   \n",
       "2397        2397  cpl    cpl      \"\\n a the The   \n",
       "2398        2398  cpl    cpl      \"\\n a\\n\\n the   \n",
       "2399        2399  cpl    cpl     \\n \" a the\\n\\n   \n",
       "\n",
       "                                                   prob  top-k  \n",
       "2390  [0.39133214950561523, 0.3469286262989044, 0.04...      5  \n",
       "2391  [0.37633776664733887, 0.2485126554965973, 0.08...      5  \n",
       "2392  [0.34625810384750366, 0.33191266655921936, 0.0...      5  \n",
       "2393  [0.3721664249897003, 0.34648990631103516, 0.07...      5  \n",
       "2394  [0.39561161398887634, 0.32124248147010803, 0.0...      5  \n",
       "2395  [0.4603332579135895, 0.28773531317710876, 0.05...      5  \n",
       "2396  [0.3521767258644104, 0.2822273075580597, 0.082...      5  \n",
       "2397  [0.4250360429286957, 0.3691312372684479, 0.039...      5  \n",
       "2398  [0.4197111129760742, 0.412942498922348, 0.0481...      5  \n",
       "2399  [0.5021361708641052, 0.2106030136346817, 0.104...      5  "
      ]
     },
     "execution_count": 10,
     "metadata": {},
     "output_type": "execute_result"
    }
   ],
   "source": [
    "tmp = dat.loc[(dat[\"top-k\"] == 5)]\n",
    "tmp.tail(10).loc[:, [\"Unnamed: 0\", \"pref\", \"prompt\", \"prediction\", \"prob\", \"top-k\"]]"
   ]
  },
  {
   "cell_type": "code",
   "execution_count": null,
   "metadata": {},
   "outputs": [],
   "source": []
  }
 ],
 "metadata": {
  "kernelspec": {
   "display_name": "Python 3",
   "language": "python",
   "name": "python3"
  },
  "language_info": {
   "codemirror_mode": {
    "name": "ipython",
    "version": 3
   },
   "file_extension": ".py",
   "mimetype": "text/x-python",
   "name": "python",
   "nbconvert_exporter": "python",
   "pygments_lexer": "ipython3",
   "version": "3.7.9"
  }
 },
 "nbformat": 4,
 "nbformat_minor": 4
}
