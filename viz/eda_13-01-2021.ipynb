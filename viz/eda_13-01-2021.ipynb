{
 "cells": [
  {
   "cell_type": "code",
   "execution_count": 1,
   "metadata": {},
   "outputs": [],
   "source": [
    "import sys, os\n",
    "sys.path.append(\"C:/users/kristijan/documents/projects/jhu1/\")\n",
    "sys.path.append(\"C:/users/kristijan/documents/projects/jhu1/data\")\n",
    "os.chdir(\"C:/users/kristijan/documents/projects/jhu1/\")\n",
    "import pandas as pd\n",
    "import numpy as np\n",
    "import plotly.express as px\n",
    "import seaborn as sns\n",
    "from stimuli import prefixes, prompts_word_prediction\n",
    "import json"
   ]
  },
  {
   "cell_type": "markdown",
   "metadata": {},
   "source": [
    "# Word prediction"
   ]
  },
  {
   "cell_type": "code",
   "execution_count": 2,
   "metadata": {},
   "outputs": [],
   "source": [
    "input_files = [\n",
    "    \"word_prediction_semantic_sample.csv\",\n",
    "    \"word_prediction_nonsemantic_sample.csv\",\n",
    "    \"word_prediction_semantic_sample_nobeam.csv\",\n",
    "    \"word_prediction_nonsemantic_sample_nobeam.csv\"\n",
    "]\n",
    "\n",
    "dfs = []\n",
    "for file in input_files:\n",
    "    dfs.append(pd.read_csv(os.path.join(\"./output\", file)))\n",
    "df1 = pd.concat(dfs)"
   ]
  },
  {
   "cell_type": "code",
   "execution_count": 3,
   "metadata": {},
   "outputs": [],
   "source": [
    "#df1[\"prompt\"] = df1[\"prompt\"].str.replace(\"sce1-1\", \"1) short\")\n",
    "#df1[\"prompt\"] = df1[\"prompt\"].str.replace(\"sce1-3\", \"2) mid\")\n",
    "#df1[\"prompt\"] = df1[\"prompt\"].str.replace(\"sce1-5\", \"3) long\")"
   ]
  },
  {
   "cell_type": "code",
   "execution_count": 35,
   "metadata": {},
   "outputs": [
    {
     "data": {
      "application/vnd.plotly.v1+json": {
       "config": {
        "plotlyServerURL": "https://plot.ly"
       },
       "data": [
        {
         "alignmentgroup": "True",
         "bingroup": "x",
         "histnorm": "percent",
         "hovertemplate": "prompt=sce1-1<br>set size=3<br>n. hits=%{x}<br>count=%{y}<extra></extra>",
         "legendgroup": "",
         "marker": {
          "color": "#636efa"
         },
         "name": "",
         "offsetgroup": "",
         "orientation": "v",
         "showlegend": false,
         "type": "histogram",
         "x": [
          3,
          3,
          3,
          1,
          1,
          2,
          1,
          3,
          0,
          1,
          3,
          1,
          3,
          3,
          2,
          0,
          3,
          3,
          3,
          1
         ],
         "xaxis": "x7",
         "yaxis": "y7"
        },
        {
         "alignmentgroup": "True",
         "bingroup": "x",
         "histnorm": "percent",
         "hovertemplate": "prompt=sce1-1<br>set size=5<br>n. hits=%{x}<br>count=%{y}<extra></extra>",
         "legendgroup": "",
         "marker": {
          "color": "#636efa"
         },
         "name": "",
         "offsetgroup": "",
         "orientation": "v",
         "showlegend": false,
         "type": "histogram",
         "x": [
          5,
          5,
          0,
          0,
          5,
          5,
          5,
          5,
          4,
          5,
          4,
          5,
          5,
          0,
          5,
          5,
          5,
          5,
          5,
          0
         ],
         "xaxis": "x8",
         "yaxis": "y8"
        },
        {
         "alignmentgroup": "True",
         "bingroup": "x",
         "histnorm": "percent",
         "hovertemplate": "prompt=sce1-1<br>set size=10<br>n. hits=%{x}<br>count=%{y}<extra></extra>",
         "legendgroup": "",
         "marker": {
          "color": "#636efa"
         },
         "name": "",
         "offsetgroup": "",
         "orientation": "v",
         "showlegend": false,
         "type": "histogram",
         "x": [
          8,
          8,
          7,
          7,
          7,
          8,
          7,
          7,
          8,
          7,
          8,
          8,
          8,
          8,
          8,
          8,
          2,
          0,
          8,
          7
         ],
         "xaxis": "x9",
         "yaxis": "y9"
        },
        {
         "alignmentgroup": "True",
         "bingroup": "x",
         "histnorm": "percent",
         "hovertemplate": "prompt=sce1-3<br>set size=3<br>n. hits=%{x}<br>count=%{y}<extra></extra>",
         "legendgroup": "",
         "marker": {
          "color": "#636efa"
         },
         "name": "",
         "offsetgroup": "",
         "orientation": "v",
         "showlegend": false,
         "type": "histogram",
         "x": [
          3,
          3,
          3,
          3,
          3,
          2,
          2,
          3,
          3,
          3,
          3,
          3,
          3,
          3,
          3,
          3,
          3,
          3,
          3,
          3
         ],
         "xaxis": "x4",
         "yaxis": "y4"
        },
        {
         "alignmentgroup": "True",
         "bingroup": "x",
         "histnorm": "percent",
         "hovertemplate": "prompt=sce1-3<br>set size=5<br>n. hits=%{x}<br>count=%{y}<extra></extra>",
         "legendgroup": "",
         "marker": {
          "color": "#636efa"
         },
         "name": "",
         "offsetgroup": "",
         "orientation": "v",
         "showlegend": false,
         "type": "histogram",
         "x": [
          5,
          5,
          0,
          5,
          5,
          4,
          5,
          5,
          4,
          5,
          4,
          5,
          5,
          5,
          5,
          5,
          5,
          5,
          5,
          5
         ],
         "xaxis": "x5",
         "yaxis": "y5"
        },
        {
         "alignmentgroup": "True",
         "bingroup": "x",
         "histnorm": "percent",
         "hovertemplate": "prompt=sce1-3<br>set size=10<br>n. hits=%{x}<br>count=%{y}<extra></extra>",
         "legendgroup": "",
         "marker": {
          "color": "#636efa"
         },
         "name": "",
         "offsetgroup": "",
         "orientation": "v",
         "showlegend": false,
         "type": "histogram",
         "x": [
          8,
          8,
          7,
          7,
          7,
          8,
          7,
          7,
          8,
          7,
          8,
          8,
          8,
          8,
          8,
          8,
          8,
          8,
          8,
          7
         ],
         "xaxis": "x6",
         "yaxis": "y6"
        },
        {
         "alignmentgroup": "True",
         "bingroup": "x",
         "histnorm": "percent",
         "hovertemplate": "prompt=sce1-5<br>set size=3<br>n. hits=%{x}<br>count=%{y}<extra></extra>",
         "legendgroup": "",
         "marker": {
          "color": "#636efa"
         },
         "name": "",
         "offsetgroup": "",
         "orientation": "v",
         "showlegend": false,
         "type": "histogram",
         "x": [
          3,
          3,
          3,
          3,
          3,
          3,
          2,
          3,
          3,
          3,
          3,
          3,
          3,
          3,
          3,
          3,
          3,
          3,
          3,
          3
         ],
         "xaxis": "x",
         "yaxis": "y"
        },
        {
         "alignmentgroup": "True",
         "bingroup": "x",
         "histnorm": "percent",
         "hovertemplate": "prompt=sce1-5<br>set size=5<br>n. hits=%{x}<br>count=%{y}<extra></extra>",
         "legendgroup": "",
         "marker": {
          "color": "#636efa"
         },
         "name": "",
         "offsetgroup": "",
         "orientation": "v",
         "showlegend": false,
         "type": "histogram",
         "x": [
          5,
          5,
          5,
          5,
          5,
          4,
          5,
          5,
          4,
          5,
          4,
          5,
          5,
          5,
          5,
          5,
          5,
          5,
          5,
          5
         ],
         "xaxis": "x2",
         "yaxis": "y2"
        },
        {
         "alignmentgroup": "True",
         "bingroup": "x",
         "histnorm": "percent",
         "hovertemplate": "prompt=sce1-5<br>set size=10<br>n. hits=%{x}<br>count=%{y}<extra></extra>",
         "legendgroup": "",
         "marker": {
          "color": "#636efa"
         },
         "name": "",
         "offsetgroup": "",
         "orientation": "v",
         "showlegend": false,
         "type": "histogram",
         "x": [
          8,
          8,
          7,
          7,
          7,
          8,
          7,
          7,
          8,
          7,
          8,
          8,
          8,
          8,
          8,
          8,
          8,
          8,
          8,
          7
         ],
         "xaxis": "x3",
         "yaxis": "y3"
        }
       ],
       "layout": {
        "annotations": [
         {
          "font": {},
          "showarrow": false,
          "text": "set size=3",
          "x": 0.15666666666666665,
          "xanchor": "center",
          "xref": "paper",
          "y": 0.9999999999999998,
          "yanchor": "bottom",
          "yref": "paper"
         },
         {
          "font": {},
          "showarrow": false,
          "text": "set size=5",
          "x": 0.49,
          "xanchor": "center",
          "xref": "paper",
          "y": 0.9999999999999998,
          "yanchor": "bottom",
          "yref": "paper"
         },
         {
          "font": {},
          "showarrow": false,
          "text": "set size=10",
          "x": 0.8233333333333333,
          "xanchor": "center",
          "xref": "paper",
          "y": 0.9999999999999998,
          "yanchor": "bottom",
          "yref": "paper"
         },
         {
          "font": {},
          "showarrow": false,
          "text": "prompt=sce1-5",
          "textangle": 90,
          "x": 0.98,
          "xanchor": "left",
          "xref": "paper",
          "y": 0.15666666666666665,
          "yanchor": "middle",
          "yref": "paper"
         },
         {
          "font": {},
          "showarrow": false,
          "text": "prompt=sce1-3",
          "textangle": 90,
          "x": 0.98,
          "xanchor": "left",
          "xref": "paper",
          "y": 0.4999999999999999,
          "yanchor": "middle",
          "yref": "paper"
         },
         {
          "font": {},
          "showarrow": false,
          "text": "prompt=sce1-1",
          "textangle": 90,
          "x": 0.98,
          "xanchor": "left",
          "xref": "paper",
          "y": 0.8433333333333332,
          "yanchor": "middle",
          "yref": "paper"
         }
        ],
        "barmode": "relative",
        "height": 800,
        "legend": {
         "tracegroupgap": 0
        },
        "margin": {
         "t": 60
        },
        "template": {
         "data": {
          "bar": [
           {
            "error_x": {
             "color": "#2a3f5f"
            },
            "error_y": {
             "color": "#2a3f5f"
            },
            "marker": {
             "line": {
              "color": "#E5ECF6",
              "width": 0.5
             }
            },
            "type": "bar"
           }
          ],
          "barpolar": [
           {
            "marker": {
             "line": {
              "color": "#E5ECF6",
              "width": 0.5
             }
            },
            "type": "barpolar"
           }
          ],
          "carpet": [
           {
            "aaxis": {
             "endlinecolor": "#2a3f5f",
             "gridcolor": "white",
             "linecolor": "white",
             "minorgridcolor": "white",
             "startlinecolor": "#2a3f5f"
            },
            "baxis": {
             "endlinecolor": "#2a3f5f",
             "gridcolor": "white",
             "linecolor": "white",
             "minorgridcolor": "white",
             "startlinecolor": "#2a3f5f"
            },
            "type": "carpet"
           }
          ],
          "choropleth": [
           {
            "colorbar": {
             "outlinewidth": 0,
             "ticks": ""
            },
            "type": "choropleth"
           }
          ],
          "contour": [
           {
            "colorbar": {
             "outlinewidth": 0,
             "ticks": ""
            },
            "colorscale": [
             [
              0,
              "#0d0887"
             ],
             [
              0.1111111111111111,
              "#46039f"
             ],
             [
              0.2222222222222222,
              "#7201a8"
             ],
             [
              0.3333333333333333,
              "#9c179e"
             ],
             [
              0.4444444444444444,
              "#bd3786"
             ],
             [
              0.5555555555555556,
              "#d8576b"
             ],
             [
              0.6666666666666666,
              "#ed7953"
             ],
             [
              0.7777777777777778,
              "#fb9f3a"
             ],
             [
              0.8888888888888888,
              "#fdca26"
             ],
             [
              1,
              "#f0f921"
             ]
            ],
            "type": "contour"
           }
          ],
          "contourcarpet": [
           {
            "colorbar": {
             "outlinewidth": 0,
             "ticks": ""
            },
            "type": "contourcarpet"
           }
          ],
          "heatmap": [
           {
            "colorbar": {
             "outlinewidth": 0,
             "ticks": ""
            },
            "colorscale": [
             [
              0,
              "#0d0887"
             ],
             [
              0.1111111111111111,
              "#46039f"
             ],
             [
              0.2222222222222222,
              "#7201a8"
             ],
             [
              0.3333333333333333,
              "#9c179e"
             ],
             [
              0.4444444444444444,
              "#bd3786"
             ],
             [
              0.5555555555555556,
              "#d8576b"
             ],
             [
              0.6666666666666666,
              "#ed7953"
             ],
             [
              0.7777777777777778,
              "#fb9f3a"
             ],
             [
              0.8888888888888888,
              "#fdca26"
             ],
             [
              1,
              "#f0f921"
             ]
            ],
            "type": "heatmap"
           }
          ],
          "heatmapgl": [
           {
            "colorbar": {
             "outlinewidth": 0,
             "ticks": ""
            },
            "colorscale": [
             [
              0,
              "#0d0887"
             ],
             [
              0.1111111111111111,
              "#46039f"
             ],
             [
              0.2222222222222222,
              "#7201a8"
             ],
             [
              0.3333333333333333,
              "#9c179e"
             ],
             [
              0.4444444444444444,
              "#bd3786"
             ],
             [
              0.5555555555555556,
              "#d8576b"
             ],
             [
              0.6666666666666666,
              "#ed7953"
             ],
             [
              0.7777777777777778,
              "#fb9f3a"
             ],
             [
              0.8888888888888888,
              "#fdca26"
             ],
             [
              1,
              "#f0f921"
             ]
            ],
            "type": "heatmapgl"
           }
          ],
          "histogram": [
           {
            "marker": {
             "colorbar": {
              "outlinewidth": 0,
              "ticks": ""
             }
            },
            "type": "histogram"
           }
          ],
          "histogram2d": [
           {
            "colorbar": {
             "outlinewidth": 0,
             "ticks": ""
            },
            "colorscale": [
             [
              0,
              "#0d0887"
             ],
             [
              0.1111111111111111,
              "#46039f"
             ],
             [
              0.2222222222222222,
              "#7201a8"
             ],
             [
              0.3333333333333333,
              "#9c179e"
             ],
             [
              0.4444444444444444,
              "#bd3786"
             ],
             [
              0.5555555555555556,
              "#d8576b"
             ],
             [
              0.6666666666666666,
              "#ed7953"
             ],
             [
              0.7777777777777778,
              "#fb9f3a"
             ],
             [
              0.8888888888888888,
              "#fdca26"
             ],
             [
              1,
              "#f0f921"
             ]
            ],
            "type": "histogram2d"
           }
          ],
          "histogram2dcontour": [
           {
            "colorbar": {
             "outlinewidth": 0,
             "ticks": ""
            },
            "colorscale": [
             [
              0,
              "#0d0887"
             ],
             [
              0.1111111111111111,
              "#46039f"
             ],
             [
              0.2222222222222222,
              "#7201a8"
             ],
             [
              0.3333333333333333,
              "#9c179e"
             ],
             [
              0.4444444444444444,
              "#bd3786"
             ],
             [
              0.5555555555555556,
              "#d8576b"
             ],
             [
              0.6666666666666666,
              "#ed7953"
             ],
             [
              0.7777777777777778,
              "#fb9f3a"
             ],
             [
              0.8888888888888888,
              "#fdca26"
             ],
             [
              1,
              "#f0f921"
             ]
            ],
            "type": "histogram2dcontour"
           }
          ],
          "mesh3d": [
           {
            "colorbar": {
             "outlinewidth": 0,
             "ticks": ""
            },
            "type": "mesh3d"
           }
          ],
          "parcoords": [
           {
            "line": {
             "colorbar": {
              "outlinewidth": 0,
              "ticks": ""
             }
            },
            "type": "parcoords"
           }
          ],
          "pie": [
           {
            "automargin": true,
            "type": "pie"
           }
          ],
          "scatter": [
           {
            "marker": {
             "colorbar": {
              "outlinewidth": 0,
              "ticks": ""
             }
            },
            "type": "scatter"
           }
          ],
          "scatter3d": [
           {
            "line": {
             "colorbar": {
              "outlinewidth": 0,
              "ticks": ""
             }
            },
            "marker": {
             "colorbar": {
              "outlinewidth": 0,
              "ticks": ""
             }
            },
            "type": "scatter3d"
           }
          ],
          "scattercarpet": [
           {
            "marker": {
             "colorbar": {
              "outlinewidth": 0,
              "ticks": ""
             }
            },
            "type": "scattercarpet"
           }
          ],
          "scattergeo": [
           {
            "marker": {
             "colorbar": {
              "outlinewidth": 0,
              "ticks": ""
             }
            },
            "type": "scattergeo"
           }
          ],
          "scattergl": [
           {
            "marker": {
             "colorbar": {
              "outlinewidth": 0,
              "ticks": ""
             }
            },
            "type": "scattergl"
           }
          ],
          "scattermapbox": [
           {
            "marker": {
             "colorbar": {
              "outlinewidth": 0,
              "ticks": ""
             }
            },
            "type": "scattermapbox"
           }
          ],
          "scatterpolar": [
           {
            "marker": {
             "colorbar": {
              "outlinewidth": 0,
              "ticks": ""
             }
            },
            "type": "scatterpolar"
           }
          ],
          "scatterpolargl": [
           {
            "marker": {
             "colorbar": {
              "outlinewidth": 0,
              "ticks": ""
             }
            },
            "type": "scatterpolargl"
           }
          ],
          "scatterternary": [
           {
            "marker": {
             "colorbar": {
              "outlinewidth": 0,
              "ticks": ""
             }
            },
            "type": "scatterternary"
           }
          ],
          "surface": [
           {
            "colorbar": {
             "outlinewidth": 0,
             "ticks": ""
            },
            "colorscale": [
             [
              0,
              "#0d0887"
             ],
             [
              0.1111111111111111,
              "#46039f"
             ],
             [
              0.2222222222222222,
              "#7201a8"
             ],
             [
              0.3333333333333333,
              "#9c179e"
             ],
             [
              0.4444444444444444,
              "#bd3786"
             ],
             [
              0.5555555555555556,
              "#d8576b"
             ],
             [
              0.6666666666666666,
              "#ed7953"
             ],
             [
              0.7777777777777778,
              "#fb9f3a"
             ],
             [
              0.8888888888888888,
              "#fdca26"
             ],
             [
              1,
              "#f0f921"
             ]
            ],
            "type": "surface"
           }
          ],
          "table": [
           {
            "cells": {
             "fill": {
              "color": "#EBF0F8"
             },
             "line": {
              "color": "white"
             }
            },
            "header": {
             "fill": {
              "color": "#C8D4E3"
             },
             "line": {
              "color": "white"
             }
            },
            "type": "table"
           }
          ]
         },
         "layout": {
          "annotationdefaults": {
           "arrowcolor": "#2a3f5f",
           "arrowhead": 0,
           "arrowwidth": 1
          },
          "coloraxis": {
           "colorbar": {
            "outlinewidth": 0,
            "ticks": ""
           }
          },
          "colorscale": {
           "diverging": [
            [
             0,
             "#8e0152"
            ],
            [
             0.1,
             "#c51b7d"
            ],
            [
             0.2,
             "#de77ae"
            ],
            [
             0.3,
             "#f1b6da"
            ],
            [
             0.4,
             "#fde0ef"
            ],
            [
             0.5,
             "#f7f7f7"
            ],
            [
             0.6,
             "#e6f5d0"
            ],
            [
             0.7,
             "#b8e186"
            ],
            [
             0.8,
             "#7fbc41"
            ],
            [
             0.9,
             "#4d9221"
            ],
            [
             1,
             "#276419"
            ]
           ],
           "sequential": [
            [
             0,
             "#0d0887"
            ],
            [
             0.1111111111111111,
             "#46039f"
            ],
            [
             0.2222222222222222,
             "#7201a8"
            ],
            [
             0.3333333333333333,
             "#9c179e"
            ],
            [
             0.4444444444444444,
             "#bd3786"
            ],
            [
             0.5555555555555556,
             "#d8576b"
            ],
            [
             0.6666666666666666,
             "#ed7953"
            ],
            [
             0.7777777777777778,
             "#fb9f3a"
            ],
            [
             0.8888888888888888,
             "#fdca26"
            ],
            [
             1,
             "#f0f921"
            ]
           ],
           "sequentialminus": [
            [
             0,
             "#0d0887"
            ],
            [
             0.1111111111111111,
             "#46039f"
            ],
            [
             0.2222222222222222,
             "#7201a8"
            ],
            [
             0.3333333333333333,
             "#9c179e"
            ],
            [
             0.4444444444444444,
             "#bd3786"
            ],
            [
             0.5555555555555556,
             "#d8576b"
            ],
            [
             0.6666666666666666,
             "#ed7953"
            ],
            [
             0.7777777777777778,
             "#fb9f3a"
            ],
            [
             0.8888888888888888,
             "#fdca26"
            ],
            [
             1,
             "#f0f921"
            ]
           ]
          },
          "colorway": [
           "#636efa",
           "#EF553B",
           "#00cc96",
           "#ab63fa",
           "#FFA15A",
           "#19d3f3",
           "#FF6692",
           "#B6E880",
           "#FF97FF",
           "#FECB52"
          ],
          "font": {
           "color": "#2a3f5f"
          },
          "geo": {
           "bgcolor": "white",
           "lakecolor": "white",
           "landcolor": "#E5ECF6",
           "showlakes": true,
           "showland": true,
           "subunitcolor": "white"
          },
          "hoverlabel": {
           "align": "left"
          },
          "hovermode": "closest",
          "mapbox": {
           "style": "light"
          },
          "paper_bgcolor": "white",
          "plot_bgcolor": "#E5ECF6",
          "polar": {
           "angularaxis": {
            "gridcolor": "white",
            "linecolor": "white",
            "ticks": ""
           },
           "bgcolor": "#E5ECF6",
           "radialaxis": {
            "gridcolor": "white",
            "linecolor": "white",
            "ticks": ""
           }
          },
          "scene": {
           "xaxis": {
            "backgroundcolor": "#E5ECF6",
            "gridcolor": "white",
            "gridwidth": 2,
            "linecolor": "white",
            "showbackground": true,
            "ticks": "",
            "zerolinecolor": "white"
           },
           "yaxis": {
            "backgroundcolor": "#E5ECF6",
            "gridcolor": "white",
            "gridwidth": 2,
            "linecolor": "white",
            "showbackground": true,
            "ticks": "",
            "zerolinecolor": "white"
           },
           "zaxis": {
            "backgroundcolor": "#E5ECF6",
            "gridcolor": "white",
            "gridwidth": 2,
            "linecolor": "white",
            "showbackground": true,
            "ticks": "",
            "zerolinecolor": "white"
           }
          },
          "shapedefaults": {
           "line": {
            "color": "#2a3f5f"
           }
          },
          "ternary": {
           "aaxis": {
            "gridcolor": "white",
            "linecolor": "white",
            "ticks": ""
           },
           "baxis": {
            "gridcolor": "white",
            "linecolor": "white",
            "ticks": ""
           },
           "bgcolor": "#E5ECF6",
           "caxis": {
            "gridcolor": "white",
            "linecolor": "white",
            "ticks": ""
           }
          },
          "title": {
           "x": 0.05
          },
          "xaxis": {
           "automargin": true,
           "gridcolor": "white",
           "linecolor": "white",
           "ticks": "",
           "title": {
            "standoff": 15
           },
           "zerolinecolor": "white",
           "zerolinewidth": 2
          },
          "yaxis": {
           "automargin": true,
           "gridcolor": "white",
           "linecolor": "white",
           "ticks": "",
           "title": {
            "standoff": 15
           },
           "zerolinecolor": "white",
           "zerolinewidth": 2
          }
         }
        },
        "width": 1500,
        "xaxis": {
         "anchor": "y",
         "autorange": true,
         "domain": [
          0,
          0.3133333333333333
         ],
         "range": [
          -0.5,
          8.5
         ],
         "title": {
          "text": "n. hits"
         },
         "type": "linear"
        },
        "xaxis2": {
         "anchor": "y2",
         "autorange": true,
         "domain": [
          0.3333333333333333,
          0.6466666666666666
         ],
         "matches": "x",
         "range": [
          -0.5,
          8.5
         ],
         "title": {
          "text": "n. hits"
         },
         "type": "linear"
        },
        "xaxis3": {
         "anchor": "y3",
         "autorange": true,
         "domain": [
          0.6666666666666666,
          0.98
         ],
         "matches": "x",
         "range": [
          -0.5,
          8.5
         ],
         "title": {
          "text": "n. hits"
         },
         "type": "linear"
        },
        "xaxis4": {
         "anchor": "y4",
         "autorange": true,
         "domain": [
          0,
          0.3133333333333333
         ],
         "matches": "x",
         "range": [
          -0.5,
          8.5
         ],
         "showticklabels": false,
         "type": "linear"
        },
        "xaxis5": {
         "anchor": "y5",
         "autorange": true,
         "domain": [
          0.3333333333333333,
          0.6466666666666666
         ],
         "matches": "x",
         "range": [
          -0.5,
          8.5
         ],
         "showticklabels": false,
         "type": "linear"
        },
        "xaxis6": {
         "anchor": "y6",
         "autorange": true,
         "domain": [
          0.6666666666666666,
          0.98
         ],
         "matches": "x",
         "range": [
          -0.5,
          8.5
         ],
         "showticklabels": false,
         "type": "linear"
        },
        "xaxis7": {
         "anchor": "y7",
         "autorange": true,
         "domain": [
          0,
          0.3133333333333333
         ],
         "matches": "x",
         "range": [
          -0.5,
          8.5
         ],
         "showticklabels": false,
         "type": "linear"
        },
        "xaxis8": {
         "anchor": "y8",
         "autorange": true,
         "domain": [
          0.3333333333333333,
          0.6466666666666666
         ],
         "matches": "x",
         "range": [
          -0.5,
          8.5
         ],
         "showticklabels": false,
         "type": "linear"
        },
        "xaxis9": {
         "anchor": "y9",
         "autorange": true,
         "domain": [
          0.6666666666666666,
          0.98
         ],
         "matches": "x",
         "range": [
          -0.5,
          8.5
         ],
         "showticklabels": false,
         "type": "linear"
        },
        "yaxis": {
         "anchor": "x",
         "autorange": true,
         "domain": [
          0,
          0.3133333333333333
         ],
         "range": [
          0,
          100
         ],
         "title": {
          "text": "count"
         }
        },
        "yaxis2": {
         "anchor": "x2",
         "autorange": true,
         "domain": [
          0,
          0.3133333333333333
         ],
         "matches": "y",
         "range": [
          0,
          100
         ],
         "showticklabels": false
        },
        "yaxis3": {
         "anchor": "x3",
         "autorange": true,
         "domain": [
          0,
          0.3133333333333333
         ],
         "matches": "y",
         "range": [
          0,
          100
         ],
         "showticklabels": false
        },
        "yaxis4": {
         "anchor": "x4",
         "autorange": true,
         "domain": [
          0.34333333333333327,
          0.6566666666666665
         ],
         "matches": "y",
         "range": [
          0,
          100
         ],
         "title": {
          "text": "count"
         }
        },
        "yaxis5": {
         "anchor": "x5",
         "autorange": true,
         "domain": [
          0.34333333333333327,
          0.6566666666666665
         ],
         "matches": "y",
         "range": [
          0,
          100
         ],
         "showticklabels": false
        },
        "yaxis6": {
         "anchor": "x6",
         "autorange": true,
         "domain": [
          0.34333333333333327,
          0.6566666666666665
         ],
         "matches": "y",
         "range": [
          0,
          100
         ],
         "showticklabels": false
        },
        "yaxis7": {
         "anchor": "x7",
         "autorange": true,
         "domain": [
          0.6866666666666665,
          0.9999999999999998
         ],
         "matches": "y",
         "range": [
          0,
          100
         ],
         "title": {
          "text": "count"
         }
        },
        "yaxis8": {
         "anchor": "x8",
         "autorange": true,
         "domain": [
          0.6866666666666665,
          0.9999999999999998
         ],
         "matches": "y",
         "range": [
          0,
          100
         ],
         "showticklabels": false
        },
        "yaxis9": {
         "anchor": "x9",
         "autorange": true,
         "domain": [
          0.6866666666666665,
          0.9999999999999998
         ],
         "matches": "y",
         "range": [
          0,
          100
         ],
         "showticklabels": false
        }
       }
      },
      "image/png": "[encoded data removed]",
      "text/html": [
       "<div>                            <div id=\"008e104b-21a9-4335-ab13-2f7664f10a2a\" class=\"plotly-graph-div\" style=\"height:800px; width:1500px;\"></div>            <script type=\"text/javascript\">                require([\"plotly\"], function(Plotly) {                    window.PLOTLYENV=window.PLOTLYENV || {};                                    if (document.getElementById(\"008e104b-21a9-4335-ab13-2f7664f10a2a\")) {                    Plotly.newPlot(                        \"008e104b-21a9-4335-ab13-2f7664f10a2a\",                        [{\"alignmentgroup\": \"True\", \"bingroup\": \"x\", \"histnorm\": \"percent\", \"hovertemplate\": \"prompt=sce1-1<br>set size=3<br>n. hits=%{x}<br>count=%{y}<extra></extra>\", \"legendgroup\": \"\", \"marker\": {\"color\": \"#636efa\"}, \"name\": \"\", \"offsetgroup\": \"\", \"orientation\": \"v\", \"showlegend\": false, \"type\": \"histogram\", \"x\": [3, 3, 3, 1, 1, 2, 1, 3, 0, 1, 3, 1, 3, 3, 2, 0, 3, 3, 3, 1], \"xaxis\": \"x7\", \"yaxis\": \"y7\"}, {\"alignmentgroup\": \"True\", \"bingroup\": \"x\", \"histnorm\": \"percent\", \"hovertemplate\": \"prompt=sce1-1<br>set size=5<br>n. hits=%{x}<br>count=%{y}<extra></extra>\", \"legendgroup\": \"\", \"marker\": {\"color\": \"#636efa\"}, \"name\": \"\", \"offsetgroup\": \"\", \"orientation\": \"v\", \"showlegend\": false, \"type\": \"histogram\", \"x\": [5, 5, 0, 0, 5, 5, 5, 5, 4, 5, 4, 5, 5, 0, 5, 5, 5, 5, 5, 0], \"xaxis\": \"x8\", \"yaxis\": \"y8\"}, {\"alignmentgroup\": \"True\", \"bingroup\": \"x\", \"histnorm\": \"percent\", \"hovertemplate\": \"prompt=sce1-1<br>set size=10<br>n. hits=%{x}<br>count=%{y}<extra></extra>\", \"legendgroup\": \"\", \"marker\": {\"color\": \"#636efa\"}, \"name\": \"\", \"offsetgroup\": \"\", \"orientation\": \"v\", \"showlegend\": false, \"type\": \"histogram\", \"x\": [8, 8, 7, 7, 7, 8, 7, 7, 8, 7, 8, 8, 8, 8, 8, 8, 2, 0, 8, 7], \"xaxis\": \"x9\", \"yaxis\": \"y9\"}, {\"alignmentgroup\": \"True\", \"bingroup\": \"x\", \"histnorm\": \"percent\", \"hovertemplate\": \"prompt=sce1-3<br>set size=3<br>n. hits=%{x}<br>count=%{y}<extra></extra>\", \"legendgroup\": \"\", \"marker\": {\"color\": \"#636efa\"}, \"name\": \"\", \"offsetgroup\": \"\", \"orientation\": \"v\", \"showlegend\": false, \"type\": \"histogram\", \"x\": [3, 3, 3, 3, 3, 2, 2, 3, 3, 3, 3, 3, 3, 3, 3, 3, 3, 3, 3, 3], \"xaxis\": \"x4\", \"yaxis\": \"y4\"}, {\"alignmentgroup\": \"True\", \"bingroup\": \"x\", \"histnorm\": \"percent\", \"hovertemplate\": \"prompt=sce1-3<br>set size=5<br>n. hits=%{x}<br>count=%{y}<extra></extra>\", \"legendgroup\": \"\", \"marker\": {\"color\": \"#636efa\"}, \"name\": \"\", \"offsetgroup\": \"\", \"orientation\": \"v\", \"showlegend\": false, \"type\": \"histogram\", \"x\": [5, 5, 0, 5, 5, 4, 5, 5, 4, 5, 4, 5, 5, 5, 5, 5, 5, 5, 5, 5], \"xaxis\": \"x5\", \"yaxis\": \"y5\"}, {\"alignmentgroup\": \"True\", \"bingroup\": \"x\", \"histnorm\": \"percent\", \"hovertemplate\": \"prompt=sce1-3<br>set size=10<br>n. hits=%{x}<br>count=%{y}<extra></extra>\", \"legendgroup\": \"\", \"marker\": {\"color\": \"#636efa\"}, \"name\": \"\", \"offsetgroup\": \"\", \"orientation\": \"v\", \"showlegend\": false, \"type\": \"histogram\", \"x\": [8, 8, 7, 7, 7, 8, 7, 7, 8, 7, 8, 8, 8, 8, 8, 8, 8, 8, 8, 7], \"xaxis\": \"x6\", \"yaxis\": \"y6\"}, {\"alignmentgroup\": \"True\", \"bingroup\": \"x\", \"histnorm\": \"percent\", \"hovertemplate\": \"prompt=sce1-5<br>set size=3<br>n. hits=%{x}<br>count=%{y}<extra></extra>\", \"legendgroup\": \"\", \"marker\": {\"color\": \"#636efa\"}, \"name\": \"\", \"offsetgroup\": \"\", \"orientation\": \"v\", \"showlegend\": false, \"type\": \"histogram\", \"x\": [3, 3, 3, 3, 3, 3, 2, 3, 3, 3, 3, 3, 3, 3, 3, 3, 3, 3, 3, 3], \"xaxis\": \"x\", \"yaxis\": \"y\"}, {\"alignmentgroup\": \"True\", \"bingroup\": \"x\", \"histnorm\": \"percent\", \"hovertemplate\": \"prompt=sce1-5<br>set size=5<br>n. hits=%{x}<br>count=%{y}<extra></extra>\", \"legendgroup\": \"\", \"marker\": {\"color\": \"#636efa\"}, \"name\": \"\", \"offsetgroup\": \"\", \"orientation\": \"v\", \"showlegend\": false, \"type\": \"histogram\", \"x\": [5, 5, 5, 5, 5, 4, 5, 5, 4, 5, 4, 5, 5, 5, 5, 5, 5, 5, 5, 5], \"xaxis\": \"x2\", \"yaxis\": \"y2\"}, {\"alignmentgroup\": \"True\", \"bingroup\": \"x\", \"histnorm\": \"percent\", \"hovertemplate\": \"prompt=sce1-5<br>set size=10<br>n. hits=%{x}<br>count=%{y}<extra></extra>\", \"legendgroup\": \"\", \"marker\": {\"color\": \"#636efa\"}, \"name\": \"\", \"offsetgroup\": \"\", \"orientation\": \"v\", \"showlegend\": false, \"type\": \"histogram\", \"x\": [8, 8, 7, 7, 7, 8, 7, 7, 8, 7, 8, 8, 8, 8, 8, 8, 8, 8, 8, 7], \"xaxis\": \"x3\", \"yaxis\": \"y3\"}],                        {\"annotations\": [{\"font\": {}, \"showarrow\": false, \"text\": \"set size=3\", \"x\": 0.15666666666666665, \"xanchor\": \"center\", \"xref\": \"paper\", \"y\": 0.9999999999999998, \"yanchor\": \"bottom\", \"yref\": \"paper\"}, {\"font\": {}, \"showarrow\": false, \"text\": \"set size=5\", \"x\": 0.49, \"xanchor\": \"center\", \"xref\": \"paper\", \"y\": 0.9999999999999998, \"yanchor\": \"bottom\", \"yref\": \"paper\"}, {\"font\": {}, \"showarrow\": false, \"text\": \"set size=10\", \"x\": 0.8233333333333333, \"xanchor\": \"center\", \"xref\": \"paper\", \"y\": 0.9999999999999998, \"yanchor\": \"bottom\", \"yref\": \"paper\"}, {\"font\": {}, \"showarrow\": false, \"text\": \"prompt=sce1-5\", \"textangle\": 90, \"x\": 0.98, \"xanchor\": \"left\", \"xref\": \"paper\", \"y\": 0.15666666666666665, \"yanchor\": \"middle\", \"yref\": \"paper\"}, {\"font\": {}, \"showarrow\": false, \"text\": \"prompt=sce1-3\", \"textangle\": 90, \"x\": 0.98, \"xanchor\": \"left\", \"xref\": \"paper\", \"y\": 0.4999999999999999, \"yanchor\": \"middle\", \"yref\": \"paper\"}, {\"font\": {}, \"showarrow\": false, \"text\": \"prompt=sce1-1\", \"textangle\": 90, \"x\": 0.98, \"xanchor\": \"left\", \"xref\": \"paper\", \"y\": 0.8433333333333332, \"yanchor\": \"middle\", \"yref\": \"paper\"}], \"barmode\": \"relative\", \"height\": 800, \"legend\": {\"tracegroupgap\": 0}, \"margin\": {\"t\": 60}, \"template\": {\"data\": {\"bar\": [{\"error_x\": {\"color\": \"#2a3f5f\"}, \"error_y\": {\"color\": \"#2a3f5f\"}, \"marker\": {\"line\": {\"color\": \"#E5ECF6\", \"width\": 0.5}}, \"type\": \"bar\"}], \"barpolar\": [{\"marker\": {\"line\": {\"color\": \"#E5ECF6\", \"width\": 0.5}}, \"type\": \"barpolar\"}], \"carpet\": [{\"aaxis\": {\"endlinecolor\": \"#2a3f5f\", \"gridcolor\": \"white\", \"linecolor\": \"white\", \"minorgridcolor\": \"white\", \"startlinecolor\": \"#2a3f5f\"}, \"baxis\": {\"endlinecolor\": \"#2a3f5f\", \"gridcolor\": \"white\", \"linecolor\": \"white\", \"minorgridcolor\": \"white\", \"startlinecolor\": \"#2a3f5f\"}, \"type\": \"carpet\"}], \"choropleth\": [{\"colorbar\": {\"outlinewidth\": 0, \"ticks\": \"\"}, \"type\": \"choropleth\"}], \"contour\": [{\"colorbar\": {\"outlinewidth\": 0, \"ticks\": \"\"}, \"colorscale\": [[0.0, \"#0d0887\"], [0.1111111111111111, \"#46039f\"], [0.2222222222222222, \"#7201a8\"], [0.3333333333333333, \"#9c179e\"], [0.4444444444444444, \"#bd3786\"], [0.5555555555555556, \"#d8576b\"], [0.6666666666666666, \"#ed7953\"], [0.7777777777777778, \"#fb9f3a\"], [0.8888888888888888, \"#fdca26\"], [1.0, \"#f0f921\"]], \"type\": \"contour\"}], \"contourcarpet\": [{\"colorbar\": {\"outlinewidth\": 0, \"ticks\": \"\"}, \"type\": \"contourcarpet\"}], \"heatmap\": [{\"colorbar\": {\"outlinewidth\": 0, \"ticks\": \"\"}, \"colorscale\": [[0.0, \"#0d0887\"], [0.1111111111111111, \"#46039f\"], [0.2222222222222222, \"#7201a8\"], [0.3333333333333333, \"#9c179e\"], [0.4444444444444444, \"#bd3786\"], [0.5555555555555556, \"#d8576b\"], [0.6666666666666666, \"#ed7953\"], [0.7777777777777778, \"#fb9f3a\"], [0.8888888888888888, \"#fdca26\"], [1.0, \"#f0f921\"]], \"type\": \"heatmap\"}], \"heatmapgl\": [{\"colorbar\": {\"outlinewidth\": 0, \"ticks\": \"\"}, \"colorscale\": [[0.0, \"#0d0887\"], [0.1111111111111111, \"#46039f\"], [0.2222222222222222, \"#7201a8\"], [0.3333333333333333, \"#9c179e\"], [0.4444444444444444, \"#bd3786\"], [0.5555555555555556, \"#d8576b\"], [0.6666666666666666, \"#ed7953\"], [0.7777777777777778, \"#fb9f3a\"], [0.8888888888888888, \"#fdca26\"], [1.0, \"#f0f921\"]], \"type\": \"heatmapgl\"}], \"histogram\": [{\"marker\": {\"colorbar\": {\"outlinewidth\": 0, \"ticks\": \"\"}}, \"type\": \"histogram\"}], \"histogram2d\": [{\"colorbar\": {\"outlinewidth\": 0, \"ticks\": \"\"}, \"colorscale\": [[0.0, \"#0d0887\"], [0.1111111111111111, \"#46039f\"], [0.2222222222222222, \"#7201a8\"], [0.3333333333333333, \"#9c179e\"], [0.4444444444444444, \"#bd3786\"], [0.5555555555555556, \"#d8576b\"], [0.6666666666666666, \"#ed7953\"], [0.7777777777777778, \"#fb9f3a\"], [0.8888888888888888, \"#fdca26\"], [1.0, \"#f0f921\"]], \"type\": \"histogram2d\"}], \"histogram2dcontour\": [{\"colorbar\": {\"outlinewidth\": 0, \"ticks\": \"\"}, \"colorscale\": [[0.0, \"#0d0887\"], [0.1111111111111111, \"#46039f\"], [0.2222222222222222, \"#7201a8\"], [0.3333333333333333, \"#9c179e\"], [0.4444444444444444, \"#bd3786\"], [0.5555555555555556, \"#d8576b\"], [0.6666666666666666, \"#ed7953\"], [0.7777777777777778, \"#fb9f3a\"], [0.8888888888888888, \"#fdca26\"], [1.0, \"#f0f921\"]], \"type\": \"histogram2dcontour\"}], \"mesh3d\": [{\"colorbar\": {\"outlinewidth\": 0, \"ticks\": \"\"}, \"type\": \"mesh3d\"}], \"parcoords\": [{\"line\": {\"colorbar\": {\"outlinewidth\": 0, \"ticks\": \"\"}}, \"type\": \"parcoords\"}], \"pie\": [{\"automargin\": true, \"type\": \"pie\"}], \"scatter\": [{\"marker\": {\"colorbar\": {\"outlinewidth\": 0, \"ticks\": \"\"}}, \"type\": \"scatter\"}], \"scatter3d\": [{\"line\": {\"colorbar\": {\"outlinewidth\": 0, \"ticks\": \"\"}}, \"marker\": {\"colorbar\": {\"outlinewidth\": 0, \"ticks\": \"\"}}, \"type\": \"scatter3d\"}], \"scattercarpet\": [{\"marker\": {\"colorbar\": {\"outlinewidth\": 0, \"ticks\": \"\"}}, \"type\": \"scattercarpet\"}], \"scattergeo\": [{\"marker\": {\"colorbar\": {\"outlinewidth\": 0, \"ticks\": \"\"}}, \"type\": \"scattergeo\"}], \"scattergl\": [{\"marker\": {\"colorbar\": {\"outlinewidth\": 0, \"ticks\": \"\"}}, \"type\": \"scattergl\"}], \"scattermapbox\": [{\"marker\": {\"colorbar\": {\"outlinewidth\": 0, \"ticks\": \"\"}}, \"type\": \"scattermapbox\"}], \"scatterpolar\": [{\"marker\": {\"colorbar\": {\"outlinewidth\": 0, \"ticks\": \"\"}}, \"type\": \"scatterpolar\"}], \"scatterpolargl\": [{\"marker\": {\"colorbar\": {\"outlinewidth\": 0, \"ticks\": \"\"}}, \"type\": \"scatterpolargl\"}], \"scatterternary\": [{\"marker\": {\"colorbar\": {\"outlinewidth\": 0, \"ticks\": \"\"}}, \"type\": \"scatterternary\"}], \"surface\": [{\"colorbar\": {\"outlinewidth\": 0, \"ticks\": \"\"}, \"colorscale\": [[0.0, \"#0d0887\"], [0.1111111111111111, \"#46039f\"], [0.2222222222222222, \"#7201a8\"], [0.3333333333333333, \"#9c179e\"], [0.4444444444444444, \"#bd3786\"], [0.5555555555555556, \"#d8576b\"], [0.6666666666666666, \"#ed7953\"], [0.7777777777777778, \"#fb9f3a\"], [0.8888888888888888, \"#fdca26\"], [1.0, \"#f0f921\"]], \"type\": \"surface\"}], \"table\": [{\"cells\": {\"fill\": {\"color\": \"#EBF0F8\"}, \"line\": {\"color\": \"white\"}}, \"header\": {\"fill\": {\"color\": \"#C8D4E3\"}, \"line\": {\"color\": \"white\"}}, \"type\": \"table\"}]}, \"layout\": {\"annotationdefaults\": {\"arrowcolor\": \"#2a3f5f\", \"arrowhead\": 0, \"arrowwidth\": 1}, \"coloraxis\": {\"colorbar\": {\"outlinewidth\": 0, \"ticks\": \"\"}}, \"colorscale\": {\"diverging\": [[0, \"#8e0152\"], [0.1, \"#c51b7d\"], [0.2, \"#de77ae\"], [0.3, \"#f1b6da\"], [0.4, \"#fde0ef\"], [0.5, \"#f7f7f7\"], [0.6, \"#e6f5d0\"], [0.7, \"#b8e186\"], [0.8, \"#7fbc41\"], [0.9, \"#4d9221\"], [1, \"#276419\"]], \"sequential\": [[0.0, \"#0d0887\"], [0.1111111111111111, \"#46039f\"], [0.2222222222222222, \"#7201a8\"], [0.3333333333333333, \"#9c179e\"], [0.4444444444444444, \"#bd3786\"], [0.5555555555555556, \"#d8576b\"], [0.6666666666666666, \"#ed7953\"], [0.7777777777777778, \"#fb9f3a\"], [0.8888888888888888, \"#fdca26\"], [1.0, \"#f0f921\"]], \"sequentialminus\": [[0.0, \"#0d0887\"], [0.1111111111111111, \"#46039f\"], [0.2222222222222222, \"#7201a8\"], [0.3333333333333333, \"#9c179e\"], [0.4444444444444444, \"#bd3786\"], [0.5555555555555556, \"#d8576b\"], [0.6666666666666666, \"#ed7953\"], [0.7777777777777778, \"#fb9f3a\"], [0.8888888888888888, \"#fdca26\"], [1.0, \"#f0f921\"]]}, \"colorway\": [\"#636efa\", \"#EF553B\", \"#00cc96\", \"#ab63fa\", \"#FFA15A\", \"#19d3f3\", \"#FF6692\", \"#B6E880\", \"#FF97FF\", \"#FECB52\"], \"font\": {\"color\": \"#2a3f5f\"}, \"geo\": {\"bgcolor\": \"white\", \"lakecolor\": \"white\", \"landcolor\": \"#E5ECF6\", \"showlakes\": true, \"showland\": true, \"subunitcolor\": \"white\"}, \"hoverlabel\": {\"align\": \"left\"}, \"hovermode\": \"closest\", \"mapbox\": {\"style\": \"light\"}, \"paper_bgcolor\": \"white\", \"plot_bgcolor\": \"#E5ECF6\", \"polar\": {\"angularaxis\": {\"gridcolor\": \"white\", \"linecolor\": \"white\", \"ticks\": \"\"}, \"bgcolor\": \"#E5ECF6\", \"radialaxis\": {\"gridcolor\": \"white\", \"linecolor\": \"white\", \"ticks\": \"\"}}, \"scene\": {\"xaxis\": {\"backgroundcolor\": \"#E5ECF6\", \"gridcolor\": \"white\", \"gridwidth\": 2, \"linecolor\": \"white\", \"showbackground\": true, \"ticks\": \"\", \"zerolinecolor\": \"white\"}, \"yaxis\": {\"backgroundcolor\": \"#E5ECF6\", \"gridcolor\": \"white\", \"gridwidth\": 2, \"linecolor\": \"white\", \"showbackground\": true, \"ticks\": \"\", \"zerolinecolor\": \"white\"}, \"zaxis\": {\"backgroundcolor\": \"#E5ECF6\", \"gridcolor\": \"white\", \"gridwidth\": 2, \"linecolor\": \"white\", \"showbackground\": true, \"ticks\": \"\", \"zerolinecolor\": \"white\"}}, \"shapedefaults\": {\"line\": {\"color\": \"#2a3f5f\"}}, \"ternary\": {\"aaxis\": {\"gridcolor\": \"white\", \"linecolor\": \"white\", \"ticks\": \"\"}, \"baxis\": {\"gridcolor\": \"white\", \"linecolor\": \"white\", \"ticks\": \"\"}, \"bgcolor\": \"#E5ECF6\", \"caxis\": {\"gridcolor\": \"white\", \"linecolor\": \"white\", \"ticks\": \"\"}}, \"title\": {\"x\": 0.05}, \"xaxis\": {\"automargin\": true, \"gridcolor\": \"white\", \"linecolor\": \"white\", \"ticks\": \"\", \"title\": {\"standoff\": 15}, \"zerolinecolor\": \"white\", \"zerolinewidth\": 2}, \"yaxis\": {\"automargin\": true, \"gridcolor\": \"white\", \"linecolor\": \"white\", \"ticks\": \"\", \"title\": {\"standoff\": 15}, \"zerolinecolor\": \"white\", \"zerolinewidth\": 2}}}, \"width\": 1500, \"xaxis\": {\"anchor\": \"y\", \"domain\": [0.0, 0.3133333333333333], \"title\": {\"text\": \"n. hits\"}}, \"xaxis2\": {\"anchor\": \"y2\", \"domain\": [0.3333333333333333, 0.6466666666666666], \"matches\": \"x\", \"title\": {\"text\": \"n. hits\"}}, \"xaxis3\": {\"anchor\": \"y3\", \"domain\": [0.6666666666666666, 0.98], \"matches\": \"x\", \"title\": {\"text\": \"n. hits\"}}, \"xaxis4\": {\"anchor\": \"y4\", \"domain\": [0.0, 0.3133333333333333], \"matches\": \"x\", \"showticklabels\": false}, \"xaxis5\": {\"anchor\": \"y5\", \"domain\": [0.3333333333333333, 0.6466666666666666], \"matches\": \"x\", \"showticklabels\": false}, \"xaxis6\": {\"anchor\": \"y6\", \"domain\": [0.6666666666666666, 0.98], \"matches\": \"x\", \"showticklabels\": false}, \"xaxis7\": {\"anchor\": \"y7\", \"domain\": [0.0, 0.3133333333333333], \"matches\": \"x\", \"showticklabels\": false}, \"xaxis8\": {\"anchor\": \"y8\", \"domain\": [0.3333333333333333, 0.6466666666666666], \"matches\": \"x\", \"showticklabels\": false}, \"xaxis9\": {\"anchor\": \"y9\", \"domain\": [0.6666666666666666, 0.98], \"matches\": \"x\", \"showticklabels\": false}, \"yaxis\": {\"anchor\": \"x\", \"domain\": [0.0, 0.3133333333333333], \"title\": {\"text\": \"count\"}}, \"yaxis2\": {\"anchor\": \"x2\", \"domain\": [0.0, 0.3133333333333333], \"matches\": \"y\", \"showticklabels\": false}, \"yaxis3\": {\"anchor\": \"x3\", \"domain\": [0.0, 0.3133333333333333], \"matches\": \"y\", \"showticklabels\": false}, \"yaxis4\": {\"anchor\": \"x4\", \"domain\": [0.34333333333333327, 0.6566666666666665], \"matches\": \"y\", \"title\": {\"text\": \"count\"}}, \"yaxis5\": {\"anchor\": \"x5\", \"domain\": [0.34333333333333327, 0.6566666666666665], \"matches\": \"y\", \"showticklabels\": false}, \"yaxis6\": {\"anchor\": \"x6\", \"domain\": [0.34333333333333327, 0.6566666666666665], \"matches\": \"y\", \"showticklabels\": false}, \"yaxis7\": {\"anchor\": \"x7\", \"domain\": [0.6866666666666665, 0.9999999999999998], \"matches\": \"y\", \"title\": {\"text\": \"count\"}}, \"yaxis8\": {\"anchor\": \"x8\", \"domain\": [0.6866666666666665, 0.9999999999999998], \"matches\": \"y\", \"showticklabels\": false}, \"yaxis9\": {\"anchor\": \"x9\", \"domain\": [0.6866666666666665, 0.9999999999999998], \"matches\": \"y\", \"showticklabels\": false}},                        {\"responsive\": true}                    ).then(function(){\n",
       "                            \n",
       "var gd = document.getElementById('008e104b-21a9-4335-ab13-2f7664f10a2a');\n",
       "var x = new MutationObserver(function (mutations, observer) {{\n",
       "        var display = window.getComputedStyle(gd).display;\n",
       "        if (!display || display === 'none') {{\n",
       "            console.log([gd, 'removed!']);\n",
       "            Plotly.purge(gd);\n",
       "            observer.disconnect();\n",
       "        }}\n",
       "}});\n",
       "\n",
       "// Listen for the removal of the full notebook cells\n",
       "var notebookContainer = gd.closest('#notebook-container');\n",
       "if (notebookContainer) {{\n",
       "    x.observe(notebookContainer, {childList: true});\n",
       "}}\n",
       "\n",
       "// Listen for the clearing of the current output cell\n",
       "var outputEl = gd.closest('.output');\n",
       "if (outputEl) {{\n",
       "    x.observe(outputEl, {childList: true});\n",
       "}}\n",
       "\n",
       "                        })                };                });            </script>        </div>"
      ]
     },
     "metadata": {},
     "output_type": "display_data"
    }
   ],
   "source": [
    "num_beams = 3\n",
    "selection = (df1.num_beams == num_beams) & (df1.list == \"nonsemantic\")\n",
    "data = df1.loc[selection, :].copy()\n",
    "fig = px.histogram(data, x=\"n_correct\", facet_row=\"prompt\", facet_col=\"len\", \n",
    "                   histnorm=\"percent\", hover_name=\"string\",\n",
    "                   labels={\"count\": \"percent\", \"n_correct\": \"n. hits\",\n",
    "                   \"prompt_\": \"\", \"len\": \"set size\"},\n",
    "                   width=1500, height=800,)\n",
    "fig.show()"
   ]
  },
  {
   "cell_type": "code",
   "execution_count": 34,
   "metadata": {},
   "outputs": [],
   "source": [
    "fig.write_image(\"./figures/wordpred_hist_{}beams.png\".format(num_beams))"
   ]
  },
  {
   "cell_type": "code",
   "execution_count": 45,
   "metadata": {},
   "outputs": [],
   "source": [
    "n=5\n",
    "dat = data.loc[data.n_correct == n, [\"string\", \"targets\", \"len\"]]\n",
    "dat.to_csv(\"./misses_{}_ex.csv\".format(n))\n",
    "\n",
    "n=8\n",
    "dat = data.loc[data.n_correct == n, [\"string\", \"targets\", \"len\"]]\n",
    "dat.to_csv(\"./misses_{}_ex.csv\".format(n))"
   ]
  },
  {
   "cell_type": "markdown",
   "metadata": {},
   "source": [
    "# Word perplexity"
   ]
  },
  {
   "cell_type": "code",
   "execution_count": 26,
   "metadata": {},
   "outputs": [],
   "source": [
    "files2 = [\n",
    "    \"perplexity_semantic_permute.csv\",\n",
    "    \"perplexity_nonsemantic_permute.csv\",\n",
    "    \"perplexity_semantic_repeat.csv\",\n",
    "    \"perplexity_nonsemantic_repeat.csv\"\n",
    "]\n",
    "\n",
    "dfs = []\n",
    "for file in files2:\n",
    "    dftmp = pd.read_csv(os.path.join(\"./output\", file))\n",
    "    dftmp[\"list\"] = file.split(\"_\")[1]  # add column on list composition\n",
    "    dfs.append(dftmp)\n",
    "df2 = pd.concat(dfs)"
   ]
  },
  {
   "cell_type": "code",
   "execution_count": 27,
   "metadata": {},
   "outputs": [],
   "source": [
    "# code information on set length\n",
    "df2[\"set_size\"] = 0\n",
    "three = ((df2.stimID <= 20) | ((df2.stimID > 60) & (df2.stimID <= 80)) | ((df2.stimID > 120) & (df2.stimID <= 140)))\n",
    "five = ((df2.stimID > 20) & (df2.stimID <= 40)) | ((df2.stimID > 80) & (df2.stimID <= 100)) | ((df2.stimID > 140) & (df2.stimID <= 160))\n",
    "ten = ((df2.stimID > 40) & (df2.stimID <= 60)) | ((df2.stimID > 100) & (df2.stimID <= 120)) | (df2.stimID > 160)\n",
    "df2.loc[three, \"set_size\"] = 3\n",
    "df2.loc[five, \"set_size\"] = 5\n",
    "df2.loc[ten, \"set_size\"] = 10"
   ]
  },
  {
   "cell_type": "code",
   "execution_count": 28,
   "metadata": {},
   "outputs": [],
   "source": [
    "# set uniform width and heigth\n",
    "figwidth = 1200\n",
    "figheight = 500"
   ]
  },
  {
   "cell_type": "code",
   "execution_count": 151,
   "metadata": {},
   "outputs": [],
   "source": [
    "# let's filter some stuff\n",
    "dftmp = None\n",
    "semlist = \"nonsemantic\"\n",
    "wordorder = \"permute\"\n",
    "dftmp = df2.loc[(~df2.ispunct)  & (df2.list == semlist) & (df2.second_list == wordorder), :]          # remove punctuation\n",
    "dftmp = dftmp.loc[(dftmp.trialID.isin([3])), :]  # only look at the first presentation word list\n",
    "dftmp[\"prompt\"] = dftmp[\"prompt\"].str.replace(\"sce1-1\", \"1) short (~8 tok)\")\n",
    "dftmp[\"prompt\"] = dftmp[\"prompt\"].str.replace(\"sce1-3\", \"2) mid (~30 tok)\")\n",
    "dftmp[\"prompt\"] = dftmp[\"prompt\"].str.replace(\"sce1-5\", \"3) long (~60 tok)\")\n"
   ]
  },
  {
   "cell_type": "code",
   "execution_count": 152,
   "metadata": {},
   "outputs": [],
   "source": [
    "dagg = None\n",
    "dagg = dftmp.groupby([\"prompt\", \"set_size\", \"trialID\", \"stimID\"]) \\\n",
    "            .agg({\"ppl\": [\"mean\", \"std\"], \"token\": list}) \\\n",
    "            .reset_index()\n",
    "dagg.columns = ['_'.join(col).strip() for col in dagg.columns.values]"
   ]
  },
  {
   "cell_type": "code",
   "execution_count": 153,
   "metadata": {},
   "outputs": [],
   "source": [
    "# compute relative entropy\n",
    "#dftmp1 = dagg.loc[dagg.trialID_ == 1, :].reset_index().copy()\n",
    "#dftmp2 = dagg.loc[dagg.trialID_ == 3, :].reset_index().copy()\n",
    "#dagg2 = dftmp1.copy()\n",
    "#dagg2[\"ppl_mean_1\"] = np.array(dftmp1[\"ppl_mean\"])\n",
    "#dagg2[\"ppl_mean_3\"] = np.array(dftmp2[\"ppl_mean\"])\n",
    "#dagg2[\"ppl_token_list_1\"] = np.array(dftmp1[\"token_list\"])\n",
    "#dagg2[\"ppl_token_list_3\"] = np.array(dftmp2[\"token_list\"])\n",
    "#dagg2[\"ppl_diff\"] = np.array(dftmp1[\"ppl_mean\"]) - np.array(dftmp2[\"ppl_mean\"])\n"
   ]
  },
  {
   "cell_type": "code",
   "execution_count": 154,
   "metadata": {},
   "outputs": [
    {
     "data": {
      "application/vnd.plotly.v1+json": {
       "config": {
        "plotlyServerURL": "https://plot.ly"
       },
       "data": [
        {
         "alignmentgroup": "True",
         "boxpoints": "all",
         "customdata": [
          [
           [
            " affair",
            " series",
            " singer"
           ]
          ],
          [
           [
            " apple",
            " window",
            " cannon"
           ]
          ],
          [
           [
            " b",
            "erry",
            " despair",
            " kingdom"
           ]
          ],
          [
           [
            " blessing",
            " journey",
            " story"
           ]
          ],
          [
           [
            " cottage",
            " effort",
            " village"
           ]
          ],
          [
           [
            " future",
            " police",
            " shipping"
           ]
          ],
          [
           [
            " factor",
            " machine",
            " ocean"
           ]
          ],
          [
           [
            " sailor",
            " belief",
            " instant"
           ]
          ],
          [
           [
            " moment",
            " coffee",
            " danger"
           ]
          ],
          [
           [
            " outline",
            " summer",
            " basin"
           ]
          ],
          [
           [
            " teacher",
            " array",
            " sentence"
           ]
          ],
          [
           [
            " orange",
            " football",
            " mistress"
           ]
          ],
          [
           [
            " colonel",
            " will",
            "ow",
            " cotton"
           ]
          ],
          [
           [
            " artist",
            " lady",
            " minute"
           ]
          ],
          [
           [
            " sheriff",
            " feature",
            " mixture"
           ]
          ],
          [
           [
            " uncle",
            " relief",
            " failure"
           ]
          ],
          [
           [
            " pupil",
            " chapter",
            " pra",
            "irie"
           ]
          ],
          [
           [
            " basket",
            " jewel",
            " prospect"
           ]
          ],
          [
           [
            " theory",
            " congress",
            " button"
           ]
          ],
          [
           [
            " circle",
            " flavor",
            " cabin"
           ]
          ],
          [
           [
            " sorrow",
            " theater",
            " illness",
            " angel",
            " manner"
           ]
          ],
          [
           [
            " cellar",
            " mercy",
            " sugar",
            " payment",
            " paper"
           ]
          ],
          [
           [
            " garment",
            " garden",
            " building",
            " bullet",
            " motion"
           ]
          ],
          [
           [
            " horror",
            " pilot",
            " quarter",
            " traitor",
            " partner"
           ]
          ],
          [
           [
            " pleasure",
            " cousin",
            " candy",
            " pistol",
            " sp",
            "arrow"
           ]
          ],
          [
           [
            " notion",
            " harvest",
            " movie",
            " absence",
            " rival"
           ]
          ],
          [
           [
            " duty",
            " onion",
            " moisture",
            " section",
            " total"
           ]
          ],
          [
           [
            " spider",
            " husband",
            " baby",
            " patient",
            " ste",
            "amer"
           ]
          ],
          [
           [
            " music",
            " hotel",
            " silence",
            " research",
            " doorway"
           ]
          ],
          [
           [
            " ribbon",
            " goddess",
            " motor",
            " pasture",
            " squirrel"
           ]
          ],
          [
           [
            " begg",
            "ar",
            " pepper",
            " standard",
            " meantime",
            " unit"
           ]
          ],
          [
           [
            " victim",
            " banner",
            " training",
            " captive",
            " extent"
           ]
          ],
          [
           [
            " pony",
            " closet",
            " diet",
            " legend",
            " novel"
           ]
          ],
          [
           [
            " contents",
            " maiden",
            " liquid",
            " planet",
            " double"
           ]
          ],
          [
           [
            " offence",
            " finger",
            " comrade",
            " problem",
            " detail"
           ]
          ],
          [
           [
            " student",
            " tunnel",
            " island",
            " canal",
            " oven"
           ]
          ],
          [
           [
            " hammer",
            " soldier",
            " herald",
            " engine",
            " market"
           ]
          ],
          [
           [
            " helmet",
            " surface",
            " sister",
            " puzzle",
            " hatred"
           ]
          ],
          [
           [
            " needle",
            " pitcher",
            " agent",
            " number",
            " excess"
           ]
          ],
          [
           [
            " nation",
            " harbour",
            " marriage",
            " kitten",
            " resort"
           ]
          ],
          [
           [
            " limit",
            " princess",
            " journal",
            " mother",
            " spirit",
            " major",
            " fortune",
            " jersey",
            " marble",
            " hunter"
           ]
          ],
          [
           [
            " tribute",
            " meeting",
            " letter",
            " bottom",
            " armor",
            " bedroom",
            " station",
            " ticket",
            " estate",
            " worker"
           ]
          ],
          [
           [
            " fever",
            " me",
            "adow",
            " temple",
            " shower",
            " mission",
            " r",
            "attle",
            " leader",
            " par",
            "lor",
            " couple",
            " pocket"
           ]
          ],
          [
           [
            " be",
            "aver",
            " jacket",
            " climate",
            " conquest",
            " autumn",
            " triumph",
            " virtue",
            " body",
            " rifle",
            " chapel"
           ]
          ],
          [
           [
            " weapon",
            " chim",
            "ney",
            " evening",
            " distance",
            " blanket",
            " vessel",
            " powder",
            " candle",
            " genius",
            " bargain"
           ]
          ],
          [
           [
            " service",
            " supper",
            " salad",
            " compound",
            " layer",
            " worship",
            " kitchen",
            " fountain",
            " vapor",
            " forehead"
           ]
          ],
          [
           [
            " mad",
            "am",
            " acre",
            " treasure",
            " speaker",
            " sl",
            "ipper",
            " product",
            " voyage",
            " single",
            " learning",
            " mischief"
           ]
          ],
          [
           [
            " err",
            "and",
            " habit",
            " farmer",
            " feeling",
            " daylight",
            " clothing",
            " object",
            " barrel",
            " weakness",
            " writer"
           ]
          ],
          [
           [
            " creature",
            " disease",
            " witness",
            " organ",
            " career",
            " rider",
            " lover",
            " linen",
            " county",
            " cluster"
           ]
          ],
          [
           [
            " forest",
            " lecture",
            " survey",
            " nothing",
            " parent",
            " lumber",
            " sandwich",
            " bus",
            "hel",
            " turkey",
            " compass"
           ]
          ],
          [
           [
            " olive",
            " tiger",
            " silver",
            " frontier",
            " widow",
            " mayor",
            " mountain",
            " echo",
            " darkness",
            " amount"
           ]
          ],
          [
           [
            " motive",
            " program",
            " subject",
            " keeper",
            " table",
            " lion",
            " angle",
            " leather",
            " beauty",
            " sunset"
           ]
          ],
          [
           [
            " folly",
            " pattern",
            " record",
            " diamond",
            " chamber",
            " effect",
            " income",
            " project",
            " current",
            " costume"
           ]
          ],
          [
           [
            " navy",
            " senate",
            " highway",
            " rubber",
            " crystal",
            " scatter",
            " insect",
            " device",
            " nephew",
            " concert"
           ]
          ],
          [
           [
            " dollar",
            " wagon",
            " shelter",
            " carpet",
            " business",
            " gesture",
            " contract",
            " cable",
            " stomach",
            " package"
           ]
          ],
          [
           [
            " saddle",
            " carriage",
            " maker",
            " valley",
            " velvet",
            " fury",
            " interest",
            " meaning",
            " lawyer",
            " women"
           ]
          ],
          [
           [
            " million",
            " system",
            " merchant",
            " riches",
            " winter",
            " money",
            " trouble",
            " bubble",
            " father",
            " robber"
           ]
          ],
          [
           [
            " captain",
            " commerce",
            " penny",
            " cattle",
            " anchor",
            " member",
            " degree",
            " justice",
            " empire",
            " city"
           ]
          ],
          [
           [
            " picture",
            " oy",
            "ster",
            " carbon",
            " perfume",
            " parcel",
            " method",
            " traffic",
            " pigeon",
            " message",
            " owner"
           ]
          ],
          [
           [
            " stocking",
            " or",
            "chard",
            " painter",
            " colour",
            " image",
            " patience",
            " aspect",
            " dragon",
            " credit",
            " butcher"
           ]
          ]
         ],
         "hovertemplate": "prompt=1) short (~8 tok)<br>set size (n. tokens)=%{x}<br>average -log LL=%{y}<br>token_list=%{customdata[0]}<extra></extra>",
         "legendgroup": "1) short (~8 tok)",
         "marker": {
          "color": "#636efa"
         },
         "name": "1) short (~8 tok)",
         "notched": false,
         "offsetgroup": "1) short (~8 tok)",
         "orientation": "v",
         "showlegend": true,
         "type": "box",
         "x": [
          3,
          3,
          3,
          3,
          3,
          3,
          3,
          3,
          3,
          3,
          3,
          3,
          3,
          3,
          3,
          3,
          3,
          3,
          3,
          3,
          5,
          5,
          5,
          5,
          5,
          5,
          5,
          5,
          5,
          5,
          5,
          5,
          5,
          5,
          5,
          5,
          5,
          5,
          5,
          5,
          10,
          10,
          10,
          10,
          10,
          10,
          10,
          10,
          10,
          10,
          10,
          10,
          10,
          10,
          10,
          10,
          10,
          10,
          10,
          10
         ],
         "x0": " ",
         "xaxis": "x",
         "y": [
          4.4546094338099165,
          2.5794469912846885,
          2.2023233473300934,
          0.5010717461506526,
          4.406199097633362,
          3.1568893094857535,
          1.6022887031237285,
          3.737451752026875,
          2.6919713417689004,
          2.4039658506711326,
          2.684525271256765,
          3.9327633629242578,
          2.716119274031371,
          2.55323326587677,
          1.24245285987854,
          4.712707966566086,
          2.209940830449341,
          2.7710126837094626,
          2.585013826688131,
          4.8668811321258545,
          5.609742832183838,
          4.993828046321869,
          3.6581238985061644,
          3.727626323699951,
          3.0423271673110626,
          2.2558012425899507,
          3.105741024017334,
          3.1010762037088475,
          3.499608302116394,
          4.467852509021759,
          5.5432372614741325,
          5.293704295158387,
          4.853283262252807,
          4.271673983335495,
          3.985118666291237,
          5.086460018157959,
          3.8505228996276855,
          4.1886714696884155,
          4.1731250286102295,
          4.591512992978096,
          6.18827888071537,
          6.772407150268554,
          3.1571109327398097,
          6.01258796588941,
          5.33828281594271,
          5.543476340174675,
          5.2885808568292605,
          4.972665665078569,
          5.546466493606568,
          5.063153029123152,
          6.6756813526153564,
          5.678117337822914,
          4.4530502140522,
          6.063035261631012,
          5.85616557598114,
          6.277673828601837,
          4.5200114965438845,
          5.13863852918148,
          5.240615217015147,
          5.815401153130964
         ],
         "y0": " ",
         "yaxis": "y"
        },
        {
         "alignmentgroup": "True",
         "boxpoints": "all",
         "customdata": [
          [
           [
            " affair",
            " series",
            " singer"
           ]
          ],
          [
           [
            " apple",
            " window",
            " cannon"
           ]
          ],
          [
           [
            " b",
            "erry",
            " despair",
            " kingdom"
           ]
          ],
          [
           [
            " blessing",
            " journey",
            " story"
           ]
          ],
          [
           [
            " cottage",
            " effort",
            " village"
           ]
          ],
          [
           [
            " future",
            " police",
            " shipping"
           ]
          ],
          [
           [
            " factor",
            " machine",
            " ocean"
           ]
          ],
          [
           [
            " sailor",
            " belief",
            " instant"
           ]
          ],
          [
           [
            " moment",
            " coffee",
            " danger"
           ]
          ],
          [
           [
            " outline",
            " summer",
            " basin"
           ]
          ],
          [
           [
            " teacher",
            " array",
            " sentence"
           ]
          ],
          [
           [
            " orange",
            " football",
            " mistress"
           ]
          ],
          [
           [
            " colonel",
            " will",
            "ow",
            " cotton"
           ]
          ],
          [
           [
            " artist",
            " lady",
            " minute"
           ]
          ],
          [
           [
            " sheriff",
            " feature",
            " mixture"
           ]
          ],
          [
           [
            " uncle",
            " relief",
            " failure"
           ]
          ],
          [
           [
            " pupil",
            " chapter",
            " pra",
            "irie"
           ]
          ],
          [
           [
            " basket",
            " jewel",
            " prospect"
           ]
          ],
          [
           [
            " theory",
            " congress",
            " button"
           ]
          ],
          [
           [
            " circle",
            " flavor",
            " cabin"
           ]
          ],
          [
           [
            " sorrow",
            " theater",
            " illness",
            " angel",
            " manner"
           ]
          ],
          [
           [
            " cellar",
            " mercy",
            " sugar",
            " payment",
            " paper"
           ]
          ],
          [
           [
            " garment",
            " garden",
            " building",
            " bullet",
            " motion"
           ]
          ],
          [
           [
            " horror",
            " pilot",
            " quarter",
            " traitor",
            " partner"
           ]
          ],
          [
           [
            " pleasure",
            " cousin",
            " candy",
            " pistol",
            " sp",
            "arrow"
           ]
          ],
          [
           [
            " notion",
            " harvest",
            " movie",
            " absence",
            " rival"
           ]
          ],
          [
           [
            " duty",
            " onion",
            " moisture",
            " section",
            " total"
           ]
          ],
          [
           [
            " spider",
            " husband",
            " baby",
            " patient",
            " ste",
            "amer"
           ]
          ],
          [
           [
            " music",
            " hotel",
            " silence",
            " research",
            " doorway"
           ]
          ],
          [
           [
            " ribbon",
            " goddess",
            " motor",
            " pasture",
            " squirrel"
           ]
          ],
          [
           [
            " begg",
            "ar",
            " pepper",
            " standard",
            " meantime",
            " unit"
           ]
          ],
          [
           [
            " victim",
            " banner",
            " training",
            " captive",
            " extent"
           ]
          ],
          [
           [
            " pony",
            " closet",
            " diet",
            " legend",
            " novel"
           ]
          ],
          [
           [
            " contents",
            " maiden",
            " liquid",
            " planet",
            " double"
           ]
          ],
          [
           [
            " offence",
            " finger",
            " comrade",
            " problem",
            " detail"
           ]
          ],
          [
           [
            " student",
            " tunnel",
            " island",
            " canal",
            " oven"
           ]
          ],
          [
           [
            " hammer",
            " soldier",
            " herald",
            " engine",
            " market"
           ]
          ],
          [
           [
            " helmet",
            " surface",
            " sister",
            " puzzle",
            " hatred"
           ]
          ],
          [
           [
            " needle",
            " pitcher",
            " agent",
            " number",
            " excess"
           ]
          ],
          [
           [
            " nation",
            " harbour",
            " marriage",
            " kitten",
            " resort"
           ]
          ],
          [
           [
            " limit",
            " princess",
            " journal",
            " mother",
            " spirit",
            " major",
            " fortune",
            " jersey",
            " marble",
            " hunter"
           ]
          ],
          [
           [
            " tribute",
            " meeting",
            " letter",
            " bottom",
            " armor",
            " bedroom",
            " station",
            " ticket",
            " estate",
            " worker"
           ]
          ],
          [
           [
            " fever",
            " me",
            "adow",
            " temple",
            " shower",
            " mission",
            " r",
            "attle",
            " leader",
            " par",
            "lor",
            " couple",
            " pocket"
           ]
          ],
          [
           [
            " be",
            "aver",
            " jacket",
            " climate",
            " conquest",
            " autumn",
            " triumph",
            " virtue",
            " body",
            " rifle",
            " chapel"
           ]
          ],
          [
           [
            " weapon",
            " chim",
            "ney",
            " evening",
            " distance",
            " blanket",
            " vessel",
            " powder",
            " candle",
            " genius",
            " bargain"
           ]
          ],
          [
           [
            " service",
            " supper",
            " salad",
            " compound",
            " layer",
            " worship",
            " kitchen",
            " fountain",
            " vapor",
            " forehead"
           ]
          ],
          [
           [
            " mad",
            "am",
            " acre",
            " treasure",
            " speaker",
            " sl",
            "ipper",
            " product",
            " voyage",
            " single",
            " learning",
            " mischief"
           ]
          ],
          [
           [
            " err",
            "and",
            " habit",
            " farmer",
            " feeling",
            " daylight",
            " clothing",
            " object",
            " barrel",
            " weakness",
            " writer"
           ]
          ],
          [
           [
            " creature",
            " disease",
            " witness",
            " organ",
            " career",
            " rider",
            " lover",
            " linen",
            " county",
            " cluster"
           ]
          ],
          [
           [
            " forest",
            " lecture",
            " survey",
            " nothing",
            " parent",
            " lumber",
            " sandwich",
            " bus",
            "hel",
            " turkey",
            " compass"
           ]
          ],
          [
           [
            " olive",
            " tiger",
            " silver",
            " frontier",
            " widow",
            " mayor",
            " mountain",
            " echo",
            " darkness",
            " amount"
           ]
          ],
          [
           [
            " motive",
            " program",
            " subject",
            " keeper",
            " table",
            " lion",
            " angle",
            " leather",
            " beauty",
            " sunset"
           ]
          ],
          [
           [
            " folly",
            " pattern",
            " record",
            " diamond",
            " chamber",
            " effect",
            " income",
            " project",
            " current",
            " costume"
           ]
          ],
          [
           [
            " navy",
            " senate",
            " highway",
            " rubber",
            " crystal",
            " scatter",
            " insect",
            " device",
            " nephew",
            " concert"
           ]
          ],
          [
           [
            " dollar",
            " wagon",
            " shelter",
            " carpet",
            " business",
            " gesture",
            " contract",
            " cable",
            " stomach",
            " package"
           ]
          ],
          [
           [
            " saddle",
            " carriage",
            " maker",
            " valley",
            " velvet",
            " fury",
            " interest",
            " meaning",
            " lawyer",
            " women"
           ]
          ],
          [
           [
            " million",
            " system",
            " merchant",
            " riches",
            " winter",
            " money",
            " trouble",
            " bubble",
            " father",
            " robber"
           ]
          ],
          [
           [
            " captain",
            " commerce",
            " penny",
            " cattle",
            " anchor",
            " member",
            " degree",
            " justice",
            " empire",
            " city"
           ]
          ],
          [
           [
            " picture",
            " oy",
            "ster",
            " carbon",
            " perfume",
            " parcel",
            " method",
            " traffic",
            " pigeon",
            " message",
            " owner"
           ]
          ],
          [
           [
            " stocking",
            " or",
            "chard",
            " painter",
            " colour",
            " image",
            " patience",
            " aspect",
            " dragon",
            " credit",
            " butcher"
           ]
          ]
         ],
         "hovertemplate": "prompt=2) mid (~30 tok)<br>set size (n. tokens)=%{x}<br>average -log LL=%{y}<br>token_list=%{customdata[0]}<extra></extra>",
         "legendgroup": "2) mid (~30 tok)",
         "marker": {
          "color": "#EF553B"
         },
         "name": "2) mid (~30 tok)",
         "notched": false,
         "offsetgroup": "2) mid (~30 tok)",
         "orientation": "v",
         "showlegend": true,
         "type": "box",
         "x": [
          3,
          3,
          3,
          3,
          3,
          3,
          3,
          3,
          3,
          3,
          3,
          3,
          3,
          3,
          3,
          3,
          3,
          3,
          3,
          3,
          5,
          5,
          5,
          5,
          5,
          5,
          5,
          5,
          5,
          5,
          5,
          5,
          5,
          5,
          5,
          5,
          5,
          5,
          5,
          5,
          10,
          10,
          10,
          10,
          10,
          10,
          10,
          10,
          10,
          10,
          10,
          10,
          10,
          10,
          10,
          10,
          10,
          10,
          10,
          10
         ],
         "x0": " ",
         "xaxis": "x",
         "y": [
          4.930186371008555,
          2.8899528781572976,
          2.4828739950899035,
          0.34341491013765335,
          4.770615875720978,
          2.9834987918535867,
          1.5453832546869914,
          3.9645283619562783,
          2.915465752283732,
          2.3761128385861716,
          3.293577253818512,
          3.889605606595675,
          2.913382340222597,
          2.527246236801148,
          1.1301848292350767,
          5.0216653148333235,
          2.4772592976514716,
          2.672819435596466,
          2.5046532352765403,
          5.225266059239705,
          6.206096458435058,
          5.046071624755859,
          3.9298498034477234,
          3.7594901382923127,
          3.126641889316185,
          2.1183963656425475,
          3.3061858654022216,
          3.1558568937083087,
          3.611978828907013,
          4.944148230552673,
          6.102421527107556,
          5.317077422142029,
          5.031884574890137,
          4.450300544500351,
          4.822442543506623,
          5.236198902130127,
          4.2981998205184935,
          4.538175654411316,
          4.308017468452453,
          5.0199599891901014,
          6.26530285179615,
          6.71668643951416,
          3.26160510900305,
          6.235051809386774,
          5.6164927846032455,
          5.959710663557052,
          5.54677187348716,
          5.231193021151491,
          5.9077859163284305,
          5.174631825986911,
          7.077746248245239,
          5.954935421049595,
          4.550768151134252,
          6.140874308347702,
          6.148810815811157,
          6.774106442928314,
          4.9035662651062015,
          5.210361005365849,
          5.409664168064906,
          6.2550718186592515
         ],
         "y0": " ",
         "yaxis": "y"
        },
        {
         "alignmentgroup": "True",
         "boxpoints": "all",
         "customdata": [
          [
           [
            " affair",
            " series",
            " singer"
           ]
          ],
          [
           [
            " apple",
            " window",
            " cannon"
           ]
          ],
          [
           [
            " b",
            "erry",
            " despair",
            " kingdom"
           ]
          ],
          [
           [
            " blessing",
            " journey",
            " story"
           ]
          ],
          [
           [
            " cottage",
            " effort",
            " village"
           ]
          ],
          [
           [
            " future",
            " police",
            " shipping"
           ]
          ],
          [
           [
            " factor",
            " machine",
            " ocean"
           ]
          ],
          [
           [
            " sailor",
            " belief",
            " instant"
           ]
          ],
          [
           [
            " moment",
            " coffee",
            " danger"
           ]
          ],
          [
           [
            " outline",
            " summer",
            " basin"
           ]
          ],
          [
           [
            " teacher",
            " array",
            " sentence"
           ]
          ],
          [
           [
            " orange",
            " football",
            " mistress"
           ]
          ],
          [
           [
            " colonel",
            " will",
            "ow",
            " cotton"
           ]
          ],
          [
           [
            " artist",
            " lady",
            " minute"
           ]
          ],
          [
           [
            " sheriff",
            " feature",
            " mixture"
           ]
          ],
          [
           [
            " uncle",
            " relief",
            " failure"
           ]
          ],
          [
           [
            " pupil",
            " chapter",
            " pra",
            "irie"
           ]
          ],
          [
           [
            " basket",
            " jewel",
            " prospect"
           ]
          ],
          [
           [
            " theory",
            " congress",
            " button"
           ]
          ],
          [
           [
            " circle",
            " flavor",
            " cabin"
           ]
          ],
          [
           [
            " sorrow",
            " theater",
            " illness",
            " angel",
            " manner"
           ]
          ],
          [
           [
            " cellar",
            " mercy",
            " sugar",
            " payment",
            " paper"
           ]
          ],
          [
           [
            " garment",
            " garden",
            " building",
            " bullet",
            " motion"
           ]
          ],
          [
           [
            " horror",
            " pilot",
            " quarter",
            " traitor",
            " partner"
           ]
          ],
          [
           [
            " pleasure",
            " cousin",
            " candy",
            " pistol",
            " sp",
            "arrow"
           ]
          ],
          [
           [
            " notion",
            " harvest",
            " movie",
            " absence",
            " rival"
           ]
          ],
          [
           [
            " duty",
            " onion",
            " moisture",
            " section",
            " total"
           ]
          ],
          [
           [
            " spider",
            " husband",
            " baby",
            " patient",
            " ste",
            "amer"
           ]
          ],
          [
           [
            " music",
            " hotel",
            " silence",
            " research",
            " doorway"
           ]
          ],
          [
           [
            " ribbon",
            " goddess",
            " motor",
            " pasture",
            " squirrel"
           ]
          ],
          [
           [
            " begg",
            "ar",
            " pepper",
            " standard",
            " meantime",
            " unit"
           ]
          ],
          [
           [
            " victim",
            " banner",
            " training",
            " captive",
            " extent"
           ]
          ],
          [
           [
            " pony",
            " closet",
            " diet",
            " legend",
            " novel"
           ]
          ],
          [
           [
            " contents",
            " maiden",
            " liquid",
            " planet",
            " double"
           ]
          ],
          [
           [
            " offence",
            " finger",
            " comrade",
            " problem",
            " detail"
           ]
          ],
          [
           [
            " student",
            " tunnel",
            " island",
            " canal",
            " oven"
           ]
          ],
          [
           [
            " hammer",
            " soldier",
            " herald",
            " engine",
            " market"
           ]
          ],
          [
           [
            " helmet",
            " surface",
            " sister",
            " puzzle",
            " hatred"
           ]
          ],
          [
           [
            " needle",
            " pitcher",
            " agent",
            " number",
            " excess"
           ]
          ],
          [
           [
            " nation",
            " harbour",
            " marriage",
            " kitten",
            " resort"
           ]
          ],
          [
           [
            " limit",
            " princess",
            " journal",
            " mother",
            " spirit",
            " major",
            " fortune",
            " jersey",
            " marble",
            " hunter"
           ]
          ],
          [
           [
            " tribute",
            " meeting",
            " letter",
            " bottom",
            " armor",
            " bedroom",
            " station",
            " ticket",
            " estate",
            " worker"
           ]
          ],
          [
           [
            " fever",
            " me",
            "adow",
            " temple",
            " shower",
            " mission",
            " r",
            "attle",
            " leader",
            " par",
            "lor",
            " couple",
            " pocket"
           ]
          ],
          [
           [
            " be",
            "aver",
            " jacket",
            " climate",
            " conquest",
            " autumn",
            " triumph",
            " virtue",
            " body",
            " rifle",
            " chapel"
           ]
          ],
          [
           [
            " weapon",
            " chim",
            "ney",
            " evening",
            " distance",
            " blanket",
            " vessel",
            " powder",
            " candle",
            " genius",
            " bargain"
           ]
          ],
          [
           [
            " service",
            " supper",
            " salad",
            " compound",
            " layer",
            " worship",
            " kitchen",
            " fountain",
            " vapor",
            " forehead"
           ]
          ],
          [
           [
            " mad",
            "am",
            " acre",
            " treasure",
            " speaker",
            " sl",
            "ipper",
            " product",
            " voyage",
            " single",
            " learning",
            " mischief"
           ]
          ],
          [
           [
            " err",
            "and",
            " habit",
            " farmer",
            " feeling",
            " daylight",
            " clothing",
            " object",
            " barrel",
            " weakness",
            " writer"
           ]
          ],
          [
           [
            " creature",
            " disease",
            " witness",
            " organ",
            " career",
            " rider",
            " lover",
            " linen",
            " county",
            " cluster"
           ]
          ],
          [
           [
            " forest",
            " lecture",
            " survey",
            " nothing",
            " parent",
            " lumber",
            " sandwich",
            " bus",
            "hel",
            " turkey",
            " compass"
           ]
          ],
          [
           [
            " olive",
            " tiger",
            " silver",
            " frontier",
            " widow",
            " mayor",
            " mountain",
            " echo",
            " darkness",
            " amount"
           ]
          ],
          [
           [
            " motive",
            " program",
            " subject",
            " keeper",
            " table",
            " lion",
            " angle",
            " leather",
            " beauty",
            " sunset"
           ]
          ],
          [
           [
            " folly",
            " pattern",
            " record",
            " diamond",
            " chamber",
            " effect",
            " income",
            " project",
            " current",
            " costume"
           ]
          ],
          [
           [
            " navy",
            " senate",
            " highway",
            " rubber",
            " crystal",
            " scatter",
            " insect",
            " device",
            " nephew",
            " concert"
           ]
          ],
          [
           [
            " dollar",
            " wagon",
            " shelter",
            " carpet",
            " business",
            " gesture",
            " contract",
            " cable",
            " stomach",
            " package"
           ]
          ],
          [
           [
            " saddle",
            " carriage",
            " maker",
            " valley",
            " velvet",
            " fury",
            " interest",
            " meaning",
            " lawyer",
            " women"
           ]
          ],
          [
           [
            " million",
            " system",
            " merchant",
            " riches",
            " winter",
            " money",
            " trouble",
            " bubble",
            " father",
            " robber"
           ]
          ],
          [
           [
            " captain",
            " commerce",
            " penny",
            " cattle",
            " anchor",
            " member",
            " degree",
            " justice",
            " empire",
            " city"
           ]
          ],
          [
           [
            " picture",
            " oy",
            "ster",
            " carbon",
            " perfume",
            " parcel",
            " method",
            " traffic",
            " pigeon",
            " message",
            " owner"
           ]
          ],
          [
           [
            " stocking",
            " or",
            "chard",
            " painter",
            " colour",
            " image",
            " patience",
            " aspect",
            " dragon",
            " credit",
            " butcher"
           ]
          ]
         ],
         "hovertemplate": "prompt=3) long (~60 tok)<br>set size (n. tokens)=%{x}<br>average -log LL=%{y}<br>token_list=%{customdata[0]}<extra></extra>",
         "legendgroup": "3) long (~60 tok)",
         "marker": {
          "color": "#00cc96"
         },
         "name": "3) long (~60 tok)",
         "notched": false,
         "offsetgroup": "3) long (~60 tok)",
         "orientation": "v",
         "showlegend": true,
         "type": "box",
         "x": [
          3,
          3,
          3,
          3,
          3,
          3,
          3,
          3,
          3,
          3,
          3,
          3,
          3,
          3,
          3,
          3,
          3,
          3,
          3,
          3,
          5,
          5,
          5,
          5,
          5,
          5,
          5,
          5,
          5,
          5,
          5,
          5,
          5,
          5,
          5,
          5,
          5,
          5,
          5,
          5,
          10,
          10,
          10,
          10,
          10,
          10,
          10,
          10,
          10,
          10,
          10,
          10,
          10,
          10,
          10,
          10,
          10,
          10,
          10,
          10
         ],
         "x0": " ",
         "xaxis": "x",
         "y": [
          5.249024460713069,
          3.2535609205563865,
          2.6637440361082554,
          0.22354885439078012,
          4.997527678807576,
          2.7821106861035028,
          1.5865281820297241,
          4.427463491757711,
          2.7190062403678894,
          2.3478041688601174,
          3.3948132395744324,
          3.9820152620474496,
          3.805024839239195,
          2.428543051083883,
          1.0857401589552562,
          5.666831572850545,
          2.84924242006673,
          2.409711798032125,
          2.341172337532044,
          5.165351788202922,
          6.818468332290649,
          5.162897157669067,
          3.9799036383628845,
          3.6382921785116196,
          3.3307666539719016,
          2.3371614068746567,
          3.442910373210907,
          3.452186786880096,
          3.701728272438049,
          5.425632977485657,
          6.300367833425601,
          5.079147100448608,
          5.11817854642868,
          4.670909178256989,
          5.058583459258079,
          5.292416763305664,
          4.288923776149749,
          4.51475465297699,
          4.468971180915832,
          4.993098422884941,
          6.526305994391441,
          6.8407432556152346,
          3.163759544720121,
          6.473786156285893,
          5.771292020587928,
          5.990786437690258,
          5.562615207939719,
          5.349052417346022,
          6.047670900821686,
          5.461959181374616,
          7.454222989082337,
          6.333801708370447,
          4.73968665599823,
          6.275495195388794,
          6.276997375488281,
          7.387882792949677,
          5.20041309595108,
          5.545273849368096,
          5.570202705577355,
          6.633960578082637
         ],
         "y0": " ",
         "yaxis": "y"
        }
       ],
       "layout": {
        "boxmode": "group",
        "height": 500,
        "legend": {
         "title": {
          "text": "prompt"
         },
         "tracegroupgap": 0
        },
        "template": {
         "data": {
          "bar": [
           {
            "error_x": {
             "color": "#2a3f5f"
            },
            "error_y": {
             "color": "#2a3f5f"
            },
            "marker": {
             "line": {
              "color": "#E5ECF6",
              "width": 0.5
             }
            },
            "type": "bar"
           }
          ],
          "barpolar": [
           {
            "marker": {
             "line": {
              "color": "#E5ECF6",
              "width": 0.5
             }
            },
            "type": "barpolar"
           }
          ],
          "carpet": [
           {
            "aaxis": {
             "endlinecolor": "#2a3f5f",
             "gridcolor": "white",
             "linecolor": "white",
             "minorgridcolor": "white",
             "startlinecolor": "#2a3f5f"
            },
            "baxis": {
             "endlinecolor": "#2a3f5f",
             "gridcolor": "white",
             "linecolor": "white",
             "minorgridcolor": "white",
             "startlinecolor": "#2a3f5f"
            },
            "type": "carpet"
           }
          ],
          "choropleth": [
           {
            "colorbar": {
             "outlinewidth": 0,
             "ticks": ""
            },
            "type": "choropleth"
           }
          ],
          "contour": [
           {
            "colorbar": {
             "outlinewidth": 0,
             "ticks": ""
            },
            "colorscale": [
             [
              0,
              "#0d0887"
             ],
             [
              0.1111111111111111,
              "#46039f"
             ],
             [
              0.2222222222222222,
              "#7201a8"
             ],
             [
              0.3333333333333333,
              "#9c179e"
             ],
             [
              0.4444444444444444,
              "#bd3786"
             ],
             [
              0.5555555555555556,
              "#d8576b"
             ],
             [
              0.6666666666666666,
              "#ed7953"
             ],
             [
              0.7777777777777778,
              "#fb9f3a"
             ],
             [
              0.8888888888888888,
              "#fdca26"
             ],
             [
              1,
              "#f0f921"
             ]
            ],
            "type": "contour"
           }
          ],
          "contourcarpet": [
           {
            "colorbar": {
             "outlinewidth": 0,
             "ticks": ""
            },
            "type": "contourcarpet"
           }
          ],
          "heatmap": [
           {
            "colorbar": {
             "outlinewidth": 0,
             "ticks": ""
            },
            "colorscale": [
             [
              0,
              "#0d0887"
             ],
             [
              0.1111111111111111,
              "#46039f"
             ],
             [
              0.2222222222222222,
              "#7201a8"
             ],
             [
              0.3333333333333333,
              "#9c179e"
             ],
             [
              0.4444444444444444,
              "#bd3786"
             ],
             [
              0.5555555555555556,
              "#d8576b"
             ],
             [
              0.6666666666666666,
              "#ed7953"
             ],
             [
              0.7777777777777778,
              "#fb9f3a"
             ],
             [
              0.8888888888888888,
              "#fdca26"
             ],
             [
              1,
              "#f0f921"
             ]
            ],
            "type": "heatmap"
           }
          ],
          "heatmapgl": [
           {
            "colorbar": {
             "outlinewidth": 0,
             "ticks": ""
            },
            "colorscale": [
             [
              0,
              "#0d0887"
             ],
             [
              0.1111111111111111,
              "#46039f"
             ],
             [
              0.2222222222222222,
              "#7201a8"
             ],
             [
              0.3333333333333333,
              "#9c179e"
             ],
             [
              0.4444444444444444,
              "#bd3786"
             ],
             [
              0.5555555555555556,
              "#d8576b"
             ],
             [
              0.6666666666666666,
              "#ed7953"
             ],
             [
              0.7777777777777778,
              "#fb9f3a"
             ],
             [
              0.8888888888888888,
              "#fdca26"
             ],
             [
              1,
              "#f0f921"
             ]
            ],
            "type": "heatmapgl"
           }
          ],
          "histogram": [
           {
            "marker": {
             "colorbar": {
              "outlinewidth": 0,
              "ticks": ""
             }
            },
            "type": "histogram"
           }
          ],
          "histogram2d": [
           {
            "colorbar": {
             "outlinewidth": 0,
             "ticks": ""
            },
            "colorscale": [
             [
              0,
              "#0d0887"
             ],
             [
              0.1111111111111111,
              "#46039f"
             ],
             [
              0.2222222222222222,
              "#7201a8"
             ],
             [
              0.3333333333333333,
              "#9c179e"
             ],
             [
              0.4444444444444444,
              "#bd3786"
             ],
             [
              0.5555555555555556,
              "#d8576b"
             ],
             [
              0.6666666666666666,
              "#ed7953"
             ],
             [
              0.7777777777777778,
              "#fb9f3a"
             ],
             [
              0.8888888888888888,
              "#fdca26"
             ],
             [
              1,
              "#f0f921"
             ]
            ],
            "type": "histogram2d"
           }
          ],
          "histogram2dcontour": [
           {
            "colorbar": {
             "outlinewidth": 0,
             "ticks": ""
            },
            "colorscale": [
             [
              0,
              "#0d0887"
             ],
             [
              0.1111111111111111,
              "#46039f"
             ],
             [
              0.2222222222222222,
              "#7201a8"
             ],
             [
              0.3333333333333333,
              "#9c179e"
             ],
             [
              0.4444444444444444,
              "#bd3786"
             ],
             [
              0.5555555555555556,
              "#d8576b"
             ],
             [
              0.6666666666666666,
              "#ed7953"
             ],
             [
              0.7777777777777778,
              "#fb9f3a"
             ],
             [
              0.8888888888888888,
              "#fdca26"
             ],
             [
              1,
              "#f0f921"
             ]
            ],
            "type": "histogram2dcontour"
           }
          ],
          "mesh3d": [
           {
            "colorbar": {
             "outlinewidth": 0,
             "ticks": ""
            },
            "type": "mesh3d"
           }
          ],
          "parcoords": [
           {
            "line": {
             "colorbar": {
              "outlinewidth": 0,
              "ticks": ""
             }
            },
            "type": "parcoords"
           }
          ],
          "pie": [
           {
            "automargin": true,
            "type": "pie"
           }
          ],
          "scatter": [
           {
            "marker": {
             "colorbar": {
              "outlinewidth": 0,
              "ticks": ""
             }
            },
            "type": "scatter"
           }
          ],
          "scatter3d": [
           {
            "line": {
             "colorbar": {
              "outlinewidth": 0,
              "ticks": ""
             }
            },
            "marker": {
             "colorbar": {
              "outlinewidth": 0,
              "ticks": ""
             }
            },
            "type": "scatter3d"
           }
          ],
          "scattercarpet": [
           {
            "marker": {
             "colorbar": {
              "outlinewidth": 0,
              "ticks": ""
             }
            },
            "type": "scattercarpet"
           }
          ],
          "scattergeo": [
           {
            "marker": {
             "colorbar": {
              "outlinewidth": 0,
              "ticks": ""
             }
            },
            "type": "scattergeo"
           }
          ],
          "scattergl": [
           {
            "marker": {
             "colorbar": {
              "outlinewidth": 0,
              "ticks": ""
             }
            },
            "type": "scattergl"
           }
          ],
          "scattermapbox": [
           {
            "marker": {
             "colorbar": {
              "outlinewidth": 0,
              "ticks": ""
             }
            },
            "type": "scattermapbox"
           }
          ],
          "scatterpolar": [
           {
            "marker": {
             "colorbar": {
              "outlinewidth": 0,
              "ticks": ""
             }
            },
            "type": "scatterpolar"
           }
          ],
          "scatterpolargl": [
           {
            "marker": {
             "colorbar": {
              "outlinewidth": 0,
              "ticks": ""
             }
            },
            "type": "scatterpolargl"
           }
          ],
          "scatterternary": [
           {
            "marker": {
             "colorbar": {
              "outlinewidth": 0,
              "ticks": ""
             }
            },
            "type": "scatterternary"
           }
          ],
          "surface": [
           {
            "colorbar": {
             "outlinewidth": 0,
             "ticks": ""
            },
            "colorscale": [
             [
              0,
              "#0d0887"
             ],
             [
              0.1111111111111111,
              "#46039f"
             ],
             [
              0.2222222222222222,
              "#7201a8"
             ],
             [
              0.3333333333333333,
              "#9c179e"
             ],
             [
              0.4444444444444444,
              "#bd3786"
             ],
             [
              0.5555555555555556,
              "#d8576b"
             ],
             [
              0.6666666666666666,
              "#ed7953"
             ],
             [
              0.7777777777777778,
              "#fb9f3a"
             ],
             [
              0.8888888888888888,
              "#fdca26"
             ],
             [
              1,
              "#f0f921"
             ]
            ],
            "type": "surface"
           }
          ],
          "table": [
           {
            "cells": {
             "fill": {
              "color": "#EBF0F8"
             },
             "line": {
              "color": "white"
             }
            },
            "header": {
             "fill": {
              "color": "#C8D4E3"
             },
             "line": {
              "color": "white"
             }
            },
            "type": "table"
           }
          ]
         },
         "layout": {
          "annotationdefaults": {
           "arrowcolor": "#2a3f5f",
           "arrowhead": 0,
           "arrowwidth": 1
          },
          "coloraxis": {
           "colorbar": {
            "outlinewidth": 0,
            "ticks": ""
           }
          },
          "colorscale": {
           "diverging": [
            [
             0,
             "#8e0152"
            ],
            [
             0.1,
             "#c51b7d"
            ],
            [
             0.2,
             "#de77ae"
            ],
            [
             0.3,
             "#f1b6da"
            ],
            [
             0.4,
             "#fde0ef"
            ],
            [
             0.5,
             "#f7f7f7"
            ],
            [
             0.6,
             "#e6f5d0"
            ],
            [
             0.7,
             "#b8e186"
            ],
            [
             0.8,
             "#7fbc41"
            ],
            [
             0.9,
             "#4d9221"
            ],
            [
             1,
             "#276419"
            ]
           ],
           "sequential": [
            [
             0,
             "#0d0887"
            ],
            [
             0.1111111111111111,
             "#46039f"
            ],
            [
             0.2222222222222222,
             "#7201a8"
            ],
            [
             0.3333333333333333,
             "#9c179e"
            ],
            [
             0.4444444444444444,
             "#bd3786"
            ],
            [
             0.5555555555555556,
             "#d8576b"
            ],
            [
             0.6666666666666666,
             "#ed7953"
            ],
            [
             0.7777777777777778,
             "#fb9f3a"
            ],
            [
             0.8888888888888888,
             "#fdca26"
            ],
            [
             1,
             "#f0f921"
            ]
           ],
           "sequentialminus": [
            [
             0,
             "#0d0887"
            ],
            [
             0.1111111111111111,
             "#46039f"
            ],
            [
             0.2222222222222222,
             "#7201a8"
            ],
            [
             0.3333333333333333,
             "#9c179e"
            ],
            [
             0.4444444444444444,
             "#bd3786"
            ],
            [
             0.5555555555555556,
             "#d8576b"
            ],
            [
             0.6666666666666666,
             "#ed7953"
            ],
            [
             0.7777777777777778,
             "#fb9f3a"
            ],
            [
             0.8888888888888888,
             "#fdca26"
            ],
            [
             1,
             "#f0f921"
            ]
           ]
          },
          "colorway": [
           "#636efa",
           "#EF553B",
           "#00cc96",
           "#ab63fa",
           "#FFA15A",
           "#19d3f3",
           "#FF6692",
           "#B6E880",
           "#FF97FF",
           "#FECB52"
          ],
          "font": {
           "color": "#2a3f5f"
          },
          "geo": {
           "bgcolor": "white",
           "lakecolor": "white",
           "landcolor": "#E5ECF6",
           "showlakes": true,
           "showland": true,
           "subunitcolor": "white"
          },
          "hoverlabel": {
           "align": "left"
          },
          "hovermode": "closest",
          "mapbox": {
           "style": "light"
          },
          "paper_bgcolor": "white",
          "plot_bgcolor": "#E5ECF6",
          "polar": {
           "angularaxis": {
            "gridcolor": "white",
            "linecolor": "white",
            "ticks": ""
           },
           "bgcolor": "#E5ECF6",
           "radialaxis": {
            "gridcolor": "white",
            "linecolor": "white",
            "ticks": ""
           }
          },
          "scene": {
           "xaxis": {
            "backgroundcolor": "#E5ECF6",
            "gridcolor": "white",
            "gridwidth": 2,
            "linecolor": "white",
            "showbackground": true,
            "ticks": "",
            "zerolinecolor": "white"
           },
           "yaxis": {
            "backgroundcolor": "#E5ECF6",
            "gridcolor": "white",
            "gridwidth": 2,
            "linecolor": "white",
            "showbackground": true,
            "ticks": "",
            "zerolinecolor": "white"
           },
           "zaxis": {
            "backgroundcolor": "#E5ECF6",
            "gridcolor": "white",
            "gridwidth": 2,
            "linecolor": "white",
            "showbackground": true,
            "ticks": "",
            "zerolinecolor": "white"
           }
          },
          "shapedefaults": {
           "line": {
            "color": "#2a3f5f"
           }
          },
          "ternary": {
           "aaxis": {
            "gridcolor": "white",
            "linecolor": "white",
            "ticks": ""
           },
           "baxis": {
            "gridcolor": "white",
            "linecolor": "white",
            "ticks": ""
           },
           "bgcolor": "#E5ECF6",
           "caxis": {
            "gridcolor": "white",
            "linecolor": "white",
            "ticks": ""
           }
          },
          "title": {
           "x": 0.05
          },
          "xaxis": {
           "automargin": true,
           "gridcolor": "white",
           "linecolor": "white",
           "ticks": "",
           "title": {
            "standoff": 15
           },
           "zerolinecolor": "white",
           "zerolinewidth": 2
          },
          "yaxis": {
           "automargin": true,
           "gridcolor": "white",
           "linecolor": "white",
           "ticks": "",
           "title": {
            "standoff": 15
           },
           "zerolinecolor": "white",
           "zerolinewidth": 2
          }
         }
        },
        "title": {
         "text": "Mean neg. LL on second list presentation (nonsemantic, permute)"
        },
        "width": 1200,
        "xaxis": {
         "anchor": "y",
         "autorange": true,
         "domain": [
          0,
          1
         ],
         "range": [
          -0.7489592566118657,
          2.6709978556111507
         ],
         "title": {
          "text": "set size (n. tokens)"
         },
         "type": "category"
        },
        "yaxis": {
         "anchor": "x",
         "autorange": true,
         "domain": [
          0,
          1
         ],
         "range": [
          -0.17815526420319525,
          7.855927107676312
         ],
         "title": {
          "text": "average -log LL"
         },
         "type": "linear"
        }
       }
      },
      "image/png": "[encoded data removed]",
      "text/html": [
       "<div>                            <div id=\"1082acce-8cfb-4b47-800f-403881e641a4\" class=\"plotly-graph-div\" style=\"height:500px; width:1200px;\"></div>            <script type=\"text/javascript\">                require([\"plotly\"], function(Plotly) {                    window.PLOTLYENV=window.PLOTLYENV || {};                                    if (document.getElementById(\"1082acce-8cfb-4b47-800f-403881e641a4\")) {                    Plotly.newPlot(                        \"1082acce-8cfb-4b47-800f-403881e641a4\",                        [{\"alignmentgroup\": \"True\", \"boxpoints\": \"all\", \"customdata\": [[[\" affair\", \" series\", \" singer\"]], [[\" apple\", \" window\", \" cannon\"]], [[\" b\", \"erry\", \" despair\", \" kingdom\"]], [[\" blessing\", \" journey\", \" story\"]], [[\" cottage\", \" effort\", \" village\"]], [[\" future\", \" police\", \" shipping\"]], [[\" factor\", \" machine\", \" ocean\"]], [[\" sailor\", \" belief\", \" instant\"]], [[\" moment\", \" coffee\", \" danger\"]], [[\" outline\", \" summer\", \" basin\"]], [[\" teacher\", \" array\", \" sentence\"]], [[\" orange\", \" football\", \" mistress\"]], [[\" colonel\", \" will\", \"ow\", \" cotton\"]], [[\" artist\", \" lady\", \" minute\"]], [[\" sheriff\", \" feature\", \" mixture\"]], [[\" uncle\", \" relief\", \" failure\"]], [[\" pupil\", \" chapter\", \" pra\", \"irie\"]], [[\" basket\", \" jewel\", \" prospect\"]], [[\" theory\", \" congress\", \" button\"]], [[\" circle\", \" flavor\", \" cabin\"]], [[\" sorrow\", \" theater\", \" illness\", \" angel\", \" manner\"]], [[\" cellar\", \" mercy\", \" sugar\", \" payment\", \" paper\"]], [[\" garment\", \" garden\", \" building\", \" bullet\", \" motion\"]], [[\" horror\", \" pilot\", \" quarter\", \" traitor\", \" partner\"]], [[\" pleasure\", \" cousin\", \" candy\", \" pistol\", \" sp\", \"arrow\"]], [[\" notion\", \" harvest\", \" movie\", \" absence\", \" rival\"]], [[\" duty\", \" onion\", \" moisture\", \" section\", \" total\"]], [[\" spider\", \" husband\", \" baby\", \" patient\", \" ste\", \"amer\"]], [[\" music\", \" hotel\", \" silence\", \" research\", \" doorway\"]], [[\" ribbon\", \" goddess\", \" motor\", \" pasture\", \" squirrel\"]], [[\" begg\", \"ar\", \" pepper\", \" standard\", \" meantime\", \" unit\"]], [[\" victim\", \" banner\", \" training\", \" captive\", \" extent\"]], [[\" pony\", \" closet\", \" diet\", \" legend\", \" novel\"]], [[\" contents\", \" maiden\", \" liquid\", \" planet\", \" double\"]], [[\" offence\", \" finger\", \" comrade\", \" problem\", \" detail\"]], [[\" student\", \" tunnel\", \" island\", \" canal\", \" oven\"]], [[\" hammer\", \" soldier\", \" herald\", \" engine\", \" market\"]], [[\" helmet\", \" surface\", \" sister\", \" puzzle\", \" hatred\"]], [[\" needle\", \" pitcher\", \" agent\", \" number\", \" excess\"]], [[\" nation\", \" harbour\", \" marriage\", \" kitten\", \" resort\"]], [[\" limit\", \" princess\", \" journal\", \" mother\", \" spirit\", \" major\", \" fortune\", \" jersey\", \" marble\", \" hunter\"]], [[\" tribute\", \" meeting\", \" letter\", \" bottom\", \" armor\", \" bedroom\", \" station\", \" ticket\", \" estate\", \" worker\"]], [[\" fever\", \" me\", \"adow\", \" temple\", \" shower\", \" mission\", \" r\", \"attle\", \" leader\", \" par\", \"lor\", \" couple\", \" pocket\"]], [[\" be\", \"aver\", \" jacket\", \" climate\", \" conquest\", \" autumn\", \" triumph\", \" virtue\", \" body\", \" rifle\", \" chapel\"]], [[\" weapon\", \" chim\", \"ney\", \" evening\", \" distance\", \" blanket\", \" vessel\", \" powder\", \" candle\", \" genius\", \" bargain\"]], [[\" service\", \" supper\", \" salad\", \" compound\", \" layer\", \" worship\", \" kitchen\", \" fountain\", \" vapor\", \" forehead\"]], [[\" mad\", \"am\", \" acre\", \" treasure\", \" speaker\", \" sl\", \"ipper\", \" product\", \" voyage\", \" single\", \" learning\", \" mischief\"]], [[\" err\", \"and\", \" habit\", \" farmer\", \" feeling\", \" daylight\", \" clothing\", \" object\", \" barrel\", \" weakness\", \" writer\"]], [[\" creature\", \" disease\", \" witness\", \" organ\", \" career\", \" rider\", \" lover\", \" linen\", \" county\", \" cluster\"]], [[\" forest\", \" lecture\", \" survey\", \" nothing\", \" parent\", \" lumber\", \" sandwich\", \" bus\", \"hel\", \" turkey\", \" compass\"]], [[\" olive\", \" tiger\", \" silver\", \" frontier\", \" widow\", \" mayor\", \" mountain\", \" echo\", \" darkness\", \" amount\"]], [[\" motive\", \" program\", \" subject\", \" keeper\", \" table\", \" lion\", \" angle\", \" leather\", \" beauty\", \" sunset\"]], [[\" folly\", \" pattern\", \" record\", \" diamond\", \" chamber\", \" effect\", \" income\", \" project\", \" current\", \" costume\"]], [[\" navy\", \" senate\", \" highway\", \" rubber\", \" crystal\", \" scatter\", \" insect\", \" device\", \" nephew\", \" concert\"]], [[\" dollar\", \" wagon\", \" shelter\", \" carpet\", \" business\", \" gesture\", \" contract\", \" cable\", \" stomach\", \" package\"]], [[\" saddle\", \" carriage\", \" maker\", \" valley\", \" velvet\", \" fury\", \" interest\", \" meaning\", \" lawyer\", \" women\"]], [[\" million\", \" system\", \" merchant\", \" riches\", \" winter\", \" money\", \" trouble\", \" bubble\", \" father\", \" robber\"]], [[\" captain\", \" commerce\", \" penny\", \" cattle\", \" anchor\", \" member\", \" degree\", \" justice\", \" empire\", \" city\"]], [[\" picture\", \" oy\", \"ster\", \" carbon\", \" perfume\", \" parcel\", \" method\", \" traffic\", \" pigeon\", \" message\", \" owner\"]], [[\" stocking\", \" or\", \"chard\", \" painter\", \" colour\", \" image\", \" patience\", \" aspect\", \" dragon\", \" credit\", \" butcher\"]]], \"hovertemplate\": \"prompt=1) short (~8 tok)<br>set size (n. tokens)=%{x}<br>average -log LL=%{y}<br>token_list=%{customdata[0]}<extra></extra>\", \"legendgroup\": \"1) short (~8 tok)\", \"marker\": {\"color\": \"#636efa\"}, \"name\": \"1) short (~8 tok)\", \"notched\": false, \"offsetgroup\": \"1) short (~8 tok)\", \"orientation\": \"v\", \"showlegend\": true, \"type\": \"box\", \"x\": [3, 3, 3, 3, 3, 3, 3, 3, 3, 3, 3, 3, 3, 3, 3, 3, 3, 3, 3, 3, 5, 5, 5, 5, 5, 5, 5, 5, 5, 5, 5, 5, 5, 5, 5, 5, 5, 5, 5, 5, 10, 10, 10, 10, 10, 10, 10, 10, 10, 10, 10, 10, 10, 10, 10, 10, 10, 10, 10, 10], \"x0\": \" \", \"xaxis\": \"x\", \"y\": [4.4546094338099165, 2.5794469912846885, 2.2023233473300934, 0.5010717461506526, 4.406199097633362, 3.1568893094857535, 1.6022887031237285, 3.737451752026875, 2.6919713417689004, 2.4039658506711326, 2.684525271256765, 3.9327633629242578, 2.716119274031371, 2.55323326587677, 1.24245285987854, 4.712707966566086, 2.209940830449341, 2.7710126837094626, 2.585013826688131, 4.8668811321258545, 5.609742832183838, 4.993828046321869, 3.6581238985061644, 3.727626323699951, 3.0423271673110626, 2.2558012425899507, 3.105741024017334, 3.1010762037088475, 3.499608302116394, 4.467852509021759, 5.5432372614741325, 5.293704295158387, 4.853283262252807, 4.271673983335495, 3.985118666291237, 5.086460018157959, 3.8505228996276855, 4.1886714696884155, 4.1731250286102295, 4.591512992978096, 6.18827888071537, 6.772407150268554, 3.1571109327398097, 6.01258796588941, 5.33828281594271, 5.543476340174675, 5.2885808568292605, 4.972665665078569, 5.546466493606568, 5.063153029123152, 6.6756813526153564, 5.678117337822914, 4.4530502140522, 6.063035261631012, 5.85616557598114, 6.277673828601837, 4.5200114965438845, 5.13863852918148, 5.240615217015147, 5.815401153130964], \"y0\": \" \", \"yaxis\": \"y\"}, {\"alignmentgroup\": \"True\", \"boxpoints\": \"all\", \"customdata\": [[[\" affair\", \" series\", \" singer\"]], [[\" apple\", \" window\", \" cannon\"]], [[\" b\", \"erry\", \" despair\", \" kingdom\"]], [[\" blessing\", \" journey\", \" story\"]], [[\" cottage\", \" effort\", \" village\"]], [[\" future\", \" police\", \" shipping\"]], [[\" factor\", \" machine\", \" ocean\"]], [[\" sailor\", \" belief\", \" instant\"]], [[\" moment\", \" coffee\", \" danger\"]], [[\" outline\", \" summer\", \" basin\"]], [[\" teacher\", \" array\", \" sentence\"]], [[\" orange\", \" football\", \" mistress\"]], [[\" colonel\", \" will\", \"ow\", \" cotton\"]], [[\" artist\", \" lady\", \" minute\"]], [[\" sheriff\", \" feature\", \" mixture\"]], [[\" uncle\", \" relief\", \" failure\"]], [[\" pupil\", \" chapter\", \" pra\", \"irie\"]], [[\" basket\", \" jewel\", \" prospect\"]], [[\" theory\", \" congress\", \" button\"]], [[\" circle\", \" flavor\", \" cabin\"]], [[\" sorrow\", \" theater\", \" illness\", \" angel\", \" manner\"]], [[\" cellar\", \" mercy\", \" sugar\", \" payment\", \" paper\"]], [[\" garment\", \" garden\", \" building\", \" bullet\", \" motion\"]], [[\" horror\", \" pilot\", \" quarter\", \" traitor\", \" partner\"]], [[\" pleasure\", \" cousin\", \" candy\", \" pistol\", \" sp\", \"arrow\"]], [[\" notion\", \" harvest\", \" movie\", \" absence\", \" rival\"]], [[\" duty\", \" onion\", \" moisture\", \" section\", \" total\"]], [[\" spider\", \" husband\", \" baby\", \" patient\", \" ste\", \"amer\"]], [[\" music\", \" hotel\", \" silence\", \" research\", \" doorway\"]], [[\" ribbon\", \" goddess\", \" motor\", \" pasture\", \" squirrel\"]], [[\" begg\", \"ar\", \" pepper\", \" standard\", \" meantime\", \" unit\"]], [[\" victim\", \" banner\", \" training\", \" captive\", \" extent\"]], [[\" pony\", \" closet\", \" diet\", \" legend\", \" novel\"]], [[\" contents\", \" maiden\", \" liquid\", \" planet\", \" double\"]], [[\" offence\", \" finger\", \" comrade\", \" problem\", \" detail\"]], [[\" student\", \" tunnel\", \" island\", \" canal\", \" oven\"]], [[\" hammer\", \" soldier\", \" herald\", \" engine\", \" market\"]], [[\" helmet\", \" surface\", \" sister\", \" puzzle\", \" hatred\"]], [[\" needle\", \" pitcher\", \" agent\", \" number\", \" excess\"]], [[\" nation\", \" harbour\", \" marriage\", \" kitten\", \" resort\"]], [[\" limit\", \" princess\", \" journal\", \" mother\", \" spirit\", \" major\", \" fortune\", \" jersey\", \" marble\", \" hunter\"]], [[\" tribute\", \" meeting\", \" letter\", \" bottom\", \" armor\", \" bedroom\", \" station\", \" ticket\", \" estate\", \" worker\"]], [[\" fever\", \" me\", \"adow\", \" temple\", \" shower\", \" mission\", \" r\", \"attle\", \" leader\", \" par\", \"lor\", \" couple\", \" pocket\"]], [[\" be\", \"aver\", \" jacket\", \" climate\", \" conquest\", \" autumn\", \" triumph\", \" virtue\", \" body\", \" rifle\", \" chapel\"]], [[\" weapon\", \" chim\", \"ney\", \" evening\", \" distance\", \" blanket\", \" vessel\", \" powder\", \" candle\", \" genius\", \" bargain\"]], [[\" service\", \" supper\", \" salad\", \" compound\", \" layer\", \" worship\", \" kitchen\", \" fountain\", \" vapor\", \" forehead\"]], [[\" mad\", \"am\", \" acre\", \" treasure\", \" speaker\", \" sl\", \"ipper\", \" product\", \" voyage\", \" single\", \" learning\", \" mischief\"]], [[\" err\", \"and\", \" habit\", \" farmer\", \" feeling\", \" daylight\", \" clothing\", \" object\", \" barrel\", \" weakness\", \" writer\"]], [[\" creature\", \" disease\", \" witness\", \" organ\", \" career\", \" rider\", \" lover\", \" linen\", \" county\", \" cluster\"]], [[\" forest\", \" lecture\", \" survey\", \" nothing\", \" parent\", \" lumber\", \" sandwich\", \" bus\", \"hel\", \" turkey\", \" compass\"]], [[\" olive\", \" tiger\", \" silver\", \" frontier\", \" widow\", \" mayor\", \" mountain\", \" echo\", \" darkness\", \" amount\"]], [[\" motive\", \" program\", \" subject\", \" keeper\", \" table\", \" lion\", \" angle\", \" leather\", \" beauty\", \" sunset\"]], [[\" folly\", \" pattern\", \" record\", \" diamond\", \" chamber\", \" effect\", \" income\", \" project\", \" current\", \" costume\"]], [[\" navy\", \" senate\", \" highway\", \" rubber\", \" crystal\", \" scatter\", \" insect\", \" device\", \" nephew\", \" concert\"]], [[\" dollar\", \" wagon\", \" shelter\", \" carpet\", \" business\", \" gesture\", \" contract\", \" cable\", \" stomach\", \" package\"]], [[\" saddle\", \" carriage\", \" maker\", \" valley\", \" velvet\", \" fury\", \" interest\", \" meaning\", \" lawyer\", \" women\"]], [[\" million\", \" system\", \" merchant\", \" riches\", \" winter\", \" money\", \" trouble\", \" bubble\", \" father\", \" robber\"]], [[\" captain\", \" commerce\", \" penny\", \" cattle\", \" anchor\", \" member\", \" degree\", \" justice\", \" empire\", \" city\"]], [[\" picture\", \" oy\", \"ster\", \" carbon\", \" perfume\", \" parcel\", \" method\", \" traffic\", \" pigeon\", \" message\", \" owner\"]], [[\" stocking\", \" or\", \"chard\", \" painter\", \" colour\", \" image\", \" patience\", \" aspect\", \" dragon\", \" credit\", \" butcher\"]]], \"hovertemplate\": \"prompt=2) mid (~30 tok)<br>set size (n. tokens)=%{x}<br>average -log LL=%{y}<br>token_list=%{customdata[0]}<extra></extra>\", \"legendgroup\": \"2) mid (~30 tok)\", \"marker\": {\"color\": \"#EF553B\"}, \"name\": \"2) mid (~30 tok)\", \"notched\": false, \"offsetgroup\": \"2) mid (~30 tok)\", \"orientation\": \"v\", \"showlegend\": true, \"type\": \"box\", \"x\": [3, 3, 3, 3, 3, 3, 3, 3, 3, 3, 3, 3, 3, 3, 3, 3, 3, 3, 3, 3, 5, 5, 5, 5, 5, 5, 5, 5, 5, 5, 5, 5, 5, 5, 5, 5, 5, 5, 5, 5, 10, 10, 10, 10, 10, 10, 10, 10, 10, 10, 10, 10, 10, 10, 10, 10, 10, 10, 10, 10], \"x0\": \" \", \"xaxis\": \"x\", \"y\": [4.930186371008555, 2.8899528781572976, 2.4828739950899035, 0.34341491013765335, 4.770615875720978, 2.9834987918535867, 1.5453832546869914, 3.9645283619562783, 2.915465752283732, 2.3761128385861716, 3.293577253818512, 3.889605606595675, 2.913382340222597, 2.527246236801148, 1.1301848292350767, 5.0216653148333235, 2.4772592976514716, 2.672819435596466, 2.5046532352765403, 5.225266059239705, 6.206096458435058, 5.046071624755859, 3.9298498034477234, 3.7594901382923127, 3.126641889316185, 2.1183963656425475, 3.3061858654022216, 3.1558568937083087, 3.611978828907013, 4.944148230552673, 6.102421527107556, 5.317077422142029, 5.031884574890137, 4.450300544500351, 4.822442543506623, 5.236198902130127, 4.2981998205184935, 4.538175654411316, 4.308017468452453, 5.0199599891901014, 6.26530285179615, 6.71668643951416, 3.26160510900305, 6.235051809386774, 5.6164927846032455, 5.959710663557052, 5.54677187348716, 5.231193021151491, 5.9077859163284305, 5.174631825986911, 7.077746248245239, 5.954935421049595, 4.550768151134252, 6.140874308347702, 6.148810815811157, 6.774106442928314, 4.9035662651062015, 5.210361005365849, 5.409664168064906, 6.2550718186592515], \"y0\": \" \", \"yaxis\": \"y\"}, {\"alignmentgroup\": \"True\", \"boxpoints\": \"all\", \"customdata\": [[[\" affair\", \" series\", \" singer\"]], [[\" apple\", \" window\", \" cannon\"]], [[\" b\", \"erry\", \" despair\", \" kingdom\"]], [[\" blessing\", \" journey\", \" story\"]], [[\" cottage\", \" effort\", \" village\"]], [[\" future\", \" police\", \" shipping\"]], [[\" factor\", \" machine\", \" ocean\"]], [[\" sailor\", \" belief\", \" instant\"]], [[\" moment\", \" coffee\", \" danger\"]], [[\" outline\", \" summer\", \" basin\"]], [[\" teacher\", \" array\", \" sentence\"]], [[\" orange\", \" football\", \" mistress\"]], [[\" colonel\", \" will\", \"ow\", \" cotton\"]], [[\" artist\", \" lady\", \" minute\"]], [[\" sheriff\", \" feature\", \" mixture\"]], [[\" uncle\", \" relief\", \" failure\"]], [[\" pupil\", \" chapter\", \" pra\", \"irie\"]], [[\" basket\", \" jewel\", \" prospect\"]], [[\" theory\", \" congress\", \" button\"]], [[\" circle\", \" flavor\", \" cabin\"]], [[\" sorrow\", \" theater\", \" illness\", \" angel\", \" manner\"]], [[\" cellar\", \" mercy\", \" sugar\", \" payment\", \" paper\"]], [[\" garment\", \" garden\", \" building\", \" bullet\", \" motion\"]], [[\" horror\", \" pilot\", \" quarter\", \" traitor\", \" partner\"]], [[\" pleasure\", \" cousin\", \" candy\", \" pistol\", \" sp\", \"arrow\"]], [[\" notion\", \" harvest\", \" movie\", \" absence\", \" rival\"]], [[\" duty\", \" onion\", \" moisture\", \" section\", \" total\"]], [[\" spider\", \" husband\", \" baby\", \" patient\", \" ste\", \"amer\"]], [[\" music\", \" hotel\", \" silence\", \" research\", \" doorway\"]], [[\" ribbon\", \" goddess\", \" motor\", \" pasture\", \" squirrel\"]], [[\" begg\", \"ar\", \" pepper\", \" standard\", \" meantime\", \" unit\"]], [[\" victim\", \" banner\", \" training\", \" captive\", \" extent\"]], [[\" pony\", \" closet\", \" diet\", \" legend\", \" novel\"]], [[\" contents\", \" maiden\", \" liquid\", \" planet\", \" double\"]], [[\" offence\", \" finger\", \" comrade\", \" problem\", \" detail\"]], [[\" student\", \" tunnel\", \" island\", \" canal\", \" oven\"]], [[\" hammer\", \" soldier\", \" herald\", \" engine\", \" market\"]], [[\" helmet\", \" surface\", \" sister\", \" puzzle\", \" hatred\"]], [[\" needle\", \" pitcher\", \" agent\", \" number\", \" excess\"]], [[\" nation\", \" harbour\", \" marriage\", \" kitten\", \" resort\"]], [[\" limit\", \" princess\", \" journal\", \" mother\", \" spirit\", \" major\", \" fortune\", \" jersey\", \" marble\", \" hunter\"]], [[\" tribute\", \" meeting\", \" letter\", \" bottom\", \" armor\", \" bedroom\", \" station\", \" ticket\", \" estate\", \" worker\"]], [[\" fever\", \" me\", \"adow\", \" temple\", \" shower\", \" mission\", \" r\", \"attle\", \" leader\", \" par\", \"lor\", \" couple\", \" pocket\"]], [[\" be\", \"aver\", \" jacket\", \" climate\", \" conquest\", \" autumn\", \" triumph\", \" virtue\", \" body\", \" rifle\", \" chapel\"]], [[\" weapon\", \" chim\", \"ney\", \" evening\", \" distance\", \" blanket\", \" vessel\", \" powder\", \" candle\", \" genius\", \" bargain\"]], [[\" service\", \" supper\", \" salad\", \" compound\", \" layer\", \" worship\", \" kitchen\", \" fountain\", \" vapor\", \" forehead\"]], [[\" mad\", \"am\", \" acre\", \" treasure\", \" speaker\", \" sl\", \"ipper\", \" product\", \" voyage\", \" single\", \" learning\", \" mischief\"]], [[\" err\", \"and\", \" habit\", \" farmer\", \" feeling\", \" daylight\", \" clothing\", \" object\", \" barrel\", \" weakness\", \" writer\"]], [[\" creature\", \" disease\", \" witness\", \" organ\", \" career\", \" rider\", \" lover\", \" linen\", \" county\", \" cluster\"]], [[\" forest\", \" lecture\", \" survey\", \" nothing\", \" parent\", \" lumber\", \" sandwich\", \" bus\", \"hel\", \" turkey\", \" compass\"]], [[\" olive\", \" tiger\", \" silver\", \" frontier\", \" widow\", \" mayor\", \" mountain\", \" echo\", \" darkness\", \" amount\"]], [[\" motive\", \" program\", \" subject\", \" keeper\", \" table\", \" lion\", \" angle\", \" leather\", \" beauty\", \" sunset\"]], [[\" folly\", \" pattern\", \" record\", \" diamond\", \" chamber\", \" effect\", \" income\", \" project\", \" current\", \" costume\"]], [[\" navy\", \" senate\", \" highway\", \" rubber\", \" crystal\", \" scatter\", \" insect\", \" device\", \" nephew\", \" concert\"]], [[\" dollar\", \" wagon\", \" shelter\", \" carpet\", \" business\", \" gesture\", \" contract\", \" cable\", \" stomach\", \" package\"]], [[\" saddle\", \" carriage\", \" maker\", \" valley\", \" velvet\", \" fury\", \" interest\", \" meaning\", \" lawyer\", \" women\"]], [[\" million\", \" system\", \" merchant\", \" riches\", \" winter\", \" money\", \" trouble\", \" bubble\", \" father\", \" robber\"]], [[\" captain\", \" commerce\", \" penny\", \" cattle\", \" anchor\", \" member\", \" degree\", \" justice\", \" empire\", \" city\"]], [[\" picture\", \" oy\", \"ster\", \" carbon\", \" perfume\", \" parcel\", \" method\", \" traffic\", \" pigeon\", \" message\", \" owner\"]], [[\" stocking\", \" or\", \"chard\", \" painter\", \" colour\", \" image\", \" patience\", \" aspect\", \" dragon\", \" credit\", \" butcher\"]]], \"hovertemplate\": \"prompt=3) long (~60 tok)<br>set size (n. tokens)=%{x}<br>average -log LL=%{y}<br>token_list=%{customdata[0]}<extra></extra>\", \"legendgroup\": \"3) long (~60 tok)\", \"marker\": {\"color\": \"#00cc96\"}, \"name\": \"3) long (~60 tok)\", \"notched\": false, \"offsetgroup\": \"3) long (~60 tok)\", \"orientation\": \"v\", \"showlegend\": true, \"type\": \"box\", \"x\": [3, 3, 3, 3, 3, 3, 3, 3, 3, 3, 3, 3, 3, 3, 3, 3, 3, 3, 3, 3, 5, 5, 5, 5, 5, 5, 5, 5, 5, 5, 5, 5, 5, 5, 5, 5, 5, 5, 5, 5, 10, 10, 10, 10, 10, 10, 10, 10, 10, 10, 10, 10, 10, 10, 10, 10, 10, 10, 10, 10], \"x0\": \" \", \"xaxis\": \"x\", \"y\": [5.249024460713069, 3.2535609205563865, 2.6637440361082554, 0.22354885439078012, 4.997527678807576, 2.7821106861035028, 1.5865281820297241, 4.427463491757711, 2.7190062403678894, 2.3478041688601174, 3.3948132395744324, 3.9820152620474496, 3.805024839239195, 2.428543051083883, 1.0857401589552562, 5.666831572850545, 2.84924242006673, 2.409711798032125, 2.341172337532044, 5.165351788202922, 6.818468332290649, 5.162897157669067, 3.9799036383628845, 3.6382921785116196, 3.3307666539719016, 2.3371614068746567, 3.442910373210907, 3.452186786880096, 3.701728272438049, 5.425632977485657, 6.300367833425601, 5.079147100448608, 5.11817854642868, 4.670909178256989, 5.058583459258079, 5.292416763305664, 4.288923776149749, 4.51475465297699, 4.468971180915832, 4.993098422884941, 6.526305994391441, 6.8407432556152346, 3.163759544720121, 6.473786156285893, 5.771292020587928, 5.990786437690258, 5.562615207939719, 5.349052417346022, 6.047670900821686, 5.461959181374616, 7.454222989082337, 6.333801708370447, 4.73968665599823, 6.275495195388794, 6.276997375488281, 7.387882792949677, 5.20041309595108, 5.545273849368096, 5.570202705577355, 6.633960578082637], \"y0\": \" \", \"yaxis\": \"y\"}],                        {\"boxmode\": \"group\", \"height\": 500, \"legend\": {\"title\": {\"text\": \"prompt\"}, \"tracegroupgap\": 0}, \"template\": {\"data\": {\"bar\": [{\"error_x\": {\"color\": \"#2a3f5f\"}, \"error_y\": {\"color\": \"#2a3f5f\"}, \"marker\": {\"line\": {\"color\": \"#E5ECF6\", \"width\": 0.5}}, \"type\": \"bar\"}], \"barpolar\": [{\"marker\": {\"line\": {\"color\": \"#E5ECF6\", \"width\": 0.5}}, \"type\": \"barpolar\"}], \"carpet\": [{\"aaxis\": {\"endlinecolor\": \"#2a3f5f\", \"gridcolor\": \"white\", \"linecolor\": \"white\", \"minorgridcolor\": \"white\", \"startlinecolor\": \"#2a3f5f\"}, \"baxis\": {\"endlinecolor\": \"#2a3f5f\", \"gridcolor\": \"white\", \"linecolor\": \"white\", \"minorgridcolor\": \"white\", \"startlinecolor\": \"#2a3f5f\"}, \"type\": \"carpet\"}], \"choropleth\": [{\"colorbar\": {\"outlinewidth\": 0, \"ticks\": \"\"}, \"type\": \"choropleth\"}], \"contour\": [{\"colorbar\": {\"outlinewidth\": 0, \"ticks\": \"\"}, \"colorscale\": [[0.0, \"#0d0887\"], [0.1111111111111111, \"#46039f\"], [0.2222222222222222, \"#7201a8\"], [0.3333333333333333, \"#9c179e\"], [0.4444444444444444, \"#bd3786\"], [0.5555555555555556, \"#d8576b\"], [0.6666666666666666, \"#ed7953\"], [0.7777777777777778, \"#fb9f3a\"], [0.8888888888888888, \"#fdca26\"], [1.0, \"#f0f921\"]], \"type\": \"contour\"}], \"contourcarpet\": [{\"colorbar\": {\"outlinewidth\": 0, \"ticks\": \"\"}, \"type\": \"contourcarpet\"}], \"heatmap\": [{\"colorbar\": {\"outlinewidth\": 0, \"ticks\": \"\"}, \"colorscale\": [[0.0, \"#0d0887\"], [0.1111111111111111, \"#46039f\"], [0.2222222222222222, \"#7201a8\"], [0.3333333333333333, \"#9c179e\"], [0.4444444444444444, \"#bd3786\"], [0.5555555555555556, \"#d8576b\"], [0.6666666666666666, \"#ed7953\"], [0.7777777777777778, \"#fb9f3a\"], [0.8888888888888888, \"#fdca26\"], [1.0, \"#f0f921\"]], \"type\": \"heatmap\"}], \"heatmapgl\": [{\"colorbar\": {\"outlinewidth\": 0, \"ticks\": \"\"}, \"colorscale\": [[0.0, \"#0d0887\"], [0.1111111111111111, \"#46039f\"], [0.2222222222222222, \"#7201a8\"], [0.3333333333333333, \"#9c179e\"], [0.4444444444444444, \"#bd3786\"], [0.5555555555555556, \"#d8576b\"], [0.6666666666666666, \"#ed7953\"], [0.7777777777777778, \"#fb9f3a\"], [0.8888888888888888, \"#fdca26\"], [1.0, \"#f0f921\"]], \"type\": \"heatmapgl\"}], \"histogram\": [{\"marker\": {\"colorbar\": {\"outlinewidth\": 0, \"ticks\": \"\"}}, \"type\": \"histogram\"}], \"histogram2d\": [{\"colorbar\": {\"outlinewidth\": 0, \"ticks\": \"\"}, \"colorscale\": [[0.0, \"#0d0887\"], [0.1111111111111111, \"#46039f\"], [0.2222222222222222, \"#7201a8\"], [0.3333333333333333, \"#9c179e\"], [0.4444444444444444, \"#bd3786\"], [0.5555555555555556, \"#d8576b\"], [0.6666666666666666, \"#ed7953\"], [0.7777777777777778, \"#fb9f3a\"], [0.8888888888888888, \"#fdca26\"], [1.0, \"#f0f921\"]], \"type\": \"histogram2d\"}], \"histogram2dcontour\": [{\"colorbar\": {\"outlinewidth\": 0, \"ticks\": \"\"}, \"colorscale\": [[0.0, \"#0d0887\"], [0.1111111111111111, \"#46039f\"], [0.2222222222222222, \"#7201a8\"], [0.3333333333333333, \"#9c179e\"], [0.4444444444444444, \"#bd3786\"], [0.5555555555555556, \"#d8576b\"], [0.6666666666666666, \"#ed7953\"], [0.7777777777777778, \"#fb9f3a\"], [0.8888888888888888, \"#fdca26\"], [1.0, \"#f0f921\"]], \"type\": \"histogram2dcontour\"}], \"mesh3d\": [{\"colorbar\": {\"outlinewidth\": 0, \"ticks\": \"\"}, \"type\": \"mesh3d\"}], \"parcoords\": [{\"line\": {\"colorbar\": {\"outlinewidth\": 0, \"ticks\": \"\"}}, \"type\": \"parcoords\"}], \"pie\": [{\"automargin\": true, \"type\": \"pie\"}], \"scatter\": [{\"marker\": {\"colorbar\": {\"outlinewidth\": 0, \"ticks\": \"\"}}, \"type\": \"scatter\"}], \"scatter3d\": [{\"line\": {\"colorbar\": {\"outlinewidth\": 0, \"ticks\": \"\"}}, \"marker\": {\"colorbar\": {\"outlinewidth\": 0, \"ticks\": \"\"}}, \"type\": \"scatter3d\"}], \"scattercarpet\": [{\"marker\": {\"colorbar\": {\"outlinewidth\": 0, \"ticks\": \"\"}}, \"type\": \"scattercarpet\"}], \"scattergeo\": [{\"marker\": {\"colorbar\": {\"outlinewidth\": 0, \"ticks\": \"\"}}, \"type\": \"scattergeo\"}], \"scattergl\": [{\"marker\": {\"colorbar\": {\"outlinewidth\": 0, \"ticks\": \"\"}}, \"type\": \"scattergl\"}], \"scattermapbox\": [{\"marker\": {\"colorbar\": {\"outlinewidth\": 0, \"ticks\": \"\"}}, \"type\": \"scattermapbox\"}], \"scatterpolar\": [{\"marker\": {\"colorbar\": {\"outlinewidth\": 0, \"ticks\": \"\"}}, \"type\": \"scatterpolar\"}], \"scatterpolargl\": [{\"marker\": {\"colorbar\": {\"outlinewidth\": 0, \"ticks\": \"\"}}, \"type\": \"scatterpolargl\"}], \"scatterternary\": [{\"marker\": {\"colorbar\": {\"outlinewidth\": 0, \"ticks\": \"\"}}, \"type\": \"scatterternary\"}], \"surface\": [{\"colorbar\": {\"outlinewidth\": 0, \"ticks\": \"\"}, \"colorscale\": [[0.0, \"#0d0887\"], [0.1111111111111111, \"#46039f\"], [0.2222222222222222, \"#7201a8\"], [0.3333333333333333, \"#9c179e\"], [0.4444444444444444, \"#bd3786\"], [0.5555555555555556, \"#d8576b\"], [0.6666666666666666, \"#ed7953\"], [0.7777777777777778, \"#fb9f3a\"], [0.8888888888888888, \"#fdca26\"], [1.0, \"#f0f921\"]], \"type\": \"surface\"}], \"table\": [{\"cells\": {\"fill\": {\"color\": \"#EBF0F8\"}, \"line\": {\"color\": \"white\"}}, \"header\": {\"fill\": {\"color\": \"#C8D4E3\"}, \"line\": {\"color\": \"white\"}}, \"type\": \"table\"}]}, \"layout\": {\"annotationdefaults\": {\"arrowcolor\": \"#2a3f5f\", \"arrowhead\": 0, \"arrowwidth\": 1}, \"coloraxis\": {\"colorbar\": {\"outlinewidth\": 0, \"ticks\": \"\"}}, \"colorscale\": {\"diverging\": [[0, \"#8e0152\"], [0.1, \"#c51b7d\"], [0.2, \"#de77ae\"], [0.3, \"#f1b6da\"], [0.4, \"#fde0ef\"], [0.5, \"#f7f7f7\"], [0.6, \"#e6f5d0\"], [0.7, \"#b8e186\"], [0.8, \"#7fbc41\"], [0.9, \"#4d9221\"], [1, \"#276419\"]], \"sequential\": [[0.0, \"#0d0887\"], [0.1111111111111111, \"#46039f\"], [0.2222222222222222, \"#7201a8\"], [0.3333333333333333, \"#9c179e\"], [0.4444444444444444, \"#bd3786\"], [0.5555555555555556, \"#d8576b\"], [0.6666666666666666, \"#ed7953\"], [0.7777777777777778, \"#fb9f3a\"], [0.8888888888888888, \"#fdca26\"], [1.0, \"#f0f921\"]], \"sequentialminus\": [[0.0, \"#0d0887\"], [0.1111111111111111, \"#46039f\"], [0.2222222222222222, \"#7201a8\"], [0.3333333333333333, \"#9c179e\"], [0.4444444444444444, \"#bd3786\"], [0.5555555555555556, \"#d8576b\"], [0.6666666666666666, \"#ed7953\"], [0.7777777777777778, \"#fb9f3a\"], [0.8888888888888888, \"#fdca26\"], [1.0, \"#f0f921\"]]}, \"colorway\": [\"#636efa\", \"#EF553B\", \"#00cc96\", \"#ab63fa\", \"#FFA15A\", \"#19d3f3\", \"#FF6692\", \"#B6E880\", \"#FF97FF\", \"#FECB52\"], \"font\": {\"color\": \"#2a3f5f\"}, \"geo\": {\"bgcolor\": \"white\", \"lakecolor\": \"white\", \"landcolor\": \"#E5ECF6\", \"showlakes\": true, \"showland\": true, \"subunitcolor\": \"white\"}, \"hoverlabel\": {\"align\": \"left\"}, \"hovermode\": \"closest\", \"mapbox\": {\"style\": \"light\"}, \"paper_bgcolor\": \"white\", \"plot_bgcolor\": \"#E5ECF6\", \"polar\": {\"angularaxis\": {\"gridcolor\": \"white\", \"linecolor\": \"white\", \"ticks\": \"\"}, \"bgcolor\": \"#E5ECF6\", \"radialaxis\": {\"gridcolor\": \"white\", \"linecolor\": \"white\", \"ticks\": \"\"}}, \"scene\": {\"xaxis\": {\"backgroundcolor\": \"#E5ECF6\", \"gridcolor\": \"white\", \"gridwidth\": 2, \"linecolor\": \"white\", \"showbackground\": true, \"ticks\": \"\", \"zerolinecolor\": \"white\"}, \"yaxis\": {\"backgroundcolor\": \"#E5ECF6\", \"gridcolor\": \"white\", \"gridwidth\": 2, \"linecolor\": \"white\", \"showbackground\": true, \"ticks\": \"\", \"zerolinecolor\": \"white\"}, \"zaxis\": {\"backgroundcolor\": \"#E5ECF6\", \"gridcolor\": \"white\", \"gridwidth\": 2, \"linecolor\": \"white\", \"showbackground\": true, \"ticks\": \"\", \"zerolinecolor\": \"white\"}}, \"shapedefaults\": {\"line\": {\"color\": \"#2a3f5f\"}}, \"ternary\": {\"aaxis\": {\"gridcolor\": \"white\", \"linecolor\": \"white\", \"ticks\": \"\"}, \"baxis\": {\"gridcolor\": \"white\", \"linecolor\": \"white\", \"ticks\": \"\"}, \"bgcolor\": \"#E5ECF6\", \"caxis\": {\"gridcolor\": \"white\", \"linecolor\": \"white\", \"ticks\": \"\"}}, \"title\": {\"x\": 0.05}, \"xaxis\": {\"automargin\": true, \"gridcolor\": \"white\", \"linecolor\": \"white\", \"ticks\": \"\", \"title\": {\"standoff\": 15}, \"zerolinecolor\": \"white\", \"zerolinewidth\": 2}, \"yaxis\": {\"automargin\": true, \"gridcolor\": \"white\", \"linecolor\": \"white\", \"ticks\": \"\", \"title\": {\"standoff\": 15}, \"zerolinecolor\": \"white\", \"zerolinewidth\": 2}}}, \"title\": {\"text\": \"Mean neg. LL on second list presentation (nonsemantic, permute)\"}, \"width\": 1200, \"xaxis\": {\"anchor\": \"y\", \"domain\": [0.0, 1.0], \"title\": {\"text\": \"set size (n. tokens)\"}, \"type\": \"category\"}, \"yaxis\": {\"anchor\": \"x\", \"domain\": [0.0, 1.0], \"title\": {\"text\": \"average -log LL\"}}},                        {\"responsive\": true}                    ).then(function(){\n",
       "                            \n",
       "var gd = document.getElementById('1082acce-8cfb-4b47-800f-403881e641a4');\n",
       "var x = new MutationObserver(function (mutations, observer) {{\n",
       "        var display = window.getComputedStyle(gd).display;\n",
       "        if (!display || display === 'none') {{\n",
       "            console.log([gd, 'removed!']);\n",
       "            Plotly.purge(gd);\n",
       "            observer.disconnect();\n",
       "        }}\n",
       "}});\n",
       "\n",
       "// Listen for the removal of the full notebook cells\n",
       "var notebookContainer = gd.closest('#notebook-container');\n",
       "if (notebookContainer) {{\n",
       "    x.observe(notebookContainer, {childList: true});\n",
       "}}\n",
       "\n",
       "// Listen for the clearing of the current output cell\n",
       "var outputEl = gd.closest('.output');\n",
       "if (outputEl) {{\n",
       "    x.observe(outputEl, {childList: true});\n",
       "}}\n",
       "\n",
       "                        })                };                });            </script>        </div>"
      ]
     },
     "metadata": {},
     "output_type": "display_data"
    }
   ],
   "source": [
    "fig = px.box(dagg, x=\"set_size_\", y=\"ppl_mean\", points=\"all\", color=\"prompt_\", \n",
    "             hover_data=[\"token_list\"], \n",
    "             labels={\"set_size_\": \"set size (n. tokens)\", \"ppl_mean\": \"average -log LL\",\n",
    "                   \"prompt_\": \"prompt\", \"second_list_\": \"word order\", \"ppl_diff\": \"loss diff (first-second)\"},\n",
    "            category_orders = {\"prompt\": [\"short (~8 tok)\", \"mid (~30 tok)\", \"long (~60 tok)\"]},\n",
    "            width=figwidth, height=figheight,\n",
    "            title=\"Mean neg. LL on second list presentation ({}, {})\" \\\n",
    "                   .format(semlist, wordorder))\n",
    "fig.update_xaxes(type='category')\n",
    "fig.show()"
   ]
  },
  {
   "cell_type": "code",
   "execution_count": 12,
   "metadata": {},
   "outputs": [],
   "source": [
    "fig.write_image(\"./figures/perp_{}_{}.png\".format(semlist, wordorder))"
   ]
  },
  {
   "cell_type": "code",
   "execution_count": 13,
   "metadata": {},
   "outputs": [],
   "source": [
    "# let's filter some stuff\n",
    "dftmp = None\n",
    "semlist = \"nonsemantic\"\n",
    "wordorder = \"repeat\"\n",
    "dftmp = df2.loc[(~df2.ispunct)  & (df2.list == semlist) & (df2.second_list == wordorder), :]          # remove punctuation\n",
    "dftmp = dftmp.loc[(dftmp.trialID == 3), :]  # only look at the first presentation word list\n",
    "dftmp[\"prompt\"] = dftmp[\"prompt\"].str.replace(\"sce1-1\", \"1) short (~8 tok)\")\n",
    "dftmp[\"prompt\"] = dftmp[\"prompt\"].str.replace(\"sce1-3\", \"2) mid (~30 tok)\")\n",
    "dftmp[\"prompt\"] = dftmp[\"prompt\"].str.replace(\"sce1-5\", \"3) long (~60 tok)\")\n",
    "\n",
    "dagg = None\n",
    "dagg = dftmp.groupby([\"prompt\", \"set_size\", \"stimID\"]) \\\n",
    "            .agg({\"ppl\": [\"mean\", \"std\"], \"token\": list}) \\\n",
    "            .reset_index()\n",
    "dagg.columns = ['_'.join(col).strip() for col in dagg.columns.values]"
   ]
  },
  {
   "cell_type": "code",
   "execution_count": 14,
   "metadata": {},
   "outputs": [
    {
     "data": {
      "application/vnd.plotly.v1+json": {
       "config": {
        "plotlyServerURL": "https://plot.ly"
       },
       "data": [
        {
         "alignmentgroup": "True",
         "boxpoints": "all",
         "customdata": [
          [
           [
            "series",
            " singer",
            " affair"
           ]
          ],
          [
           [
            "window",
            " cannon",
            " apple"
           ]
          ],
          [
           [
            "des",
            "pair",
            " kingdom",
            " b",
            "erry"
           ]
          ],
          [
           [
            "b",
            "less",
            "ing",
            " journey",
            " story"
           ]
          ],
          [
           [
            "eff",
            "ort",
            " village",
            " cottage"
           ]
          ],
          [
           [
            "sh",
            "ipping",
            " future",
            " police"
           ]
          ],
          [
           [
            "factor",
            " ocean",
            " machine"
           ]
          ],
          [
           [
            "inst",
            "ant",
            " sailor",
            " belief"
           ]
          ],
          [
           [
            "danger",
            " moment",
            " coffee"
           ]
          ],
          [
           [
            "out",
            "line",
            " basin",
            " summer"
           ]
          ],
          [
           [
            "sent",
            "ence",
            " teacher",
            " array"
           ]
          ],
          [
           [
            "football",
            " orange",
            " mistress"
           ]
          ],
          [
           [
            "will",
            "ow",
            " colonel",
            " cotton"
           ]
          ],
          [
           [
            "artist",
            " minute",
            " lady"
           ]
          ],
          [
           [
            "s",
            "her",
            "iff",
            " feature",
            " mixture"
           ]
          ],
          [
           [
            "rel",
            "ief",
            " uncle",
            " failure"
           ]
          ],
          [
           [
            "chapter",
            " pra",
            "irie",
            " pupil"
           ]
          ],
          [
           [
            "b",
            "asket",
            " prospect",
            " jewel"
           ]
          ],
          [
           [
            "the",
            "ory",
            " button",
            " congress"
           ]
          ],
          [
           [
            "c",
            "abin",
            " flavor",
            " circle"
           ]
          ],
          [
           [
            "the",
            "ater",
            " manner",
            " sorrow",
            " angel",
            " illness"
           ]
          ],
          [
           [
            "payment",
            " sugar",
            " cellar",
            " mercy",
            " paper"
           ]
          ],
          [
           [
            "gar",
            "ment",
            " garden",
            " bullet",
            " building",
            " motion"
           ]
          ],
          [
           [
            "hor",
            "ror",
            " pilot",
            " traitor",
            " quarter",
            " partner"
           ]
          ],
          [
           [
            "c",
            "andy",
            " sp",
            "arrow",
            " pistol",
            " pleasure",
            " cousin"
           ]
          ],
          [
           [
            "not",
            "ion",
            " harvest",
            " rival",
            " movie",
            " absence"
           ]
          ],
          [
           [
            "section",
            " duty",
            " onion",
            " moisture",
            " total"
           ]
          ],
          [
           [
            "ste",
            "amer",
            " baby",
            " patient",
            " husband",
            " spider"
           ]
          ],
          [
           [
            "door",
            "way",
            " hotel",
            " music",
            " silence",
            " research"
           ]
          ],
          [
           [
            "squ",
            "irrel",
            " motor",
            " pasture",
            " goddess",
            " ribbon"
           ]
          ],
          [
           [
            "pe",
            "pper",
            " unit",
            " standard",
            " begg",
            "ar",
            " meantime"
           ]
          ],
          [
           [
            "capt",
            "ive",
            " training",
            " banner",
            " victim",
            " extent"
           ]
          ],
          [
           [
            "d",
            "iet",
            " legend",
            " novel",
            " closet",
            " pony"
           ]
          ],
          [
           [
            "double",
            " maiden",
            " contents",
            " liquid",
            " planet"
           ]
          ],
          [
           [
            "detail",
            " offence",
            " comrade",
            " problem",
            " finger"
           ]
          ],
          [
           [
            "tun",
            "nel",
            " oven",
            " canal",
            " student",
            " island"
           ]
          ],
          [
           [
            "hammer",
            " engine",
            " soldier",
            " market",
            " herald"
           ]
          ],
          [
           [
            "p",
            "uzzle",
            " hatred",
            " surface",
            " sister",
            " helmet"
           ]
          ],
          [
           [
            "pit",
            "cher",
            " number",
            " agent",
            " excess",
            " needle"
           ]
          ],
          [
           [
            "har",
            "bour",
            " resort",
            " nation",
            " marriage",
            " kitten"
           ]
          ],
          [
           [
            "major",
            " hunter",
            " princess",
            " journal",
            " jersey",
            " marble",
            " fortune",
            " limit",
            " spirit",
            " mother"
           ]
          ],
          [
           [
            "bottom",
            " meeting",
            " worker",
            " ticket",
            " armor",
            " station",
            " bedroom",
            " estate",
            " letter",
            " tribute"
           ]
          ],
          [
           [
            "f",
            "ever",
            " mission",
            " par",
            "lor",
            " shower",
            " pocket",
            " temple",
            " me",
            "adow",
            " couple",
            " r",
            "attle",
            " leader"
           ]
          ],
          [
           [
            "body",
            " autumn",
            " be",
            "aver",
            " climate",
            " virtue",
            " jacket",
            " rifle",
            " triumph",
            " chapel",
            " conquest"
           ]
          ],
          [
           [
            "powder",
            " weapon",
            " blanket",
            " distance",
            " chim",
            "ney",
            " candle",
            " bargain",
            " genius",
            " evening",
            " vessel"
           ]
          ],
          [
           [
            "service",
            " fountain",
            " vapor",
            " forehead",
            " layer",
            " compound",
            " salad",
            " kitchen",
            " supper",
            " worship"
           ]
          ],
          [
           [
            "single",
            " mischief",
            " voyage",
            " product",
            " acre",
            " mad",
            "am",
            " learning",
            " treasure",
            " sl",
            "ipper",
            " speaker"
           ]
          ],
          [
           [
            "hab",
            "it",
            " err",
            "and",
            " weakness",
            " farmer",
            " clothing",
            " daylight",
            " feeling",
            " writer",
            " barrel",
            " object"
           ]
          ],
          [
           [
            "rider",
            " county",
            " career",
            " creature",
            " disease",
            " lover",
            " cluster",
            " witness",
            " linen",
            " organ"
           ]
          ],
          [
           [
            "bus",
            "hel",
            " forest",
            " parent",
            " compass",
            " sandwich",
            " lumber",
            " turkey",
            " survey",
            " nothing",
            " lecture"
           ]
          ],
          [
           [
            "front",
            "ier",
            " widow",
            " amount",
            " darkness",
            " tiger",
            " mayor",
            " echo",
            " mountain",
            " olive",
            " silver"
           ]
          ],
          [
           [
            "sun",
            "set",
            " subject",
            " leather",
            " motive",
            " table",
            " lion",
            " angle",
            " beauty",
            " program",
            " keeper"
           ]
          ],
          [
           [
            "d",
            "iamond",
            " chamber",
            " folly",
            " income",
            " effect",
            " project",
            " current",
            " costume",
            " pattern",
            " record"
           ]
          ],
          [
           [
            "rub",
            "ber",
            " crystal",
            " nephew",
            " navy",
            " highway",
            " device",
            " senate",
            " concert",
            " scatter",
            " insect"
           ]
          ],
          [
           [
            "c",
            "arp",
            "et",
            " wagon",
            " gesture",
            " shelter",
            " business",
            " package",
            " stomach",
            " dollar",
            " cable",
            " contract"
           ]
          ],
          [
           [
            "interest",
            " lawyer",
            " maker",
            " velvet",
            " women",
            " saddle",
            " carriage",
            " valley",
            " fury",
            " meaning"
           ]
          ],
          [
           [
            "million",
            " merchant",
            " money",
            " trouble",
            " winter",
            " father",
            " system",
            " bubble",
            " riches",
            " robber"
           ]
          ],
          [
           [
            "c",
            "attle",
            " justice",
            " anchor",
            " city",
            " captain",
            " member",
            " degree",
            " penny",
            " empire",
            " commerce"
           ]
          ],
          [
           [
            "tra",
            "ffic",
            " parcel",
            " owner",
            " picture",
            " message",
            " perfume",
            " carbon",
            " pigeon",
            " method",
            " oy",
            "ster"
           ]
          ],
          [
           [
            "or",
            "chard",
            " patience",
            " stocking",
            " butcher",
            " colour",
            " credit",
            " dragon",
            " aspect",
            " painter",
            " image"
           ]
          ]
         ],
         "hovertemplate": "prompt=1) short (~8 tok)<br>set size (n. tokens)=%{x}<br>average -log LL=%{y}<br>token_list=%{customdata[0]}<extra></extra>",
         "legendgroup": "1) short (~8 tok)",
         "marker": {
          "color": "#636efa"
         },
         "name": "1) short (~8 tok)",
         "notched": false,
         "offsetgroup": "1) short (~8 tok)",
         "orientation": "v",
         "showlegend": true,
         "type": "box",
         "x": [
          3,
          3,
          3,
          3,
          3,
          3,
          3,
          3,
          3,
          3,
          3,
          3,
          3,
          3,
          3,
          3,
          3,
          3,
          3,
          3,
          5,
          5,
          5,
          5,
          5,
          5,
          5,
          5,
          5,
          5,
          5,
          5,
          5,
          5,
          5,
          5,
          5,
          5,
          5,
          5,
          10,
          10,
          10,
          10,
          10,
          10,
          10,
          10,
          10,
          10,
          10,
          10,
          10,
          10,
          10,
          10,
          10,
          10,
          10,
          10
         ],
         "x0": " ",
         "xaxis": "x",
         "y": [
          1.4905104637145996,
          1.2548815955718358,
          0.7942973345983774,
          0.7519471950829031,
          0.9940531328320502,
          1.1253015734255314,
          0.8480971654256185,
          1.2306570149958134,
          1.4399620493253071,
          0.4387802481651306,
          1.0175994262099266,
          1.324263870716095,
          0.6269469270482659,
          1.0778493483861287,
          0.8400628497824071,
          1.4675401663407683,
          0.4865233305172296,
          0.7806691154837608,
          0.6826814599335194,
          0.8535969574004412,
          0.6595238347848257,
          0.8006544217467308,
          0.7976291212253273,
          0.5870787133462727,
          0.6340163520404271,
          0.5020292764529586,
          0.6644732892513275,
          0.657749650379022,
          0.885937354216973,
          0.7255286962123743,
          0.8190000218538833,
          0.5070229892929395,
          0.588447225590547,
          0.8459096193313599,
          0.5002468213438988,
          0.5074297180399299,
          0.5928682021796703,
          0.6089191809296608,
          0.6156025524251164,
          0.7886947294076284,
          0.40500165075063704,
          0.4365998089313507,
          0.34526511916867875,
          0.5903430118818175,
          0.3877133798192848,
          0.3892124820500612,
          0.4409460266615497,
          0.35410342512962717,
          0.4478544469922781,
          0.3394667523151094,
          0.4868664018471133,
          0.3321283750066703,
          0.4680904373526573,
          0.35297251636670396,
          0.2776418106514029,
          0.5950062729418277,
          0.6300553675740957,
          0.5621590954674915,
          0.3770027146092616,
          0.4928868111561645
         ],
         "y0": " ",
         "yaxis": "y"
        },
        {
         "alignmentgroup": "True",
         "boxpoints": "all",
         "customdata": [
          [
           [
            "series",
            " singer",
            " affair"
           ]
          ],
          [
           [
            "window",
            " cannon",
            " apple"
           ]
          ],
          [
           [
            "des",
            "pair",
            " kingdom",
            " b",
            "erry"
           ]
          ],
          [
           [
            "b",
            "less",
            "ing",
            " journey",
            " story"
           ]
          ],
          [
           [
            "eff",
            "ort",
            " village",
            " cottage"
           ]
          ],
          [
           [
            "sh",
            "ipping",
            " future",
            " police"
           ]
          ],
          [
           [
            "factor",
            " ocean",
            " machine"
           ]
          ],
          [
           [
            "inst",
            "ant",
            " sailor",
            " belief"
           ]
          ],
          [
           [
            "danger",
            " moment",
            " coffee"
           ]
          ],
          [
           [
            "out",
            "line",
            " basin",
            " summer"
           ]
          ],
          [
           [
            "sent",
            "ence",
            " teacher",
            " array"
           ]
          ],
          [
           [
            "football",
            " orange",
            " mistress"
           ]
          ],
          [
           [
            "will",
            "ow",
            " colonel",
            " cotton"
           ]
          ],
          [
           [
            "artist",
            " minute",
            " lady"
           ]
          ],
          [
           [
            "s",
            "her",
            "iff",
            " feature",
            " mixture"
           ]
          ],
          [
           [
            "rel",
            "ief",
            " uncle",
            " failure"
           ]
          ],
          [
           [
            "chapter",
            " pra",
            "irie",
            " pupil"
           ]
          ],
          [
           [
            "b",
            "asket",
            " prospect",
            " jewel"
           ]
          ],
          [
           [
            "the",
            "ory",
            " button",
            " congress"
           ]
          ],
          [
           [
            "c",
            "abin",
            " flavor",
            " circle"
           ]
          ],
          [
           [
            "the",
            "ater",
            " manner",
            " sorrow",
            " angel",
            " illness"
           ]
          ],
          [
           [
            "payment",
            " sugar",
            " cellar",
            " mercy",
            " paper"
           ]
          ],
          [
           [
            "gar",
            "ment",
            " garden",
            " bullet",
            " building",
            " motion"
           ]
          ],
          [
           [
            "hor",
            "ror",
            " pilot",
            " traitor",
            " quarter",
            " partner"
           ]
          ],
          [
           [
            "c",
            "andy",
            " sp",
            "arrow",
            " pistol",
            " pleasure",
            " cousin"
           ]
          ],
          [
           [
            "not",
            "ion",
            " harvest",
            " rival",
            " movie",
            " absence"
           ]
          ],
          [
           [
            "section",
            " duty",
            " onion",
            " moisture",
            " total"
           ]
          ],
          [
           [
            "ste",
            "amer",
            " baby",
            " patient",
            " husband",
            " spider"
           ]
          ],
          [
           [
            "door",
            "way",
            " hotel",
            " music",
            " silence",
            " research"
           ]
          ],
          [
           [
            "squ",
            "irrel",
            " motor",
            " pasture",
            " goddess",
            " ribbon"
           ]
          ],
          [
           [
            "pe",
            "pper",
            " unit",
            " standard",
            " begg",
            "ar",
            " meantime"
           ]
          ],
          [
           [
            "capt",
            "ive",
            " training",
            " banner",
            " victim",
            " extent"
           ]
          ],
          [
           [
            "d",
            "iet",
            " legend",
            " novel",
            " closet",
            " pony"
           ]
          ],
          [
           [
            "double",
            " maiden",
            " contents",
            " liquid",
            " planet"
           ]
          ],
          [
           [
            "detail",
            " offence",
            " comrade",
            " problem",
            " finger"
           ]
          ],
          [
           [
            "tun",
            "nel",
            " oven",
            " canal",
            " student",
            " island"
           ]
          ],
          [
           [
            "hammer",
            " engine",
            " soldier",
            " market",
            " herald"
           ]
          ],
          [
           [
            "p",
            "uzzle",
            " hatred",
            " surface",
            " sister",
            " helmet"
           ]
          ],
          [
           [
            "pit",
            "cher",
            " number",
            " agent",
            " excess",
            " needle"
           ]
          ],
          [
           [
            "har",
            "bour",
            " resort",
            " nation",
            " marriage",
            " kitten"
           ]
          ],
          [
           [
            "major",
            " hunter",
            " princess",
            " journal",
            " jersey",
            " marble",
            " fortune",
            " limit",
            " spirit",
            " mother"
           ]
          ],
          [
           [
            "bottom",
            " meeting",
            " worker",
            " ticket",
            " armor",
            " station",
            " bedroom",
            " estate",
            " letter",
            " tribute"
           ]
          ],
          [
           [
            "f",
            "ever",
            " mission",
            " par",
            "lor",
            " shower",
            " pocket",
            " temple",
            " me",
            "adow",
            " couple",
            " r",
            "attle",
            " leader"
           ]
          ],
          [
           [
            "body",
            " autumn",
            " be",
            "aver",
            " climate",
            " virtue",
            " jacket",
            " rifle",
            " triumph",
            " chapel",
            " conquest"
           ]
          ],
          [
           [
            "powder",
            " weapon",
            " blanket",
            " distance",
            " chim",
            "ney",
            " candle",
            " bargain",
            " genius",
            " evening",
            " vessel"
           ]
          ],
          [
           [
            "service",
            " fountain",
            " vapor",
            " forehead",
            " layer",
            " compound",
            " salad",
            " kitchen",
            " supper",
            " worship"
           ]
          ],
          [
           [
            "single",
            " mischief",
            " voyage",
            " product",
            " acre",
            " mad",
            "am",
            " learning",
            " treasure",
            " sl",
            "ipper",
            " speaker"
           ]
          ],
          [
           [
            "hab",
            "it",
            " err",
            "and",
            " weakness",
            " farmer",
            " clothing",
            " daylight",
            " feeling",
            " writer",
            " barrel",
            " object"
           ]
          ],
          [
           [
            "rider",
            " county",
            " career",
            " creature",
            " disease",
            " lover",
            " cluster",
            " witness",
            " linen",
            " organ"
           ]
          ],
          [
           [
            "bus",
            "hel",
            " forest",
            " parent",
            " compass",
            " sandwich",
            " lumber",
            " turkey",
            " survey",
            " nothing",
            " lecture"
           ]
          ],
          [
           [
            "front",
            "ier",
            " widow",
            " amount",
            " darkness",
            " tiger",
            " mayor",
            " echo",
            " mountain",
            " olive",
            " silver"
           ]
          ],
          [
           [
            "sun",
            "set",
            " subject",
            " leather",
            " motive",
            " table",
            " lion",
            " angle",
            " beauty",
            " program",
            " keeper"
           ]
          ],
          [
           [
            "d",
            "iamond",
            " chamber",
            " folly",
            " income",
            " effect",
            " project",
            " current",
            " costume",
            " pattern",
            " record"
           ]
          ],
          [
           [
            "rub",
            "ber",
            " crystal",
            " nephew",
            " navy",
            " highway",
            " device",
            " senate",
            " concert",
            " scatter",
            " insect"
           ]
          ],
          [
           [
            "c",
            "arp",
            "et",
            " wagon",
            " gesture",
            " shelter",
            " business",
            " package",
            " stomach",
            " dollar",
            " cable",
            " contract"
           ]
          ],
          [
           [
            "interest",
            " lawyer",
            " maker",
            " velvet",
            " women",
            " saddle",
            " carriage",
            " valley",
            " fury",
            " meaning"
           ]
          ],
          [
           [
            "million",
            " merchant",
            " money",
            " trouble",
            " winter",
            " father",
            " system",
            " bubble",
            " riches",
            " robber"
           ]
          ],
          [
           [
            "c",
            "attle",
            " justice",
            " anchor",
            " city",
            " captain",
            " member",
            " degree",
            " penny",
            " empire",
            " commerce"
           ]
          ],
          [
           [
            "tra",
            "ffic",
            " parcel",
            " owner",
            " picture",
            " message",
            " perfume",
            " carbon",
            " pigeon",
            " method",
            " oy",
            "ster"
           ]
          ],
          [
           [
            "or",
            "chard",
            " patience",
            " stocking",
            " butcher",
            " colour",
            " credit",
            " dragon",
            " aspect",
            " painter",
            " image"
           ]
          ]
         ],
         "hovertemplate": "prompt=2) mid (~30 tok)<br>set size (n. tokens)=%{x}<br>average -log LL=%{y}<br>token_list=%{customdata[0]}<extra></extra>",
         "legendgroup": "2) mid (~30 tok)",
         "marker": {
          "color": "#EF553B"
         },
         "name": "2) mid (~30 tok)",
         "notched": false,
         "offsetgroup": "2) mid (~30 tok)",
         "orientation": "v",
         "showlegend": true,
         "type": "box",
         "x": [
          3,
          3,
          3,
          3,
          3,
          3,
          3,
          3,
          3,
          3,
          3,
          3,
          3,
          3,
          3,
          3,
          3,
          3,
          3,
          3,
          5,
          5,
          5,
          5,
          5,
          5,
          5,
          5,
          5,
          5,
          5,
          5,
          5,
          5,
          5,
          5,
          5,
          5,
          5,
          5,
          10,
          10,
          10,
          10,
          10,
          10,
          10,
          10,
          10,
          10,
          10,
          10,
          10,
          10,
          10,
          10,
          10,
          10,
          10,
          10
         ],
         "x0": " ",
         "xaxis": "x",
         "y": [
          1.4046866695086162,
          1.2468938231468203,
          0.4974265117198229,
          0.6086235128343105,
          0.6792735857889057,
          0.8408800568431616,
          0.6616383095582327,
          0.8982519987039268,
          1.0375926444927852,
          0.3724545519798994,
          1.0012973081320524,
          1.0981356004873912,
          0.4001484983600676,
          0.9072748025258383,
          0.6996708860620855,
          1.1803018727805465,
          0.45422986436460633,
          0.558585625141859,
          0.5762028079479933,
          0.6939129810780287,
          0.6108650428553423,
          0.6864024505019188,
          0.6253101535451909,
          0.458536091260612,
          0.4803976821047919,
          0.45074188398818177,
          0.548440569639206,
          0.48109469066063565,
          0.7236279888699452,
          0.465547323973927,
          0.6982983817412917,
          0.4078524000942707,
          0.4910436443363626,
          0.7798363864421844,
          0.4023948237299919,
          0.372601892799139,
          0.3465320736169815,
          0.5196314180890719,
          0.3850309927947819,
          0.5686224071929852,
          0.33347780965268614,
          0.5082033370621503,
          0.2739705643099504,
          0.49221706856042147,
          0.21015079018913888,
          0.3174989022314548,
          0.3449525686155539,
          0.24000364688496725,
          0.3224893469363451,
          0.2790520030327819,
          0.4318160013380376,
          0.1957425269382921,
          0.36218953818421473,
          0.18253301888365636,
          0.2322169745360346,
          0.46928931698203086,
          0.49316997788846495,
          0.5214300248771906,
          0.26743348286739393,
          0.42101292811672797
         ],
         "y0": " ",
         "yaxis": "y"
        },
        {
         "alignmentgroup": "True",
         "boxpoints": "all",
         "customdata": [
          [
           [
            "series",
            " singer",
            " affair"
           ]
          ],
          [
           [
            "window",
            " cannon",
            " apple"
           ]
          ],
          [
           [
            "des",
            "pair",
            " kingdom",
            " b",
            "erry"
           ]
          ],
          [
           [
            "b",
            "less",
            "ing",
            " journey",
            " story"
           ]
          ],
          [
           [
            "eff",
            "ort",
            " village",
            " cottage"
           ]
          ],
          [
           [
            "sh",
            "ipping",
            " future",
            " police"
           ]
          ],
          [
           [
            "factor",
            " ocean",
            " machine"
           ]
          ],
          [
           [
            "inst",
            "ant",
            " sailor",
            " belief"
           ]
          ],
          [
           [
            "danger",
            " moment",
            " coffee"
           ]
          ],
          [
           [
            "out",
            "line",
            " basin",
            " summer"
           ]
          ],
          [
           [
            "sent",
            "ence",
            " teacher",
            " array"
           ]
          ],
          [
           [
            "football",
            " orange",
            " mistress"
           ]
          ],
          [
           [
            "will",
            "ow",
            " colonel",
            " cotton"
           ]
          ],
          [
           [
            "artist",
            " minute",
            " lady"
           ]
          ],
          [
           [
            "s",
            "her",
            "iff",
            " feature",
            " mixture"
           ]
          ],
          [
           [
            "rel",
            "ief",
            " uncle",
            " failure"
           ]
          ],
          [
           [
            "chapter",
            " pra",
            "irie",
            " pupil"
           ]
          ],
          [
           [
            "b",
            "asket",
            " prospect",
            " jewel"
           ]
          ],
          [
           [
            "the",
            "ory",
            " button",
            " congress"
           ]
          ],
          [
           [
            "c",
            "abin",
            " flavor",
            " circle"
           ]
          ],
          [
           [
            "the",
            "ater",
            " manner",
            " sorrow",
            " angel",
            " illness"
           ]
          ],
          [
           [
            "payment",
            " sugar",
            " cellar",
            " mercy",
            " paper"
           ]
          ],
          [
           [
            "gar",
            "ment",
            " garden",
            " bullet",
            " building",
            " motion"
           ]
          ],
          [
           [
            "hor",
            "ror",
            " pilot",
            " traitor",
            " quarter",
            " partner"
           ]
          ],
          [
           [
            "c",
            "andy",
            " sp",
            "arrow",
            " pistol",
            " pleasure",
            " cousin"
           ]
          ],
          [
           [
            "not",
            "ion",
            " harvest",
            " rival",
            " movie",
            " absence"
           ]
          ],
          [
           [
            "section",
            " duty",
            " onion",
            " moisture",
            " total"
           ]
          ],
          [
           [
            "ste",
            "amer",
            " baby",
            " patient",
            " husband",
            " spider"
           ]
          ],
          [
           [
            "door",
            "way",
            " hotel",
            " music",
            " silence",
            " research"
           ]
          ],
          [
           [
            "squ",
            "irrel",
            " motor",
            " pasture",
            " goddess",
            " ribbon"
           ]
          ],
          [
           [
            "pe",
            "pper",
            " unit",
            " standard",
            " begg",
            "ar",
            " meantime"
           ]
          ],
          [
           [
            "capt",
            "ive",
            " training",
            " banner",
            " victim",
            " extent"
           ]
          ],
          [
           [
            "d",
            "iet",
            " legend",
            " novel",
            " closet",
            " pony"
           ]
          ],
          [
           [
            "double",
            " maiden",
            " contents",
            " liquid",
            " planet"
           ]
          ],
          [
           [
            "detail",
            " offence",
            " comrade",
            " problem",
            " finger"
           ]
          ],
          [
           [
            "tun",
            "nel",
            " oven",
            " canal",
            " student",
            " island"
           ]
          ],
          [
           [
            "hammer",
            " engine",
            " soldier",
            " market",
            " herald"
           ]
          ],
          [
           [
            "p",
            "uzzle",
            " hatred",
            " surface",
            " sister",
            " helmet"
           ]
          ],
          [
           [
            "pit",
            "cher",
            " number",
            " agent",
            " excess",
            " needle"
           ]
          ],
          [
           [
            "har",
            "bour",
            " resort",
            " nation",
            " marriage",
            " kitten"
           ]
          ],
          [
           [
            "major",
            " hunter",
            " princess",
            " journal",
            " jersey",
            " marble",
            " fortune",
            " limit",
            " spirit",
            " mother"
           ]
          ],
          [
           [
            "bottom",
            " meeting",
            " worker",
            " ticket",
            " armor",
            " station",
            " bedroom",
            " estate",
            " letter",
            " tribute"
           ]
          ],
          [
           [
            "f",
            "ever",
            " mission",
            " par",
            "lor",
            " shower",
            " pocket",
            " temple",
            " me",
            "adow",
            " couple",
            " r",
            "attle",
            " leader"
           ]
          ],
          [
           [
            "body",
            " autumn",
            " be",
            "aver",
            " climate",
            " virtue",
            " jacket",
            " rifle",
            " triumph",
            " chapel",
            " conquest"
           ]
          ],
          [
           [
            "powder",
            " weapon",
            " blanket",
            " distance",
            " chim",
            "ney",
            " candle",
            " bargain",
            " genius",
            " evening",
            " vessel"
           ]
          ],
          [
           [
            "service",
            " fountain",
            " vapor",
            " forehead",
            " layer",
            " compound",
            " salad",
            " kitchen",
            " supper",
            " worship"
           ]
          ],
          [
           [
            "single",
            " mischief",
            " voyage",
            " product",
            " acre",
            " mad",
            "am",
            " learning",
            " treasure",
            " sl",
            "ipper",
            " speaker"
           ]
          ],
          [
           [
            "hab",
            "it",
            " err",
            "and",
            " weakness",
            " farmer",
            " clothing",
            " daylight",
            " feeling",
            " writer",
            " barrel",
            " object"
           ]
          ],
          [
           [
            "rider",
            " county",
            " career",
            " creature",
            " disease",
            " lover",
            " cluster",
            " witness",
            " linen",
            " organ"
           ]
          ],
          [
           [
            "bus",
            "hel",
            " forest",
            " parent",
            " compass",
            " sandwich",
            " lumber",
            " turkey",
            " survey",
            " nothing",
            " lecture"
           ]
          ],
          [
           [
            "front",
            "ier",
            " widow",
            " amount",
            " darkness",
            " tiger",
            " mayor",
            " echo",
            " mountain",
            " olive",
            " silver"
           ]
          ],
          [
           [
            "sun",
            "set",
            " subject",
            " leather",
            " motive",
            " table",
            " lion",
            " angle",
            " beauty",
            " program",
            " keeper"
           ]
          ],
          [
           [
            "d",
            "iamond",
            " chamber",
            " folly",
            " income",
            " effect",
            " project",
            " current",
            " costume",
            " pattern",
            " record"
           ]
          ],
          [
           [
            "rub",
            "ber",
            " crystal",
            " nephew",
            " navy",
            " highway",
            " device",
            " senate",
            " concert",
            " scatter",
            " insect"
           ]
          ],
          [
           [
            "c",
            "arp",
            "et",
            " wagon",
            " gesture",
            " shelter",
            " business",
            " package",
            " stomach",
            " dollar",
            " cable",
            " contract"
           ]
          ],
          [
           [
            "interest",
            " lawyer",
            " maker",
            " velvet",
            " women",
            " saddle",
            " carriage",
            " valley",
            " fury",
            " meaning"
           ]
          ],
          [
           [
            "million",
            " merchant",
            " money",
            " trouble",
            " winter",
            " father",
            " system",
            " bubble",
            " riches",
            " robber"
           ]
          ],
          [
           [
            "c",
            "attle",
            " justice",
            " anchor",
            " city",
            " captain",
            " member",
            " degree",
            " penny",
            " empire",
            " commerce"
           ]
          ],
          [
           [
            "tra",
            "ffic",
            " parcel",
            " owner",
            " picture",
            " message",
            " perfume",
            " carbon",
            " pigeon",
            " method",
            " oy",
            "ster"
           ]
          ],
          [
           [
            "or",
            "chard",
            " patience",
            " stocking",
            " butcher",
            " colour",
            " credit",
            " dragon",
            " aspect",
            " painter",
            " image"
           ]
          ]
         ],
         "hovertemplate": "prompt=3) long (~60 tok)<br>set size (n. tokens)=%{x}<br>average -log LL=%{y}<br>token_list=%{customdata[0]}<extra></extra>",
         "legendgroup": "3) long (~60 tok)",
         "marker": {
          "color": "#00cc96"
         },
         "name": "3) long (~60 tok)",
         "notched": false,
         "offsetgroup": "3) long (~60 tok)",
         "orientation": "v",
         "showlegend": true,
         "type": "box",
         "x": [
          3,
          3,
          3,
          3,
          3,
          3,
          3,
          3,
          3,
          3,
          3,
          3,
          3,
          3,
          3,
          3,
          3,
          3,
          3,
          3,
          5,
          5,
          5,
          5,
          5,
          5,
          5,
          5,
          5,
          5,
          5,
          5,
          5,
          5,
          5,
          5,
          5,
          5,
          5,
          5,
          10,
          10,
          10,
          10,
          10,
          10,
          10,
          10,
          10,
          10,
          10,
          10,
          10,
          10,
          10,
          10,
          10,
          10,
          10,
          10
         ],
         "x0": " ",
         "xaxis": "x",
         "y": [
          0.9251944919427236,
          0.9755543569723765,
          0.37064045275910756,
          0.4743693318217993,
          0.5514527335762978,
          0.6115737184882164,
          0.5283133288224539,
          0.6013633320108056,
          0.7723017483949661,
          0.3090013302862644,
          0.7463170252740383,
          0.8941748241583506,
          0.37812747247517103,
          0.578373779853185,
          0.5134446852840483,
          0.9047670054715127,
          0.3041258797311457,
          0.41906245797872543,
          0.5110625689849257,
          0.5458335322327912,
          0.4796711082259814,
          0.5188537873327732,
          0.517052266591539,
          0.2935137257445603,
          0.36915556866941707,
          0.3415855783969164,
          0.40467089116573335,
          0.2917475642946859,
          0.47108569368720055,
          0.37533021017103846,
          0.481832251484905,
          0.26046350101629895,
          0.379670438511918,
          0.5386194258928299,
          0.24115226604044437,
          0.2913721273653209,
          0.2526359915733337,
          0.38764154352247715,
          0.30495588935446,
          0.43341265711933374,
          0.2591547902673483,
          0.37271576561033726,
          0.20995427646110848,
          0.3695795578374104,
          0.14523633548312567,
          0.25593213085085154,
          0.2604854274977697,
          0.18271000085708997,
          0.2496140692383051,
          0.24889044895429502,
          0.3496732971292328,
          0.16056310224600814,
          0.2794618678956547,
          0.14661249916323207,
          0.1770042376301717,
          0.3411944145336747,
          0.3923891164362431,
          0.44748991253701126,
          0.2019346493567961,
          0.33263700387694617
         ],
         "y0": " ",
         "yaxis": "y"
        }
       ],
       "layout": {
        "boxmode": "group",
        "height": 500,
        "legend": {
         "title": {
          "text": "prompt"
         },
         "tracegroupgap": 0
        },
        "template": {
         "data": {
          "bar": [
           {
            "error_x": {
             "color": "#2a3f5f"
            },
            "error_y": {
             "color": "#2a3f5f"
            },
            "marker": {
             "line": {
              "color": "#E5ECF6",
              "width": 0.5
             }
            },
            "type": "bar"
           }
          ],
          "barpolar": [
           {
            "marker": {
             "line": {
              "color": "#E5ECF6",
              "width": 0.5
             }
            },
            "type": "barpolar"
           }
          ],
          "carpet": [
           {
            "aaxis": {
             "endlinecolor": "#2a3f5f",
             "gridcolor": "white",
             "linecolor": "white",
             "minorgridcolor": "white",
             "startlinecolor": "#2a3f5f"
            },
            "baxis": {
             "endlinecolor": "#2a3f5f",
             "gridcolor": "white",
             "linecolor": "white",
             "minorgridcolor": "white",
             "startlinecolor": "#2a3f5f"
            },
            "type": "carpet"
           }
          ],
          "choropleth": [
           {
            "colorbar": {
             "outlinewidth": 0,
             "ticks": ""
            },
            "type": "choropleth"
           }
          ],
          "contour": [
           {
            "colorbar": {
             "outlinewidth": 0,
             "ticks": ""
            },
            "colorscale": [
             [
              0,
              "#0d0887"
             ],
             [
              0.1111111111111111,
              "#46039f"
             ],
             [
              0.2222222222222222,
              "#7201a8"
             ],
             [
              0.3333333333333333,
              "#9c179e"
             ],
             [
              0.4444444444444444,
              "#bd3786"
             ],
             [
              0.5555555555555556,
              "#d8576b"
             ],
             [
              0.6666666666666666,
              "#ed7953"
             ],
             [
              0.7777777777777778,
              "#fb9f3a"
             ],
             [
              0.8888888888888888,
              "#fdca26"
             ],
             [
              1,
              "#f0f921"
             ]
            ],
            "type": "contour"
           }
          ],
          "contourcarpet": [
           {
            "colorbar": {
             "outlinewidth": 0,
             "ticks": ""
            },
            "type": "contourcarpet"
           }
          ],
          "heatmap": [
           {
            "colorbar": {
             "outlinewidth": 0,
             "ticks": ""
            },
            "colorscale": [
             [
              0,
              "#0d0887"
             ],
             [
              0.1111111111111111,
              "#46039f"
             ],
             [
              0.2222222222222222,
              "#7201a8"
             ],
             [
              0.3333333333333333,
              "#9c179e"
             ],
             [
              0.4444444444444444,
              "#bd3786"
             ],
             [
              0.5555555555555556,
              "#d8576b"
             ],
             [
              0.6666666666666666,
              "#ed7953"
             ],
             [
              0.7777777777777778,
              "#fb9f3a"
             ],
             [
              0.8888888888888888,
              "#fdca26"
             ],
             [
              1,
              "#f0f921"
             ]
            ],
            "type": "heatmap"
           }
          ],
          "heatmapgl": [
           {
            "colorbar": {
             "outlinewidth": 0,
             "ticks": ""
            },
            "colorscale": [
             [
              0,
              "#0d0887"
             ],
             [
              0.1111111111111111,
              "#46039f"
             ],
             [
              0.2222222222222222,
              "#7201a8"
             ],
             [
              0.3333333333333333,
              "#9c179e"
             ],
             [
              0.4444444444444444,
              "#bd3786"
             ],
             [
              0.5555555555555556,
              "#d8576b"
             ],
             [
              0.6666666666666666,
              "#ed7953"
             ],
             [
              0.7777777777777778,
              "#fb9f3a"
             ],
             [
              0.8888888888888888,
              "#fdca26"
             ],
             [
              1,
              "#f0f921"
             ]
            ],
            "type": "heatmapgl"
           }
          ],
          "histogram": [
           {
            "marker": {
             "colorbar": {
              "outlinewidth": 0,
              "ticks": ""
             }
            },
            "type": "histogram"
           }
          ],
          "histogram2d": [
           {
            "colorbar": {
             "outlinewidth": 0,
             "ticks": ""
            },
            "colorscale": [
             [
              0,
              "#0d0887"
             ],
             [
              0.1111111111111111,
              "#46039f"
             ],
             [
              0.2222222222222222,
              "#7201a8"
             ],
             [
              0.3333333333333333,
              "#9c179e"
             ],
             [
              0.4444444444444444,
              "#bd3786"
             ],
             [
              0.5555555555555556,
              "#d8576b"
             ],
             [
              0.6666666666666666,
              "#ed7953"
             ],
             [
              0.7777777777777778,
              "#fb9f3a"
             ],
             [
              0.8888888888888888,
              "#fdca26"
             ],
             [
              1,
              "#f0f921"
             ]
            ],
            "type": "histogram2d"
           }
          ],
          "histogram2dcontour": [
           {
            "colorbar": {
             "outlinewidth": 0,
             "ticks": ""
            },
            "colorscale": [
             [
              0,
              "#0d0887"
             ],
             [
              0.1111111111111111,
              "#46039f"
             ],
             [
              0.2222222222222222,
              "#7201a8"
             ],
             [
              0.3333333333333333,
              "#9c179e"
             ],
             [
              0.4444444444444444,
              "#bd3786"
             ],
             [
              0.5555555555555556,
              "#d8576b"
             ],
             [
              0.6666666666666666,
              "#ed7953"
             ],
             [
              0.7777777777777778,
              "#fb9f3a"
             ],
             [
              0.8888888888888888,
              "#fdca26"
             ],
             [
              1,
              "#f0f921"
             ]
            ],
            "type": "histogram2dcontour"
           }
          ],
          "mesh3d": [
           {
            "colorbar": {
             "outlinewidth": 0,
             "ticks": ""
            },
            "type": "mesh3d"
           }
          ],
          "parcoords": [
           {
            "line": {
             "colorbar": {
              "outlinewidth": 0,
              "ticks": ""
             }
            },
            "type": "parcoords"
           }
          ],
          "pie": [
           {
            "automargin": true,
            "type": "pie"
           }
          ],
          "scatter": [
           {
            "marker": {
             "colorbar": {
              "outlinewidth": 0,
              "ticks": ""
             }
            },
            "type": "scatter"
           }
          ],
          "scatter3d": [
           {
            "line": {
             "colorbar": {
              "outlinewidth": 0,
              "ticks": ""
             }
            },
            "marker": {
             "colorbar": {
              "outlinewidth": 0,
              "ticks": ""
             }
            },
            "type": "scatter3d"
           }
          ],
          "scattercarpet": [
           {
            "marker": {
             "colorbar": {
              "outlinewidth": 0,
              "ticks": ""
             }
            },
            "type": "scattercarpet"
           }
          ],
          "scattergeo": [
           {
            "marker": {
             "colorbar": {
              "outlinewidth": 0,
              "ticks": ""
             }
            },
            "type": "scattergeo"
           }
          ],
          "scattergl": [
           {
            "marker": {
             "colorbar": {
              "outlinewidth": 0,
              "ticks": ""
             }
            },
            "type": "scattergl"
           }
          ],
          "scattermapbox": [
           {
            "marker": {
             "colorbar": {
              "outlinewidth": 0,
              "ticks": ""
             }
            },
            "type": "scattermapbox"
           }
          ],
          "scatterpolar": [
           {
            "marker": {
             "colorbar": {
              "outlinewidth": 0,
              "ticks": ""
             }
            },
            "type": "scatterpolar"
           }
          ],
          "scatterpolargl": [
           {
            "marker": {
             "colorbar": {
              "outlinewidth": 0,
              "ticks": ""
             }
            },
            "type": "scatterpolargl"
           }
          ],
          "scatterternary": [
           {
            "marker": {
             "colorbar": {
              "outlinewidth": 0,
              "ticks": ""
             }
            },
            "type": "scatterternary"
           }
          ],
          "surface": [
           {
            "colorbar": {
             "outlinewidth": 0,
             "ticks": ""
            },
            "colorscale": [
             [
              0,
              "#0d0887"
             ],
             [
              0.1111111111111111,
              "#46039f"
             ],
             [
              0.2222222222222222,
              "#7201a8"
             ],
             [
              0.3333333333333333,
              "#9c179e"
             ],
             [
              0.4444444444444444,
              "#bd3786"
             ],
             [
              0.5555555555555556,
              "#d8576b"
             ],
             [
              0.6666666666666666,
              "#ed7953"
             ],
             [
              0.7777777777777778,
              "#fb9f3a"
             ],
             [
              0.8888888888888888,
              "#fdca26"
             ],
             [
              1,
              "#f0f921"
             ]
            ],
            "type": "surface"
           }
          ],
          "table": [
           {
            "cells": {
             "fill": {
              "color": "#EBF0F8"
             },
             "line": {
              "color": "white"
             }
            },
            "header": {
             "fill": {
              "color": "#C8D4E3"
             },
             "line": {
              "color": "white"
             }
            },
            "type": "table"
           }
          ]
         },
         "layout": {
          "annotationdefaults": {
           "arrowcolor": "#2a3f5f",
           "arrowhead": 0,
           "arrowwidth": 1
          },
          "coloraxis": {
           "colorbar": {
            "outlinewidth": 0,
            "ticks": ""
           }
          },
          "colorscale": {
           "diverging": [
            [
             0,
             "#8e0152"
            ],
            [
             0.1,
             "#c51b7d"
            ],
            [
             0.2,
             "#de77ae"
            ],
            [
             0.3,
             "#f1b6da"
            ],
            [
             0.4,
             "#fde0ef"
            ],
            [
             0.5,
             "#f7f7f7"
            ],
            [
             0.6,
             "#e6f5d0"
            ],
            [
             0.7,
             "#b8e186"
            ],
            [
             0.8,
             "#7fbc41"
            ],
            [
             0.9,
             "#4d9221"
            ],
            [
             1,
             "#276419"
            ]
           ],
           "sequential": [
            [
             0,
             "#0d0887"
            ],
            [
             0.1111111111111111,
             "#46039f"
            ],
            [
             0.2222222222222222,
             "#7201a8"
            ],
            [
             0.3333333333333333,
             "#9c179e"
            ],
            [
             0.4444444444444444,
             "#bd3786"
            ],
            [
             0.5555555555555556,
             "#d8576b"
            ],
            [
             0.6666666666666666,
             "#ed7953"
            ],
            [
             0.7777777777777778,
             "#fb9f3a"
            ],
            [
             0.8888888888888888,
             "#fdca26"
            ],
            [
             1,
             "#f0f921"
            ]
           ],
           "sequentialminus": [
            [
             0,
             "#0d0887"
            ],
            [
             0.1111111111111111,
             "#46039f"
            ],
            [
             0.2222222222222222,
             "#7201a8"
            ],
            [
             0.3333333333333333,
             "#9c179e"
            ],
            [
             0.4444444444444444,
             "#bd3786"
            ],
            [
             0.5555555555555556,
             "#d8576b"
            ],
            [
             0.6666666666666666,
             "#ed7953"
            ],
            [
             0.7777777777777778,
             "#fb9f3a"
            ],
            [
             0.8888888888888888,
             "#fdca26"
            ],
            [
             1,
             "#f0f921"
            ]
           ]
          },
          "colorway": [
           "#636efa",
           "#EF553B",
           "#00cc96",
           "#ab63fa",
           "#FFA15A",
           "#19d3f3",
           "#FF6692",
           "#B6E880",
           "#FF97FF",
           "#FECB52"
          ],
          "font": {
           "color": "#2a3f5f"
          },
          "geo": {
           "bgcolor": "white",
           "lakecolor": "white",
           "landcolor": "#E5ECF6",
           "showlakes": true,
           "showland": true,
           "subunitcolor": "white"
          },
          "hoverlabel": {
           "align": "left"
          },
          "hovermode": "closest",
          "mapbox": {
           "style": "light"
          },
          "paper_bgcolor": "white",
          "plot_bgcolor": "#E5ECF6",
          "polar": {
           "angularaxis": {
            "gridcolor": "white",
            "linecolor": "white",
            "ticks": ""
           },
           "bgcolor": "#E5ECF6",
           "radialaxis": {
            "gridcolor": "white",
            "linecolor": "white",
            "ticks": ""
           }
          },
          "scene": {
           "xaxis": {
            "backgroundcolor": "#E5ECF6",
            "gridcolor": "white",
            "gridwidth": 2,
            "linecolor": "white",
            "showbackground": true,
            "ticks": "",
            "zerolinecolor": "white"
           },
           "yaxis": {
            "backgroundcolor": "#E5ECF6",
            "gridcolor": "white",
            "gridwidth": 2,
            "linecolor": "white",
            "showbackground": true,
            "ticks": "",
            "zerolinecolor": "white"
           },
           "zaxis": {
            "backgroundcolor": "#E5ECF6",
            "gridcolor": "white",
            "gridwidth": 2,
            "linecolor": "white",
            "showbackground": true,
            "ticks": "",
            "zerolinecolor": "white"
           }
          },
          "shapedefaults": {
           "line": {
            "color": "#2a3f5f"
           }
          },
          "ternary": {
           "aaxis": {
            "gridcolor": "white",
            "linecolor": "white",
            "ticks": ""
           },
           "baxis": {
            "gridcolor": "white",
            "linecolor": "white",
            "ticks": ""
           },
           "bgcolor": "#E5ECF6",
           "caxis": {
            "gridcolor": "white",
            "linecolor": "white",
            "ticks": ""
           }
          },
          "title": {
           "x": 0.05
          },
          "xaxis": {
           "automargin": true,
           "gridcolor": "white",
           "linecolor": "white",
           "ticks": "",
           "title": {
            "standoff": 15
           },
           "zerolinecolor": "white",
           "zerolinewidth": 2
          },
          "yaxis": {
           "automargin": true,
           "gridcolor": "white",
           "linecolor": "white",
           "ticks": "",
           "title": {
            "standoff": 15
           },
           "zerolinecolor": "white",
           "zerolinewidth": 2
          }
         }
        },
        "title": {
         "text": "Mean neg. LL on second list presentation (nonsemantic, repeat)"
        },
        "width": 1200,
        "xaxis": {
         "anchor": "y",
         "autorange": true,
         "domain": [
          0,
          1
         ],
         "range": [
          -0.7489592566118657,
          2.6709978556111507
         ],
         "title": {
          "text": "set size (n. tokens)"
         },
         "type": "category"
        },
        "yaxis": {
         "anchor": "x",
         "autorange": true,
         "domain": [
          0,
          1
         ],
         "range": [
          0.07049888391471046,
          1.5652479152830148
         ],
         "title": {
          "text": "average -log LL"
         },
         "type": "linear"
        }
       }
      },
      "image/png": "[encoded data removed]",
      "text/html": [
       "<div>                            <div id=\"f7525ecf-e3b7-4e5d-92e1-812ccfc5a31b\" class=\"plotly-graph-div\" style=\"height:500px; width:1200px;\"></div>            <script type=\"text/javascript\">                require([\"plotly\"], function(Plotly) {                    window.PLOTLYENV=window.PLOTLYENV || {};                                    if (document.getElementById(\"f7525ecf-e3b7-4e5d-92e1-812ccfc5a31b\")) {                    Plotly.newPlot(                        \"f7525ecf-e3b7-4e5d-92e1-812ccfc5a31b\",                        [{\"alignmentgroup\": \"True\", \"boxpoints\": \"all\", \"customdata\": [[[\"series\", \" singer\", \" affair\"]], [[\"window\", \" cannon\", \" apple\"]], [[\"des\", \"pair\", \" kingdom\", \" b\", \"erry\"]], [[\"b\", \"less\", \"ing\", \" journey\", \" story\"]], [[\"eff\", \"ort\", \" village\", \" cottage\"]], [[\"sh\", \"ipping\", \" future\", \" police\"]], [[\"factor\", \" ocean\", \" machine\"]], [[\"inst\", \"ant\", \" sailor\", \" belief\"]], [[\"danger\", \" moment\", \" coffee\"]], [[\"out\", \"line\", \" basin\", \" summer\"]], [[\"sent\", \"ence\", \" teacher\", \" array\"]], [[\"football\", \" orange\", \" mistress\"]], [[\"will\", \"ow\", \" colonel\", \" cotton\"]], [[\"artist\", \" minute\", \" lady\"]], [[\"s\", \"her\", \"iff\", \" feature\", \" mixture\"]], [[\"rel\", \"ief\", \" uncle\", \" failure\"]], [[\"chapter\", \" pra\", \"irie\", \" pupil\"]], [[\"b\", \"asket\", \" prospect\", \" jewel\"]], [[\"the\", \"ory\", \" button\", \" congress\"]], [[\"c\", \"abin\", \" flavor\", \" circle\"]], [[\"the\", \"ater\", \" manner\", \" sorrow\", \" angel\", \" illness\"]], [[\"payment\", \" sugar\", \" cellar\", \" mercy\", \" paper\"]], [[\"gar\", \"ment\", \" garden\", \" bullet\", \" building\", \" motion\"]], [[\"hor\", \"ror\", \" pilot\", \" traitor\", \" quarter\", \" partner\"]], [[\"c\", \"andy\", \" sp\", \"arrow\", \" pistol\", \" pleasure\", \" cousin\"]], [[\"not\", \"ion\", \" harvest\", \" rival\", \" movie\", \" absence\"]], [[\"section\", \" duty\", \" onion\", \" moisture\", \" total\"]], [[\"ste\", \"amer\", \" baby\", \" patient\", \" husband\", \" spider\"]], [[\"door\", \"way\", \" hotel\", \" music\", \" silence\", \" research\"]], [[\"squ\", \"irrel\", \" motor\", \" pasture\", \" goddess\", \" ribbon\"]], [[\"pe\", \"pper\", \" unit\", \" standard\", \" begg\", \"ar\", \" meantime\"]], [[\"capt\", \"ive\", \" training\", \" banner\", \" victim\", \" extent\"]], [[\"d\", \"iet\", \" legend\", \" novel\", \" closet\", \" pony\"]], [[\"double\", \" maiden\", \" contents\", \" liquid\", \" planet\"]], [[\"detail\", \" offence\", \" comrade\", \" problem\", \" finger\"]], [[\"tun\", \"nel\", \" oven\", \" canal\", \" student\", \" island\"]], [[\"hammer\", \" engine\", \" soldier\", \" market\", \" herald\"]], [[\"p\", \"uzzle\", \" hatred\", \" surface\", \" sister\", \" helmet\"]], [[\"pit\", \"cher\", \" number\", \" agent\", \" excess\", \" needle\"]], [[\"har\", \"bour\", \" resort\", \" nation\", \" marriage\", \" kitten\"]], [[\"major\", \" hunter\", \" princess\", \" journal\", \" jersey\", \" marble\", \" fortune\", \" limit\", \" spirit\", \" mother\"]], [[\"bottom\", \" meeting\", \" worker\", \" ticket\", \" armor\", \" station\", \" bedroom\", \" estate\", \" letter\", \" tribute\"]], [[\"f\", \"ever\", \" mission\", \" par\", \"lor\", \" shower\", \" pocket\", \" temple\", \" me\", \"adow\", \" couple\", \" r\", \"attle\", \" leader\"]], [[\"body\", \" autumn\", \" be\", \"aver\", \" climate\", \" virtue\", \" jacket\", \" rifle\", \" triumph\", \" chapel\", \" conquest\"]], [[\"powder\", \" weapon\", \" blanket\", \" distance\", \" chim\", \"ney\", \" candle\", \" bargain\", \" genius\", \" evening\", \" vessel\"]], [[\"service\", \" fountain\", \" vapor\", \" forehead\", \" layer\", \" compound\", \" salad\", \" kitchen\", \" supper\", \" worship\"]], [[\"single\", \" mischief\", \" voyage\", \" product\", \" acre\", \" mad\", \"am\", \" learning\", \" treasure\", \" sl\", \"ipper\", \" speaker\"]], [[\"hab\", \"it\", \" err\", \"and\", \" weakness\", \" farmer\", \" clothing\", \" daylight\", \" feeling\", \" writer\", \" barrel\", \" object\"]], [[\"rider\", \" county\", \" career\", \" creature\", \" disease\", \" lover\", \" cluster\", \" witness\", \" linen\", \" organ\"]], [[\"bus\", \"hel\", \" forest\", \" parent\", \" compass\", \" sandwich\", \" lumber\", \" turkey\", \" survey\", \" nothing\", \" lecture\"]], [[\"front\", \"ier\", \" widow\", \" amount\", \" darkness\", \" tiger\", \" mayor\", \" echo\", \" mountain\", \" olive\", \" silver\"]], [[\"sun\", \"set\", \" subject\", \" leather\", \" motive\", \" table\", \" lion\", \" angle\", \" beauty\", \" program\", \" keeper\"]], [[\"d\", \"iamond\", \" chamber\", \" folly\", \" income\", \" effect\", \" project\", \" current\", \" costume\", \" pattern\", \" record\"]], [[\"rub\", \"ber\", \" crystal\", \" nephew\", \" navy\", \" highway\", \" device\", \" senate\", \" concert\", \" scatter\", \" insect\"]], [[\"c\", \"arp\", \"et\", \" wagon\", \" gesture\", \" shelter\", \" business\", \" package\", \" stomach\", \" dollar\", \" cable\", \" contract\"]], [[\"interest\", \" lawyer\", \" maker\", \" velvet\", \" women\", \" saddle\", \" carriage\", \" valley\", \" fury\", \" meaning\"]], [[\"million\", \" merchant\", \" money\", \" trouble\", \" winter\", \" father\", \" system\", \" bubble\", \" riches\", \" robber\"]], [[\"c\", \"attle\", \" justice\", \" anchor\", \" city\", \" captain\", \" member\", \" degree\", \" penny\", \" empire\", \" commerce\"]], [[\"tra\", \"ffic\", \" parcel\", \" owner\", \" picture\", \" message\", \" perfume\", \" carbon\", \" pigeon\", \" method\", \" oy\", \"ster\"]], [[\"or\", \"chard\", \" patience\", \" stocking\", \" butcher\", \" colour\", \" credit\", \" dragon\", \" aspect\", \" painter\", \" image\"]]], \"hovertemplate\": \"prompt=1) short (~8 tok)<br>set size (n. tokens)=%{x}<br>average -log LL=%{y}<br>token_list=%{customdata[0]}<extra></extra>\", \"legendgroup\": \"1) short (~8 tok)\", \"marker\": {\"color\": \"#636efa\"}, \"name\": \"1) short (~8 tok)\", \"notched\": false, \"offsetgroup\": \"1) short (~8 tok)\", \"orientation\": \"v\", \"showlegend\": true, \"type\": \"box\", \"x\": [3, 3, 3, 3, 3, 3, 3, 3, 3, 3, 3, 3, 3, 3, 3, 3, 3, 3, 3, 3, 5, 5, 5, 5, 5, 5, 5, 5, 5, 5, 5, 5, 5, 5, 5, 5, 5, 5, 5, 5, 10, 10, 10, 10, 10, 10, 10, 10, 10, 10, 10, 10, 10, 10, 10, 10, 10, 10, 10, 10], \"x0\": \" \", \"xaxis\": \"x\", \"y\": [1.4905104637145996, 1.2548815955718358, 0.7942973345983774, 0.7519471950829031, 0.9940531328320502, 1.1253015734255314, 0.8480971654256185, 1.2306570149958134, 1.4399620493253071, 0.4387802481651306, 1.0175994262099266, 1.324263870716095, 0.6269469270482659, 1.0778493483861287, 0.8400628497824071, 1.4675401663407683, 0.4865233305172296, 0.7806691154837608, 0.6826814599335194, 0.8535969574004412, 0.6595238347848257, 0.8006544217467308, 0.7976291212253273, 0.5870787133462727, 0.6340163520404271, 0.5020292764529586, 0.6644732892513275, 0.657749650379022, 0.885937354216973, 0.7255286962123743, 0.8190000218538833, 0.5070229892929395, 0.588447225590547, 0.8459096193313599, 0.5002468213438988, 0.5074297180399299, 0.5928682021796703, 0.6089191809296608, 0.6156025524251164, 0.7886947294076284, 0.40500165075063704, 0.4365998089313507, 0.34526511916867875, 0.5903430118818175, 0.3877133798192848, 0.3892124820500612, 0.4409460266615497, 0.35410342512962717, 0.4478544469922781, 0.3394667523151094, 0.4868664018471133, 0.3321283750066703, 0.4680904373526573, 0.35297251636670396, 0.2776418106514029, 0.5950062729418277, 0.6300553675740957, 0.5621590954674915, 0.3770027146092616, 0.4928868111561645], \"y0\": \" \", \"yaxis\": \"y\"}, {\"alignmentgroup\": \"True\", \"boxpoints\": \"all\", \"customdata\": [[[\"series\", \" singer\", \" affair\"]], [[\"window\", \" cannon\", \" apple\"]], [[\"des\", \"pair\", \" kingdom\", \" b\", \"erry\"]], [[\"b\", \"less\", \"ing\", \" journey\", \" story\"]], [[\"eff\", \"ort\", \" village\", \" cottage\"]], [[\"sh\", \"ipping\", \" future\", \" police\"]], [[\"factor\", \" ocean\", \" machine\"]], [[\"inst\", \"ant\", \" sailor\", \" belief\"]], [[\"danger\", \" moment\", \" coffee\"]], [[\"out\", \"line\", \" basin\", \" summer\"]], [[\"sent\", \"ence\", \" teacher\", \" array\"]], [[\"football\", \" orange\", \" mistress\"]], [[\"will\", \"ow\", \" colonel\", \" cotton\"]], [[\"artist\", \" minute\", \" lady\"]], [[\"s\", \"her\", \"iff\", \" feature\", \" mixture\"]], [[\"rel\", \"ief\", \" uncle\", \" failure\"]], [[\"chapter\", \" pra\", \"irie\", \" pupil\"]], [[\"b\", \"asket\", \" prospect\", \" jewel\"]], [[\"the\", \"ory\", \" button\", \" congress\"]], [[\"c\", \"abin\", \" flavor\", \" circle\"]], [[\"the\", \"ater\", \" manner\", \" sorrow\", \" angel\", \" illness\"]], [[\"payment\", \" sugar\", \" cellar\", \" mercy\", \" paper\"]], [[\"gar\", \"ment\", \" garden\", \" bullet\", \" building\", \" motion\"]], [[\"hor\", \"ror\", \" pilot\", \" traitor\", \" quarter\", \" partner\"]], [[\"c\", \"andy\", \" sp\", \"arrow\", \" pistol\", \" pleasure\", \" cousin\"]], [[\"not\", \"ion\", \" harvest\", \" rival\", \" movie\", \" absence\"]], [[\"section\", \" duty\", \" onion\", \" moisture\", \" total\"]], [[\"ste\", \"amer\", \" baby\", \" patient\", \" husband\", \" spider\"]], [[\"door\", \"way\", \" hotel\", \" music\", \" silence\", \" research\"]], [[\"squ\", \"irrel\", \" motor\", \" pasture\", \" goddess\", \" ribbon\"]], [[\"pe\", \"pper\", \" unit\", \" standard\", \" begg\", \"ar\", \" meantime\"]], [[\"capt\", \"ive\", \" training\", \" banner\", \" victim\", \" extent\"]], [[\"d\", \"iet\", \" legend\", \" novel\", \" closet\", \" pony\"]], [[\"double\", \" maiden\", \" contents\", \" liquid\", \" planet\"]], [[\"detail\", \" offence\", \" comrade\", \" problem\", \" finger\"]], [[\"tun\", \"nel\", \" oven\", \" canal\", \" student\", \" island\"]], [[\"hammer\", \" engine\", \" soldier\", \" market\", \" herald\"]], [[\"p\", \"uzzle\", \" hatred\", \" surface\", \" sister\", \" helmet\"]], [[\"pit\", \"cher\", \" number\", \" agent\", \" excess\", \" needle\"]], [[\"har\", \"bour\", \" resort\", \" nation\", \" marriage\", \" kitten\"]], [[\"major\", \" hunter\", \" princess\", \" journal\", \" jersey\", \" marble\", \" fortune\", \" limit\", \" spirit\", \" mother\"]], [[\"bottom\", \" meeting\", \" worker\", \" ticket\", \" armor\", \" station\", \" bedroom\", \" estate\", \" letter\", \" tribute\"]], [[\"f\", \"ever\", \" mission\", \" par\", \"lor\", \" shower\", \" pocket\", \" temple\", \" me\", \"adow\", \" couple\", \" r\", \"attle\", \" leader\"]], [[\"body\", \" autumn\", \" be\", \"aver\", \" climate\", \" virtue\", \" jacket\", \" rifle\", \" triumph\", \" chapel\", \" conquest\"]], [[\"powder\", \" weapon\", \" blanket\", \" distance\", \" chim\", \"ney\", \" candle\", \" bargain\", \" genius\", \" evening\", \" vessel\"]], [[\"service\", \" fountain\", \" vapor\", \" forehead\", \" layer\", \" compound\", \" salad\", \" kitchen\", \" supper\", \" worship\"]], [[\"single\", \" mischief\", \" voyage\", \" product\", \" acre\", \" mad\", \"am\", \" learning\", \" treasure\", \" sl\", \"ipper\", \" speaker\"]], [[\"hab\", \"it\", \" err\", \"and\", \" weakness\", \" farmer\", \" clothing\", \" daylight\", \" feeling\", \" writer\", \" barrel\", \" object\"]], [[\"rider\", \" county\", \" career\", \" creature\", \" disease\", \" lover\", \" cluster\", \" witness\", \" linen\", \" organ\"]], [[\"bus\", \"hel\", \" forest\", \" parent\", \" compass\", \" sandwich\", \" lumber\", \" turkey\", \" survey\", \" nothing\", \" lecture\"]], [[\"front\", \"ier\", \" widow\", \" amount\", \" darkness\", \" tiger\", \" mayor\", \" echo\", \" mountain\", \" olive\", \" silver\"]], [[\"sun\", \"set\", \" subject\", \" leather\", \" motive\", \" table\", \" lion\", \" angle\", \" beauty\", \" program\", \" keeper\"]], [[\"d\", \"iamond\", \" chamber\", \" folly\", \" income\", \" effect\", \" project\", \" current\", \" costume\", \" pattern\", \" record\"]], [[\"rub\", \"ber\", \" crystal\", \" nephew\", \" navy\", \" highway\", \" device\", \" senate\", \" concert\", \" scatter\", \" insect\"]], [[\"c\", \"arp\", \"et\", \" wagon\", \" gesture\", \" shelter\", \" business\", \" package\", \" stomach\", \" dollar\", \" cable\", \" contract\"]], [[\"interest\", \" lawyer\", \" maker\", \" velvet\", \" women\", \" saddle\", \" carriage\", \" valley\", \" fury\", \" meaning\"]], [[\"million\", \" merchant\", \" money\", \" trouble\", \" winter\", \" father\", \" system\", \" bubble\", \" riches\", \" robber\"]], [[\"c\", \"attle\", \" justice\", \" anchor\", \" city\", \" captain\", \" member\", \" degree\", \" penny\", \" empire\", \" commerce\"]], [[\"tra\", \"ffic\", \" parcel\", \" owner\", \" picture\", \" message\", \" perfume\", \" carbon\", \" pigeon\", \" method\", \" oy\", \"ster\"]], [[\"or\", \"chard\", \" patience\", \" stocking\", \" butcher\", \" colour\", \" credit\", \" dragon\", \" aspect\", \" painter\", \" image\"]]], \"hovertemplate\": \"prompt=2) mid (~30 tok)<br>set size (n. tokens)=%{x}<br>average -log LL=%{y}<br>token_list=%{customdata[0]}<extra></extra>\", \"legendgroup\": \"2) mid (~30 tok)\", \"marker\": {\"color\": \"#EF553B\"}, \"name\": \"2) mid (~30 tok)\", \"notched\": false, \"offsetgroup\": \"2) mid (~30 tok)\", \"orientation\": \"v\", \"showlegend\": true, \"type\": \"box\", \"x\": [3, 3, 3, 3, 3, 3, 3, 3, 3, 3, 3, 3, 3, 3, 3, 3, 3, 3, 3, 3, 5, 5, 5, 5, 5, 5, 5, 5, 5, 5, 5, 5, 5, 5, 5, 5, 5, 5, 5, 5, 10, 10, 10, 10, 10, 10, 10, 10, 10, 10, 10, 10, 10, 10, 10, 10, 10, 10, 10, 10], \"x0\": \" \", \"xaxis\": \"x\", \"y\": [1.4046866695086162, 1.2468938231468203, 0.4974265117198229, 0.6086235128343105, 0.6792735857889057, 0.8408800568431616, 0.6616383095582327, 0.8982519987039268, 1.0375926444927852, 0.3724545519798994, 1.0012973081320524, 1.0981356004873912, 0.4001484983600676, 0.9072748025258383, 0.6996708860620855, 1.1803018727805465, 0.45422986436460633, 0.558585625141859, 0.5762028079479933, 0.6939129810780287, 0.6108650428553423, 0.6864024505019188, 0.6253101535451909, 0.458536091260612, 0.4803976821047919, 0.45074188398818177, 0.548440569639206, 0.48109469066063565, 0.7236279888699452, 0.465547323973927, 0.6982983817412917, 0.4078524000942707, 0.4910436443363626, 0.7798363864421844, 0.4023948237299919, 0.372601892799139, 0.3465320736169815, 0.5196314180890719, 0.3850309927947819, 0.5686224071929852, 0.33347780965268614, 0.5082033370621503, 0.2739705643099504, 0.49221706856042147, 0.21015079018913888, 0.3174989022314548, 0.3449525686155539, 0.24000364688496725, 0.3224893469363451, 0.2790520030327819, 0.4318160013380376, 0.1957425269382921, 0.36218953818421473, 0.18253301888365636, 0.2322169745360346, 0.46928931698203086, 0.49316997788846495, 0.5214300248771906, 0.26743348286739393, 0.42101292811672797], \"y0\": \" \", \"yaxis\": \"y\"}, {\"alignmentgroup\": \"True\", \"boxpoints\": \"all\", \"customdata\": [[[\"series\", \" singer\", \" affair\"]], [[\"window\", \" cannon\", \" apple\"]], [[\"des\", \"pair\", \" kingdom\", \" b\", \"erry\"]], [[\"b\", \"less\", \"ing\", \" journey\", \" story\"]], [[\"eff\", \"ort\", \" village\", \" cottage\"]], [[\"sh\", \"ipping\", \" future\", \" police\"]], [[\"factor\", \" ocean\", \" machine\"]], [[\"inst\", \"ant\", \" sailor\", \" belief\"]], [[\"danger\", \" moment\", \" coffee\"]], [[\"out\", \"line\", \" basin\", \" summer\"]], [[\"sent\", \"ence\", \" teacher\", \" array\"]], [[\"football\", \" orange\", \" mistress\"]], [[\"will\", \"ow\", \" colonel\", \" cotton\"]], [[\"artist\", \" minute\", \" lady\"]], [[\"s\", \"her\", \"iff\", \" feature\", \" mixture\"]], [[\"rel\", \"ief\", \" uncle\", \" failure\"]], [[\"chapter\", \" pra\", \"irie\", \" pupil\"]], [[\"b\", \"asket\", \" prospect\", \" jewel\"]], [[\"the\", \"ory\", \" button\", \" congress\"]], [[\"c\", \"abin\", \" flavor\", \" circle\"]], [[\"the\", \"ater\", \" manner\", \" sorrow\", \" angel\", \" illness\"]], [[\"payment\", \" sugar\", \" cellar\", \" mercy\", \" paper\"]], [[\"gar\", \"ment\", \" garden\", \" bullet\", \" building\", \" motion\"]], [[\"hor\", \"ror\", \" pilot\", \" traitor\", \" quarter\", \" partner\"]], [[\"c\", \"andy\", \" sp\", \"arrow\", \" pistol\", \" pleasure\", \" cousin\"]], [[\"not\", \"ion\", \" harvest\", \" rival\", \" movie\", \" absence\"]], [[\"section\", \" duty\", \" onion\", \" moisture\", \" total\"]], [[\"ste\", \"amer\", \" baby\", \" patient\", \" husband\", \" spider\"]], [[\"door\", \"way\", \" hotel\", \" music\", \" silence\", \" research\"]], [[\"squ\", \"irrel\", \" motor\", \" pasture\", \" goddess\", \" ribbon\"]], [[\"pe\", \"pper\", \" unit\", \" standard\", \" begg\", \"ar\", \" meantime\"]], [[\"capt\", \"ive\", \" training\", \" banner\", \" victim\", \" extent\"]], [[\"d\", \"iet\", \" legend\", \" novel\", \" closet\", \" pony\"]], [[\"double\", \" maiden\", \" contents\", \" liquid\", \" planet\"]], [[\"detail\", \" offence\", \" comrade\", \" problem\", \" finger\"]], [[\"tun\", \"nel\", \" oven\", \" canal\", \" student\", \" island\"]], [[\"hammer\", \" engine\", \" soldier\", \" market\", \" herald\"]], [[\"p\", \"uzzle\", \" hatred\", \" surface\", \" sister\", \" helmet\"]], [[\"pit\", \"cher\", \" number\", \" agent\", \" excess\", \" needle\"]], [[\"har\", \"bour\", \" resort\", \" nation\", \" marriage\", \" kitten\"]], [[\"major\", \" hunter\", \" princess\", \" journal\", \" jersey\", \" marble\", \" fortune\", \" limit\", \" spirit\", \" mother\"]], [[\"bottom\", \" meeting\", \" worker\", \" ticket\", \" armor\", \" station\", \" bedroom\", \" estate\", \" letter\", \" tribute\"]], [[\"f\", \"ever\", \" mission\", \" par\", \"lor\", \" shower\", \" pocket\", \" temple\", \" me\", \"adow\", \" couple\", \" r\", \"attle\", \" leader\"]], [[\"body\", \" autumn\", \" be\", \"aver\", \" climate\", \" virtue\", \" jacket\", \" rifle\", \" triumph\", \" chapel\", \" conquest\"]], [[\"powder\", \" weapon\", \" blanket\", \" distance\", \" chim\", \"ney\", \" candle\", \" bargain\", \" genius\", \" evening\", \" vessel\"]], [[\"service\", \" fountain\", \" vapor\", \" forehead\", \" layer\", \" compound\", \" salad\", \" kitchen\", \" supper\", \" worship\"]], [[\"single\", \" mischief\", \" voyage\", \" product\", \" acre\", \" mad\", \"am\", \" learning\", \" treasure\", \" sl\", \"ipper\", \" speaker\"]], [[\"hab\", \"it\", \" err\", \"and\", \" weakness\", \" farmer\", \" clothing\", \" daylight\", \" feeling\", \" writer\", \" barrel\", \" object\"]], [[\"rider\", \" county\", \" career\", \" creature\", \" disease\", \" lover\", \" cluster\", \" witness\", \" linen\", \" organ\"]], [[\"bus\", \"hel\", \" forest\", \" parent\", \" compass\", \" sandwich\", \" lumber\", \" turkey\", \" survey\", \" nothing\", \" lecture\"]], [[\"front\", \"ier\", \" widow\", \" amount\", \" darkness\", \" tiger\", \" mayor\", \" echo\", \" mountain\", \" olive\", \" silver\"]], [[\"sun\", \"set\", \" subject\", \" leather\", \" motive\", \" table\", \" lion\", \" angle\", \" beauty\", \" program\", \" keeper\"]], [[\"d\", \"iamond\", \" chamber\", \" folly\", \" income\", \" effect\", \" project\", \" current\", \" costume\", \" pattern\", \" record\"]], [[\"rub\", \"ber\", \" crystal\", \" nephew\", \" navy\", \" highway\", \" device\", \" senate\", \" concert\", \" scatter\", \" insect\"]], [[\"c\", \"arp\", \"et\", \" wagon\", \" gesture\", \" shelter\", \" business\", \" package\", \" stomach\", \" dollar\", \" cable\", \" contract\"]], [[\"interest\", \" lawyer\", \" maker\", \" velvet\", \" women\", \" saddle\", \" carriage\", \" valley\", \" fury\", \" meaning\"]], [[\"million\", \" merchant\", \" money\", \" trouble\", \" winter\", \" father\", \" system\", \" bubble\", \" riches\", \" robber\"]], [[\"c\", \"attle\", \" justice\", \" anchor\", \" city\", \" captain\", \" member\", \" degree\", \" penny\", \" empire\", \" commerce\"]], [[\"tra\", \"ffic\", \" parcel\", \" owner\", \" picture\", \" message\", \" perfume\", \" carbon\", \" pigeon\", \" method\", \" oy\", \"ster\"]], [[\"or\", \"chard\", \" patience\", \" stocking\", \" butcher\", \" colour\", \" credit\", \" dragon\", \" aspect\", \" painter\", \" image\"]]], \"hovertemplate\": \"prompt=3) long (~60 tok)<br>set size (n. tokens)=%{x}<br>average -log LL=%{y}<br>token_list=%{customdata[0]}<extra></extra>\", \"legendgroup\": \"3) long (~60 tok)\", \"marker\": {\"color\": \"#00cc96\"}, \"name\": \"3) long (~60 tok)\", \"notched\": false, \"offsetgroup\": \"3) long (~60 tok)\", \"orientation\": \"v\", \"showlegend\": true, \"type\": \"box\", \"x\": [3, 3, 3, 3, 3, 3, 3, 3, 3, 3, 3, 3, 3, 3, 3, 3, 3, 3, 3, 3, 5, 5, 5, 5, 5, 5, 5, 5, 5, 5, 5, 5, 5, 5, 5, 5, 5, 5, 5, 5, 10, 10, 10, 10, 10, 10, 10, 10, 10, 10, 10, 10, 10, 10, 10, 10, 10, 10, 10, 10], \"x0\": \" \", \"xaxis\": \"x\", \"y\": [0.9251944919427236, 0.9755543569723765, 0.37064045275910756, 0.4743693318217993, 0.5514527335762978, 0.6115737184882164, 0.5283133288224539, 0.6013633320108056, 0.7723017483949661, 0.3090013302862644, 0.7463170252740383, 0.8941748241583506, 0.37812747247517103, 0.578373779853185, 0.5134446852840483, 0.9047670054715127, 0.3041258797311457, 0.41906245797872543, 0.5110625689849257, 0.5458335322327912, 0.4796711082259814, 0.5188537873327732, 0.517052266591539, 0.2935137257445603, 0.36915556866941707, 0.3415855783969164, 0.40467089116573335, 0.2917475642946859, 0.47108569368720055, 0.37533021017103846, 0.481832251484905, 0.26046350101629895, 0.379670438511918, 0.5386194258928299, 0.24115226604044437, 0.2913721273653209, 0.2526359915733337, 0.38764154352247715, 0.30495588935446, 0.43341265711933374, 0.2591547902673483, 0.37271576561033726, 0.20995427646110848, 0.3695795578374104, 0.14523633548312567, 0.25593213085085154, 0.2604854274977697, 0.18271000085708997, 0.2496140692383051, 0.24889044895429502, 0.3496732971292328, 0.16056310224600814, 0.2794618678956547, 0.14661249916323207, 0.1770042376301717, 0.3411944145336747, 0.3923891164362431, 0.44748991253701126, 0.2019346493567961, 0.33263700387694617], \"y0\": \" \", \"yaxis\": \"y\"}],                        {\"boxmode\": \"group\", \"height\": 500, \"legend\": {\"title\": {\"text\": \"prompt\"}, \"tracegroupgap\": 0}, \"template\": {\"data\": {\"bar\": [{\"error_x\": {\"color\": \"#2a3f5f\"}, \"error_y\": {\"color\": \"#2a3f5f\"}, \"marker\": {\"line\": {\"color\": \"#E5ECF6\", \"width\": 0.5}}, \"type\": \"bar\"}], \"barpolar\": [{\"marker\": {\"line\": {\"color\": \"#E5ECF6\", \"width\": 0.5}}, \"type\": \"barpolar\"}], \"carpet\": [{\"aaxis\": {\"endlinecolor\": \"#2a3f5f\", \"gridcolor\": \"white\", \"linecolor\": \"white\", \"minorgridcolor\": \"white\", \"startlinecolor\": \"#2a3f5f\"}, \"baxis\": {\"endlinecolor\": \"#2a3f5f\", \"gridcolor\": \"white\", \"linecolor\": \"white\", \"minorgridcolor\": \"white\", \"startlinecolor\": \"#2a3f5f\"}, \"type\": \"carpet\"}], \"choropleth\": [{\"colorbar\": {\"outlinewidth\": 0, \"ticks\": \"\"}, \"type\": \"choropleth\"}], \"contour\": [{\"colorbar\": {\"outlinewidth\": 0, \"ticks\": \"\"}, \"colorscale\": [[0.0, \"#0d0887\"], [0.1111111111111111, \"#46039f\"], [0.2222222222222222, \"#7201a8\"], [0.3333333333333333, \"#9c179e\"], [0.4444444444444444, \"#bd3786\"], [0.5555555555555556, \"#d8576b\"], [0.6666666666666666, \"#ed7953\"], [0.7777777777777778, \"#fb9f3a\"], [0.8888888888888888, \"#fdca26\"], [1.0, \"#f0f921\"]], \"type\": \"contour\"}], \"contourcarpet\": [{\"colorbar\": {\"outlinewidth\": 0, \"ticks\": \"\"}, \"type\": \"contourcarpet\"}], \"heatmap\": [{\"colorbar\": {\"outlinewidth\": 0, \"ticks\": \"\"}, \"colorscale\": [[0.0, \"#0d0887\"], [0.1111111111111111, \"#46039f\"], [0.2222222222222222, \"#7201a8\"], [0.3333333333333333, \"#9c179e\"], [0.4444444444444444, \"#bd3786\"], [0.5555555555555556, \"#d8576b\"], [0.6666666666666666, \"#ed7953\"], [0.7777777777777778, \"#fb9f3a\"], [0.8888888888888888, \"#fdca26\"], [1.0, \"#f0f921\"]], \"type\": \"heatmap\"}], \"heatmapgl\": [{\"colorbar\": {\"outlinewidth\": 0, \"ticks\": \"\"}, \"colorscale\": [[0.0, \"#0d0887\"], [0.1111111111111111, \"#46039f\"], [0.2222222222222222, \"#7201a8\"], [0.3333333333333333, \"#9c179e\"], [0.4444444444444444, \"#bd3786\"], [0.5555555555555556, \"#d8576b\"], [0.6666666666666666, \"#ed7953\"], [0.7777777777777778, \"#fb9f3a\"], [0.8888888888888888, \"#fdca26\"], [1.0, \"#f0f921\"]], \"type\": \"heatmapgl\"}], \"histogram\": [{\"marker\": {\"colorbar\": {\"outlinewidth\": 0, \"ticks\": \"\"}}, \"type\": \"histogram\"}], \"histogram2d\": [{\"colorbar\": {\"outlinewidth\": 0, \"ticks\": \"\"}, \"colorscale\": [[0.0, \"#0d0887\"], [0.1111111111111111, \"#46039f\"], [0.2222222222222222, \"#7201a8\"], [0.3333333333333333, \"#9c179e\"], [0.4444444444444444, \"#bd3786\"], [0.5555555555555556, \"#d8576b\"], [0.6666666666666666, \"#ed7953\"], [0.7777777777777778, \"#fb9f3a\"], [0.8888888888888888, \"#fdca26\"], [1.0, \"#f0f921\"]], \"type\": \"histogram2d\"}], \"histogram2dcontour\": [{\"colorbar\": {\"outlinewidth\": 0, \"ticks\": \"\"}, \"colorscale\": [[0.0, \"#0d0887\"], [0.1111111111111111, \"#46039f\"], [0.2222222222222222, \"#7201a8\"], [0.3333333333333333, \"#9c179e\"], [0.4444444444444444, \"#bd3786\"], [0.5555555555555556, \"#d8576b\"], [0.6666666666666666, \"#ed7953\"], [0.7777777777777778, \"#fb9f3a\"], [0.8888888888888888, \"#fdca26\"], [1.0, \"#f0f921\"]], \"type\": \"histogram2dcontour\"}], \"mesh3d\": [{\"colorbar\": {\"outlinewidth\": 0, \"ticks\": \"\"}, \"type\": \"mesh3d\"}], \"parcoords\": [{\"line\": {\"colorbar\": {\"outlinewidth\": 0, \"ticks\": \"\"}}, \"type\": \"parcoords\"}], \"pie\": [{\"automargin\": true, \"type\": \"pie\"}], \"scatter\": [{\"marker\": {\"colorbar\": {\"outlinewidth\": 0, \"ticks\": \"\"}}, \"type\": \"scatter\"}], \"scatter3d\": [{\"line\": {\"colorbar\": {\"outlinewidth\": 0, \"ticks\": \"\"}}, \"marker\": {\"colorbar\": {\"outlinewidth\": 0, \"ticks\": \"\"}}, \"type\": \"scatter3d\"}], \"scattercarpet\": [{\"marker\": {\"colorbar\": {\"outlinewidth\": 0, \"ticks\": \"\"}}, \"type\": \"scattercarpet\"}], \"scattergeo\": [{\"marker\": {\"colorbar\": {\"outlinewidth\": 0, \"ticks\": \"\"}}, \"type\": \"scattergeo\"}], \"scattergl\": [{\"marker\": {\"colorbar\": {\"outlinewidth\": 0, \"ticks\": \"\"}}, \"type\": \"scattergl\"}], \"scattermapbox\": [{\"marker\": {\"colorbar\": {\"outlinewidth\": 0, \"ticks\": \"\"}}, \"type\": \"scattermapbox\"}], \"scatterpolar\": [{\"marker\": {\"colorbar\": {\"outlinewidth\": 0, \"ticks\": \"\"}}, \"type\": \"scatterpolar\"}], \"scatterpolargl\": [{\"marker\": {\"colorbar\": {\"outlinewidth\": 0, \"ticks\": \"\"}}, \"type\": \"scatterpolargl\"}], \"scatterternary\": [{\"marker\": {\"colorbar\": {\"outlinewidth\": 0, \"ticks\": \"\"}}, \"type\": \"scatterternary\"}], \"surface\": [{\"colorbar\": {\"outlinewidth\": 0, \"ticks\": \"\"}, \"colorscale\": [[0.0, \"#0d0887\"], [0.1111111111111111, \"#46039f\"], [0.2222222222222222, \"#7201a8\"], [0.3333333333333333, \"#9c179e\"], [0.4444444444444444, \"#bd3786\"], [0.5555555555555556, \"#d8576b\"], [0.6666666666666666, \"#ed7953\"], [0.7777777777777778, \"#fb9f3a\"], [0.8888888888888888, \"#fdca26\"], [1.0, \"#f0f921\"]], \"type\": \"surface\"}], \"table\": [{\"cells\": {\"fill\": {\"color\": \"#EBF0F8\"}, \"line\": {\"color\": \"white\"}}, \"header\": {\"fill\": {\"color\": \"#C8D4E3\"}, \"line\": {\"color\": \"white\"}}, \"type\": \"table\"}]}, \"layout\": {\"annotationdefaults\": {\"arrowcolor\": \"#2a3f5f\", \"arrowhead\": 0, \"arrowwidth\": 1}, \"coloraxis\": {\"colorbar\": {\"outlinewidth\": 0, \"ticks\": \"\"}}, \"colorscale\": {\"diverging\": [[0, \"#8e0152\"], [0.1, \"#c51b7d\"], [0.2, \"#de77ae\"], [0.3, \"#f1b6da\"], [0.4, \"#fde0ef\"], [0.5, \"#f7f7f7\"], [0.6, \"#e6f5d0\"], [0.7, \"#b8e186\"], [0.8, \"#7fbc41\"], [0.9, \"#4d9221\"], [1, \"#276419\"]], \"sequential\": [[0.0, \"#0d0887\"], [0.1111111111111111, \"#46039f\"], [0.2222222222222222, \"#7201a8\"], [0.3333333333333333, \"#9c179e\"], [0.4444444444444444, \"#bd3786\"], [0.5555555555555556, \"#d8576b\"], [0.6666666666666666, \"#ed7953\"], [0.7777777777777778, \"#fb9f3a\"], [0.8888888888888888, \"#fdca26\"], [1.0, \"#f0f921\"]], \"sequentialminus\": [[0.0, \"#0d0887\"], [0.1111111111111111, \"#46039f\"], [0.2222222222222222, \"#7201a8\"], [0.3333333333333333, \"#9c179e\"], [0.4444444444444444, \"#bd3786\"], [0.5555555555555556, \"#d8576b\"], [0.6666666666666666, \"#ed7953\"], [0.7777777777777778, \"#fb9f3a\"], [0.8888888888888888, \"#fdca26\"], [1.0, \"#f0f921\"]]}, \"colorway\": [\"#636efa\", \"#EF553B\", \"#00cc96\", \"#ab63fa\", \"#FFA15A\", \"#19d3f3\", \"#FF6692\", \"#B6E880\", \"#FF97FF\", \"#FECB52\"], \"font\": {\"color\": \"#2a3f5f\"}, \"geo\": {\"bgcolor\": \"white\", \"lakecolor\": \"white\", \"landcolor\": \"#E5ECF6\", \"showlakes\": true, \"showland\": true, \"subunitcolor\": \"white\"}, \"hoverlabel\": {\"align\": \"left\"}, \"hovermode\": \"closest\", \"mapbox\": {\"style\": \"light\"}, \"paper_bgcolor\": \"white\", \"plot_bgcolor\": \"#E5ECF6\", \"polar\": {\"angularaxis\": {\"gridcolor\": \"white\", \"linecolor\": \"white\", \"ticks\": \"\"}, \"bgcolor\": \"#E5ECF6\", \"radialaxis\": {\"gridcolor\": \"white\", \"linecolor\": \"white\", \"ticks\": \"\"}}, \"scene\": {\"xaxis\": {\"backgroundcolor\": \"#E5ECF6\", \"gridcolor\": \"white\", \"gridwidth\": 2, \"linecolor\": \"white\", \"showbackground\": true, \"ticks\": \"\", \"zerolinecolor\": \"white\"}, \"yaxis\": {\"backgroundcolor\": \"#E5ECF6\", \"gridcolor\": \"white\", \"gridwidth\": 2, \"linecolor\": \"white\", \"showbackground\": true, \"ticks\": \"\", \"zerolinecolor\": \"white\"}, \"zaxis\": {\"backgroundcolor\": \"#E5ECF6\", \"gridcolor\": \"white\", \"gridwidth\": 2, \"linecolor\": \"white\", \"showbackground\": true, \"ticks\": \"\", \"zerolinecolor\": \"white\"}}, \"shapedefaults\": {\"line\": {\"color\": \"#2a3f5f\"}}, \"ternary\": {\"aaxis\": {\"gridcolor\": \"white\", \"linecolor\": \"white\", \"ticks\": \"\"}, \"baxis\": {\"gridcolor\": \"white\", \"linecolor\": \"white\", \"ticks\": \"\"}, \"bgcolor\": \"#E5ECF6\", \"caxis\": {\"gridcolor\": \"white\", \"linecolor\": \"white\", \"ticks\": \"\"}}, \"title\": {\"x\": 0.05}, \"xaxis\": {\"automargin\": true, \"gridcolor\": \"white\", \"linecolor\": \"white\", \"ticks\": \"\", \"title\": {\"standoff\": 15}, \"zerolinecolor\": \"white\", \"zerolinewidth\": 2}, \"yaxis\": {\"automargin\": true, \"gridcolor\": \"white\", \"linecolor\": \"white\", \"ticks\": \"\", \"title\": {\"standoff\": 15}, \"zerolinecolor\": \"white\", \"zerolinewidth\": 2}}}, \"title\": {\"text\": \"Mean neg. LL on second list presentation (nonsemantic, repeat)\"}, \"width\": 1200, \"xaxis\": {\"anchor\": \"y\", \"domain\": [0.0, 1.0], \"title\": {\"text\": \"set size (n. tokens)\"}, \"type\": \"category\"}, \"yaxis\": {\"anchor\": \"x\", \"domain\": [0.0, 1.0], \"title\": {\"text\": \"average -log LL\"}}},                        {\"responsive\": true}                    ).then(function(){\n",
       "                            \n",
       "var gd = document.getElementById('f7525ecf-e3b7-4e5d-92e1-812ccfc5a31b');\n",
       "var x = new MutationObserver(function (mutations, observer) {{\n",
       "        var display = window.getComputedStyle(gd).display;\n",
       "        if (!display || display === 'none') {{\n",
       "            console.log([gd, 'removed!']);\n",
       "            Plotly.purge(gd);\n",
       "            observer.disconnect();\n",
       "        }}\n",
       "}});\n",
       "\n",
       "// Listen for the removal of the full notebook cells\n",
       "var notebookContainer = gd.closest('#notebook-container');\n",
       "if (notebookContainer) {{\n",
       "    x.observe(notebookContainer, {childList: true});\n",
       "}}\n",
       "\n",
       "// Listen for the clearing of the current output cell\n",
       "var outputEl = gd.closest('.output');\n",
       "if (outputEl) {{\n",
       "    x.observe(outputEl, {childList: true});\n",
       "}}\n",
       "\n",
       "                        })                };                });            </script>        </div>"
      ]
     },
     "metadata": {},
     "output_type": "display_data"
    }
   ],
   "source": [
    "fig = px.box(dagg, x=\"set_size_\", y=\"ppl_mean\", points=\"all\", color=\"prompt_\", \n",
    "             hover_data=[\"token_list\"], \n",
    "             labels={\"set_size_\": \"set size (n. tokens)\", \"ppl_mean\": \"average -log LL\",\n",
    "                   \"prompt_\": \"prompt\", \"second_list_\": \"word order\"},\n",
    "            category_orders = {\"prompt\": [\"short (~8 tok)\", \"mid (~30 tok)\", \"long (~60 tok)\"]},\n",
    "            width=figwidth, height=figheight,\n",
    "            title=\"Mean neg. LL on second list presentation ({}, {})\" \\\n",
    "                   .format(semlist, wordorder))\n",
    "fig.update_xaxes(type='category')\n",
    "fig.show()"
   ]
  },
  {
   "cell_type": "code",
   "execution_count": 15,
   "metadata": {},
   "outputs": [],
   "source": [
    "fig.write_image(\"./figures/perp_{}_{}.png\".format(semlist, wordorder))"
   ]
  },
  {
   "cell_type": "code",
   "execution_count": 16,
   "metadata": {},
   "outputs": [],
   "source": [
    "# let's filter some stuff\n",
    "dftmp = None\n",
    "semlist = \"semantic\"\n",
    "wordorder = \"repeat\"\n",
    "dftmp = df2.loc[(~df2.ispunct)  & (df2.list == semlist) & (df2.second_list == wordorder), :]          # remove punctuation\n",
    "dftmp = dftmp.loc[(dftmp.trialID == 3), :]  # only look at the first presentation word list\n",
    "dftmp[\"prompt\"] = dftmp[\"prompt\"].str.replace(\"sce1-1\", \"1) short (~8 tok)\")\n",
    "dftmp[\"prompt\"] = dftmp[\"prompt\"].str.replace(\"sce1-3\", \"2) mid (~30 tok)\")\n",
    "dftmp[\"prompt\"] = dftmp[\"prompt\"].str.replace(\"sce1-5\", \"3) long (~60 tok)\")"
   ]
  },
  {
   "cell_type": "code",
   "execution_count": 17,
   "metadata": {},
   "outputs": [],
   "source": [
    "dagg = None\n",
    "dagg = dftmp.groupby([\"prompt\", \"set_size\", \"stimID\"]) \\\n",
    "            .agg({\"ppl\": [\"mean\", \"std\"], \"token\": list}) \\\n",
    "            .reset_index()\n",
    "dagg.columns = ['_'.join(col).strip() for col in dagg.columns.values]"
   ]
  },
  {
   "cell_type": "code",
   "execution_count": 18,
   "metadata": {},
   "outputs": [
    {
     "data": {
      "application/vnd.plotly.v1+json": {
       "config": {
        "plotlyServerURL": "https://plot.ly"
       },
       "data": [
        {
         "alignmentgroup": "True",
         "boxpoints": "all",
         "customdata": [
          [
           [
            "window",
            " door",
            " roof"
           ]
          ],
          [
           [
            "leg",
            " arms",
            " head"
           ]
          ],
          [
           [
            "s",
            "ail",
            "boat",
            " destroyer",
            " battles",
            "hip"
           ]
          ],
          [
           [
            "ro",
            "bin",
            " sp",
            "arrow",
            " her",
            "on"
           ]
          ],
          [
           [
            "apple",
            " t",
            "angelo",
            " pear"
           ]
          ],
          [
           [
            "hammer",
            " saw",
            " nails"
           ]
          ],
          [
           [
            "hur",
            "ricane",
            " tornado",
            " rain"
           ]
          ],
          [
           [
            "oxy",
            "gen",
            " hydrogen",
            " nitrogen"
           ]
          ],
          [
           [
            "john",
            " bob",
            " bill"
           ]
          ],
          [
           [
            "chem",
            "istry",
            " physics",
            " psychology"
           ]
          ],
          [
           [
            "ch",
            "icago",
            " hel",
            "s",
            "inki",
            " tor",
            "onto"
           ]
          ],
          [
           [
            "p",
            "iano",
            " drum",
            " trumpet"
           ]
          ],
          [
           [
            "knife",
            " spoon",
            " fork"
           ]
          ],
          [
           [
            "ford",
            " che",
            "v",
            "rolet",
            " pont",
            "iac"
           ]
          ],
          [
           [
            "tr",
            "out",
            " gu",
            "pp",
            "ie",
            " shark"
           ]
          ],
          [
           [
            "football",
            " baseball",
            " basketball"
           ]
          ],
          [
           [
            "doctor",
            " lawyer",
            " teacher"
           ]
          ],
          [
           [
            "oak",
            " maple",
            " pine"
           ]
          ],
          [
           [
            "shirt",
            " socks",
            " pants"
           ]
          ],
          [
           [
            "cancer",
            " measles",
            " tuberculosis"
           ]
          ],
          [
           [
            "wall",
            " floor",
            " ceiling",
            " room",
            " basement"
           ]
          ],
          [
           [
            "eye",
            " foot",
            " nose",
            " finger",
            " ear"
           ]
          ],
          [
           [
            "cru",
            "iser",
            " submarine",
            " row",
            "boat",
            " yacht",
            " canoe"
           ]
          ],
          [
           [
            "e",
            "agle",
            " crow",
            " can",
            "ary",
            " par",
            "ake",
            "et",
            " hawk"
           ]
          ],
          [
           [
            "ban",
            "ana",
            " peach",
            " grape",
            " cherry",
            " plum"
           ]
          ],
          [
           [
            "level",
            " plane",
            " ch",
            "isel",
            " ruler",
            " wrench"
           ]
          ],
          [
           [
            "s",
            "now",
            " hail",
            " sle",
            "et",
            " storm",
            " wind"
           ]
          ],
          [
           [
            "carbon",
            " sodium",
            " k",
            "rypt",
            "on",
            " sulph",
            "ur",
            " helium"
           ]
          ],
          [
           [
            "j",
            "im",
            " tom",
            " jo",
            "e",
            " dick",
            " m",
            "ike"
           ]
          ],
          [
           [
            "biology",
            " zo",
            "ology",
            " bot",
            "any",
            " astronomy",
            " mathematics"
           ]
          ],
          [
           [
            "l",
            "ondon",
            " par",
            "is",
            " m",
            "iami",
            " b",
            "oston",
            " phil",
            "adelphia"
           ]
          ],
          [
           [
            "viol",
            "in",
            " clar",
            "inet",
            " fl",
            "ute",
            " guitar",
            " sax",
            "ophone"
           ]
          ],
          [
           [
            "pan",
            " pot",
            " spat",
            "ula",
            " stove",
            " bowl"
           ]
          ],
          [
           [
            "old",
            "sm",
            "obile",
            " bu",
            "ick",
            " cad",
            "illac",
            " dodge",
            " ch",
            "rys",
            "ler"
           ]
          ],
          [
           [
            "her",
            "ring",
            " per",
            "ch",
            " salmon",
            " tuna",
            " gold",
            "fish"
           ]
          ],
          [
           [
            "ten",
            "nis",
            " swimming",
            " soccer",
            " golf",
            " hockey"
           ]
          ],
          [
           [
            "d",
            "ent",
            "ist",
            " engineer",
            " professor",
            " car",
            "penter",
            " salesman"
           ]
          ],
          [
           [
            "el",
            "m",
            " bir",
            "ch",
            " l",
            "ind",
            "en",
            " sp",
            "ruce",
            " red",
            "wood"
           ]
          ],
          [
           [
            "sh",
            "oes",
            " bl",
            "ouse",
            " skirt",
            " coat",
            " dress"
           ]
          ],
          [
           [
            "m",
            "umps",
            " polio",
            " chicken",
            "pox",
            " malaria",
            " leukemia"
           ]
          ],
          [
           [
            "he",
            "arth",
            " hall",
            " corridor",
            " elevator",
            " chim",
            "ney",
            " foundation",
            " step",
            " stair",
            "way",
            " attic",
            " cup",
            "board"
           ]
          ],
          [
           [
            "hand",
            " toe",
            " mouth",
            " stomach",
            " hair",
            " neck",
            " heart",
            " knee",
            " chest",
            " liver"
           ]
          ],
          [
           [
            "fre",
            "ighter",
            " tug",
            "boat",
            " ste",
            "ams",
            "hip",
            " sch",
            "oon",
            "er",
            " liner",
            " motor",
            "boat",
            " c",
            "arg",
            "os",
            "hip",
            " cl",
            "ippers",
            "hip",
            " tanker",
            " b",
            "arge"
           ]
          ],
          [
           [
            "black",
            "bird",
            " w",
            "ren",
            " ori",
            "ole",
            " par",
            "rot",
            " pigeon",
            " star",
            "ling",
            " wood",
            "pe",
            "cker",
            " v",
            "ulture",
            " swallow",
            " chicken"
           ]
          ],
          [
           [
            "g",
            "rape",
            "fruit",
            " lemon",
            " t",
            "anger",
            "ine",
            " apr",
            "ic",
            "ot",
            " pineapple",
            " lime",
            " strawberry",
            " black",
            "berry",
            " water",
            "melon",
            " pr",
            "unes"
           ]
          ],
          [
           [
            "pl",
            "iers",
            " drill",
            " screws",
            " punch",
            " square",
            " file",
            " lat",
            "he",
            " sand",
            "paper",
            " aw",
            "l",
            " s",
            "ander"
           ]
          ],
          [
           [
            "cycl",
            "one",
            " clouds",
            " sunshine",
            " lightning",
            " typh",
            "oon",
            " thunder",
            " sm",
            "og",
            " bl",
            "izzard",
            " fog",
            " mon",
            "soon"
           ]
          ],
          [
           [
            "chlor",
            "ine",
            " calcium",
            " potassium",
            " magnesium",
            " uranium",
            " lead",
            " aluminum",
            " zinc",
            " phosphorus",
            " xen",
            "on"
           ]
          ],
          [
           [
            "ge",
            "orge",
            " jack",
            " har",
            "ry",
            " ste",
            "ve",
            " l",
            "arry",
            " frank",
            " p",
            "aul",
            " sam",
            " d",
            "ave",
            " f",
            "red"
           ]
          ],
          [
           [
            "ge",
            "ology",
            " microbi",
            "ology",
            " sociology",
            " ent",
            "om",
            "ology",
            " medicine",
            " engineering",
            " bi",
            "ochemistry",
            " meteor",
            "ology",
            " physiology",
            " anatomy"
           ]
          ],
          [
           [
            "det",
            "roit",
            " d",
            "allas",
            " r",
            "ome",
            " bomb",
            "ay",
            " cle",
            "veland",
            " p",
            "itt",
            "sburgh",
            " den",
            "ver",
            " mont",
            "real",
            " to",
            "ky",
            "o",
            " mos",
            "cow"
           ]
          ],
          [
           [
            "t",
            "rom",
            "bone",
            " ob",
            "oe",
            " tub",
            "a",
            " har",
            "p",
            " cell",
            "o",
            " ban",
            "jo",
            " k",
            "az",
            "oo",
            " mar",
            "im",
            "ba",
            " viol",
            "a",
            " pic",
            "colo"
           ]
          ],
          [
           [
            "mix",
            "er",
            " cup",
            " dish",
            " be",
            "ater",
            " plate",
            " skillet",
            " refrigerator",
            " fry",
            "pan",
            " glass",
            " to",
            "aster"
           ]
          ],
          [
           [
            "ply",
            "mouth",
            " vol",
            "ks",
            "wagen",
            " r",
            "amb",
            "ler",
            " op",
            "el",
            " mer",
            "cedes",
            " fiat",
            " f",
            "err",
            "ari",
            " audi",
            " cor",
            "vette",
            " triumph"
           ]
          ],
          [
           [
            "sun",
            "fish",
            " cod",
            " blue",
            "g",
            "ill",
            " carp",
            " p",
            "ike",
            " min",
            "now",
            " gu",
            "ppy",
            " fl",
            "ound",
            "er",
            " mar",
            "lin",
            " bar",
            "rac",
            "uda"
           ]
          ],
          [
           [
            "sn",
            "ork",
            "ling",
            " lac",
            "rosse",
            " bad",
            "m",
            "inton",
            " bowling",
            " wrestling",
            " ar",
            "chery",
            " skiing",
            " fencing",
            " fishing",
            " hand",
            "ball"
           ]
          ],
          [
           [
            "n",
            "urse",
            " psychologist",
            " pl",
            "umber",
            " accountant",
            " businessman",
            " scientist",
            " clerk",
            " farmer",
            " under",
            "writer",
            " policeman"
           ]
          ],
          [
           [
            "wal",
            "nut",
            " fir",
            " h",
            "ick",
            "ory",
            " sy",
            "cam",
            "ore",
            " ash",
            " pop",
            "lar",
            " will",
            "ow",
            " chest",
            "nut",
            " c",
            "edar",
            " ever",
            "green"
           ]
          ],
          [
           [
            "hat",
            " sweater",
            " tie",
            " slip",
            " jacket",
            " sl",
            "acks",
            " gloves",
            " belt",
            " underwear",
            " shorts"
           ]
          ],
          [
           [
            "p",
            "neum",
            "onia",
            " small",
            "pox",
            " influenza",
            " en",
            "cephal",
            "itis",
            " le",
            "pro",
            "sy",
            " sy",
            "ph",
            "ill",
            "is",
            " hepatitis",
            " typh",
            "oid",
            " r",
            "ickets",
            " diabetes"
           ]
          ]
         ],
         "hovertemplate": "prompt=1) short (~8 tok)<br>set size (n. tokens)=%{x}<br>average -log LL=%{y}<br>token_list=%{customdata[0]}<extra></extra>",
         "legendgroup": "1) short (~8 tok)",
         "marker": {
          "color": "#636efa"
         },
         "name": "1) short (~8 tok)",
         "notched": false,
         "offsetgroup": "1) short (~8 tok)",
         "orientation": "v",
         "showlegend": true,
         "type": "box",
         "x": [
          3,
          3,
          3,
          3,
          3,
          3,
          3,
          3,
          3,
          3,
          3,
          3,
          3,
          3,
          3,
          3,
          3,
          3,
          3,
          3,
          5,
          5,
          5,
          5,
          5,
          5,
          5,
          5,
          5,
          5,
          5,
          5,
          5,
          5,
          5,
          5,
          5,
          5,
          5,
          5,
          10,
          10,
          10,
          10,
          10,
          10,
          10,
          10,
          10,
          10,
          10,
          10,
          10,
          10,
          10,
          10,
          10,
          10,
          10,
          10
         ],
         "x0": " ",
         "xaxis": "x",
         "y": [
          0.7953841785589854,
          1.1202866633733113,
          0.5775846046938872,
          0.48164091977135587,
          0.6018409337848425,
          0.5106257448593775,
          1.0003193062730134,
          0.5291097634471953,
          1.037371292710304,
          0.8723763655871153,
          0.5777310354335766,
          0.9579772716388106,
          0.8066675762335459,
          0.7844807853689417,
          0.5624761875563612,
          0.9317412326733271,
          1.05105925599734,
          1.0817485551039379,
          0.7587084310750165,
          1.3793162057797115,
          0.6913661636412144,
          0.6347638763487339,
          0.5970950142280864,
          0.4243641280465656,
          0.6733894168864936,
          0.3606402444444636,
          0.44868245297610493,
          0.5165549440425821,
          0.3996123816759791,
          0.3240281785588845,
          0.43722038158593934,
          0.2969055107613612,
          0.3721603802696336,
          0.46181365970881993,
          0.5475504105415894,
          0.5332974843525639,
          0.6492129882572044,
          0.3947205555910345,
          0.7021633152450834,
          0.7559766983613372,
          0.23098235303561004,
          0.501601894851774,
          0.1817895276978126,
          0.22548634710579385,
          0.30386765617387074,
          0.21739559874792272,
          0.42646292798453944,
          0.3946017045697469,
          0.2760089647233733,
          0.15629683148108597,
          0.14448618976728708,
          0.12906529042242176,
          0.18255723860056605,
          0.18824294027435826,
          0.2102668500357097,
          0.3454716920836397,
          0.31263773608728884,
          0.24370214370428583,
          0.28453193782744085,
          0.13574305067521147
         ],
         "y0": " ",
         "yaxis": "y"
        },
        {
         "alignmentgroup": "True",
         "boxpoints": "all",
         "customdata": [
          [
           [
            "window",
            " door",
            " roof"
           ]
          ],
          [
           [
            "leg",
            " arms",
            " head"
           ]
          ],
          [
           [
            "s",
            "ail",
            "boat",
            " destroyer",
            " battles",
            "hip"
           ]
          ],
          [
           [
            "ro",
            "bin",
            " sp",
            "arrow",
            " her",
            "on"
           ]
          ],
          [
           [
            "apple",
            " t",
            "angelo",
            " pear"
           ]
          ],
          [
           [
            "hammer",
            " saw",
            " nails"
           ]
          ],
          [
           [
            "hur",
            "ricane",
            " tornado",
            " rain"
           ]
          ],
          [
           [
            "oxy",
            "gen",
            " hydrogen",
            " nitrogen"
           ]
          ],
          [
           [
            "john",
            " bob",
            " bill"
           ]
          ],
          [
           [
            "chem",
            "istry",
            " physics",
            " psychology"
           ]
          ],
          [
           [
            "ch",
            "icago",
            " hel",
            "s",
            "inki",
            " tor",
            "onto"
           ]
          ],
          [
           [
            "p",
            "iano",
            " drum",
            " trumpet"
           ]
          ],
          [
           [
            "knife",
            " spoon",
            " fork"
           ]
          ],
          [
           [
            "ford",
            " che",
            "v",
            "rolet",
            " pont",
            "iac"
           ]
          ],
          [
           [
            "tr",
            "out",
            " gu",
            "pp",
            "ie",
            " shark"
           ]
          ],
          [
           [
            "football",
            " baseball",
            " basketball"
           ]
          ],
          [
           [
            "doctor",
            " lawyer",
            " teacher"
           ]
          ],
          [
           [
            "oak",
            " maple",
            " pine"
           ]
          ],
          [
           [
            "shirt",
            " socks",
            " pants"
           ]
          ],
          [
           [
            "cancer",
            " measles",
            " tuberculosis"
           ]
          ],
          [
           [
            "wall",
            " floor",
            " ceiling",
            " room",
            " basement"
           ]
          ],
          [
           [
            "eye",
            " foot",
            " nose",
            " finger",
            " ear"
           ]
          ],
          [
           [
            "cru",
            "iser",
            " submarine",
            " row",
            "boat",
            " yacht",
            " canoe"
           ]
          ],
          [
           [
            "e",
            "agle",
            " crow",
            " can",
            "ary",
            " par",
            "ake",
            "et",
            " hawk"
           ]
          ],
          [
           [
            "ban",
            "ana",
            " peach",
            " grape",
            " cherry",
            " plum"
           ]
          ],
          [
           [
            "level",
            " plane",
            " ch",
            "isel",
            " ruler",
            " wrench"
           ]
          ],
          [
           [
            "s",
            "now",
            " hail",
            " sle",
            "et",
            " storm",
            " wind"
           ]
          ],
          [
           [
            "carbon",
            " sodium",
            " k",
            "rypt",
            "on",
            " sulph",
            "ur",
            " helium"
           ]
          ],
          [
           [
            "j",
            "im",
            " tom",
            " jo",
            "e",
            " dick",
            " m",
            "ike"
           ]
          ],
          [
           [
            "biology",
            " zo",
            "ology",
            " bot",
            "any",
            " astronomy",
            " mathematics"
           ]
          ],
          [
           [
            "l",
            "ondon",
            " par",
            "is",
            " m",
            "iami",
            " b",
            "oston",
            " phil",
            "adelphia"
           ]
          ],
          [
           [
            "viol",
            "in",
            " clar",
            "inet",
            " fl",
            "ute",
            " guitar",
            " sax",
            "ophone"
           ]
          ],
          [
           [
            "pan",
            " pot",
            " spat",
            "ula",
            " stove",
            " bowl"
           ]
          ],
          [
           [
            "old",
            "sm",
            "obile",
            " bu",
            "ick",
            " cad",
            "illac",
            " dodge",
            " ch",
            "rys",
            "ler"
           ]
          ],
          [
           [
            "her",
            "ring",
            " per",
            "ch",
            " salmon",
            " tuna",
            " gold",
            "fish"
           ]
          ],
          [
           [
            "ten",
            "nis",
            " swimming",
            " soccer",
            " golf",
            " hockey"
           ]
          ],
          [
           [
            "d",
            "ent",
            "ist",
            " engineer",
            " professor",
            " car",
            "penter",
            " salesman"
           ]
          ],
          [
           [
            "el",
            "m",
            " bir",
            "ch",
            " l",
            "ind",
            "en",
            " sp",
            "ruce",
            " red",
            "wood"
           ]
          ],
          [
           [
            "sh",
            "oes",
            " bl",
            "ouse",
            " skirt",
            " coat",
            " dress"
           ]
          ],
          [
           [
            "m",
            "umps",
            " polio",
            " chicken",
            "pox",
            " malaria",
            " leukemia"
           ]
          ],
          [
           [
            "he",
            "arth",
            " hall",
            " corridor",
            " elevator",
            " chim",
            "ney",
            " foundation",
            " step",
            " stair",
            "way",
            " attic",
            " cup",
            "board"
           ]
          ],
          [
           [
            "hand",
            " toe",
            " mouth",
            " stomach",
            " hair",
            " neck",
            " heart",
            " knee",
            " chest",
            " liver"
           ]
          ],
          [
           [
            "fre",
            "ighter",
            " tug",
            "boat",
            " ste",
            "ams",
            "hip",
            " sch",
            "oon",
            "er",
            " liner",
            " motor",
            "boat",
            " c",
            "arg",
            "os",
            "hip",
            " cl",
            "ippers",
            "hip",
            " tanker",
            " b",
            "arge"
           ]
          ],
          [
           [
            "black",
            "bird",
            " w",
            "ren",
            " ori",
            "ole",
            " par",
            "rot",
            " pigeon",
            " star",
            "ling",
            " wood",
            "pe",
            "cker",
            " v",
            "ulture",
            " swallow",
            " chicken"
           ]
          ],
          [
           [
            "g",
            "rape",
            "fruit",
            " lemon",
            " t",
            "anger",
            "ine",
            " apr",
            "ic",
            "ot",
            " pineapple",
            " lime",
            " strawberry",
            " black",
            "berry",
            " water",
            "melon",
            " pr",
            "unes"
           ]
          ],
          [
           [
            "pl",
            "iers",
            " drill",
            " screws",
            " punch",
            " square",
            " file",
            " lat",
            "he",
            " sand",
            "paper",
            " aw",
            "l",
            " s",
            "ander"
           ]
          ],
          [
           [
            "cycl",
            "one",
            " clouds",
            " sunshine",
            " lightning",
            " typh",
            "oon",
            " thunder",
            " sm",
            "og",
            " bl",
            "izzard",
            " fog",
            " mon",
            "soon"
           ]
          ],
          [
           [
            "chlor",
            "ine",
            " calcium",
            " potassium",
            " magnesium",
            " uranium",
            " lead",
            " aluminum",
            " zinc",
            " phosphorus",
            " xen",
            "on"
           ]
          ],
          [
           [
            "ge",
            "orge",
            " jack",
            " har",
            "ry",
            " ste",
            "ve",
            " l",
            "arry",
            " frank",
            " p",
            "aul",
            " sam",
            " d",
            "ave",
            " f",
            "red"
           ]
          ],
          [
           [
            "ge",
            "ology",
            " microbi",
            "ology",
            " sociology",
            " ent",
            "om",
            "ology",
            " medicine",
            " engineering",
            " bi",
            "ochemistry",
            " meteor",
            "ology",
            " physiology",
            " anatomy"
           ]
          ],
          [
           [
            "det",
            "roit",
            " d",
            "allas",
            " r",
            "ome",
            " bomb",
            "ay",
            " cle",
            "veland",
            " p",
            "itt",
            "sburgh",
            " den",
            "ver",
            " mont",
            "real",
            " to",
            "ky",
            "o",
            " mos",
            "cow"
           ]
          ],
          [
           [
            "t",
            "rom",
            "bone",
            " ob",
            "oe",
            " tub",
            "a",
            " har",
            "p",
            " cell",
            "o",
            " ban",
            "jo",
            " k",
            "az",
            "oo",
            " mar",
            "im",
            "ba",
            " viol",
            "a",
            " pic",
            "colo"
           ]
          ],
          [
           [
            "mix",
            "er",
            " cup",
            " dish",
            " be",
            "ater",
            " plate",
            " skillet",
            " refrigerator",
            " fry",
            "pan",
            " glass",
            " to",
            "aster"
           ]
          ],
          [
           [
            "ply",
            "mouth",
            " vol",
            "ks",
            "wagen",
            " r",
            "amb",
            "ler",
            " op",
            "el",
            " mer",
            "cedes",
            " fiat",
            " f",
            "err",
            "ari",
            " audi",
            " cor",
            "vette",
            " triumph"
           ]
          ],
          [
           [
            "sun",
            "fish",
            " cod",
            " blue",
            "g",
            "ill",
            " carp",
            " p",
            "ike",
            " min",
            "now",
            " gu",
            "ppy",
            " fl",
            "ound",
            "er",
            " mar",
            "lin",
            " bar",
            "rac",
            "uda"
           ]
          ],
          [
           [
            "sn",
            "ork",
            "ling",
            " lac",
            "rosse",
            " bad",
            "m",
            "inton",
            " bowling",
            " wrestling",
            " ar",
            "chery",
            " skiing",
            " fencing",
            " fishing",
            " hand",
            "ball"
           ]
          ],
          [
           [
            "n",
            "urse",
            " psychologist",
            " pl",
            "umber",
            " accountant",
            " businessman",
            " scientist",
            " clerk",
            " farmer",
            " under",
            "writer",
            " policeman"
           ]
          ],
          [
           [
            "wal",
            "nut",
            " fir",
            " h",
            "ick",
            "ory",
            " sy",
            "cam",
            "ore",
            " ash",
            " pop",
            "lar",
            " will",
            "ow",
            " chest",
            "nut",
            " c",
            "edar",
            " ever",
            "green"
           ]
          ],
          [
           [
            "hat",
            " sweater",
            " tie",
            " slip",
            " jacket",
            " sl",
            "acks",
            " gloves",
            " belt",
            " underwear",
            " shorts"
           ]
          ],
          [
           [
            "p",
            "neum",
            "onia",
            " small",
            "pox",
            " influenza",
            " en",
            "cephal",
            "itis",
            " le",
            "pro",
            "sy",
            " sy",
            "ph",
            "ill",
            "is",
            " hepatitis",
            " typh",
            "oid",
            " r",
            "ickets",
            " diabetes"
           ]
          ]
         ],
         "hovertemplate": "prompt=2) mid (~30 tok)<br>set size (n. tokens)=%{x}<br>average -log LL=%{y}<br>token_list=%{customdata[0]}<extra></extra>",
         "legendgroup": "2) mid (~30 tok)",
         "marker": {
          "color": "#EF553B"
         },
         "name": "2) mid (~30 tok)",
         "notched": false,
         "offsetgroup": "2) mid (~30 tok)",
         "orientation": "v",
         "showlegend": true,
         "type": "box",
         "x": [
          3,
          3,
          3,
          3,
          3,
          3,
          3,
          3,
          3,
          3,
          3,
          3,
          3,
          3,
          3,
          3,
          3,
          3,
          3,
          3,
          5,
          5,
          5,
          5,
          5,
          5,
          5,
          5,
          5,
          5,
          5,
          5,
          5,
          5,
          5,
          5,
          5,
          5,
          5,
          5,
          10,
          10,
          10,
          10,
          10,
          10,
          10,
          10,
          10,
          10,
          10,
          10,
          10,
          10,
          10,
          10,
          10,
          10,
          10,
          10
         ],
         "x0": " ",
         "xaxis": "x",
         "y": [
          0.8369442919890085,
          0.9567774087190628,
          0.4887953106857215,
          0.3366082941259568,
          0.4185300786048174,
          0.31520262360572815,
          0.7865948025137186,
          0.36688951433461625,
          0.7875286986430486,
          0.4713920553040225,
          0.4349396457172198,
          0.7325152326375246,
          0.5107229339579742,
          0.5764786189053362,
          0.3785060524241999,
          0.70402063926061,
          0.7715032473206521,
          0.8182258456945419,
          0.5799267292022705,
          0.9066446969906488,
          0.6748546361923218,
          0.45979616045951843,
          0.5228012905655695,
          0.395662708958197,
          0.50096803647466,
          0.41663853423233377,
          0.4169326083460224,
          0.4291506533772918,
          0.25569975112739485,
          0.19290492768465942,
          0.341143756704696,
          0.25276651699095964,
          0.3341230954392813,
          0.346988591354933,
          0.44857033131847857,
          0.5255911970452871,
          0.4746851303825679,
          0.28416974281770474,
          0.5492734896750855,
          0.5311304360833934,
          0.25304912880320835,
          0.4741748634725809,
          0.172606762151902,
          0.16907693426320394,
          0.2586199061081157,
          0.17561390794968854,
          0.38360549925127996,
          0.3001406979747117,
          0.1672074303119991,
          0.10787504312975216,
          0.10723084924657914,
          0.107965757636323,
          0.17287236819226695,
          0.1102171384898611,
          0.13084721761143078,
          0.2885302669117878,
          0.25109268237541144,
          0.1565591694350587,
          0.35927404909373517,
          0.10807453184679616
         ],
         "y0": " ",
         "yaxis": "y"
        },
        {
         "alignmentgroup": "True",
         "boxpoints": "all",
         "customdata": [
          [
           [
            "window",
            " door",
            " roof"
           ]
          ],
          [
           [
            "leg",
            " arms",
            " head"
           ]
          ],
          [
           [
            "s",
            "ail",
            "boat",
            " destroyer",
            " battles",
            "hip"
           ]
          ],
          [
           [
            "ro",
            "bin",
            " sp",
            "arrow",
            " her",
            "on"
           ]
          ],
          [
           [
            "apple",
            " t",
            "angelo",
            " pear"
           ]
          ],
          [
           [
            "hammer",
            " saw",
            " nails"
           ]
          ],
          [
           [
            "hur",
            "ricane",
            " tornado",
            " rain"
           ]
          ],
          [
           [
            "oxy",
            "gen",
            " hydrogen",
            " nitrogen"
           ]
          ],
          [
           [
            "john",
            " bob",
            " bill"
           ]
          ],
          [
           [
            "chem",
            "istry",
            " physics",
            " psychology"
           ]
          ],
          [
           [
            "ch",
            "icago",
            " hel",
            "s",
            "inki",
            " tor",
            "onto"
           ]
          ],
          [
           [
            "p",
            "iano",
            " drum",
            " trumpet"
           ]
          ],
          [
           [
            "knife",
            " spoon",
            " fork"
           ]
          ],
          [
           [
            "ford",
            " che",
            "v",
            "rolet",
            " pont",
            "iac"
           ]
          ],
          [
           [
            "tr",
            "out",
            " gu",
            "pp",
            "ie",
            " shark"
           ]
          ],
          [
           [
            "football",
            " baseball",
            " basketball"
           ]
          ],
          [
           [
            "doctor",
            " lawyer",
            " teacher"
           ]
          ],
          [
           [
            "oak",
            " maple",
            " pine"
           ]
          ],
          [
           [
            "shirt",
            " socks",
            " pants"
           ]
          ],
          [
           [
            "cancer",
            " measles",
            " tuberculosis"
           ]
          ],
          [
           [
            "wall",
            " floor",
            " ceiling",
            " room",
            " basement"
           ]
          ],
          [
           [
            "eye",
            " foot",
            " nose",
            " finger",
            " ear"
           ]
          ],
          [
           [
            "cru",
            "iser",
            " submarine",
            " row",
            "boat",
            " yacht",
            " canoe"
           ]
          ],
          [
           [
            "e",
            "agle",
            " crow",
            " can",
            "ary",
            " par",
            "ake",
            "et",
            " hawk"
           ]
          ],
          [
           [
            "ban",
            "ana",
            " peach",
            " grape",
            " cherry",
            " plum"
           ]
          ],
          [
           [
            "level",
            " plane",
            " ch",
            "isel",
            " ruler",
            " wrench"
           ]
          ],
          [
           [
            "s",
            "now",
            " hail",
            " sle",
            "et",
            " storm",
            " wind"
           ]
          ],
          [
           [
            "carbon",
            " sodium",
            " k",
            "rypt",
            "on",
            " sulph",
            "ur",
            " helium"
           ]
          ],
          [
           [
            "j",
            "im",
            " tom",
            " jo",
            "e",
            " dick",
            " m",
            "ike"
           ]
          ],
          [
           [
            "biology",
            " zo",
            "ology",
            " bot",
            "any",
            " astronomy",
            " mathematics"
           ]
          ],
          [
           [
            "l",
            "ondon",
            " par",
            "is",
            " m",
            "iami",
            " b",
            "oston",
            " phil",
            "adelphia"
           ]
          ],
          [
           [
            "viol",
            "in",
            " clar",
            "inet",
            " fl",
            "ute",
            " guitar",
            " sax",
            "ophone"
           ]
          ],
          [
           [
            "pan",
            " pot",
            " spat",
            "ula",
            " stove",
            " bowl"
           ]
          ],
          [
           [
            "old",
            "sm",
            "obile",
            " bu",
            "ick",
            " cad",
            "illac",
            " dodge",
            " ch",
            "rys",
            "ler"
           ]
          ],
          [
           [
            "her",
            "ring",
            " per",
            "ch",
            " salmon",
            " tuna",
            " gold",
            "fish"
           ]
          ],
          [
           [
            "ten",
            "nis",
            " swimming",
            " soccer",
            " golf",
            " hockey"
           ]
          ],
          [
           [
            "d",
            "ent",
            "ist",
            " engineer",
            " professor",
            " car",
            "penter",
            " salesman"
           ]
          ],
          [
           [
            "el",
            "m",
            " bir",
            "ch",
            " l",
            "ind",
            "en",
            " sp",
            "ruce",
            " red",
            "wood"
           ]
          ],
          [
           [
            "sh",
            "oes",
            " bl",
            "ouse",
            " skirt",
            " coat",
            " dress"
           ]
          ],
          [
           [
            "m",
            "umps",
            " polio",
            " chicken",
            "pox",
            " malaria",
            " leukemia"
           ]
          ],
          [
           [
            "he",
            "arth",
            " hall",
            " corridor",
            " elevator",
            " chim",
            "ney",
            " foundation",
            " step",
            " stair",
            "way",
            " attic",
            " cup",
            "board"
           ]
          ],
          [
           [
            "hand",
            " toe",
            " mouth",
            " stomach",
            " hair",
            " neck",
            " heart",
            " knee",
            " chest",
            " liver"
           ]
          ],
          [
           [
            "fre",
            "ighter",
            " tug",
            "boat",
            " ste",
            "ams",
            "hip",
            " sch",
            "oon",
            "er",
            " liner",
            " motor",
            "boat",
            " c",
            "arg",
            "os",
            "hip",
            " cl",
            "ippers",
            "hip",
            " tanker",
            " b",
            "arge"
           ]
          ],
          [
           [
            "black",
            "bird",
            " w",
            "ren",
            " ori",
            "ole",
            " par",
            "rot",
            " pigeon",
            " star",
            "ling",
            " wood",
            "pe",
            "cker",
            " v",
            "ulture",
            " swallow",
            " chicken"
           ]
          ],
          [
           [
            "g",
            "rape",
            "fruit",
            " lemon",
            " t",
            "anger",
            "ine",
            " apr",
            "ic",
            "ot",
            " pineapple",
            " lime",
            " strawberry",
            " black",
            "berry",
            " water",
            "melon",
            " pr",
            "unes"
           ]
          ],
          [
           [
            "pl",
            "iers",
            " drill",
            " screws",
            " punch",
            " square",
            " file",
            " lat",
            "he",
            " sand",
            "paper",
            " aw",
            "l",
            " s",
            "ander"
           ]
          ],
          [
           [
            "cycl",
            "one",
            " clouds",
            " sunshine",
            " lightning",
            " typh",
            "oon",
            " thunder",
            " sm",
            "og",
            " bl",
            "izzard",
            " fog",
            " mon",
            "soon"
           ]
          ],
          [
           [
            "chlor",
            "ine",
            " calcium",
            " potassium",
            " magnesium",
            " uranium",
            " lead",
            " aluminum",
            " zinc",
            " phosphorus",
            " xen",
            "on"
           ]
          ],
          [
           [
            "ge",
            "orge",
            " jack",
            " har",
            "ry",
            " ste",
            "ve",
            " l",
            "arry",
            " frank",
            " p",
            "aul",
            " sam",
            " d",
            "ave",
            " f",
            "red"
           ]
          ],
          [
           [
            "ge",
            "ology",
            " microbi",
            "ology",
            " sociology",
            " ent",
            "om",
            "ology",
            " medicine",
            " engineering",
            " bi",
            "ochemistry",
            " meteor",
            "ology",
            " physiology",
            " anatomy"
           ]
          ],
          [
           [
            "det",
            "roit",
            " d",
            "allas",
            " r",
            "ome",
            " bomb",
            "ay",
            " cle",
            "veland",
            " p",
            "itt",
            "sburgh",
            " den",
            "ver",
            " mont",
            "real",
            " to",
            "ky",
            "o",
            " mos",
            "cow"
           ]
          ],
          [
           [
            "t",
            "rom",
            "bone",
            " ob",
            "oe",
            " tub",
            "a",
            " har",
            "p",
            " cell",
            "o",
            " ban",
            "jo",
            " k",
            "az",
            "oo",
            " mar",
            "im",
            "ba",
            " viol",
            "a",
            " pic",
            "colo"
           ]
          ],
          [
           [
            "mix",
            "er",
            " cup",
            " dish",
            " be",
            "ater",
            " plate",
            " skillet",
            " refrigerator",
            " fry",
            "pan",
            " glass",
            " to",
            "aster"
           ]
          ],
          [
           [
            "ply",
            "mouth",
            " vol",
            "ks",
            "wagen",
            " r",
            "amb",
            "ler",
            " op",
            "el",
            " mer",
            "cedes",
            " fiat",
            " f",
            "err",
            "ari",
            " audi",
            " cor",
            "vette",
            " triumph"
           ]
          ],
          [
           [
            "sun",
            "fish",
            " cod",
            " blue",
            "g",
            "ill",
            " carp",
            " p",
            "ike",
            " min",
            "now",
            " gu",
            "ppy",
            " fl",
            "ound",
            "er",
            " mar",
            "lin",
            " bar",
            "rac",
            "uda"
           ]
          ],
          [
           [
            "sn",
            "ork",
            "ling",
            " lac",
            "rosse",
            " bad",
            "m",
            "inton",
            " bowling",
            " wrestling",
            " ar",
            "chery",
            " skiing",
            " fencing",
            " fishing",
            " hand",
            "ball"
           ]
          ],
          [
           [
            "n",
            "urse",
            " psychologist",
            " pl",
            "umber",
            " accountant",
            " businessman",
            " scientist",
            " clerk",
            " farmer",
            " under",
            "writer",
            " policeman"
           ]
          ],
          [
           [
            "wal",
            "nut",
            " fir",
            " h",
            "ick",
            "ory",
            " sy",
            "cam",
            "ore",
            " ash",
            " pop",
            "lar",
            " will",
            "ow",
            " chest",
            "nut",
            " c",
            "edar",
            " ever",
            "green"
           ]
          ],
          [
           [
            "hat",
            " sweater",
            " tie",
            " slip",
            " jacket",
            " sl",
            "acks",
            " gloves",
            " belt",
            " underwear",
            " shorts"
           ]
          ],
          [
           [
            "p",
            "neum",
            "onia",
            " small",
            "pox",
            " influenza",
            " en",
            "cephal",
            "itis",
            " le",
            "pro",
            "sy",
            " sy",
            "ph",
            "ill",
            "is",
            " hepatitis",
            " typh",
            "oid",
            " r",
            "ickets",
            " diabetes"
           ]
          ]
         ],
         "hovertemplate": "prompt=3) long (~60 tok)<br>set size (n. tokens)=%{x}<br>average -log LL=%{y}<br>token_list=%{customdata[0]}<extra></extra>",
         "legendgroup": "3) long (~60 tok)",
         "marker": {
          "color": "#00cc96"
         },
         "name": "3) long (~60 tok)",
         "notched": false,
         "offsetgroup": "3) long (~60 tok)",
         "orientation": "v",
         "showlegend": true,
         "type": "box",
         "x": [
          3,
          3,
          3,
          3,
          3,
          3,
          3,
          3,
          3,
          3,
          3,
          3,
          3,
          3,
          3,
          3,
          3,
          3,
          3,
          3,
          5,
          5,
          5,
          5,
          5,
          5,
          5,
          5,
          5,
          5,
          5,
          5,
          5,
          5,
          5,
          5,
          5,
          5,
          5,
          5,
          10,
          10,
          10,
          10,
          10,
          10,
          10,
          10,
          10,
          10,
          10,
          10,
          10,
          10,
          10,
          10,
          10,
          10,
          10,
          10
         ],
         "x0": " ",
         "xaxis": "x",
         "y": [
          0.7179781893889109,
          0.7770526111125946,
          0.3841500661801547,
          0.2755950497521553,
          0.3220025225309655,
          0.21828718483448029,
          0.6202041229698807,
          0.1940360721637262,
          0.6579676295320193,
          0.33685558156867046,
          0.28702769349703366,
          0.6034087450243533,
          0.3963404484093189,
          0.4994163603308455,
          0.2703281964253013,
          0.6393553713957468,
          0.5167819038033485,
          0.6612187623977661,
          0.382954662044843,
          0.6316139300664266,
          0.5827824681997299,
          0.37345009595155715,
          0.4340588922911723,
          0.3328944090495093,
          0.4281745847547427,
          0.3658138143509859,
          0.3117611792695243,
          0.30435282255348284,
          0.16125175142951775,
          0.12649970527438978,
          0.25907269637682473,
          0.23461685893643233,
          0.28839634701337974,
          0.261577226375018,
          0.34771484751945536,
          0.48549555098967784,
          0.3770089616336918,
          0.21381628879184558,
          0.4724435724451074,
          0.3981847149235754,
          0.2354255760396232,
          0.45163708701729777,
          0.15788494680157822,
          0.14139188373802528,
          0.24667350086383522,
          0.14685897782328539,
          0.3778984026556524,
          0.23224855075144055,
          0.11579303331981304,
          0.06736209015980421,
          0.0871393241365943,
          0.09267681360791397,
          0.1571254615721825,
          0.08670533625590907,
          0.10887428084970452,
          0.23183844457226394,
          0.2660273115034215,
          0.12079754017613595,
          0.3132068681403656,
          0.0877398527188482
         ],
         "y0": " ",
         "yaxis": "y"
        }
       ],
       "layout": {
        "boxmode": "group",
        "height": 500,
        "legend": {
         "title": {
          "text": "prompt"
         },
         "tracegroupgap": 0
        },
        "template": {
         "data": {
          "bar": [
           {
            "error_x": {
             "color": "#2a3f5f"
            },
            "error_y": {
             "color": "#2a3f5f"
            },
            "marker": {
             "line": {
              "color": "#E5ECF6",
              "width": 0.5
             }
            },
            "type": "bar"
           }
          ],
          "barpolar": [
           {
            "marker": {
             "line": {
              "color": "#E5ECF6",
              "width": 0.5
             }
            },
            "type": "barpolar"
           }
          ],
          "carpet": [
           {
            "aaxis": {
             "endlinecolor": "#2a3f5f",
             "gridcolor": "white",
             "linecolor": "white",
             "minorgridcolor": "white",
             "startlinecolor": "#2a3f5f"
            },
            "baxis": {
             "endlinecolor": "#2a3f5f",
             "gridcolor": "white",
             "linecolor": "white",
             "minorgridcolor": "white",
             "startlinecolor": "#2a3f5f"
            },
            "type": "carpet"
           }
          ],
          "choropleth": [
           {
            "colorbar": {
             "outlinewidth": 0,
             "ticks": ""
            },
            "type": "choropleth"
           }
          ],
          "contour": [
           {
            "colorbar": {
             "outlinewidth": 0,
             "ticks": ""
            },
            "colorscale": [
             [
              0,
              "#0d0887"
             ],
             [
              0.1111111111111111,
              "#46039f"
             ],
             [
              0.2222222222222222,
              "#7201a8"
             ],
             [
              0.3333333333333333,
              "#9c179e"
             ],
             [
              0.4444444444444444,
              "#bd3786"
             ],
             [
              0.5555555555555556,
              "#d8576b"
             ],
             [
              0.6666666666666666,
              "#ed7953"
             ],
             [
              0.7777777777777778,
              "#fb9f3a"
             ],
             [
              0.8888888888888888,
              "#fdca26"
             ],
             [
              1,
              "#f0f921"
             ]
            ],
            "type": "contour"
           }
          ],
          "contourcarpet": [
           {
            "colorbar": {
             "outlinewidth": 0,
             "ticks": ""
            },
            "type": "contourcarpet"
           }
          ],
          "heatmap": [
           {
            "colorbar": {
             "outlinewidth": 0,
             "ticks": ""
            },
            "colorscale": [
             [
              0,
              "#0d0887"
             ],
             [
              0.1111111111111111,
              "#46039f"
             ],
             [
              0.2222222222222222,
              "#7201a8"
             ],
             [
              0.3333333333333333,
              "#9c179e"
             ],
             [
              0.4444444444444444,
              "#bd3786"
             ],
             [
              0.5555555555555556,
              "#d8576b"
             ],
             [
              0.6666666666666666,
              "#ed7953"
             ],
             [
              0.7777777777777778,
              "#fb9f3a"
             ],
             [
              0.8888888888888888,
              "#fdca26"
             ],
             [
              1,
              "#f0f921"
             ]
            ],
            "type": "heatmap"
           }
          ],
          "heatmapgl": [
           {
            "colorbar": {
             "outlinewidth": 0,
             "ticks": ""
            },
            "colorscale": [
             [
              0,
              "#0d0887"
             ],
             [
              0.1111111111111111,
              "#46039f"
             ],
             [
              0.2222222222222222,
              "#7201a8"
             ],
             [
              0.3333333333333333,
              "#9c179e"
             ],
             [
              0.4444444444444444,
              "#bd3786"
             ],
             [
              0.5555555555555556,
              "#d8576b"
             ],
             [
              0.6666666666666666,
              "#ed7953"
             ],
             [
              0.7777777777777778,
              "#fb9f3a"
             ],
             [
              0.8888888888888888,
              "#fdca26"
             ],
             [
              1,
              "#f0f921"
             ]
            ],
            "type": "heatmapgl"
           }
          ],
          "histogram": [
           {
            "marker": {
             "colorbar": {
              "outlinewidth": 0,
              "ticks": ""
             }
            },
            "type": "histogram"
           }
          ],
          "histogram2d": [
           {
            "colorbar": {
             "outlinewidth": 0,
             "ticks": ""
            },
            "colorscale": [
             [
              0,
              "#0d0887"
             ],
             [
              0.1111111111111111,
              "#46039f"
             ],
             [
              0.2222222222222222,
              "#7201a8"
             ],
             [
              0.3333333333333333,
              "#9c179e"
             ],
             [
              0.4444444444444444,
              "#bd3786"
             ],
             [
              0.5555555555555556,
              "#d8576b"
             ],
             [
              0.6666666666666666,
              "#ed7953"
             ],
             [
              0.7777777777777778,
              "#fb9f3a"
             ],
             [
              0.8888888888888888,
              "#fdca26"
             ],
             [
              1,
              "#f0f921"
             ]
            ],
            "type": "histogram2d"
           }
          ],
          "histogram2dcontour": [
           {
            "colorbar": {
             "outlinewidth": 0,
             "ticks": ""
            },
            "colorscale": [
             [
              0,
              "#0d0887"
             ],
             [
              0.1111111111111111,
              "#46039f"
             ],
             [
              0.2222222222222222,
              "#7201a8"
             ],
             [
              0.3333333333333333,
              "#9c179e"
             ],
             [
              0.4444444444444444,
              "#bd3786"
             ],
             [
              0.5555555555555556,
              "#d8576b"
             ],
             [
              0.6666666666666666,
              "#ed7953"
             ],
             [
              0.7777777777777778,
              "#fb9f3a"
             ],
             [
              0.8888888888888888,
              "#fdca26"
             ],
             [
              1,
              "#f0f921"
             ]
            ],
            "type": "histogram2dcontour"
           }
          ],
          "mesh3d": [
           {
            "colorbar": {
             "outlinewidth": 0,
             "ticks": ""
            },
            "type": "mesh3d"
           }
          ],
          "parcoords": [
           {
            "line": {
             "colorbar": {
              "outlinewidth": 0,
              "ticks": ""
             }
            },
            "type": "parcoords"
           }
          ],
          "pie": [
           {
            "automargin": true,
            "type": "pie"
           }
          ],
          "scatter": [
           {
            "marker": {
             "colorbar": {
              "outlinewidth": 0,
              "ticks": ""
             }
            },
            "type": "scatter"
           }
          ],
          "scatter3d": [
           {
            "line": {
             "colorbar": {
              "outlinewidth": 0,
              "ticks": ""
             }
            },
            "marker": {
             "colorbar": {
              "outlinewidth": 0,
              "ticks": ""
             }
            },
            "type": "scatter3d"
           }
          ],
          "scattercarpet": [
           {
            "marker": {
             "colorbar": {
              "outlinewidth": 0,
              "ticks": ""
             }
            },
            "type": "scattercarpet"
           }
          ],
          "scattergeo": [
           {
            "marker": {
             "colorbar": {
              "outlinewidth": 0,
              "ticks": ""
             }
            },
            "type": "scattergeo"
           }
          ],
          "scattergl": [
           {
            "marker": {
             "colorbar": {
              "outlinewidth": 0,
              "ticks": ""
             }
            },
            "type": "scattergl"
           }
          ],
          "scattermapbox": [
           {
            "marker": {
             "colorbar": {
              "outlinewidth": 0,
              "ticks": ""
             }
            },
            "type": "scattermapbox"
           }
          ],
          "scatterpolar": [
           {
            "marker": {
             "colorbar": {
              "outlinewidth": 0,
              "ticks": ""
             }
            },
            "type": "scatterpolar"
           }
          ],
          "scatterpolargl": [
           {
            "marker": {
             "colorbar": {
              "outlinewidth": 0,
              "ticks": ""
             }
            },
            "type": "scatterpolargl"
           }
          ],
          "scatterternary": [
           {
            "marker": {
             "colorbar": {
              "outlinewidth": 0,
              "ticks": ""
             }
            },
            "type": "scatterternary"
           }
          ],
          "surface": [
           {
            "colorbar": {
             "outlinewidth": 0,
             "ticks": ""
            },
            "colorscale": [
             [
              0,
              "#0d0887"
             ],
             [
              0.1111111111111111,
              "#46039f"
             ],
             [
              0.2222222222222222,
              "#7201a8"
             ],
             [
              0.3333333333333333,
              "#9c179e"
             ],
             [
              0.4444444444444444,
              "#bd3786"
             ],
             [
              0.5555555555555556,
              "#d8576b"
             ],
             [
              0.6666666666666666,
              "#ed7953"
             ],
             [
              0.7777777777777778,
              "#fb9f3a"
             ],
             [
              0.8888888888888888,
              "#fdca26"
             ],
             [
              1,
              "#f0f921"
             ]
            ],
            "type": "surface"
           }
          ],
          "table": [
           {
            "cells": {
             "fill": {
              "color": "#EBF0F8"
             },
             "line": {
              "color": "white"
             }
            },
            "header": {
             "fill": {
              "color": "#C8D4E3"
             },
             "line": {
              "color": "white"
             }
            },
            "type": "table"
           }
          ]
         },
         "layout": {
          "annotationdefaults": {
           "arrowcolor": "#2a3f5f",
           "arrowhead": 0,
           "arrowwidth": 1
          },
          "coloraxis": {
           "colorbar": {
            "outlinewidth": 0,
            "ticks": ""
           }
          },
          "colorscale": {
           "diverging": [
            [
             0,
             "#8e0152"
            ],
            [
             0.1,
             "#c51b7d"
            ],
            [
             0.2,
             "#de77ae"
            ],
            [
             0.3,
             "#f1b6da"
            ],
            [
             0.4,
             "#fde0ef"
            ],
            [
             0.5,
             "#f7f7f7"
            ],
            [
             0.6,
             "#e6f5d0"
            ],
            [
             0.7,
             "#b8e186"
            ],
            [
             0.8,
             "#7fbc41"
            ],
            [
             0.9,
             "#4d9221"
            ],
            [
             1,
             "#276419"
            ]
           ],
           "sequential": [
            [
             0,
             "#0d0887"
            ],
            [
             0.1111111111111111,
             "#46039f"
            ],
            [
             0.2222222222222222,
             "#7201a8"
            ],
            [
             0.3333333333333333,
             "#9c179e"
            ],
            [
             0.4444444444444444,
             "#bd3786"
            ],
            [
             0.5555555555555556,
             "#d8576b"
            ],
            [
             0.6666666666666666,
             "#ed7953"
            ],
            [
             0.7777777777777778,
             "#fb9f3a"
            ],
            [
             0.8888888888888888,
             "#fdca26"
            ],
            [
             1,
             "#f0f921"
            ]
           ],
           "sequentialminus": [
            [
             0,
             "#0d0887"
            ],
            [
             0.1111111111111111,
             "#46039f"
            ],
            [
             0.2222222222222222,
             "#7201a8"
            ],
            [
             0.3333333333333333,
             "#9c179e"
            ],
            [
             0.4444444444444444,
             "#bd3786"
            ],
            [
             0.5555555555555556,
             "#d8576b"
            ],
            [
             0.6666666666666666,
             "#ed7953"
            ],
            [
             0.7777777777777778,
             "#fb9f3a"
            ],
            [
             0.8888888888888888,
             "#fdca26"
            ],
            [
             1,
             "#f0f921"
            ]
           ]
          },
          "colorway": [
           "#636efa",
           "#EF553B",
           "#00cc96",
           "#ab63fa",
           "#FFA15A",
           "#19d3f3",
           "#FF6692",
           "#B6E880",
           "#FF97FF",
           "#FECB52"
          ],
          "font": {
           "color": "#2a3f5f"
          },
          "geo": {
           "bgcolor": "white",
           "lakecolor": "white",
           "landcolor": "#E5ECF6",
           "showlakes": true,
           "showland": true,
           "subunitcolor": "white"
          },
          "hoverlabel": {
           "align": "left"
          },
          "hovermode": "closest",
          "mapbox": {
           "style": "light"
          },
          "paper_bgcolor": "white",
          "plot_bgcolor": "#E5ECF6",
          "polar": {
           "angularaxis": {
            "gridcolor": "white",
            "linecolor": "white",
            "ticks": ""
           },
           "bgcolor": "#E5ECF6",
           "radialaxis": {
            "gridcolor": "white",
            "linecolor": "white",
            "ticks": ""
           }
          },
          "scene": {
           "xaxis": {
            "backgroundcolor": "#E5ECF6",
            "gridcolor": "white",
            "gridwidth": 2,
            "linecolor": "white",
            "showbackground": true,
            "ticks": "",
            "zerolinecolor": "white"
           },
           "yaxis": {
            "backgroundcolor": "#E5ECF6",
            "gridcolor": "white",
            "gridwidth": 2,
            "linecolor": "white",
            "showbackground": true,
            "ticks": "",
            "zerolinecolor": "white"
           },
           "zaxis": {
            "backgroundcolor": "#E5ECF6",
            "gridcolor": "white",
            "gridwidth": 2,
            "linecolor": "white",
            "showbackground": true,
            "ticks": "",
            "zerolinecolor": "white"
           }
          },
          "shapedefaults": {
           "line": {
            "color": "#2a3f5f"
           }
          },
          "ternary": {
           "aaxis": {
            "gridcolor": "white",
            "linecolor": "white",
            "ticks": ""
           },
           "baxis": {
            "gridcolor": "white",
            "linecolor": "white",
            "ticks": ""
           },
           "bgcolor": "#E5ECF6",
           "caxis": {
            "gridcolor": "white",
            "linecolor": "white",
            "ticks": ""
           }
          },
          "title": {
           "x": 0.05
          },
          "xaxis": {
           "automargin": true,
           "gridcolor": "white",
           "linecolor": "white",
           "ticks": "",
           "title": {
            "standoff": 15
           },
           "zerolinecolor": "white",
           "zerolinewidth": 2
          },
          "yaxis": {
           "automargin": true,
           "gridcolor": "white",
           "linecolor": "white",
           "ticks": "",
           "title": {
            "standoff": 15
           },
           "zerolinecolor": "white",
           "zerolinewidth": 2
          }
         }
        },
        "title": {
         "text": "Mean neg. LL on second list presentation (semantic, repeat)"
        },
        "width": 1200,
        "xaxis": {
         "anchor": "y",
         "autorange": true,
         "domain": [
          0,
          1
         ],
         "range": [
          -0.7489592566118657,
          2.6709978556111507
         ],
         "title": {
          "text": "set size (n. tokens)"
         },
         "type": "category"
        },
        "yaxis": {
         "anchor": "x",
         "autorange": true,
         "domain": [
          0,
          1
         ],
         "range": [
          -0.0055242495968573085,
          1.452202545536373
         ],
         "title": {
          "text": "average -log LL"
         },
         "type": "linear"
        }
       }
      },
      "image/png": "[encoded data removed]",
      "text/html": [
       "<div>                            <div id=\"4ba43d4c-d2eb-44dd-bad8-507ae9b48f9c\" class=\"plotly-graph-div\" style=\"height:500px; width:1200px;\"></div>            <script type=\"text/javascript\">                require([\"plotly\"], function(Plotly) {                    window.PLOTLYENV=window.PLOTLYENV || {};                                    if (document.getElementById(\"4ba43d4c-d2eb-44dd-bad8-507ae9b48f9c\")) {                    Plotly.newPlot(                        \"4ba43d4c-d2eb-44dd-bad8-507ae9b48f9c\",                        [{\"alignmentgroup\": \"True\", \"boxpoints\": \"all\", \"customdata\": [[[\"window\", \" door\", \" roof\"]], [[\"leg\", \" arms\", \" head\"]], [[\"s\", \"ail\", \"boat\", \" destroyer\", \" battles\", \"hip\"]], [[\"ro\", \"bin\", \" sp\", \"arrow\", \" her\", \"on\"]], [[\"apple\", \" t\", \"angelo\", \" pear\"]], [[\"hammer\", \" saw\", \" nails\"]], [[\"hur\", \"ricane\", \" tornado\", \" rain\"]], [[\"oxy\", \"gen\", \" hydrogen\", \" nitrogen\"]], [[\"john\", \" bob\", \" bill\"]], [[\"chem\", \"istry\", \" physics\", \" psychology\"]], [[\"ch\", \"icago\", \" hel\", \"s\", \"inki\", \" tor\", \"onto\"]], [[\"p\", \"iano\", \" drum\", \" trumpet\"]], [[\"knife\", \" spoon\", \" fork\"]], [[\"ford\", \" che\", \"v\", \"rolet\", \" pont\", \"iac\"]], [[\"tr\", \"out\", \" gu\", \"pp\", \"ie\", \" shark\"]], [[\"football\", \" baseball\", \" basketball\"]], [[\"doctor\", \" lawyer\", \" teacher\"]], [[\"oak\", \" maple\", \" pine\"]], [[\"shirt\", \" socks\", \" pants\"]], [[\"cancer\", \" measles\", \" tuberculosis\"]], [[\"wall\", \" floor\", \" ceiling\", \" room\", \" basement\"]], [[\"eye\", \" foot\", \" nose\", \" finger\", \" ear\"]], [[\"cru\", \"iser\", \" submarine\", \" row\", \"boat\", \" yacht\", \" canoe\"]], [[\"e\", \"agle\", \" crow\", \" can\", \"ary\", \" par\", \"ake\", \"et\", \" hawk\"]], [[\"ban\", \"ana\", \" peach\", \" grape\", \" cherry\", \" plum\"]], [[\"level\", \" plane\", \" ch\", \"isel\", \" ruler\", \" wrench\"]], [[\"s\", \"now\", \" hail\", \" sle\", \"et\", \" storm\", \" wind\"]], [[\"carbon\", \" sodium\", \" k\", \"rypt\", \"on\", \" sulph\", \"ur\", \" helium\"]], [[\"j\", \"im\", \" tom\", \" jo\", \"e\", \" dick\", \" m\", \"ike\"]], [[\"biology\", \" zo\", \"ology\", \" bot\", \"any\", \" astronomy\", \" mathematics\"]], [[\"l\", \"ondon\", \" par\", \"is\", \" m\", \"iami\", \" b\", \"oston\", \" phil\", \"adelphia\"]], [[\"viol\", \"in\", \" clar\", \"inet\", \" fl\", \"ute\", \" guitar\", \" sax\", \"ophone\"]], [[\"pan\", \" pot\", \" spat\", \"ula\", \" stove\", \" bowl\"]], [[\"old\", \"sm\", \"obile\", \" bu\", \"ick\", \" cad\", \"illac\", \" dodge\", \" ch\", \"rys\", \"ler\"]], [[\"her\", \"ring\", \" per\", \"ch\", \" salmon\", \" tuna\", \" gold\", \"fish\"]], [[\"ten\", \"nis\", \" swimming\", \" soccer\", \" golf\", \" hockey\"]], [[\"d\", \"ent\", \"ist\", \" engineer\", \" professor\", \" car\", \"penter\", \" salesman\"]], [[\"el\", \"m\", \" bir\", \"ch\", \" l\", \"ind\", \"en\", \" sp\", \"ruce\", \" red\", \"wood\"]], [[\"sh\", \"oes\", \" bl\", \"ouse\", \" skirt\", \" coat\", \" dress\"]], [[\"m\", \"umps\", \" polio\", \" chicken\", \"pox\", \" malaria\", \" leukemia\"]], [[\"he\", \"arth\", \" hall\", \" corridor\", \" elevator\", \" chim\", \"ney\", \" foundation\", \" step\", \" stair\", \"way\", \" attic\", \" cup\", \"board\"]], [[\"hand\", \" toe\", \" mouth\", \" stomach\", \" hair\", \" neck\", \" heart\", \" knee\", \" chest\", \" liver\"]], [[\"fre\", \"ighter\", \" tug\", \"boat\", \" ste\", \"ams\", \"hip\", \" sch\", \"oon\", \"er\", \" liner\", \" motor\", \"boat\", \" c\", \"arg\", \"os\", \"hip\", \" cl\", \"ippers\", \"hip\", \" tanker\", \" b\", \"arge\"]], [[\"black\", \"bird\", \" w\", \"ren\", \" ori\", \"ole\", \" par\", \"rot\", \" pigeon\", \" star\", \"ling\", \" wood\", \"pe\", \"cker\", \" v\", \"ulture\", \" swallow\", \" chicken\"]], [[\"g\", \"rape\", \"fruit\", \" lemon\", \" t\", \"anger\", \"ine\", \" apr\", \"ic\", \"ot\", \" pineapple\", \" lime\", \" strawberry\", \" black\", \"berry\", \" water\", \"melon\", \" pr\", \"unes\"]], [[\"pl\", \"iers\", \" drill\", \" screws\", \" punch\", \" square\", \" file\", \" lat\", \"he\", \" sand\", \"paper\", \" aw\", \"l\", \" s\", \"ander\"]], [[\"cycl\", \"one\", \" clouds\", \" sunshine\", \" lightning\", \" typh\", \"oon\", \" thunder\", \" sm\", \"og\", \" bl\", \"izzard\", \" fog\", \" mon\", \"soon\"]], [[\"chlor\", \"ine\", \" calcium\", \" potassium\", \" magnesium\", \" uranium\", \" lead\", \" aluminum\", \" zinc\", \" phosphorus\", \" xen\", \"on\"]], [[\"ge\", \"orge\", \" jack\", \" har\", \"ry\", \" ste\", \"ve\", \" l\", \"arry\", \" frank\", \" p\", \"aul\", \" sam\", \" d\", \"ave\", \" f\", \"red\"]], [[\"ge\", \"ology\", \" microbi\", \"ology\", \" sociology\", \" ent\", \"om\", \"ology\", \" medicine\", \" engineering\", \" bi\", \"ochemistry\", \" meteor\", \"ology\", \" physiology\", \" anatomy\"]], [[\"det\", \"roit\", \" d\", \"allas\", \" r\", \"ome\", \" bomb\", \"ay\", \" cle\", \"veland\", \" p\", \"itt\", \"sburgh\", \" den\", \"ver\", \" mont\", \"real\", \" to\", \"ky\", \"o\", \" mos\", \"cow\"]], [[\"t\", \"rom\", \"bone\", \" ob\", \"oe\", \" tub\", \"a\", \" har\", \"p\", \" cell\", \"o\", \" ban\", \"jo\", \" k\", \"az\", \"oo\", \" mar\", \"im\", \"ba\", \" viol\", \"a\", \" pic\", \"colo\"]], [[\"mix\", \"er\", \" cup\", \" dish\", \" be\", \"ater\", \" plate\", \" skillet\", \" refrigerator\", \" fry\", \"pan\", \" glass\", \" to\", \"aster\"]], [[\"ply\", \"mouth\", \" vol\", \"ks\", \"wagen\", \" r\", \"amb\", \"ler\", \" op\", \"el\", \" mer\", \"cedes\", \" fiat\", \" f\", \"err\", \"ari\", \" audi\", \" cor\", \"vette\", \" triumph\"]], [[\"sun\", \"fish\", \" cod\", \" blue\", \"g\", \"ill\", \" carp\", \" p\", \"ike\", \" min\", \"now\", \" gu\", \"ppy\", \" fl\", \"ound\", \"er\", \" mar\", \"lin\", \" bar\", \"rac\", \"uda\"]], [[\"sn\", \"ork\", \"ling\", \" lac\", \"rosse\", \" bad\", \"m\", \"inton\", \" bowling\", \" wrestling\", \" ar\", \"chery\", \" skiing\", \" fencing\", \" fishing\", \" hand\", \"ball\"]], [[\"n\", \"urse\", \" psychologist\", \" pl\", \"umber\", \" accountant\", \" businessman\", \" scientist\", \" clerk\", \" farmer\", \" under\", \"writer\", \" policeman\"]], [[\"wal\", \"nut\", \" fir\", \" h\", \"ick\", \"ory\", \" sy\", \"cam\", \"ore\", \" ash\", \" pop\", \"lar\", \" will\", \"ow\", \" chest\", \"nut\", \" c\", \"edar\", \" ever\", \"green\"]], [[\"hat\", \" sweater\", \" tie\", \" slip\", \" jacket\", \" sl\", \"acks\", \" gloves\", \" belt\", \" underwear\", \" shorts\"]], [[\"p\", \"neum\", \"onia\", \" small\", \"pox\", \" influenza\", \" en\", \"cephal\", \"itis\", \" le\", \"pro\", \"sy\", \" sy\", \"ph\", \"ill\", \"is\", \" hepatitis\", \" typh\", \"oid\", \" r\", \"ickets\", \" diabetes\"]]], \"hovertemplate\": \"prompt=1) short (~8 tok)<br>set size (n. tokens)=%{x}<br>average -log LL=%{y}<br>token_list=%{customdata[0]}<extra></extra>\", \"legendgroup\": \"1) short (~8 tok)\", \"marker\": {\"color\": \"#636efa\"}, \"name\": \"1) short (~8 tok)\", \"notched\": false, \"offsetgroup\": \"1) short (~8 tok)\", \"orientation\": \"v\", \"showlegend\": true, \"type\": \"box\", \"x\": [3, 3, 3, 3, 3, 3, 3, 3, 3, 3, 3, 3, 3, 3, 3, 3, 3, 3, 3, 3, 5, 5, 5, 5, 5, 5, 5, 5, 5, 5, 5, 5, 5, 5, 5, 5, 5, 5, 5, 5, 10, 10, 10, 10, 10, 10, 10, 10, 10, 10, 10, 10, 10, 10, 10, 10, 10, 10, 10, 10], \"x0\": \" \", \"xaxis\": \"x\", \"y\": [0.7953841785589854, 1.1202866633733113, 0.5775846046938872, 0.48164091977135587, 0.6018409337848425, 0.5106257448593775, 1.0003193062730134, 0.5291097634471953, 1.037371292710304, 0.8723763655871153, 0.5777310354335766, 0.9579772716388106, 0.8066675762335459, 0.7844807853689417, 0.5624761875563612, 0.9317412326733271, 1.05105925599734, 1.0817485551039379, 0.7587084310750165, 1.3793162057797115, 0.6913661636412144, 0.6347638763487339, 0.5970950142280864, 0.4243641280465656, 0.6733894168864936, 0.3606402444444636, 0.44868245297610493, 0.5165549440425821, 0.3996123816759791, 0.3240281785588845, 0.43722038158593934, 0.2969055107613612, 0.3721603802696336, 0.46181365970881993, 0.5475504105415894, 0.5332974843525639, 0.6492129882572044, 0.3947205555910345, 0.7021633152450834, 0.7559766983613372, 0.23098235303561004, 0.501601894851774, 0.1817895276978126, 0.22548634710579385, 0.30386765617387074, 0.21739559874792272, 0.42646292798453944, 0.3946017045697469, 0.2760089647233733, 0.15629683148108597, 0.14448618976728708, 0.12906529042242176, 0.18255723860056605, 0.18824294027435826, 0.2102668500357097, 0.3454716920836397, 0.31263773608728884, 0.24370214370428583, 0.28453193782744085, 0.13574305067521147], \"y0\": \" \", \"yaxis\": \"y\"}, {\"alignmentgroup\": \"True\", \"boxpoints\": \"all\", \"customdata\": [[[\"window\", \" door\", \" roof\"]], [[\"leg\", \" arms\", \" head\"]], [[\"s\", \"ail\", \"boat\", \" destroyer\", \" battles\", \"hip\"]], [[\"ro\", \"bin\", \" sp\", \"arrow\", \" her\", \"on\"]], [[\"apple\", \" t\", \"angelo\", \" pear\"]], [[\"hammer\", \" saw\", \" nails\"]], [[\"hur\", \"ricane\", \" tornado\", \" rain\"]], [[\"oxy\", \"gen\", \" hydrogen\", \" nitrogen\"]], [[\"john\", \" bob\", \" bill\"]], [[\"chem\", \"istry\", \" physics\", \" psychology\"]], [[\"ch\", \"icago\", \" hel\", \"s\", \"inki\", \" tor\", \"onto\"]], [[\"p\", \"iano\", \" drum\", \" trumpet\"]], [[\"knife\", \" spoon\", \" fork\"]], [[\"ford\", \" che\", \"v\", \"rolet\", \" pont\", \"iac\"]], [[\"tr\", \"out\", \" gu\", \"pp\", \"ie\", \" shark\"]], [[\"football\", \" baseball\", \" basketball\"]], [[\"doctor\", \" lawyer\", \" teacher\"]], [[\"oak\", \" maple\", \" pine\"]], [[\"shirt\", \" socks\", \" pants\"]], [[\"cancer\", \" measles\", \" tuberculosis\"]], [[\"wall\", \" floor\", \" ceiling\", \" room\", \" basement\"]], [[\"eye\", \" foot\", \" nose\", \" finger\", \" ear\"]], [[\"cru\", \"iser\", \" submarine\", \" row\", \"boat\", \" yacht\", \" canoe\"]], [[\"e\", \"agle\", \" crow\", \" can\", \"ary\", \" par\", \"ake\", \"et\", \" hawk\"]], [[\"ban\", \"ana\", \" peach\", \" grape\", \" cherry\", \" plum\"]], [[\"level\", \" plane\", \" ch\", \"isel\", \" ruler\", \" wrench\"]], [[\"s\", \"now\", \" hail\", \" sle\", \"et\", \" storm\", \" wind\"]], [[\"carbon\", \" sodium\", \" k\", \"rypt\", \"on\", \" sulph\", \"ur\", \" helium\"]], [[\"j\", \"im\", \" tom\", \" jo\", \"e\", \" dick\", \" m\", \"ike\"]], [[\"biology\", \" zo\", \"ology\", \" bot\", \"any\", \" astronomy\", \" mathematics\"]], [[\"l\", \"ondon\", \" par\", \"is\", \" m\", \"iami\", \" b\", \"oston\", \" phil\", \"adelphia\"]], [[\"viol\", \"in\", \" clar\", \"inet\", \" fl\", \"ute\", \" guitar\", \" sax\", \"ophone\"]], [[\"pan\", \" pot\", \" spat\", \"ula\", \" stove\", \" bowl\"]], [[\"old\", \"sm\", \"obile\", \" bu\", \"ick\", \" cad\", \"illac\", \" dodge\", \" ch\", \"rys\", \"ler\"]], [[\"her\", \"ring\", \" per\", \"ch\", \" salmon\", \" tuna\", \" gold\", \"fish\"]], [[\"ten\", \"nis\", \" swimming\", \" soccer\", \" golf\", \" hockey\"]], [[\"d\", \"ent\", \"ist\", \" engineer\", \" professor\", \" car\", \"penter\", \" salesman\"]], [[\"el\", \"m\", \" bir\", \"ch\", \" l\", \"ind\", \"en\", \" sp\", \"ruce\", \" red\", \"wood\"]], [[\"sh\", \"oes\", \" bl\", \"ouse\", \" skirt\", \" coat\", \" dress\"]], [[\"m\", \"umps\", \" polio\", \" chicken\", \"pox\", \" malaria\", \" leukemia\"]], [[\"he\", \"arth\", \" hall\", \" corridor\", \" elevator\", \" chim\", \"ney\", \" foundation\", \" step\", \" stair\", \"way\", \" attic\", \" cup\", \"board\"]], [[\"hand\", \" toe\", \" mouth\", \" stomach\", \" hair\", \" neck\", \" heart\", \" knee\", \" chest\", \" liver\"]], [[\"fre\", \"ighter\", \" tug\", \"boat\", \" ste\", \"ams\", \"hip\", \" sch\", \"oon\", \"er\", \" liner\", \" motor\", \"boat\", \" c\", \"arg\", \"os\", \"hip\", \" cl\", \"ippers\", \"hip\", \" tanker\", \" b\", \"arge\"]], [[\"black\", \"bird\", \" w\", \"ren\", \" ori\", \"ole\", \" par\", \"rot\", \" pigeon\", \" star\", \"ling\", \" wood\", \"pe\", \"cker\", \" v\", \"ulture\", \" swallow\", \" chicken\"]], [[\"g\", \"rape\", \"fruit\", \" lemon\", \" t\", \"anger\", \"ine\", \" apr\", \"ic\", \"ot\", \" pineapple\", \" lime\", \" strawberry\", \" black\", \"berry\", \" water\", \"melon\", \" pr\", \"unes\"]], [[\"pl\", \"iers\", \" drill\", \" screws\", \" punch\", \" square\", \" file\", \" lat\", \"he\", \" sand\", \"paper\", \" aw\", \"l\", \" s\", \"ander\"]], [[\"cycl\", \"one\", \" clouds\", \" sunshine\", \" lightning\", \" typh\", \"oon\", \" thunder\", \" sm\", \"og\", \" bl\", \"izzard\", \" fog\", \" mon\", \"soon\"]], [[\"chlor\", \"ine\", \" calcium\", \" potassium\", \" magnesium\", \" uranium\", \" lead\", \" aluminum\", \" zinc\", \" phosphorus\", \" xen\", \"on\"]], [[\"ge\", \"orge\", \" jack\", \" har\", \"ry\", \" ste\", \"ve\", \" l\", \"arry\", \" frank\", \" p\", \"aul\", \" sam\", \" d\", \"ave\", \" f\", \"red\"]], [[\"ge\", \"ology\", \" microbi\", \"ology\", \" sociology\", \" ent\", \"om\", \"ology\", \" medicine\", \" engineering\", \" bi\", \"ochemistry\", \" meteor\", \"ology\", \" physiology\", \" anatomy\"]], [[\"det\", \"roit\", \" d\", \"allas\", \" r\", \"ome\", \" bomb\", \"ay\", \" cle\", \"veland\", \" p\", \"itt\", \"sburgh\", \" den\", \"ver\", \" mont\", \"real\", \" to\", \"ky\", \"o\", \" mos\", \"cow\"]], [[\"t\", \"rom\", \"bone\", \" ob\", \"oe\", \" tub\", \"a\", \" har\", \"p\", \" cell\", \"o\", \" ban\", \"jo\", \" k\", \"az\", \"oo\", \" mar\", \"im\", \"ba\", \" viol\", \"a\", \" pic\", \"colo\"]], [[\"mix\", \"er\", \" cup\", \" dish\", \" be\", \"ater\", \" plate\", \" skillet\", \" refrigerator\", \" fry\", \"pan\", \" glass\", \" to\", \"aster\"]], [[\"ply\", \"mouth\", \" vol\", \"ks\", \"wagen\", \" r\", \"amb\", \"ler\", \" op\", \"el\", \" mer\", \"cedes\", \" fiat\", \" f\", \"err\", \"ari\", \" audi\", \" cor\", \"vette\", \" triumph\"]], [[\"sun\", \"fish\", \" cod\", \" blue\", \"g\", \"ill\", \" carp\", \" p\", \"ike\", \" min\", \"now\", \" gu\", \"ppy\", \" fl\", \"ound\", \"er\", \" mar\", \"lin\", \" bar\", \"rac\", \"uda\"]], [[\"sn\", \"ork\", \"ling\", \" lac\", \"rosse\", \" bad\", \"m\", \"inton\", \" bowling\", \" wrestling\", \" ar\", \"chery\", \" skiing\", \" fencing\", \" fishing\", \" hand\", \"ball\"]], [[\"n\", \"urse\", \" psychologist\", \" pl\", \"umber\", \" accountant\", \" businessman\", \" scientist\", \" clerk\", \" farmer\", \" under\", \"writer\", \" policeman\"]], [[\"wal\", \"nut\", \" fir\", \" h\", \"ick\", \"ory\", \" sy\", \"cam\", \"ore\", \" ash\", \" pop\", \"lar\", \" will\", \"ow\", \" chest\", \"nut\", \" c\", \"edar\", \" ever\", \"green\"]], [[\"hat\", \" sweater\", \" tie\", \" slip\", \" jacket\", \" sl\", \"acks\", \" gloves\", \" belt\", \" underwear\", \" shorts\"]], [[\"p\", \"neum\", \"onia\", \" small\", \"pox\", \" influenza\", \" en\", \"cephal\", \"itis\", \" le\", \"pro\", \"sy\", \" sy\", \"ph\", \"ill\", \"is\", \" hepatitis\", \" typh\", \"oid\", \" r\", \"ickets\", \" diabetes\"]]], \"hovertemplate\": \"prompt=2) mid (~30 tok)<br>set size (n. tokens)=%{x}<br>average -log LL=%{y}<br>token_list=%{customdata[0]}<extra></extra>\", \"legendgroup\": \"2) mid (~30 tok)\", \"marker\": {\"color\": \"#EF553B\"}, \"name\": \"2) mid (~30 tok)\", \"notched\": false, \"offsetgroup\": \"2) mid (~30 tok)\", \"orientation\": \"v\", \"showlegend\": true, \"type\": \"box\", \"x\": [3, 3, 3, 3, 3, 3, 3, 3, 3, 3, 3, 3, 3, 3, 3, 3, 3, 3, 3, 3, 5, 5, 5, 5, 5, 5, 5, 5, 5, 5, 5, 5, 5, 5, 5, 5, 5, 5, 5, 5, 10, 10, 10, 10, 10, 10, 10, 10, 10, 10, 10, 10, 10, 10, 10, 10, 10, 10, 10, 10], \"x0\": \" \", \"xaxis\": \"x\", \"y\": [0.8369442919890085, 0.9567774087190628, 0.4887953106857215, 0.3366082941259568, 0.4185300786048174, 0.31520262360572815, 0.7865948025137186, 0.36688951433461625, 0.7875286986430486, 0.4713920553040225, 0.4349396457172198, 0.7325152326375246, 0.5107229339579742, 0.5764786189053362, 0.3785060524241999, 0.70402063926061, 0.7715032473206521, 0.8182258456945419, 0.5799267292022705, 0.9066446969906488, 0.6748546361923218, 0.45979616045951843, 0.5228012905655695, 0.395662708958197, 0.50096803647466, 0.41663853423233377, 0.4169326083460224, 0.4291506533772918, 0.25569975112739485, 0.19290492768465942, 0.341143756704696, 0.25276651699095964, 0.3341230954392813, 0.346988591354933, 0.44857033131847857, 0.5255911970452871, 0.4746851303825679, 0.28416974281770474, 0.5492734896750855, 0.5311304360833934, 0.25304912880320835, 0.4741748634725809, 0.172606762151902, 0.16907693426320394, 0.2586199061081157, 0.17561390794968854, 0.38360549925127996, 0.3001406979747117, 0.1672074303119991, 0.10787504312975216, 0.10723084924657914, 0.107965757636323, 0.17287236819226695, 0.1102171384898611, 0.13084721761143078, 0.2885302669117878, 0.25109268237541144, 0.1565591694350587, 0.35927404909373517, 0.10807453184679616], \"y0\": \" \", \"yaxis\": \"y\"}, {\"alignmentgroup\": \"True\", \"boxpoints\": \"all\", \"customdata\": [[[\"window\", \" door\", \" roof\"]], [[\"leg\", \" arms\", \" head\"]], [[\"s\", \"ail\", \"boat\", \" destroyer\", \" battles\", \"hip\"]], [[\"ro\", \"bin\", \" sp\", \"arrow\", \" her\", \"on\"]], [[\"apple\", \" t\", \"angelo\", \" pear\"]], [[\"hammer\", \" saw\", \" nails\"]], [[\"hur\", \"ricane\", \" tornado\", \" rain\"]], [[\"oxy\", \"gen\", \" hydrogen\", \" nitrogen\"]], [[\"john\", \" bob\", \" bill\"]], [[\"chem\", \"istry\", \" physics\", \" psychology\"]], [[\"ch\", \"icago\", \" hel\", \"s\", \"inki\", \" tor\", \"onto\"]], [[\"p\", \"iano\", \" drum\", \" trumpet\"]], [[\"knife\", \" spoon\", \" fork\"]], [[\"ford\", \" che\", \"v\", \"rolet\", \" pont\", \"iac\"]], [[\"tr\", \"out\", \" gu\", \"pp\", \"ie\", \" shark\"]], [[\"football\", \" baseball\", \" basketball\"]], [[\"doctor\", \" lawyer\", \" teacher\"]], [[\"oak\", \" maple\", \" pine\"]], [[\"shirt\", \" socks\", \" pants\"]], [[\"cancer\", \" measles\", \" tuberculosis\"]], [[\"wall\", \" floor\", \" ceiling\", \" room\", \" basement\"]], [[\"eye\", \" foot\", \" nose\", \" finger\", \" ear\"]], [[\"cru\", \"iser\", \" submarine\", \" row\", \"boat\", \" yacht\", \" canoe\"]], [[\"e\", \"agle\", \" crow\", \" can\", \"ary\", \" par\", \"ake\", \"et\", \" hawk\"]], [[\"ban\", \"ana\", \" peach\", \" grape\", \" cherry\", \" plum\"]], [[\"level\", \" plane\", \" ch\", \"isel\", \" ruler\", \" wrench\"]], [[\"s\", \"now\", \" hail\", \" sle\", \"et\", \" storm\", \" wind\"]], [[\"carbon\", \" sodium\", \" k\", \"rypt\", \"on\", \" sulph\", \"ur\", \" helium\"]], [[\"j\", \"im\", \" tom\", \" jo\", \"e\", \" dick\", \" m\", \"ike\"]], [[\"biology\", \" zo\", \"ology\", \" bot\", \"any\", \" astronomy\", \" mathematics\"]], [[\"l\", \"ondon\", \" par\", \"is\", \" m\", \"iami\", \" b\", \"oston\", \" phil\", \"adelphia\"]], [[\"viol\", \"in\", \" clar\", \"inet\", \" fl\", \"ute\", \" guitar\", \" sax\", \"ophone\"]], [[\"pan\", \" pot\", \" spat\", \"ula\", \" stove\", \" bowl\"]], [[\"old\", \"sm\", \"obile\", \" bu\", \"ick\", \" cad\", \"illac\", \" dodge\", \" ch\", \"rys\", \"ler\"]], [[\"her\", \"ring\", \" per\", \"ch\", \" salmon\", \" tuna\", \" gold\", \"fish\"]], [[\"ten\", \"nis\", \" swimming\", \" soccer\", \" golf\", \" hockey\"]], [[\"d\", \"ent\", \"ist\", \" engineer\", \" professor\", \" car\", \"penter\", \" salesman\"]], [[\"el\", \"m\", \" bir\", \"ch\", \" l\", \"ind\", \"en\", \" sp\", \"ruce\", \" red\", \"wood\"]], [[\"sh\", \"oes\", \" bl\", \"ouse\", \" skirt\", \" coat\", \" dress\"]], [[\"m\", \"umps\", \" polio\", \" chicken\", \"pox\", \" malaria\", \" leukemia\"]], [[\"he\", \"arth\", \" hall\", \" corridor\", \" elevator\", \" chim\", \"ney\", \" foundation\", \" step\", \" stair\", \"way\", \" attic\", \" cup\", \"board\"]], [[\"hand\", \" toe\", \" mouth\", \" stomach\", \" hair\", \" neck\", \" heart\", \" knee\", \" chest\", \" liver\"]], [[\"fre\", \"ighter\", \" tug\", \"boat\", \" ste\", \"ams\", \"hip\", \" sch\", \"oon\", \"er\", \" liner\", \" motor\", \"boat\", \" c\", \"arg\", \"os\", \"hip\", \" cl\", \"ippers\", \"hip\", \" tanker\", \" b\", \"arge\"]], [[\"black\", \"bird\", \" w\", \"ren\", \" ori\", \"ole\", \" par\", \"rot\", \" pigeon\", \" star\", \"ling\", \" wood\", \"pe\", \"cker\", \" v\", \"ulture\", \" swallow\", \" chicken\"]], [[\"g\", \"rape\", \"fruit\", \" lemon\", \" t\", \"anger\", \"ine\", \" apr\", \"ic\", \"ot\", \" pineapple\", \" lime\", \" strawberry\", \" black\", \"berry\", \" water\", \"melon\", \" pr\", \"unes\"]], [[\"pl\", \"iers\", \" drill\", \" screws\", \" punch\", \" square\", \" file\", \" lat\", \"he\", \" sand\", \"paper\", \" aw\", \"l\", \" s\", \"ander\"]], [[\"cycl\", \"one\", \" clouds\", \" sunshine\", \" lightning\", \" typh\", \"oon\", \" thunder\", \" sm\", \"og\", \" bl\", \"izzard\", \" fog\", \" mon\", \"soon\"]], [[\"chlor\", \"ine\", \" calcium\", \" potassium\", \" magnesium\", \" uranium\", \" lead\", \" aluminum\", \" zinc\", \" phosphorus\", \" xen\", \"on\"]], [[\"ge\", \"orge\", \" jack\", \" har\", \"ry\", \" ste\", \"ve\", \" l\", \"arry\", \" frank\", \" p\", \"aul\", \" sam\", \" d\", \"ave\", \" f\", \"red\"]], [[\"ge\", \"ology\", \" microbi\", \"ology\", \" sociology\", \" ent\", \"om\", \"ology\", \" medicine\", \" engineering\", \" bi\", \"ochemistry\", \" meteor\", \"ology\", \" physiology\", \" anatomy\"]], [[\"det\", \"roit\", \" d\", \"allas\", \" r\", \"ome\", \" bomb\", \"ay\", \" cle\", \"veland\", \" p\", \"itt\", \"sburgh\", \" den\", \"ver\", \" mont\", \"real\", \" to\", \"ky\", \"o\", \" mos\", \"cow\"]], [[\"t\", \"rom\", \"bone\", \" ob\", \"oe\", \" tub\", \"a\", \" har\", \"p\", \" cell\", \"o\", \" ban\", \"jo\", \" k\", \"az\", \"oo\", \" mar\", \"im\", \"ba\", \" viol\", \"a\", \" pic\", \"colo\"]], [[\"mix\", \"er\", \" cup\", \" dish\", \" be\", \"ater\", \" plate\", \" skillet\", \" refrigerator\", \" fry\", \"pan\", \" glass\", \" to\", \"aster\"]], [[\"ply\", \"mouth\", \" vol\", \"ks\", \"wagen\", \" r\", \"amb\", \"ler\", \" op\", \"el\", \" mer\", \"cedes\", \" fiat\", \" f\", \"err\", \"ari\", \" audi\", \" cor\", \"vette\", \" triumph\"]], [[\"sun\", \"fish\", \" cod\", \" blue\", \"g\", \"ill\", \" carp\", \" p\", \"ike\", \" min\", \"now\", \" gu\", \"ppy\", \" fl\", \"ound\", \"er\", \" mar\", \"lin\", \" bar\", \"rac\", \"uda\"]], [[\"sn\", \"ork\", \"ling\", \" lac\", \"rosse\", \" bad\", \"m\", \"inton\", \" bowling\", \" wrestling\", \" ar\", \"chery\", \" skiing\", \" fencing\", \" fishing\", \" hand\", \"ball\"]], [[\"n\", \"urse\", \" psychologist\", \" pl\", \"umber\", \" accountant\", \" businessman\", \" scientist\", \" clerk\", \" farmer\", \" under\", \"writer\", \" policeman\"]], [[\"wal\", \"nut\", \" fir\", \" h\", \"ick\", \"ory\", \" sy\", \"cam\", \"ore\", \" ash\", \" pop\", \"lar\", \" will\", \"ow\", \" chest\", \"nut\", \" c\", \"edar\", \" ever\", \"green\"]], [[\"hat\", \" sweater\", \" tie\", \" slip\", \" jacket\", \" sl\", \"acks\", \" gloves\", \" belt\", \" underwear\", \" shorts\"]], [[\"p\", \"neum\", \"onia\", \" small\", \"pox\", \" influenza\", \" en\", \"cephal\", \"itis\", \" le\", \"pro\", \"sy\", \" sy\", \"ph\", \"ill\", \"is\", \" hepatitis\", \" typh\", \"oid\", \" r\", \"ickets\", \" diabetes\"]]], \"hovertemplate\": \"prompt=3) long (~60 tok)<br>set size (n. tokens)=%{x}<br>average -log LL=%{y}<br>token_list=%{customdata[0]}<extra></extra>\", \"legendgroup\": \"3) long (~60 tok)\", \"marker\": {\"color\": \"#00cc96\"}, \"name\": \"3) long (~60 tok)\", \"notched\": false, \"offsetgroup\": \"3) long (~60 tok)\", \"orientation\": \"v\", \"showlegend\": true, \"type\": \"box\", \"x\": [3, 3, 3, 3, 3, 3, 3, 3, 3, 3, 3, 3, 3, 3, 3, 3, 3, 3, 3, 3, 5, 5, 5, 5, 5, 5, 5, 5, 5, 5, 5, 5, 5, 5, 5, 5, 5, 5, 5, 5, 10, 10, 10, 10, 10, 10, 10, 10, 10, 10, 10, 10, 10, 10, 10, 10, 10, 10, 10, 10], \"x0\": \" \", \"xaxis\": \"x\", \"y\": [0.7179781893889109, 0.7770526111125946, 0.3841500661801547, 0.2755950497521553, 0.3220025225309655, 0.21828718483448029, 0.6202041229698807, 0.1940360721637262, 0.6579676295320193, 0.33685558156867046, 0.28702769349703366, 0.6034087450243533, 0.3963404484093189, 0.4994163603308455, 0.2703281964253013, 0.6393553713957468, 0.5167819038033485, 0.6612187623977661, 0.382954662044843, 0.6316139300664266, 0.5827824681997299, 0.37345009595155715, 0.4340588922911723, 0.3328944090495093, 0.4281745847547427, 0.3658138143509859, 0.3117611792695243, 0.30435282255348284, 0.16125175142951775, 0.12649970527438978, 0.25907269637682473, 0.23461685893643233, 0.28839634701337974, 0.261577226375018, 0.34771484751945536, 0.48549555098967784, 0.3770089616336918, 0.21381628879184558, 0.4724435724451074, 0.3981847149235754, 0.2354255760396232, 0.45163708701729777, 0.15788494680157822, 0.14139188373802528, 0.24667350086383522, 0.14685897782328539, 0.3778984026556524, 0.23224855075144055, 0.11579303331981304, 0.06736209015980421, 0.0871393241365943, 0.09267681360791397, 0.1571254615721825, 0.08670533625590907, 0.10887428084970452, 0.23183844457226394, 0.2660273115034215, 0.12079754017613595, 0.3132068681403656, 0.0877398527188482], \"y0\": \" \", \"yaxis\": \"y\"}],                        {\"boxmode\": \"group\", \"height\": 500, \"legend\": {\"title\": {\"text\": \"prompt\"}, \"tracegroupgap\": 0}, \"template\": {\"data\": {\"bar\": [{\"error_x\": {\"color\": \"#2a3f5f\"}, \"error_y\": {\"color\": \"#2a3f5f\"}, \"marker\": {\"line\": {\"color\": \"#E5ECF6\", \"width\": 0.5}}, \"type\": \"bar\"}], \"barpolar\": [{\"marker\": {\"line\": {\"color\": \"#E5ECF6\", \"width\": 0.5}}, \"type\": \"barpolar\"}], \"carpet\": [{\"aaxis\": {\"endlinecolor\": \"#2a3f5f\", \"gridcolor\": \"white\", \"linecolor\": \"white\", \"minorgridcolor\": \"white\", \"startlinecolor\": \"#2a3f5f\"}, \"baxis\": {\"endlinecolor\": \"#2a3f5f\", \"gridcolor\": \"white\", \"linecolor\": \"white\", \"minorgridcolor\": \"white\", \"startlinecolor\": \"#2a3f5f\"}, \"type\": \"carpet\"}], \"choropleth\": [{\"colorbar\": {\"outlinewidth\": 0, \"ticks\": \"\"}, \"type\": \"choropleth\"}], \"contour\": [{\"colorbar\": {\"outlinewidth\": 0, \"ticks\": \"\"}, \"colorscale\": [[0.0, \"#0d0887\"], [0.1111111111111111, \"#46039f\"], [0.2222222222222222, \"#7201a8\"], [0.3333333333333333, \"#9c179e\"], [0.4444444444444444, \"#bd3786\"], [0.5555555555555556, \"#d8576b\"], [0.6666666666666666, \"#ed7953\"], [0.7777777777777778, \"#fb9f3a\"], [0.8888888888888888, \"#fdca26\"], [1.0, \"#f0f921\"]], \"type\": \"contour\"}], \"contourcarpet\": [{\"colorbar\": {\"outlinewidth\": 0, \"ticks\": \"\"}, \"type\": \"contourcarpet\"}], \"heatmap\": [{\"colorbar\": {\"outlinewidth\": 0, \"ticks\": \"\"}, \"colorscale\": [[0.0, \"#0d0887\"], [0.1111111111111111, \"#46039f\"], [0.2222222222222222, \"#7201a8\"], [0.3333333333333333, \"#9c179e\"], [0.4444444444444444, \"#bd3786\"], [0.5555555555555556, \"#d8576b\"], [0.6666666666666666, \"#ed7953\"], [0.7777777777777778, \"#fb9f3a\"], [0.8888888888888888, \"#fdca26\"], [1.0, \"#f0f921\"]], \"type\": \"heatmap\"}], \"heatmapgl\": [{\"colorbar\": {\"outlinewidth\": 0, \"ticks\": \"\"}, \"colorscale\": [[0.0, \"#0d0887\"], [0.1111111111111111, \"#46039f\"], [0.2222222222222222, \"#7201a8\"], [0.3333333333333333, \"#9c179e\"], [0.4444444444444444, \"#bd3786\"], [0.5555555555555556, \"#d8576b\"], [0.6666666666666666, \"#ed7953\"], [0.7777777777777778, \"#fb9f3a\"], [0.8888888888888888, \"#fdca26\"], [1.0, \"#f0f921\"]], \"type\": \"heatmapgl\"}], \"histogram\": [{\"marker\": {\"colorbar\": {\"outlinewidth\": 0, \"ticks\": \"\"}}, \"type\": \"histogram\"}], \"histogram2d\": [{\"colorbar\": {\"outlinewidth\": 0, \"ticks\": \"\"}, \"colorscale\": [[0.0, \"#0d0887\"], [0.1111111111111111, \"#46039f\"], [0.2222222222222222, \"#7201a8\"], [0.3333333333333333, \"#9c179e\"], [0.4444444444444444, \"#bd3786\"], [0.5555555555555556, \"#d8576b\"], [0.6666666666666666, \"#ed7953\"], [0.7777777777777778, \"#fb9f3a\"], [0.8888888888888888, \"#fdca26\"], [1.0, \"#f0f921\"]], \"type\": \"histogram2d\"}], \"histogram2dcontour\": [{\"colorbar\": {\"outlinewidth\": 0, \"ticks\": \"\"}, \"colorscale\": [[0.0, \"#0d0887\"], [0.1111111111111111, \"#46039f\"], [0.2222222222222222, \"#7201a8\"], [0.3333333333333333, \"#9c179e\"], [0.4444444444444444, \"#bd3786\"], [0.5555555555555556, \"#d8576b\"], [0.6666666666666666, \"#ed7953\"], [0.7777777777777778, \"#fb9f3a\"], [0.8888888888888888, \"#fdca26\"], [1.0, \"#f0f921\"]], \"type\": \"histogram2dcontour\"}], \"mesh3d\": [{\"colorbar\": {\"outlinewidth\": 0, \"ticks\": \"\"}, \"type\": \"mesh3d\"}], \"parcoords\": [{\"line\": {\"colorbar\": {\"outlinewidth\": 0, \"ticks\": \"\"}}, \"type\": \"parcoords\"}], \"pie\": [{\"automargin\": true, \"type\": \"pie\"}], \"scatter\": [{\"marker\": {\"colorbar\": {\"outlinewidth\": 0, \"ticks\": \"\"}}, \"type\": \"scatter\"}], \"scatter3d\": [{\"line\": {\"colorbar\": {\"outlinewidth\": 0, \"ticks\": \"\"}}, \"marker\": {\"colorbar\": {\"outlinewidth\": 0, \"ticks\": \"\"}}, \"type\": \"scatter3d\"}], \"scattercarpet\": [{\"marker\": {\"colorbar\": {\"outlinewidth\": 0, \"ticks\": \"\"}}, \"type\": \"scattercarpet\"}], \"scattergeo\": [{\"marker\": {\"colorbar\": {\"outlinewidth\": 0, \"ticks\": \"\"}}, \"type\": \"scattergeo\"}], \"scattergl\": [{\"marker\": {\"colorbar\": {\"outlinewidth\": 0, \"ticks\": \"\"}}, \"type\": \"scattergl\"}], \"scattermapbox\": [{\"marker\": {\"colorbar\": {\"outlinewidth\": 0, \"ticks\": \"\"}}, \"type\": \"scattermapbox\"}], \"scatterpolar\": [{\"marker\": {\"colorbar\": {\"outlinewidth\": 0, \"ticks\": \"\"}}, \"type\": \"scatterpolar\"}], \"scatterpolargl\": [{\"marker\": {\"colorbar\": {\"outlinewidth\": 0, \"ticks\": \"\"}}, \"type\": \"scatterpolargl\"}], \"scatterternary\": [{\"marker\": {\"colorbar\": {\"outlinewidth\": 0, \"ticks\": \"\"}}, \"type\": \"scatterternary\"}], \"surface\": [{\"colorbar\": {\"outlinewidth\": 0, \"ticks\": \"\"}, \"colorscale\": [[0.0, \"#0d0887\"], [0.1111111111111111, \"#46039f\"], [0.2222222222222222, \"#7201a8\"], [0.3333333333333333, \"#9c179e\"], [0.4444444444444444, \"#bd3786\"], [0.5555555555555556, \"#d8576b\"], [0.6666666666666666, \"#ed7953\"], [0.7777777777777778, \"#fb9f3a\"], [0.8888888888888888, \"#fdca26\"], [1.0, \"#f0f921\"]], \"type\": \"surface\"}], \"table\": [{\"cells\": {\"fill\": {\"color\": \"#EBF0F8\"}, \"line\": {\"color\": \"white\"}}, \"header\": {\"fill\": {\"color\": \"#C8D4E3\"}, \"line\": {\"color\": \"white\"}}, \"type\": \"table\"}]}, \"layout\": {\"annotationdefaults\": {\"arrowcolor\": \"#2a3f5f\", \"arrowhead\": 0, \"arrowwidth\": 1}, \"coloraxis\": {\"colorbar\": {\"outlinewidth\": 0, \"ticks\": \"\"}}, \"colorscale\": {\"diverging\": [[0, \"#8e0152\"], [0.1, \"#c51b7d\"], [0.2, \"#de77ae\"], [0.3, \"#f1b6da\"], [0.4, \"#fde0ef\"], [0.5, \"#f7f7f7\"], [0.6, \"#e6f5d0\"], [0.7, \"#b8e186\"], [0.8, \"#7fbc41\"], [0.9, \"#4d9221\"], [1, \"#276419\"]], \"sequential\": [[0.0, \"#0d0887\"], [0.1111111111111111, \"#46039f\"], [0.2222222222222222, \"#7201a8\"], [0.3333333333333333, \"#9c179e\"], [0.4444444444444444, \"#bd3786\"], [0.5555555555555556, \"#d8576b\"], [0.6666666666666666, \"#ed7953\"], [0.7777777777777778, \"#fb9f3a\"], [0.8888888888888888, \"#fdca26\"], [1.0, \"#f0f921\"]], \"sequentialminus\": [[0.0, \"#0d0887\"], [0.1111111111111111, \"#46039f\"], [0.2222222222222222, \"#7201a8\"], [0.3333333333333333, \"#9c179e\"], [0.4444444444444444, \"#bd3786\"], [0.5555555555555556, \"#d8576b\"], [0.6666666666666666, \"#ed7953\"], [0.7777777777777778, \"#fb9f3a\"], [0.8888888888888888, \"#fdca26\"], [1.0, \"#f0f921\"]]}, \"colorway\": [\"#636efa\", \"#EF553B\", \"#00cc96\", \"#ab63fa\", \"#FFA15A\", \"#19d3f3\", \"#FF6692\", \"#B6E880\", \"#FF97FF\", \"#FECB52\"], \"font\": {\"color\": \"#2a3f5f\"}, \"geo\": {\"bgcolor\": \"white\", \"lakecolor\": \"white\", \"landcolor\": \"#E5ECF6\", \"showlakes\": true, \"showland\": true, \"subunitcolor\": \"white\"}, \"hoverlabel\": {\"align\": \"left\"}, \"hovermode\": \"closest\", \"mapbox\": {\"style\": \"light\"}, \"paper_bgcolor\": \"white\", \"plot_bgcolor\": \"#E5ECF6\", \"polar\": {\"angularaxis\": {\"gridcolor\": \"white\", \"linecolor\": \"white\", \"ticks\": \"\"}, \"bgcolor\": \"#E5ECF6\", \"radialaxis\": {\"gridcolor\": \"white\", \"linecolor\": \"white\", \"ticks\": \"\"}}, \"scene\": {\"xaxis\": {\"backgroundcolor\": \"#E5ECF6\", \"gridcolor\": \"white\", \"gridwidth\": 2, \"linecolor\": \"white\", \"showbackground\": true, \"ticks\": \"\", \"zerolinecolor\": \"white\"}, \"yaxis\": {\"backgroundcolor\": \"#E5ECF6\", \"gridcolor\": \"white\", \"gridwidth\": 2, \"linecolor\": \"white\", \"showbackground\": true, \"ticks\": \"\", \"zerolinecolor\": \"white\"}, \"zaxis\": {\"backgroundcolor\": \"#E5ECF6\", \"gridcolor\": \"white\", \"gridwidth\": 2, \"linecolor\": \"white\", \"showbackground\": true, \"ticks\": \"\", \"zerolinecolor\": \"white\"}}, \"shapedefaults\": {\"line\": {\"color\": \"#2a3f5f\"}}, \"ternary\": {\"aaxis\": {\"gridcolor\": \"white\", \"linecolor\": \"white\", \"ticks\": \"\"}, \"baxis\": {\"gridcolor\": \"white\", \"linecolor\": \"white\", \"ticks\": \"\"}, \"bgcolor\": \"#E5ECF6\", \"caxis\": {\"gridcolor\": \"white\", \"linecolor\": \"white\", \"ticks\": \"\"}}, \"title\": {\"x\": 0.05}, \"xaxis\": {\"automargin\": true, \"gridcolor\": \"white\", \"linecolor\": \"white\", \"ticks\": \"\", \"title\": {\"standoff\": 15}, \"zerolinecolor\": \"white\", \"zerolinewidth\": 2}, \"yaxis\": {\"automargin\": true, \"gridcolor\": \"white\", \"linecolor\": \"white\", \"ticks\": \"\", \"title\": {\"standoff\": 15}, \"zerolinecolor\": \"white\", \"zerolinewidth\": 2}}}, \"title\": {\"text\": \"Mean neg. LL on second list presentation (semantic, repeat)\"}, \"width\": 1200, \"xaxis\": {\"anchor\": \"y\", \"domain\": [0.0, 1.0], \"title\": {\"text\": \"set size (n. tokens)\"}, \"type\": \"category\"}, \"yaxis\": {\"anchor\": \"x\", \"domain\": [0.0, 1.0], \"title\": {\"text\": \"average -log LL\"}}},                        {\"responsive\": true}                    ).then(function(){\n",
       "                            \n",
       "var gd = document.getElementById('4ba43d4c-d2eb-44dd-bad8-507ae9b48f9c');\n",
       "var x = new MutationObserver(function (mutations, observer) {{\n",
       "        var display = window.getComputedStyle(gd).display;\n",
       "        if (!display || display === 'none') {{\n",
       "            console.log([gd, 'removed!']);\n",
       "            Plotly.purge(gd);\n",
       "            observer.disconnect();\n",
       "        }}\n",
       "}});\n",
       "\n",
       "// Listen for the removal of the full notebook cells\n",
       "var notebookContainer = gd.closest('#notebook-container');\n",
       "if (notebookContainer) {{\n",
       "    x.observe(notebookContainer, {childList: true});\n",
       "}}\n",
       "\n",
       "// Listen for the clearing of the current output cell\n",
       "var outputEl = gd.closest('.output');\n",
       "if (outputEl) {{\n",
       "    x.observe(outputEl, {childList: true});\n",
       "}}\n",
       "\n",
       "                        })                };                });            </script>        </div>"
      ]
     },
     "metadata": {},
     "output_type": "display_data"
    }
   ],
   "source": [
    "fig = px.box(dagg, x=\"set_size_\", y=\"ppl_mean\", points=\"all\", color=\"prompt_\", \n",
    "             hover_data=[\"token_list\"], \n",
    "             labels={\"set_size_\": \"set size (n. tokens)\", \"ppl_mean\": \"average -log LL\",\n",
    "                   \"prompt_\": \"prompt\", \"second_list_\": \"word order\"},\n",
    "            category_orders = {\"prompt\": [\"short (~8 tok)\", \"mid (~30 tok)\", \"long (~60 tok)\"]},\n",
    "            width=figwidth, height=figheight,\n",
    "            title=\"Mean neg. LL on second list presentation ({}, {})\" \\\n",
    "                   .format(semlist, wordorder))\n",
    "fig.update_xaxes(type='category')\n",
    "fig.show()"
   ]
  },
  {
   "cell_type": "code",
   "execution_count": 19,
   "metadata": {},
   "outputs": [],
   "source": [
    "fig.write_image(\"./figures/perp_{}_{}.png\".format(semlist, wordorder))"
   ]
  },
  {
   "cell_type": "code",
   "execution_count": 20,
   "metadata": {},
   "outputs": [],
   "source": [
    "# let's filter some stuff\n",
    "dftmp = None\n",
    "semlist = \"semantic\"\n",
    "wordorder = \"permute\"\n",
    "dftmp = df2.loc[(~df2.ispunct)  & (df2.list == semlist) & (df2.second_list == wordorder), :]          # remove punctuation\n",
    "dftmp = dftmp.loc[(dftmp.trialID == 3), :]  # only look at the first presentation word list\n",
    "dftmp[\"prompt\"] = dftmp[\"prompt\"].str.replace(\"sce1-1\", \"1) short (~8 tok)\")\n",
    "dftmp[\"prompt\"] = dftmp[\"prompt\"].str.replace(\"sce1-3\", \"2) mid (~30 tok)\")\n",
    "dftmp[\"prompt\"] = dftmp[\"prompt\"].str.replace(\"sce1-5\", \"3) long (~60 tok)\")"
   ]
  },
  {
   "cell_type": "code",
   "execution_count": 21,
   "metadata": {},
   "outputs": [],
   "source": [
    "dagg = None\n",
    "dagg = dftmp.groupby([\"prompt\", \"set_size\", \"stimID\"]) \\\n",
    "            .agg({\"ppl\": [\"mean\", \"std\"], \"token\": list}) \\\n",
    "            .reset_index()\n",
    "dagg.columns = ['_'.join(col).strip() for col in dagg.columns.values]"
   ]
  },
  {
   "cell_type": "code",
   "execution_count": 22,
   "metadata": {},
   "outputs": [
    {
     "data": {
      "application/vnd.plotly.v1+json": {
       "config": {
        "plotlyServerURL": "https://plot.ly"
       },
       "data": [
        {
         "alignmentgroup": "True",
         "boxpoints": "all",
         "customdata": [
          [
           [
            " roof",
            " window",
            " door"
           ]
          ],
          [
           [
            " head",
            " leg",
            " arms"
           ]
          ],
          [
           [
            " battles",
            "hip",
            " sail",
            "boat",
            " destroyer"
           ]
          ],
          [
           [
            " rob",
            "in",
            " sp",
            "arrow",
            " her",
            "on"
           ]
          ],
          [
           [
            " pear",
            " apple",
            " t",
            "angelo"
           ]
          ],
          [
           [
            " saw",
            " nails",
            " hammer"
           ]
          ],
          [
           [
            " hurricane",
            " rain",
            " tornado"
           ]
          ],
          [
           [
            " hydrogen",
            " nitrogen",
            " oxygen"
           ]
          ],
          [
           [
            " bob",
            " bill",
            " john"
           ]
          ],
          [
           [
            " chemistry",
            " psychology",
            " physics"
           ]
          ],
          [
           [
            " hel",
            "s",
            "inki",
            " tor",
            "onto",
            " ch",
            "icago"
           ]
          ],
          [
           [
            " drum",
            " piano",
            " trumpet"
           ]
          ],
          [
           [
            " spoon",
            " knife",
            " fork"
           ]
          ],
          [
           [
            " for",
            "d",
            " pont",
            "iac",
            " che",
            "v",
            "rolet"
           ]
          ],
          [
           [
            " trout",
            " gu",
            "pp",
            "ie",
            " shark"
           ]
          ],
          [
           [
            " baseball",
            " football",
            " basketball"
           ]
          ],
          [
           [
            " teacher",
            " doctor",
            " lawyer"
           ]
          ],
          [
           [
            " oak",
            " pine",
            " maple"
           ]
          ],
          [
           [
            " shirt",
            " pants",
            " socks"
           ]
          ],
          [
           [
            " tuberculosis",
            " measles",
            " cancer"
           ]
          ],
          [
           [
            " ceiling",
            " wall",
            " basement",
            " room",
            " floor"
           ]
          ],
          [
           [
            " nose",
            " finger",
            " foot",
            " eye",
            " ear"
           ]
          ],
          [
           [
            " cruiser",
            " submarine",
            " yacht",
            " row",
            "boat",
            " canoe"
           ]
          ],
          [
           [
            " eagle",
            " crow",
            " par",
            "ake",
            "et",
            " can",
            "ary",
            " hawk"
           ]
          ],
          [
           [
            " cherry",
            " plum",
            " banana",
            " grape",
            " peach"
           ]
          ],
          [
           [
            " level",
            " plane",
            " ruler",
            " wrench",
            " ch",
            "isel"
           ]
          ],
          [
           [
            " hail",
            " sle",
            "et",
            " storm",
            " snow",
            " wind"
           ]
          ],
          [
           [
            " helium",
            " sulph",
            "ur",
            " sodium",
            " k",
            "rypt",
            "on",
            " carbon"
           ]
          ],
          [
           [
            " jo",
            "e",
            " tom",
            " dick",
            " m",
            "ike",
            " j",
            "im"
           ]
          ],
          [
           [
            " mathematics",
            " astronomy",
            " zo",
            "ology",
            " bot",
            "any",
            " biology"
           ]
          ],
          [
           [
            " b",
            "oston",
            " l",
            "ondon",
            " m",
            "iami",
            " phil",
            "adelphia",
            " par",
            "is"
           ]
          ],
          [
           [
            " guitar",
            " fl",
            "ute",
            " clar",
            "inet",
            " violin",
            " sax",
            "ophone"
           ]
          ],
          [
           [
            " bowl",
            " stove",
            " pan",
            " pot",
            " spat",
            "ula"
           ]
          ],
          [
           [
            " cad",
            "illac",
            " bu",
            "ick",
            " dodge",
            " ch",
            "rys",
            "ler",
            " old",
            "sm",
            "obile"
           ]
          ],
          [
           [
            " per",
            "ch",
            " gold",
            "fish",
            " salmon",
            " tuna",
            " her",
            "ring"
           ]
          ],
          [
           [
            " golf",
            " tennis",
            " hockey",
            " soccer",
            " swimming"
           ]
          ],
          [
           [
            " dentist",
            " professor",
            " salesman",
            " engineer",
            " car",
            "penter"
           ]
          ],
          [
           [
            " red",
            "wood",
            " l",
            "ind",
            "en",
            " sp",
            "ruce",
            " el",
            "m",
            " bir",
            "ch"
           ]
          ],
          [
           [
            " dress",
            " shoes",
            " skirt",
            " bl",
            "ouse",
            " coat"
           ]
          ],
          [
           [
            " chicken",
            "pox",
            " m",
            "umps",
            " malaria",
            " leukemia",
            " polio"
           ]
          ],
          [
           [
            " stair",
            "way",
            " corridor",
            " elevator",
            " cup",
            "board",
            " attic",
            " hear",
            "th",
            " step",
            " chim",
            "ney",
            " foundation",
            " hall"
           ]
          ],
          [
           [
            " liver",
            " toe",
            " chest",
            " hand",
            " hair",
            " heart",
            " neck",
            " stomach",
            " knee",
            " mouth"
           ]
          ],
          [
           [
            " fre",
            "ighter",
            " c",
            "arg",
            "os",
            "hip",
            " motor",
            "boat",
            " sch",
            "oon",
            "er",
            " tug",
            "boat",
            " tanker",
            " b",
            "arge",
            " ste",
            "ams",
            "hip",
            " cl",
            "ippers",
            "hip",
            " liner"
           ]
          ],
          [
           [
            " ori",
            "ole",
            " star",
            "ling",
            " par",
            "rot",
            " chicken",
            " w",
            "ren",
            " v",
            "ulture",
            " pigeon",
            " black",
            "bird",
            " wood",
            "pe",
            "cker",
            " swallow"
           ]
          ],
          [
           [
            " lemon",
            " pineapple",
            " water",
            "melon",
            " apr",
            "ic",
            "ot",
            " t",
            "anger",
            "ine",
            " pr",
            "unes",
            " grape",
            "fruit",
            " lime",
            " black",
            "berry",
            " strawberry"
           ]
          ],
          [
           [
            " pl",
            "iers",
            " aw",
            "l",
            " lat",
            "he",
            " file",
            " square",
            " s",
            "ander",
            " sand",
            "paper",
            " drill",
            " screws",
            " punch"
           ]
          ],
          [
           [
            " thunder",
            " typh",
            "oon",
            " bl",
            "izzard",
            " mon",
            "soon",
            " fog",
            " lightning",
            " sunshine",
            " cycl",
            "one",
            " sm",
            "og",
            " clouds"
           ]
          ],
          [
           [
            " calcium",
            " chlorine",
            " magnesium",
            " aluminum",
            " lead",
            " uranium",
            " xen",
            "on",
            " phosphorus",
            " potassium",
            " zinc"
           ]
          ],
          [
           [
            " ste",
            "ve",
            " l",
            "arry",
            " sam",
            " f",
            "red",
            " har",
            "ry",
            " ge",
            "orge",
            " frank",
            " d",
            "ave",
            " jack",
            " p",
            "aul"
           ]
          ],
          [
           [
            " microbi",
            "ology",
            " anatomy",
            " meteor",
            "ology",
            " physiology",
            " sociology",
            " engineering",
            " medicine",
            " ge",
            "ology",
            " bi",
            "ochemistry",
            " ent",
            "om",
            "ology"
           ]
          ],
          [
           [
            " to",
            "ky",
            "o",
            " cle",
            "veland",
            " mos",
            "cow",
            " det",
            "roit",
            " d",
            "allas",
            " p",
            "itt",
            "sburgh",
            " mont",
            "real",
            " den",
            "ver",
            " bomb",
            "ay",
            " r",
            "ome"
           ]
          ],
          [
           [
            " har",
            "p",
            " viol",
            "a",
            " ob",
            "oe",
            " pic",
            "colo",
            " cell",
            "o",
            " ban",
            "jo",
            " k",
            "az",
            "oo",
            " tub",
            "a",
            " mar",
            "im",
            "ba",
            " t",
            "rom",
            "bone"
           ]
          ],
          [
           [
            " dish",
            " glass",
            " to",
            "aster",
            " mixer",
            " cup",
            " plate",
            " be",
            "ater",
            " skillet",
            " refrigerator",
            " fry",
            "pan"
           ]
          ],
          [
           [
            " op",
            "el",
            " f",
            "err",
            "ari",
            " mer",
            "cedes",
            " ply",
            "mouth",
            " vol",
            "ks",
            "wagen",
            " cor",
            "vette",
            " triumph",
            " fiat",
            " r",
            "amb",
            "ler",
            " audi"
           ]
          ],
          [
           [
            " fl",
            "ound",
            "er",
            " cod",
            " carp",
            " sun",
            "fish",
            " p",
            "ike",
            " blue",
            "g",
            "ill",
            " bar",
            "rac",
            "uda",
            " mar",
            "lin",
            " gu",
            "ppy",
            " min",
            "now"
           ]
          ],
          [
           [
            " ar",
            "chery",
            " skiing",
            " bad",
            "m",
            "inton",
            " fencing",
            " bowling",
            " fishing",
            " sn",
            "ork",
            "ling",
            " hand",
            "ball",
            " lac",
            "rosse",
            " wrestling"
           ]
          ],
          [
           [
            " nurse",
            " clerk",
            " psychologist",
            " under",
            "writer",
            " businessman",
            " pl",
            "umber",
            " accountant",
            " farmer",
            " scientist",
            " policeman"
           ]
          ],
          [
           [
            " ash",
            " ever",
            "green",
            " chest",
            "nut",
            " wal",
            "nut",
            " h",
            "ick",
            "ory",
            " pop",
            "lar",
            " will",
            "ow",
            " fir",
            " c",
            "edar",
            " sy",
            "cam",
            "ore"
           ]
          ],
          [
           [
            " slip",
            " shorts",
            " gloves",
            " sl",
            "acks",
            " sweater",
            " underwear",
            " hat",
            " belt",
            " jacket",
            " tie"
           ]
          ],
          [
           [
            " influenza",
            " pneumonia",
            " r",
            "ickets",
            " le",
            "pro",
            "sy",
            " diabetes",
            " small",
            "pox",
            " typh",
            "oid",
            " hepatitis",
            " sy",
            "ph",
            "ill",
            "is",
            " en",
            "cephal",
            "itis"
           ]
          ]
         ],
         "hovertemplate": "prompt=1) short (~8 tok)<br>set size (n. tokens)=%{x}<br>average -log LL=%{y}<br>token_list=%{customdata[0]}<extra></extra>",
         "legendgroup": "1) short (~8 tok)",
         "marker": {
          "color": "#636efa"
         },
         "name": "1) short (~8 tok)",
         "notched": false,
         "offsetgroup": "1) short (~8 tok)",
         "orientation": "v",
         "showlegend": true,
         "type": "box",
         "x": [
          3,
          3,
          3,
          3,
          3,
          3,
          3,
          3,
          3,
          3,
          3,
          3,
          3,
          3,
          3,
          3,
          3,
          3,
          3,
          3,
          5,
          5,
          5,
          5,
          5,
          5,
          5,
          5,
          5,
          5,
          5,
          5,
          5,
          5,
          5,
          5,
          5,
          5,
          5,
          5,
          10,
          10,
          10,
          10,
          10,
          10,
          10,
          10,
          10,
          10,
          10,
          10,
          10,
          10,
          10,
          10,
          10,
          10,
          10,
          10
         ],
         "x0": " ",
         "xaxis": "x",
         "y": [
          2.3598462541898093,
          3.0946666399637857,
          2.9567315792664886,
          0.35984567215200514,
          1.898407110478729,
          2.8946880102157593,
          2.657385508219401,
          2.1512469450632734,
          2.031781335671743,
          2.1351151466369633,
          1.434879844525962,
          2.813329339027405,
          2.451967736085256,
          1.2481073278384949,
          0.5112654459662737,
          1.9362184703350067,
          2.398118942975998,
          1.9679828484853108,
          1.7566556135813396,
          3.4547632932662964,
          2.9451738953590394,
          2.866845631599426,
          1.7937667035730556,
          1.4576329468982294,
          2.824439764022827,
          1.5916680007940158,
          2.088441156122523,
          2.2743899608030915,
          1.5205814719665796,
          2.4046832203748636,
          1.7362055742560187,
          1.7720090338807495,
          2.569403646833962,
          1.7606356220997192,
          2.232336980639957,
          2.8515224933624266,
          2.888728561035047,
          1.5558728937440636,
          2.7326821974662985,
          2.2816503318026666,
          3.037190080678556,
          4.931553506851197,
          1.6954446201631546,
          2.5305637893454533,
          1.995728722670012,
          2.753869478031993,
          2.8104469898001603,
          3.3424430309995925,
          2.62470474582412,
          2.4853625366231427,
          2.1206655947277215,
          1.9757644368371035,
          2.461184698976397,
          2.2643074263098244,
          2.025643993146895,
          3.2059365145773078,
          2.904317015752895,
          2.3219146871750125,
          4.770523727363483,
          1.8845754175374168
         ],
         "y0": " ",
         "yaxis": "y"
        },
        {
         "alignmentgroup": "True",
         "boxpoints": "all",
         "customdata": [
          [
           [
            " roof",
            " window",
            " door"
           ]
          ],
          [
           [
            " head",
            " leg",
            " arms"
           ]
          ],
          [
           [
            " battles",
            "hip",
            " sail",
            "boat",
            " destroyer"
           ]
          ],
          [
           [
            " rob",
            "in",
            " sp",
            "arrow",
            " her",
            "on"
           ]
          ],
          [
           [
            " pear",
            " apple",
            " t",
            "angelo"
           ]
          ],
          [
           [
            " saw",
            " nails",
            " hammer"
           ]
          ],
          [
           [
            " hurricane",
            " rain",
            " tornado"
           ]
          ],
          [
           [
            " hydrogen",
            " nitrogen",
            " oxygen"
           ]
          ],
          [
           [
            " bob",
            " bill",
            " john"
           ]
          ],
          [
           [
            " chemistry",
            " psychology",
            " physics"
           ]
          ],
          [
           [
            " hel",
            "s",
            "inki",
            " tor",
            "onto",
            " ch",
            "icago"
           ]
          ],
          [
           [
            " drum",
            " piano",
            " trumpet"
           ]
          ],
          [
           [
            " spoon",
            " knife",
            " fork"
           ]
          ],
          [
           [
            " for",
            "d",
            " pont",
            "iac",
            " che",
            "v",
            "rolet"
           ]
          ],
          [
           [
            " trout",
            " gu",
            "pp",
            "ie",
            " shark"
           ]
          ],
          [
           [
            " baseball",
            " football",
            " basketball"
           ]
          ],
          [
           [
            " teacher",
            " doctor",
            " lawyer"
           ]
          ],
          [
           [
            " oak",
            " pine",
            " maple"
           ]
          ],
          [
           [
            " shirt",
            " pants",
            " socks"
           ]
          ],
          [
           [
            " tuberculosis",
            " measles",
            " cancer"
           ]
          ],
          [
           [
            " ceiling",
            " wall",
            " basement",
            " room",
            " floor"
           ]
          ],
          [
           [
            " nose",
            " finger",
            " foot",
            " eye",
            " ear"
           ]
          ],
          [
           [
            " cruiser",
            " submarine",
            " yacht",
            " row",
            "boat",
            " canoe"
           ]
          ],
          [
           [
            " eagle",
            " crow",
            " par",
            "ake",
            "et",
            " can",
            "ary",
            " hawk"
           ]
          ],
          [
           [
            " cherry",
            " plum",
            " banana",
            " grape",
            " peach"
           ]
          ],
          [
           [
            " level",
            " plane",
            " ruler",
            " wrench",
            " ch",
            "isel"
           ]
          ],
          [
           [
            " hail",
            " sle",
            "et",
            " storm",
            " snow",
            " wind"
           ]
          ],
          [
           [
            " helium",
            " sulph",
            "ur",
            " sodium",
            " k",
            "rypt",
            "on",
            " carbon"
           ]
          ],
          [
           [
            " jo",
            "e",
            " tom",
            " dick",
            " m",
            "ike",
            " j",
            "im"
           ]
          ],
          [
           [
            " mathematics",
            " astronomy",
            " zo",
            "ology",
            " bot",
            "any",
            " biology"
           ]
          ],
          [
           [
            " b",
            "oston",
            " l",
            "ondon",
            " m",
            "iami",
            " phil",
            "adelphia",
            " par",
            "is"
           ]
          ],
          [
           [
            " guitar",
            " fl",
            "ute",
            " clar",
            "inet",
            " violin",
            " sax",
            "ophone"
           ]
          ],
          [
           [
            " bowl",
            " stove",
            " pan",
            " pot",
            " spat",
            "ula"
           ]
          ],
          [
           [
            " cad",
            "illac",
            " bu",
            "ick",
            " dodge",
            " ch",
            "rys",
            "ler",
            " old",
            "sm",
            "obile"
           ]
          ],
          [
           [
            " per",
            "ch",
            " gold",
            "fish",
            " salmon",
            " tuna",
            " her",
            "ring"
           ]
          ],
          [
           [
            " golf",
            " tennis",
            " hockey",
            " soccer",
            " swimming"
           ]
          ],
          [
           [
            " dentist",
            " professor",
            " salesman",
            " engineer",
            " car",
            "penter"
           ]
          ],
          [
           [
            " red",
            "wood",
            " l",
            "ind",
            "en",
            " sp",
            "ruce",
            " el",
            "m",
            " bir",
            "ch"
           ]
          ],
          [
           [
            " dress",
            " shoes",
            " skirt",
            " bl",
            "ouse",
            " coat"
           ]
          ],
          [
           [
            " chicken",
            "pox",
            " m",
            "umps",
            " malaria",
            " leukemia",
            " polio"
           ]
          ],
          [
           [
            " stair",
            "way",
            " corridor",
            " elevator",
            " cup",
            "board",
            " attic",
            " hear",
            "th",
            " step",
            " chim",
            "ney",
            " foundation",
            " hall"
           ]
          ],
          [
           [
            " liver",
            " toe",
            " chest",
            " hand",
            " hair",
            " heart",
            " neck",
            " stomach",
            " knee",
            " mouth"
           ]
          ],
          [
           [
            " fre",
            "ighter",
            " c",
            "arg",
            "os",
            "hip",
            " motor",
            "boat",
            " sch",
            "oon",
            "er",
            " tug",
            "boat",
            " tanker",
            " b",
            "arge",
            " ste",
            "ams",
            "hip",
            " cl",
            "ippers",
            "hip",
            " liner"
           ]
          ],
          [
           [
            " ori",
            "ole",
            " star",
            "ling",
            " par",
            "rot",
            " chicken",
            " w",
            "ren",
            " v",
            "ulture",
            " pigeon",
            " black",
            "bird",
            " wood",
            "pe",
            "cker",
            " swallow"
           ]
          ],
          [
           [
            " lemon",
            " pineapple",
            " water",
            "melon",
            " apr",
            "ic",
            "ot",
            " t",
            "anger",
            "ine",
            " pr",
            "unes",
            " grape",
            "fruit",
            " lime",
            " black",
            "berry",
            " strawberry"
           ]
          ],
          [
           [
            " pl",
            "iers",
            " aw",
            "l",
            " lat",
            "he",
            " file",
            " square",
            " s",
            "ander",
            " sand",
            "paper",
            " drill",
            " screws",
            " punch"
           ]
          ],
          [
           [
            " thunder",
            " typh",
            "oon",
            " bl",
            "izzard",
            " mon",
            "soon",
            " fog",
            " lightning",
            " sunshine",
            " cycl",
            "one",
            " sm",
            "og",
            " clouds"
           ]
          ],
          [
           [
            " calcium",
            " chlorine",
            " magnesium",
            " aluminum",
            " lead",
            " uranium",
            " xen",
            "on",
            " phosphorus",
            " potassium",
            " zinc"
           ]
          ],
          [
           [
            " ste",
            "ve",
            " l",
            "arry",
            " sam",
            " f",
            "red",
            " har",
            "ry",
            " ge",
            "orge",
            " frank",
            " d",
            "ave",
            " jack",
            " p",
            "aul"
           ]
          ],
          [
           [
            " microbi",
            "ology",
            " anatomy",
            " meteor",
            "ology",
            " physiology",
            " sociology",
            " engineering",
            " medicine",
            " ge",
            "ology",
            " bi",
            "ochemistry",
            " ent",
            "om",
            "ology"
           ]
          ],
          [
           [
            " to",
            "ky",
            "o",
            " cle",
            "veland",
            " mos",
            "cow",
            " det",
            "roit",
            " d",
            "allas",
            " p",
            "itt",
            "sburgh",
            " mont",
            "real",
            " den",
            "ver",
            " bomb",
            "ay",
            " r",
            "ome"
           ]
          ],
          [
           [
            " har",
            "p",
            " viol",
            "a",
            " ob",
            "oe",
            " pic",
            "colo",
            " cell",
            "o",
            " ban",
            "jo",
            " k",
            "az",
            "oo",
            " tub",
            "a",
            " mar",
            "im",
            "ba",
            " t",
            "rom",
            "bone"
           ]
          ],
          [
           [
            " dish",
            " glass",
            " to",
            "aster",
            " mixer",
            " cup",
            " plate",
            " be",
            "ater",
            " skillet",
            " refrigerator",
            " fry",
            "pan"
           ]
          ],
          [
           [
            " op",
            "el",
            " f",
            "err",
            "ari",
            " mer",
            "cedes",
            " ply",
            "mouth",
            " vol",
            "ks",
            "wagen",
            " cor",
            "vette",
            " triumph",
            " fiat",
            " r",
            "amb",
            "ler",
            " audi"
           ]
          ],
          [
           [
            " fl",
            "ound",
            "er",
            " cod",
            " carp",
            " sun",
            "fish",
            " p",
            "ike",
            " blue",
            "g",
            "ill",
            " bar",
            "rac",
            "uda",
            " mar",
            "lin",
            " gu",
            "ppy",
            " min",
            "now"
           ]
          ],
          [
           [
            " ar",
            "chery",
            " skiing",
            " bad",
            "m",
            "inton",
            " fencing",
            " bowling",
            " fishing",
            " sn",
            "ork",
            "ling",
            " hand",
            "ball",
            " lac",
            "rosse",
            " wrestling"
           ]
          ],
          [
           [
            " nurse",
            " clerk",
            " psychologist",
            " under",
            "writer",
            " businessman",
            " pl",
            "umber",
            " accountant",
            " farmer",
            " scientist",
            " policeman"
           ]
          ],
          [
           [
            " ash",
            " ever",
            "green",
            " chest",
            "nut",
            " wal",
            "nut",
            " h",
            "ick",
            "ory",
            " pop",
            "lar",
            " will",
            "ow",
            " fir",
            " c",
            "edar",
            " sy",
            "cam",
            "ore"
           ]
          ],
          [
           [
            " slip",
            " shorts",
            " gloves",
            " sl",
            "acks",
            " sweater",
            " underwear",
            " hat",
            " belt",
            " jacket",
            " tie"
           ]
          ],
          [
           [
            " influenza",
            " pneumonia",
            " r",
            "ickets",
            " le",
            "pro",
            "sy",
            " diabetes",
            " small",
            "pox",
            " typh",
            "oid",
            " hepatitis",
            " sy",
            "ph",
            "ill",
            "is",
            " en",
            "cephal",
            "itis"
           ]
          ]
         ],
         "hovertemplate": "prompt=2) mid (~30 tok)<br>set size (n. tokens)=%{x}<br>average -log LL=%{y}<br>token_list=%{customdata[0]}<extra></extra>",
         "legendgroup": "2) mid (~30 tok)",
         "marker": {
          "color": "#EF553B"
         },
         "name": "2) mid (~30 tok)",
         "notched": false,
         "offsetgroup": "2) mid (~30 tok)",
         "orientation": "v",
         "showlegend": true,
         "type": "box",
         "x": [
          3,
          3,
          3,
          3,
          3,
          3,
          3,
          3,
          3,
          3,
          3,
          3,
          3,
          3,
          3,
          3,
          3,
          3,
          3,
          3,
          5,
          5,
          5,
          5,
          5,
          5,
          5,
          5,
          5,
          5,
          5,
          5,
          5,
          5,
          5,
          5,
          5,
          5,
          5,
          5,
          10,
          10,
          10,
          10,
          10,
          10,
          10,
          10,
          10,
          10,
          10,
          10,
          10,
          10,
          10,
          10,
          10,
          10,
          10,
          10
         ],
         "x0": " ",
         "xaxis": "x",
         "y": [
          2.752423882484436,
          3.002070188522339,
          3.1983616046607497,
          0.2360540457884781,
          1.893883201002609,
          3.0300960143407187,
          2.8813360134760537,
          2.1778409679730735,
          2.1398039857546487,
          1.8771740992863972,
          1.3849094048450101,
          3.0032362937927246,
          2.6152649025122328,
          1.2546153230006374,
          0.3801237493753433,
          1.9222816576560342,
          2.847741882006327,
          1.8911941448847454,
          1.6588102181752522,
          3.52217044432958,
          3.0133795380592345,
          2.9489792823791507,
          1.7235202999242272,
          1.3421207418723498,
          2.847657060623169,
          1.7326903849995385,
          2.084343582362635,
          2.3444842475437326,
          1.5603852134663612,
          2.3997802099163112,
          1.7330109406786505,
          1.7469256733747898,
          2.5146430028156224,
          1.6737813126105308,
          2.1394153343280777,
          2.847504234313965,
          3.0780387029226404,
          1.5513152747695462,
          2.780827582532462,
          2.3737486427915946,
          3.211603963913928,
          5.031008005142212,
          1.6608336559122265,
          2.547275078303048,
          2.01867117710127,
          2.9190275612908105,
          2.8418760031384105,
          3.2904561141437045,
          2.8793749833369957,
          2.7379346940797404,
          2.2244227467930284,
          2.0035623716387856,
          2.554809404653497,
          2.28870205754356,
          2.108589043142274,
          3.3143912881701802,
          3.1617404096468817,
          2.4107608727252225,
          5.052018008353612,
          1.9158457892182923
         ],
         "y0": " ",
         "yaxis": "y"
        },
        {
         "alignmentgroup": "True",
         "boxpoints": "all",
         "customdata": [
          [
           [
            " roof",
            " window",
            " door"
           ]
          ],
          [
           [
            " head",
            " leg",
            " arms"
           ]
          ],
          [
           [
            " battles",
            "hip",
            " sail",
            "boat",
            " destroyer"
           ]
          ],
          [
           [
            " rob",
            "in",
            " sp",
            "arrow",
            " her",
            "on"
           ]
          ],
          [
           [
            " pear",
            " apple",
            " t",
            "angelo"
           ]
          ],
          [
           [
            " saw",
            " nails",
            " hammer"
           ]
          ],
          [
           [
            " hurricane",
            " rain",
            " tornado"
           ]
          ],
          [
           [
            " hydrogen",
            " nitrogen",
            " oxygen"
           ]
          ],
          [
           [
            " bob",
            " bill",
            " john"
           ]
          ],
          [
           [
            " chemistry",
            " psychology",
            " physics"
           ]
          ],
          [
           [
            " hel",
            "s",
            "inki",
            " tor",
            "onto",
            " ch",
            "icago"
           ]
          ],
          [
           [
            " drum",
            " piano",
            " trumpet"
           ]
          ],
          [
           [
            " spoon",
            " knife",
            " fork"
           ]
          ],
          [
           [
            " for",
            "d",
            " pont",
            "iac",
            " che",
            "v",
            "rolet"
           ]
          ],
          [
           [
            " trout",
            " gu",
            "pp",
            "ie",
            " shark"
           ]
          ],
          [
           [
            " baseball",
            " football",
            " basketball"
           ]
          ],
          [
           [
            " teacher",
            " doctor",
            " lawyer"
           ]
          ],
          [
           [
            " oak",
            " pine",
            " maple"
           ]
          ],
          [
           [
            " shirt",
            " pants",
            " socks"
           ]
          ],
          [
           [
            " tuberculosis",
            " measles",
            " cancer"
           ]
          ],
          [
           [
            " ceiling",
            " wall",
            " basement",
            " room",
            " floor"
           ]
          ],
          [
           [
            " nose",
            " finger",
            " foot",
            " eye",
            " ear"
           ]
          ],
          [
           [
            " cruiser",
            " submarine",
            " yacht",
            " row",
            "boat",
            " canoe"
           ]
          ],
          [
           [
            " eagle",
            " crow",
            " par",
            "ake",
            "et",
            " can",
            "ary",
            " hawk"
           ]
          ],
          [
           [
            " cherry",
            " plum",
            " banana",
            " grape",
            " peach"
           ]
          ],
          [
           [
            " level",
            " plane",
            " ruler",
            " wrench",
            " ch",
            "isel"
           ]
          ],
          [
           [
            " hail",
            " sle",
            "et",
            " storm",
            " snow",
            " wind"
           ]
          ],
          [
           [
            " helium",
            " sulph",
            "ur",
            " sodium",
            " k",
            "rypt",
            "on",
            " carbon"
           ]
          ],
          [
           [
            " jo",
            "e",
            " tom",
            " dick",
            " m",
            "ike",
            " j",
            "im"
           ]
          ],
          [
           [
            " mathematics",
            " astronomy",
            " zo",
            "ology",
            " bot",
            "any",
            " biology"
           ]
          ],
          [
           [
            " b",
            "oston",
            " l",
            "ondon",
            " m",
            "iami",
            " phil",
            "adelphia",
            " par",
            "is"
           ]
          ],
          [
           [
            " guitar",
            " fl",
            "ute",
            " clar",
            "inet",
            " violin",
            " sax",
            "ophone"
           ]
          ],
          [
           [
            " bowl",
            " stove",
            " pan",
            " pot",
            " spat",
            "ula"
           ]
          ],
          [
           [
            " cad",
            "illac",
            " bu",
            "ick",
            " dodge",
            " ch",
            "rys",
            "ler",
            " old",
            "sm",
            "obile"
           ]
          ],
          [
           [
            " per",
            "ch",
            " gold",
            "fish",
            " salmon",
            " tuna",
            " her",
            "ring"
           ]
          ],
          [
           [
            " golf",
            " tennis",
            " hockey",
            " soccer",
            " swimming"
           ]
          ],
          [
           [
            " dentist",
            " professor",
            " salesman",
            " engineer",
            " car",
            "penter"
           ]
          ],
          [
           [
            " red",
            "wood",
            " l",
            "ind",
            "en",
            " sp",
            "ruce",
            " el",
            "m",
            " bir",
            "ch"
           ]
          ],
          [
           [
            " dress",
            " shoes",
            " skirt",
            " bl",
            "ouse",
            " coat"
           ]
          ],
          [
           [
            " chicken",
            "pox",
            " m",
            "umps",
            " malaria",
            " leukemia",
            " polio"
           ]
          ],
          [
           [
            " stair",
            "way",
            " corridor",
            " elevator",
            " cup",
            "board",
            " attic",
            " hear",
            "th",
            " step",
            " chim",
            "ney",
            " foundation",
            " hall"
           ]
          ],
          [
           [
            " liver",
            " toe",
            " chest",
            " hand",
            " hair",
            " heart",
            " neck",
            " stomach",
            " knee",
            " mouth"
           ]
          ],
          [
           [
            " fre",
            "ighter",
            " c",
            "arg",
            "os",
            "hip",
            " motor",
            "boat",
            " sch",
            "oon",
            "er",
            " tug",
            "boat",
            " tanker",
            " b",
            "arge",
            " ste",
            "ams",
            "hip",
            " cl",
            "ippers",
            "hip",
            " liner"
           ]
          ],
          [
           [
            " ori",
            "ole",
            " star",
            "ling",
            " par",
            "rot",
            " chicken",
            " w",
            "ren",
            " v",
            "ulture",
            " pigeon",
            " black",
            "bird",
            " wood",
            "pe",
            "cker",
            " swallow"
           ]
          ],
          [
           [
            " lemon",
            " pineapple",
            " water",
            "melon",
            " apr",
            "ic",
            "ot",
            " t",
            "anger",
            "ine",
            " pr",
            "unes",
            " grape",
            "fruit",
            " lime",
            " black",
            "berry",
            " strawberry"
           ]
          ],
          [
           [
            " pl",
            "iers",
            " aw",
            "l",
            " lat",
            "he",
            " file",
            " square",
            " s",
            "ander",
            " sand",
            "paper",
            " drill",
            " screws",
            " punch"
           ]
          ],
          [
           [
            " thunder",
            " typh",
            "oon",
            " bl",
            "izzard",
            " mon",
            "soon",
            " fog",
            " lightning",
            " sunshine",
            " cycl",
            "one",
            " sm",
            "og",
            " clouds"
           ]
          ],
          [
           [
            " calcium",
            " chlorine",
            " magnesium",
            " aluminum",
            " lead",
            " uranium",
            " xen",
            "on",
            " phosphorus",
            " potassium",
            " zinc"
           ]
          ],
          [
           [
            " ste",
            "ve",
            " l",
            "arry",
            " sam",
            " f",
            "red",
            " har",
            "ry",
            " ge",
            "orge",
            " frank",
            " d",
            "ave",
            " jack",
            " p",
            "aul"
           ]
          ],
          [
           [
            " microbi",
            "ology",
            " anatomy",
            " meteor",
            "ology",
            " physiology",
            " sociology",
            " engineering",
            " medicine",
            " ge",
            "ology",
            " bi",
            "ochemistry",
            " ent",
            "om",
            "ology"
           ]
          ],
          [
           [
            " to",
            "ky",
            "o",
            " cle",
            "veland",
            " mos",
            "cow",
            " det",
            "roit",
            " d",
            "allas",
            " p",
            "itt",
            "sburgh",
            " mont",
            "real",
            " den",
            "ver",
            " bomb",
            "ay",
            " r",
            "ome"
           ]
          ],
          [
           [
            " har",
            "p",
            " viol",
            "a",
            " ob",
            "oe",
            " pic",
            "colo",
            " cell",
            "o",
            " ban",
            "jo",
            " k",
            "az",
            "oo",
            " tub",
            "a",
            " mar",
            "im",
            "ba",
            " t",
            "rom",
            "bone"
           ]
          ],
          [
           [
            " dish",
            " glass",
            " to",
            "aster",
            " mixer",
            " cup",
            " plate",
            " be",
            "ater",
            " skillet",
            " refrigerator",
            " fry",
            "pan"
           ]
          ],
          [
           [
            " op",
            "el",
            " f",
            "err",
            "ari",
            " mer",
            "cedes",
            " ply",
            "mouth",
            " vol",
            "ks",
            "wagen",
            " cor",
            "vette",
            " triumph",
            " fiat",
            " r",
            "amb",
            "ler",
            " audi"
           ]
          ],
          [
           [
            " fl",
            "ound",
            "er",
            " cod",
            " carp",
            " sun",
            "fish",
            " p",
            "ike",
            " blue",
            "g",
            "ill",
            " bar",
            "rac",
            "uda",
            " mar",
            "lin",
            " gu",
            "ppy",
            " min",
            "now"
           ]
          ],
          [
           [
            " ar",
            "chery",
            " skiing",
            " bad",
            "m",
            "inton",
            " fencing",
            " bowling",
            " fishing",
            " sn",
            "ork",
            "ling",
            " hand",
            "ball",
            " lac",
            "rosse",
            " wrestling"
           ]
          ],
          [
           [
            " nurse",
            " clerk",
            " psychologist",
            " under",
            "writer",
            " businessman",
            " pl",
            "umber",
            " accountant",
            " farmer",
            " scientist",
            " policeman"
           ]
          ],
          [
           [
            " ash",
            " ever",
            "green",
            " chest",
            "nut",
            " wal",
            "nut",
            " h",
            "ick",
            "ory",
            " pop",
            "lar",
            " will",
            "ow",
            " fir",
            " c",
            "edar",
            " sy",
            "cam",
            "ore"
           ]
          ],
          [
           [
            " slip",
            " shorts",
            " gloves",
            " sl",
            "acks",
            " sweater",
            " underwear",
            " hat",
            " belt",
            " jacket",
            " tie"
           ]
          ],
          [
           [
            " influenza",
            " pneumonia",
            " r",
            "ickets",
            " le",
            "pro",
            "sy",
            " diabetes",
            " small",
            "pox",
            " typh",
            "oid",
            " hepatitis",
            " sy",
            "ph",
            "ill",
            "is",
            " en",
            "cephal",
            "itis"
           ]
          ]
         ],
         "hovertemplate": "prompt=3) long (~60 tok)<br>set size (n. tokens)=%{x}<br>average -log LL=%{y}<br>token_list=%{customdata[0]}<extra></extra>",
         "legendgroup": "3) long (~60 tok)",
         "marker": {
          "color": "#00cc96"
         },
         "name": "3) long (~60 tok)",
         "notched": false,
         "offsetgroup": "3) long (~60 tok)",
         "orientation": "v",
         "showlegend": true,
         "type": "box",
         "x": [
          3,
          3,
          3,
          3,
          3,
          3,
          3,
          3,
          3,
          3,
          3,
          3,
          3,
          3,
          3,
          3,
          3,
          3,
          3,
          3,
          5,
          5,
          5,
          5,
          5,
          5,
          5,
          5,
          5,
          5,
          5,
          5,
          5,
          5,
          5,
          5,
          5,
          5,
          5,
          5,
          10,
          10,
          10,
          10,
          10,
          10,
          10,
          10,
          10,
          10,
          10,
          10,
          10,
          10,
          10,
          10,
          10,
          10,
          10,
          10
         ],
         "x0": " ",
         "xaxis": "x",
         "y": [
          2.9913292527198787,
          2.995396355787913,
          3.446663596108556,
          0.2103475721863409,
          1.880429530981928,
          3.3617268403371168,
          2.7663997809092202,
          2.2427892287572226,
          2.6329225500424704,
          1.8325316707293193,
          1.3966228848564373,
          3.128039280573527,
          2.773421749472618,
          1.4029748496333403,
          0.2861649714410305,
          2.0254901647567753,
          3.3882279992103577,
          1.8058569033940632,
          1.5154072841008503,
          3.8712908128897348,
          2.996241557598114,
          3.1081292629241943,
          1.7028437048817675,
          1.344999004038982,
          2.9440501928329468,
          1.6299498907368009,
          2.1827381548355334,
          2.5546751968940953,
          1.5055344408610836,
          2.555583043489605,
          1.6746069410277413,
          1.739401796443417,
          2.468552239598163,
          1.8355904501989821,
          2.2052876194939017,
          2.85268976688385,
          2.927227826915138,
          1.5705704443416009,
          2.87718734263035,
          2.547600748549615,
          3.236257045097383,
          5.162119770050049,
          1.6381342146980942,
          2.5932491690627,
          2.0654257938537435,
          2.9143970509525388,
          2.896652872581035,
          3.1890387501546438,
          3.0480142227675326,
          2.726931987072021,
          2.353016723028056,
          1.9956148509973781,
          2.5579880900421323,
          2.2050458927809813,
          2.1153267905493047,
          3.3396393002587823,
          3.222759232206348,
          2.5097353424469473,
          5.141485774328678,
          1.9482985949503928
         ],
         "y0": " ",
         "yaxis": "y"
        }
       ],
       "layout": {
        "boxmode": "group",
        "height": 500,
        "legend": {
         "title": {
          "text": "prompt"
         },
         "tracegroupgap": 0
        },
        "template": {
         "data": {
          "bar": [
           {
            "error_x": {
             "color": "#2a3f5f"
            },
            "error_y": {
             "color": "#2a3f5f"
            },
            "marker": {
             "line": {
              "color": "#E5ECF6",
              "width": 0.5
             }
            },
            "type": "bar"
           }
          ],
          "barpolar": [
           {
            "marker": {
             "line": {
              "color": "#E5ECF6",
              "width": 0.5
             }
            },
            "type": "barpolar"
           }
          ],
          "carpet": [
           {
            "aaxis": {
             "endlinecolor": "#2a3f5f",
             "gridcolor": "white",
             "linecolor": "white",
             "minorgridcolor": "white",
             "startlinecolor": "#2a3f5f"
            },
            "baxis": {
             "endlinecolor": "#2a3f5f",
             "gridcolor": "white",
             "linecolor": "white",
             "minorgridcolor": "white",
             "startlinecolor": "#2a3f5f"
            },
            "type": "carpet"
           }
          ],
          "choropleth": [
           {
            "colorbar": {
             "outlinewidth": 0,
             "ticks": ""
            },
            "type": "choropleth"
           }
          ],
          "contour": [
           {
            "colorbar": {
             "outlinewidth": 0,
             "ticks": ""
            },
            "colorscale": [
             [
              0,
              "#0d0887"
             ],
             [
              0.1111111111111111,
              "#46039f"
             ],
             [
              0.2222222222222222,
              "#7201a8"
             ],
             [
              0.3333333333333333,
              "#9c179e"
             ],
             [
              0.4444444444444444,
              "#bd3786"
             ],
             [
              0.5555555555555556,
              "#d8576b"
             ],
             [
              0.6666666666666666,
              "#ed7953"
             ],
             [
              0.7777777777777778,
              "#fb9f3a"
             ],
             [
              0.8888888888888888,
              "#fdca26"
             ],
             [
              1,
              "#f0f921"
             ]
            ],
            "type": "contour"
           }
          ],
          "contourcarpet": [
           {
            "colorbar": {
             "outlinewidth": 0,
             "ticks": ""
            },
            "type": "contourcarpet"
           }
          ],
          "heatmap": [
           {
            "colorbar": {
             "outlinewidth": 0,
             "ticks": ""
            },
            "colorscale": [
             [
              0,
              "#0d0887"
             ],
             [
              0.1111111111111111,
              "#46039f"
             ],
             [
              0.2222222222222222,
              "#7201a8"
             ],
             [
              0.3333333333333333,
              "#9c179e"
             ],
             [
              0.4444444444444444,
              "#bd3786"
             ],
             [
              0.5555555555555556,
              "#d8576b"
             ],
             [
              0.6666666666666666,
              "#ed7953"
             ],
             [
              0.7777777777777778,
              "#fb9f3a"
             ],
             [
              0.8888888888888888,
              "#fdca26"
             ],
             [
              1,
              "#f0f921"
             ]
            ],
            "type": "heatmap"
           }
          ],
          "heatmapgl": [
           {
            "colorbar": {
             "outlinewidth": 0,
             "ticks": ""
            },
            "colorscale": [
             [
              0,
              "#0d0887"
             ],
             [
              0.1111111111111111,
              "#46039f"
             ],
             [
              0.2222222222222222,
              "#7201a8"
             ],
             [
              0.3333333333333333,
              "#9c179e"
             ],
             [
              0.4444444444444444,
              "#bd3786"
             ],
             [
              0.5555555555555556,
              "#d8576b"
             ],
             [
              0.6666666666666666,
              "#ed7953"
             ],
             [
              0.7777777777777778,
              "#fb9f3a"
             ],
             [
              0.8888888888888888,
              "#fdca26"
             ],
             [
              1,
              "#f0f921"
             ]
            ],
            "type": "heatmapgl"
           }
          ],
          "histogram": [
           {
            "marker": {
             "colorbar": {
              "outlinewidth": 0,
              "ticks": ""
             }
            },
            "type": "histogram"
           }
          ],
          "histogram2d": [
           {
            "colorbar": {
             "outlinewidth": 0,
             "ticks": ""
            },
            "colorscale": [
             [
              0,
              "#0d0887"
             ],
             [
              0.1111111111111111,
              "#46039f"
             ],
             [
              0.2222222222222222,
              "#7201a8"
             ],
             [
              0.3333333333333333,
              "#9c179e"
             ],
             [
              0.4444444444444444,
              "#bd3786"
             ],
             [
              0.5555555555555556,
              "#d8576b"
             ],
             [
              0.6666666666666666,
              "#ed7953"
             ],
             [
              0.7777777777777778,
              "#fb9f3a"
             ],
             [
              0.8888888888888888,
              "#fdca26"
             ],
             [
              1,
              "#f0f921"
             ]
            ],
            "type": "histogram2d"
           }
          ],
          "histogram2dcontour": [
           {
            "colorbar": {
             "outlinewidth": 0,
             "ticks": ""
            },
            "colorscale": [
             [
              0,
              "#0d0887"
             ],
             [
              0.1111111111111111,
              "#46039f"
             ],
             [
              0.2222222222222222,
              "#7201a8"
             ],
             [
              0.3333333333333333,
              "#9c179e"
             ],
             [
              0.4444444444444444,
              "#bd3786"
             ],
             [
              0.5555555555555556,
              "#d8576b"
             ],
             [
              0.6666666666666666,
              "#ed7953"
             ],
             [
              0.7777777777777778,
              "#fb9f3a"
             ],
             [
              0.8888888888888888,
              "#fdca26"
             ],
             [
              1,
              "#f0f921"
             ]
            ],
            "type": "histogram2dcontour"
           }
          ],
          "mesh3d": [
           {
            "colorbar": {
             "outlinewidth": 0,
             "ticks": ""
            },
            "type": "mesh3d"
           }
          ],
          "parcoords": [
           {
            "line": {
             "colorbar": {
              "outlinewidth": 0,
              "ticks": ""
             }
            },
            "type": "parcoords"
           }
          ],
          "pie": [
           {
            "automargin": true,
            "type": "pie"
           }
          ],
          "scatter": [
           {
            "marker": {
             "colorbar": {
              "outlinewidth": 0,
              "ticks": ""
             }
            },
            "type": "scatter"
           }
          ],
          "scatter3d": [
           {
            "line": {
             "colorbar": {
              "outlinewidth": 0,
              "ticks": ""
             }
            },
            "marker": {
             "colorbar": {
              "outlinewidth": 0,
              "ticks": ""
             }
            },
            "type": "scatter3d"
           }
          ],
          "scattercarpet": [
           {
            "marker": {
             "colorbar": {
              "outlinewidth": 0,
              "ticks": ""
             }
            },
            "type": "scattercarpet"
           }
          ],
          "scattergeo": [
           {
            "marker": {
             "colorbar": {
              "outlinewidth": 0,
              "ticks": ""
             }
            },
            "type": "scattergeo"
           }
          ],
          "scattergl": [
           {
            "marker": {
             "colorbar": {
              "outlinewidth": 0,
              "ticks": ""
             }
            },
            "type": "scattergl"
           }
          ],
          "scattermapbox": [
           {
            "marker": {
             "colorbar": {
              "outlinewidth": 0,
              "ticks": ""
             }
            },
            "type": "scattermapbox"
           }
          ],
          "scatterpolar": [
           {
            "marker": {
             "colorbar": {
              "outlinewidth": 0,
              "ticks": ""
             }
            },
            "type": "scatterpolar"
           }
          ],
          "scatterpolargl": [
           {
            "marker": {
             "colorbar": {
              "outlinewidth": 0,
              "ticks": ""
             }
            },
            "type": "scatterpolargl"
           }
          ],
          "scatterternary": [
           {
            "marker": {
             "colorbar": {
              "outlinewidth": 0,
              "ticks": ""
             }
            },
            "type": "scatterternary"
           }
          ],
          "surface": [
           {
            "colorbar": {
             "outlinewidth": 0,
             "ticks": ""
            },
            "colorscale": [
             [
              0,
              "#0d0887"
             ],
             [
              0.1111111111111111,
              "#46039f"
             ],
             [
              0.2222222222222222,
              "#7201a8"
             ],
             [
              0.3333333333333333,
              "#9c179e"
             ],
             [
              0.4444444444444444,
              "#bd3786"
             ],
             [
              0.5555555555555556,
              "#d8576b"
             ],
             [
              0.6666666666666666,
              "#ed7953"
             ],
             [
              0.7777777777777778,
              "#fb9f3a"
             ],
             [
              0.8888888888888888,
              "#fdca26"
             ],
             [
              1,
              "#f0f921"
             ]
            ],
            "type": "surface"
           }
          ],
          "table": [
           {
            "cells": {
             "fill": {
              "color": "#EBF0F8"
             },
             "line": {
              "color": "white"
             }
            },
            "header": {
             "fill": {
              "color": "#C8D4E3"
             },
             "line": {
              "color": "white"
             }
            },
            "type": "table"
           }
          ]
         },
         "layout": {
          "annotationdefaults": {
           "arrowcolor": "#2a3f5f",
           "arrowhead": 0,
           "arrowwidth": 1
          },
          "coloraxis": {
           "colorbar": {
            "outlinewidth": 0,
            "ticks": ""
           }
          },
          "colorscale": {
           "diverging": [
            [
             0,
             "#8e0152"
            ],
            [
             0.1,
             "#c51b7d"
            ],
            [
             0.2,
             "#de77ae"
            ],
            [
             0.3,
             "#f1b6da"
            ],
            [
             0.4,
             "#fde0ef"
            ],
            [
             0.5,
             "#f7f7f7"
            ],
            [
             0.6,
             "#e6f5d0"
            ],
            [
             0.7,
             "#b8e186"
            ],
            [
             0.8,
             "#7fbc41"
            ],
            [
             0.9,
             "#4d9221"
            ],
            [
             1,
             "#276419"
            ]
           ],
           "sequential": [
            [
             0,
             "#0d0887"
            ],
            [
             0.1111111111111111,
             "#46039f"
            ],
            [
             0.2222222222222222,
             "#7201a8"
            ],
            [
             0.3333333333333333,
             "#9c179e"
            ],
            [
             0.4444444444444444,
             "#bd3786"
            ],
            [
             0.5555555555555556,
             "#d8576b"
            ],
            [
             0.6666666666666666,
             "#ed7953"
            ],
            [
             0.7777777777777778,
             "#fb9f3a"
            ],
            [
             0.8888888888888888,
             "#fdca26"
            ],
            [
             1,
             "#f0f921"
            ]
           ],
           "sequentialminus": [
            [
             0,
             "#0d0887"
            ],
            [
             0.1111111111111111,
             "#46039f"
            ],
            [
             0.2222222222222222,
             "#7201a8"
            ],
            [
             0.3333333333333333,
             "#9c179e"
            ],
            [
             0.4444444444444444,
             "#bd3786"
            ],
            [
             0.5555555555555556,
             "#d8576b"
            ],
            [
             0.6666666666666666,
             "#ed7953"
            ],
            [
             0.7777777777777778,
             "#fb9f3a"
            ],
            [
             0.8888888888888888,
             "#fdca26"
            ],
            [
             1,
             "#f0f921"
            ]
           ]
          },
          "colorway": [
           "#636efa",
           "#EF553B",
           "#00cc96",
           "#ab63fa",
           "#FFA15A",
           "#19d3f3",
           "#FF6692",
           "#B6E880",
           "#FF97FF",
           "#FECB52"
          ],
          "font": {
           "color": "#2a3f5f"
          },
          "geo": {
           "bgcolor": "white",
           "lakecolor": "white",
           "landcolor": "#E5ECF6",
           "showlakes": true,
           "showland": true,
           "subunitcolor": "white"
          },
          "hoverlabel": {
           "align": "left"
          },
          "hovermode": "closest",
          "mapbox": {
           "style": "light"
          },
          "paper_bgcolor": "white",
          "plot_bgcolor": "#E5ECF6",
          "polar": {
           "angularaxis": {
            "gridcolor": "white",
            "linecolor": "white",
            "ticks": ""
           },
           "bgcolor": "#E5ECF6",
           "radialaxis": {
            "gridcolor": "white",
            "linecolor": "white",
            "ticks": ""
           }
          },
          "scene": {
           "xaxis": {
            "backgroundcolor": "#E5ECF6",
            "gridcolor": "white",
            "gridwidth": 2,
            "linecolor": "white",
            "showbackground": true,
            "ticks": "",
            "zerolinecolor": "white"
           },
           "yaxis": {
            "backgroundcolor": "#E5ECF6",
            "gridcolor": "white",
            "gridwidth": 2,
            "linecolor": "white",
            "showbackground": true,
            "ticks": "",
            "zerolinecolor": "white"
           },
           "zaxis": {
            "backgroundcolor": "#E5ECF6",
            "gridcolor": "white",
            "gridwidth": 2,
            "linecolor": "white",
            "showbackground": true,
            "ticks": "",
            "zerolinecolor": "white"
           }
          },
          "shapedefaults": {
           "line": {
            "color": "#2a3f5f"
           }
          },
          "ternary": {
           "aaxis": {
            "gridcolor": "white",
            "linecolor": "white",
            "ticks": ""
           },
           "baxis": {
            "gridcolor": "white",
            "linecolor": "white",
            "ticks": ""
           },
           "bgcolor": "#E5ECF6",
           "caxis": {
            "gridcolor": "white",
            "linecolor": "white",
            "ticks": ""
           }
          },
          "title": {
           "x": 0.05
          },
          "xaxis": {
           "automargin": true,
           "gridcolor": "white",
           "linecolor": "white",
           "ticks": "",
           "title": {
            "standoff": 15
           },
           "zerolinecolor": "white",
           "zerolinewidth": 2
          },
          "yaxis": {
           "automargin": true,
           "gridcolor": "white",
           "linecolor": "white",
           "ticks": "",
           "title": {
            "standoff": 15
           },
           "zerolinecolor": "white",
           "zerolinewidth": 2
          }
         }
        },
        "title": {
         "text": "Mean neg. LL on second list presentation (semantic, permute)"
        },
        "width": 1200,
        "xaxis": {
         "anchor": "y",
         "autorange": true,
         "domain": [
          0,
          1
         ],
         "range": [
          -0.7489592566118657,
          2.6709978556111507
         ],
         "title": {
          "text": "set size (n. tokens)"
         },
         "type": "category"
        },
        "yaxis": {
         "anchor": "x",
         "autorange": true,
         "domain": [
          0,
          1
         ],
         "range": [
          -0.06475088325053183,
          5.437218225486922
         ],
         "title": {
          "text": "average -log LL"
         },
         "type": "linear"
        }
       }
      },
      "image/png": "[encoded data removed]",
      "text/html": [
       "<div>                            <div id=\"0cec9467-052e-4b51-9640-13196508cc5e\" class=\"plotly-graph-div\" style=\"height:500px; width:1200px;\"></div>            <script type=\"text/javascript\">                require([\"plotly\"], function(Plotly) {                    window.PLOTLYENV=window.PLOTLYENV || {};                                    if (document.getElementById(\"0cec9467-052e-4b51-9640-13196508cc5e\")) {                    Plotly.newPlot(                        \"0cec9467-052e-4b51-9640-13196508cc5e\",                        [{\"alignmentgroup\": \"True\", \"boxpoints\": \"all\", \"customdata\": [[[\" roof\", \" window\", \" door\"]], [[\" head\", \" leg\", \" arms\"]], [[\" battles\", \"hip\", \" sail\", \"boat\", \" destroyer\"]], [[\" rob\", \"in\", \" sp\", \"arrow\", \" her\", \"on\"]], [[\" pear\", \" apple\", \" t\", \"angelo\"]], [[\" saw\", \" nails\", \" hammer\"]], [[\" hurricane\", \" rain\", \" tornado\"]], [[\" hydrogen\", \" nitrogen\", \" oxygen\"]], [[\" bob\", \" bill\", \" john\"]], [[\" chemistry\", \" psychology\", \" physics\"]], [[\" hel\", \"s\", \"inki\", \" tor\", \"onto\", \" ch\", \"icago\"]], [[\" drum\", \" piano\", \" trumpet\"]], [[\" spoon\", \" knife\", \" fork\"]], [[\" for\", \"d\", \" pont\", \"iac\", \" che\", \"v\", \"rolet\"]], [[\" trout\", \" gu\", \"pp\", \"ie\", \" shark\"]], [[\" baseball\", \" football\", \" basketball\"]], [[\" teacher\", \" doctor\", \" lawyer\"]], [[\" oak\", \" pine\", \" maple\"]], [[\" shirt\", \" pants\", \" socks\"]], [[\" tuberculosis\", \" measles\", \" cancer\"]], [[\" ceiling\", \" wall\", \" basement\", \" room\", \" floor\"]], [[\" nose\", \" finger\", \" foot\", \" eye\", \" ear\"]], [[\" cruiser\", \" submarine\", \" yacht\", \" row\", \"boat\", \" canoe\"]], [[\" eagle\", \" crow\", \" par\", \"ake\", \"et\", \" can\", \"ary\", \" hawk\"]], [[\" cherry\", \" plum\", \" banana\", \" grape\", \" peach\"]], [[\" level\", \" plane\", \" ruler\", \" wrench\", \" ch\", \"isel\"]], [[\" hail\", \" sle\", \"et\", \" storm\", \" snow\", \" wind\"]], [[\" helium\", \" sulph\", \"ur\", \" sodium\", \" k\", \"rypt\", \"on\", \" carbon\"]], [[\" jo\", \"e\", \" tom\", \" dick\", \" m\", \"ike\", \" j\", \"im\"]], [[\" mathematics\", \" astronomy\", \" zo\", \"ology\", \" bot\", \"any\", \" biology\"]], [[\" b\", \"oston\", \" l\", \"ondon\", \" m\", \"iami\", \" phil\", \"adelphia\", \" par\", \"is\"]], [[\" guitar\", \" fl\", \"ute\", \" clar\", \"inet\", \" violin\", \" sax\", \"ophone\"]], [[\" bowl\", \" stove\", \" pan\", \" pot\", \" spat\", \"ula\"]], [[\" cad\", \"illac\", \" bu\", \"ick\", \" dodge\", \" ch\", \"rys\", \"ler\", \" old\", \"sm\", \"obile\"]], [[\" per\", \"ch\", \" gold\", \"fish\", \" salmon\", \" tuna\", \" her\", \"ring\"]], [[\" golf\", \" tennis\", \" hockey\", \" soccer\", \" swimming\"]], [[\" dentist\", \" professor\", \" salesman\", \" engineer\", \" car\", \"penter\"]], [[\" red\", \"wood\", \" l\", \"ind\", \"en\", \" sp\", \"ruce\", \" el\", \"m\", \" bir\", \"ch\"]], [[\" dress\", \" shoes\", \" skirt\", \" bl\", \"ouse\", \" coat\"]], [[\" chicken\", \"pox\", \" m\", \"umps\", \" malaria\", \" leukemia\", \" polio\"]], [[\" stair\", \"way\", \" corridor\", \" elevator\", \" cup\", \"board\", \" attic\", \" hear\", \"th\", \" step\", \" chim\", \"ney\", \" foundation\", \" hall\"]], [[\" liver\", \" toe\", \" chest\", \" hand\", \" hair\", \" heart\", \" neck\", \" stomach\", \" knee\", \" mouth\"]], [[\" fre\", \"ighter\", \" c\", \"arg\", \"os\", \"hip\", \" motor\", \"boat\", \" sch\", \"oon\", \"er\", \" tug\", \"boat\", \" tanker\", \" b\", \"arge\", \" ste\", \"ams\", \"hip\", \" cl\", \"ippers\", \"hip\", \" liner\"]], [[\" ori\", \"ole\", \" star\", \"ling\", \" par\", \"rot\", \" chicken\", \" w\", \"ren\", \" v\", \"ulture\", \" pigeon\", \" black\", \"bird\", \" wood\", \"pe\", \"cker\", \" swallow\"]], [[\" lemon\", \" pineapple\", \" water\", \"melon\", \" apr\", \"ic\", \"ot\", \" t\", \"anger\", \"ine\", \" pr\", \"unes\", \" grape\", \"fruit\", \" lime\", \" black\", \"berry\", \" strawberry\"]], [[\" pl\", \"iers\", \" aw\", \"l\", \" lat\", \"he\", \" file\", \" square\", \" s\", \"ander\", \" sand\", \"paper\", \" drill\", \" screws\", \" punch\"]], [[\" thunder\", \" typh\", \"oon\", \" bl\", \"izzard\", \" mon\", \"soon\", \" fog\", \" lightning\", \" sunshine\", \" cycl\", \"one\", \" sm\", \"og\", \" clouds\"]], [[\" calcium\", \" chlorine\", \" magnesium\", \" aluminum\", \" lead\", \" uranium\", \" xen\", \"on\", \" phosphorus\", \" potassium\", \" zinc\"]], [[\" ste\", \"ve\", \" l\", \"arry\", \" sam\", \" f\", \"red\", \" har\", \"ry\", \" ge\", \"orge\", \" frank\", \" d\", \"ave\", \" jack\", \" p\", \"aul\"]], [[\" microbi\", \"ology\", \" anatomy\", \" meteor\", \"ology\", \" physiology\", \" sociology\", \" engineering\", \" medicine\", \" ge\", \"ology\", \" bi\", \"ochemistry\", \" ent\", \"om\", \"ology\"]], [[\" to\", \"ky\", \"o\", \" cle\", \"veland\", \" mos\", \"cow\", \" det\", \"roit\", \" d\", \"allas\", \" p\", \"itt\", \"sburgh\", \" mont\", \"real\", \" den\", \"ver\", \" bomb\", \"ay\", \" r\", \"ome\"]], [[\" har\", \"p\", \" viol\", \"a\", \" ob\", \"oe\", \" pic\", \"colo\", \" cell\", \"o\", \" ban\", \"jo\", \" k\", \"az\", \"oo\", \" tub\", \"a\", \" mar\", \"im\", \"ba\", \" t\", \"rom\", \"bone\"]], [[\" dish\", \" glass\", \" to\", \"aster\", \" mixer\", \" cup\", \" plate\", \" be\", \"ater\", \" skillet\", \" refrigerator\", \" fry\", \"pan\"]], [[\" op\", \"el\", \" f\", \"err\", \"ari\", \" mer\", \"cedes\", \" ply\", \"mouth\", \" vol\", \"ks\", \"wagen\", \" cor\", \"vette\", \" triumph\", \" fiat\", \" r\", \"amb\", \"ler\", \" audi\"]], [[\" fl\", \"ound\", \"er\", \" cod\", \" carp\", \" sun\", \"fish\", \" p\", \"ike\", \" blue\", \"g\", \"ill\", \" bar\", \"rac\", \"uda\", \" mar\", \"lin\", \" gu\", \"ppy\", \" min\", \"now\"]], [[\" ar\", \"chery\", \" skiing\", \" bad\", \"m\", \"inton\", \" fencing\", \" bowling\", \" fishing\", \" sn\", \"ork\", \"ling\", \" hand\", \"ball\", \" lac\", \"rosse\", \" wrestling\"]], [[\" nurse\", \" clerk\", \" psychologist\", \" under\", \"writer\", \" businessman\", \" pl\", \"umber\", \" accountant\", \" farmer\", \" scientist\", \" policeman\"]], [[\" ash\", \" ever\", \"green\", \" chest\", \"nut\", \" wal\", \"nut\", \" h\", \"ick\", \"ory\", \" pop\", \"lar\", \" will\", \"ow\", \" fir\", \" c\", \"edar\", \" sy\", \"cam\", \"ore\"]], [[\" slip\", \" shorts\", \" gloves\", \" sl\", \"acks\", \" sweater\", \" underwear\", \" hat\", \" belt\", \" jacket\", \" tie\"]], [[\" influenza\", \" pneumonia\", \" r\", \"ickets\", \" le\", \"pro\", \"sy\", \" diabetes\", \" small\", \"pox\", \" typh\", \"oid\", \" hepatitis\", \" sy\", \"ph\", \"ill\", \"is\", \" en\", \"cephal\", \"itis\"]]], \"hovertemplate\": \"prompt=1) short (~8 tok)<br>set size (n. tokens)=%{x}<br>average -log LL=%{y}<br>token_list=%{customdata[0]}<extra></extra>\", \"legendgroup\": \"1) short (~8 tok)\", \"marker\": {\"color\": \"#636efa\"}, \"name\": \"1) short (~8 tok)\", \"notched\": false, \"offsetgroup\": \"1) short (~8 tok)\", \"orientation\": \"v\", \"showlegend\": true, \"type\": \"box\", \"x\": [3, 3, 3, 3, 3, 3, 3, 3, 3, 3, 3, 3, 3, 3, 3, 3, 3, 3, 3, 3, 5, 5, 5, 5, 5, 5, 5, 5, 5, 5, 5, 5, 5, 5, 5, 5, 5, 5, 5, 5, 10, 10, 10, 10, 10, 10, 10, 10, 10, 10, 10, 10, 10, 10, 10, 10, 10, 10, 10, 10], \"x0\": \" \", \"xaxis\": \"x\", \"y\": [2.3598462541898093, 3.0946666399637857, 2.9567315792664886, 0.35984567215200514, 1.898407110478729, 2.8946880102157593, 2.657385508219401, 2.1512469450632734, 2.031781335671743, 2.1351151466369633, 1.434879844525962, 2.813329339027405, 2.451967736085256, 1.2481073278384949, 0.5112654459662737, 1.9362184703350067, 2.398118942975998, 1.9679828484853108, 1.7566556135813396, 3.4547632932662964, 2.9451738953590394, 2.866845631599426, 1.7937667035730556, 1.4576329468982294, 2.824439764022827, 1.5916680007940158, 2.088441156122523, 2.2743899608030915, 1.5205814719665796, 2.4046832203748636, 1.7362055742560187, 1.7720090338807495, 2.569403646833962, 1.7606356220997192, 2.232336980639957, 2.8515224933624266, 2.888728561035047, 1.5558728937440636, 2.7326821974662985, 2.2816503318026666, 3.037190080678556, 4.931553506851197, 1.6954446201631546, 2.5305637893454533, 1.995728722670012, 2.753869478031993, 2.8104469898001603, 3.3424430309995925, 2.62470474582412, 2.4853625366231427, 2.1206655947277215, 1.9757644368371035, 2.461184698976397, 2.2643074263098244, 2.025643993146895, 3.2059365145773078, 2.904317015752895, 2.3219146871750125, 4.770523727363483, 1.8845754175374168], \"y0\": \" \", \"yaxis\": \"y\"}, {\"alignmentgroup\": \"True\", \"boxpoints\": \"all\", \"customdata\": [[[\" roof\", \" window\", \" door\"]], [[\" head\", \" leg\", \" arms\"]], [[\" battles\", \"hip\", \" sail\", \"boat\", \" destroyer\"]], [[\" rob\", \"in\", \" sp\", \"arrow\", \" her\", \"on\"]], [[\" pear\", \" apple\", \" t\", \"angelo\"]], [[\" saw\", \" nails\", \" hammer\"]], [[\" hurricane\", \" rain\", \" tornado\"]], [[\" hydrogen\", \" nitrogen\", \" oxygen\"]], [[\" bob\", \" bill\", \" john\"]], [[\" chemistry\", \" psychology\", \" physics\"]], [[\" hel\", \"s\", \"inki\", \" tor\", \"onto\", \" ch\", \"icago\"]], [[\" drum\", \" piano\", \" trumpet\"]], [[\" spoon\", \" knife\", \" fork\"]], [[\" for\", \"d\", \" pont\", \"iac\", \" che\", \"v\", \"rolet\"]], [[\" trout\", \" gu\", \"pp\", \"ie\", \" shark\"]], [[\" baseball\", \" football\", \" basketball\"]], [[\" teacher\", \" doctor\", \" lawyer\"]], [[\" oak\", \" pine\", \" maple\"]], [[\" shirt\", \" pants\", \" socks\"]], [[\" tuberculosis\", \" measles\", \" cancer\"]], [[\" ceiling\", \" wall\", \" basement\", \" room\", \" floor\"]], [[\" nose\", \" finger\", \" foot\", \" eye\", \" ear\"]], [[\" cruiser\", \" submarine\", \" yacht\", \" row\", \"boat\", \" canoe\"]], [[\" eagle\", \" crow\", \" par\", \"ake\", \"et\", \" can\", \"ary\", \" hawk\"]], [[\" cherry\", \" plum\", \" banana\", \" grape\", \" peach\"]], [[\" level\", \" plane\", \" ruler\", \" wrench\", \" ch\", \"isel\"]], [[\" hail\", \" sle\", \"et\", \" storm\", \" snow\", \" wind\"]], [[\" helium\", \" sulph\", \"ur\", \" sodium\", \" k\", \"rypt\", \"on\", \" carbon\"]], [[\" jo\", \"e\", \" tom\", \" dick\", \" m\", \"ike\", \" j\", \"im\"]], [[\" mathematics\", \" astronomy\", \" zo\", \"ology\", \" bot\", \"any\", \" biology\"]], [[\" b\", \"oston\", \" l\", \"ondon\", \" m\", \"iami\", \" phil\", \"adelphia\", \" par\", \"is\"]], [[\" guitar\", \" fl\", \"ute\", \" clar\", \"inet\", \" violin\", \" sax\", \"ophone\"]], [[\" bowl\", \" stove\", \" pan\", \" pot\", \" spat\", \"ula\"]], [[\" cad\", \"illac\", \" bu\", \"ick\", \" dodge\", \" ch\", \"rys\", \"ler\", \" old\", \"sm\", \"obile\"]], [[\" per\", \"ch\", \" gold\", \"fish\", \" salmon\", \" tuna\", \" her\", \"ring\"]], [[\" golf\", \" tennis\", \" hockey\", \" soccer\", \" swimming\"]], [[\" dentist\", \" professor\", \" salesman\", \" engineer\", \" car\", \"penter\"]], [[\" red\", \"wood\", \" l\", \"ind\", \"en\", \" sp\", \"ruce\", \" el\", \"m\", \" bir\", \"ch\"]], [[\" dress\", \" shoes\", \" skirt\", \" bl\", \"ouse\", \" coat\"]], [[\" chicken\", \"pox\", \" m\", \"umps\", \" malaria\", \" leukemia\", \" polio\"]], [[\" stair\", \"way\", \" corridor\", \" elevator\", \" cup\", \"board\", \" attic\", \" hear\", \"th\", \" step\", \" chim\", \"ney\", \" foundation\", \" hall\"]], [[\" liver\", \" toe\", \" chest\", \" hand\", \" hair\", \" heart\", \" neck\", \" stomach\", \" knee\", \" mouth\"]], [[\" fre\", \"ighter\", \" c\", \"arg\", \"os\", \"hip\", \" motor\", \"boat\", \" sch\", \"oon\", \"er\", \" tug\", \"boat\", \" tanker\", \" b\", \"arge\", \" ste\", \"ams\", \"hip\", \" cl\", \"ippers\", \"hip\", \" liner\"]], [[\" ori\", \"ole\", \" star\", \"ling\", \" par\", \"rot\", \" chicken\", \" w\", \"ren\", \" v\", \"ulture\", \" pigeon\", \" black\", \"bird\", \" wood\", \"pe\", \"cker\", \" swallow\"]], [[\" lemon\", \" pineapple\", \" water\", \"melon\", \" apr\", \"ic\", \"ot\", \" t\", \"anger\", \"ine\", \" pr\", \"unes\", \" grape\", \"fruit\", \" lime\", \" black\", \"berry\", \" strawberry\"]], [[\" pl\", \"iers\", \" aw\", \"l\", \" lat\", \"he\", \" file\", \" square\", \" s\", \"ander\", \" sand\", \"paper\", \" drill\", \" screws\", \" punch\"]], [[\" thunder\", \" typh\", \"oon\", \" bl\", \"izzard\", \" mon\", \"soon\", \" fog\", \" lightning\", \" sunshine\", \" cycl\", \"one\", \" sm\", \"og\", \" clouds\"]], [[\" calcium\", \" chlorine\", \" magnesium\", \" aluminum\", \" lead\", \" uranium\", \" xen\", \"on\", \" phosphorus\", \" potassium\", \" zinc\"]], [[\" ste\", \"ve\", \" l\", \"arry\", \" sam\", \" f\", \"red\", \" har\", \"ry\", \" ge\", \"orge\", \" frank\", \" d\", \"ave\", \" jack\", \" p\", \"aul\"]], [[\" microbi\", \"ology\", \" anatomy\", \" meteor\", \"ology\", \" physiology\", \" sociology\", \" engineering\", \" medicine\", \" ge\", \"ology\", \" bi\", \"ochemistry\", \" ent\", \"om\", \"ology\"]], [[\" to\", \"ky\", \"o\", \" cle\", \"veland\", \" mos\", \"cow\", \" det\", \"roit\", \" d\", \"allas\", \" p\", \"itt\", \"sburgh\", \" mont\", \"real\", \" den\", \"ver\", \" bomb\", \"ay\", \" r\", \"ome\"]], [[\" har\", \"p\", \" viol\", \"a\", \" ob\", \"oe\", \" pic\", \"colo\", \" cell\", \"o\", \" ban\", \"jo\", \" k\", \"az\", \"oo\", \" tub\", \"a\", \" mar\", \"im\", \"ba\", \" t\", \"rom\", \"bone\"]], [[\" dish\", \" glass\", \" to\", \"aster\", \" mixer\", \" cup\", \" plate\", \" be\", \"ater\", \" skillet\", \" refrigerator\", \" fry\", \"pan\"]], [[\" op\", \"el\", \" f\", \"err\", \"ari\", \" mer\", \"cedes\", \" ply\", \"mouth\", \" vol\", \"ks\", \"wagen\", \" cor\", \"vette\", \" triumph\", \" fiat\", \" r\", \"amb\", \"ler\", \" audi\"]], [[\" fl\", \"ound\", \"er\", \" cod\", \" carp\", \" sun\", \"fish\", \" p\", \"ike\", \" blue\", \"g\", \"ill\", \" bar\", \"rac\", \"uda\", \" mar\", \"lin\", \" gu\", \"ppy\", \" min\", \"now\"]], [[\" ar\", \"chery\", \" skiing\", \" bad\", \"m\", \"inton\", \" fencing\", \" bowling\", \" fishing\", \" sn\", \"ork\", \"ling\", \" hand\", \"ball\", \" lac\", \"rosse\", \" wrestling\"]], [[\" nurse\", \" clerk\", \" psychologist\", \" under\", \"writer\", \" businessman\", \" pl\", \"umber\", \" accountant\", \" farmer\", \" scientist\", \" policeman\"]], [[\" ash\", \" ever\", \"green\", \" chest\", \"nut\", \" wal\", \"nut\", \" h\", \"ick\", \"ory\", \" pop\", \"lar\", \" will\", \"ow\", \" fir\", \" c\", \"edar\", \" sy\", \"cam\", \"ore\"]], [[\" slip\", \" shorts\", \" gloves\", \" sl\", \"acks\", \" sweater\", \" underwear\", \" hat\", \" belt\", \" jacket\", \" tie\"]], [[\" influenza\", \" pneumonia\", \" r\", \"ickets\", \" le\", \"pro\", \"sy\", \" diabetes\", \" small\", \"pox\", \" typh\", \"oid\", \" hepatitis\", \" sy\", \"ph\", \"ill\", \"is\", \" en\", \"cephal\", \"itis\"]]], \"hovertemplate\": \"prompt=2) mid (~30 tok)<br>set size (n. tokens)=%{x}<br>average -log LL=%{y}<br>token_list=%{customdata[0]}<extra></extra>\", \"legendgroup\": \"2) mid (~30 tok)\", \"marker\": {\"color\": \"#EF553B\"}, \"name\": \"2) mid (~30 tok)\", \"notched\": false, \"offsetgroup\": \"2) mid (~30 tok)\", \"orientation\": \"v\", \"showlegend\": true, \"type\": \"box\", \"x\": [3, 3, 3, 3, 3, 3, 3, 3, 3, 3, 3, 3, 3, 3, 3, 3, 3, 3, 3, 3, 5, 5, 5, 5, 5, 5, 5, 5, 5, 5, 5, 5, 5, 5, 5, 5, 5, 5, 5, 5, 10, 10, 10, 10, 10, 10, 10, 10, 10, 10, 10, 10, 10, 10, 10, 10, 10, 10, 10, 10], \"x0\": \" \", \"xaxis\": \"x\", \"y\": [2.752423882484436, 3.002070188522339, 3.1983616046607497, 0.2360540457884781, 1.893883201002609, 3.0300960143407187, 2.8813360134760537, 2.1778409679730735, 2.1398039857546487, 1.8771740992863972, 1.3849094048450101, 3.0032362937927246, 2.6152649025122328, 1.2546153230006374, 0.3801237493753433, 1.9222816576560342, 2.847741882006327, 1.8911941448847454, 1.6588102181752522, 3.52217044432958, 3.0133795380592345, 2.9489792823791507, 1.7235202999242272, 1.3421207418723498, 2.847657060623169, 1.7326903849995385, 2.084343582362635, 2.3444842475437326, 1.5603852134663612, 2.3997802099163112, 1.7330109406786505, 1.7469256733747898, 2.5146430028156224, 1.6737813126105308, 2.1394153343280777, 2.847504234313965, 3.0780387029226404, 1.5513152747695462, 2.780827582532462, 2.3737486427915946, 3.211603963913928, 5.031008005142212, 1.6608336559122265, 2.547275078303048, 2.01867117710127, 2.9190275612908105, 2.8418760031384105, 3.2904561141437045, 2.8793749833369957, 2.7379346940797404, 2.2244227467930284, 2.0035623716387856, 2.554809404653497, 2.28870205754356, 2.108589043142274, 3.3143912881701802, 3.1617404096468817, 2.4107608727252225, 5.052018008353612, 1.9158457892182923], \"y0\": \" \", \"yaxis\": \"y\"}, {\"alignmentgroup\": \"True\", \"boxpoints\": \"all\", \"customdata\": [[[\" roof\", \" window\", \" door\"]], [[\" head\", \" leg\", \" arms\"]], [[\" battles\", \"hip\", \" sail\", \"boat\", \" destroyer\"]], [[\" rob\", \"in\", \" sp\", \"arrow\", \" her\", \"on\"]], [[\" pear\", \" apple\", \" t\", \"angelo\"]], [[\" saw\", \" nails\", \" hammer\"]], [[\" hurricane\", \" rain\", \" tornado\"]], [[\" hydrogen\", \" nitrogen\", \" oxygen\"]], [[\" bob\", \" bill\", \" john\"]], [[\" chemistry\", \" psychology\", \" physics\"]], [[\" hel\", \"s\", \"inki\", \" tor\", \"onto\", \" ch\", \"icago\"]], [[\" drum\", \" piano\", \" trumpet\"]], [[\" spoon\", \" knife\", \" fork\"]], [[\" for\", \"d\", \" pont\", \"iac\", \" che\", \"v\", \"rolet\"]], [[\" trout\", \" gu\", \"pp\", \"ie\", \" shark\"]], [[\" baseball\", \" football\", \" basketball\"]], [[\" teacher\", \" doctor\", \" lawyer\"]], [[\" oak\", \" pine\", \" maple\"]], [[\" shirt\", \" pants\", \" socks\"]], [[\" tuberculosis\", \" measles\", \" cancer\"]], [[\" ceiling\", \" wall\", \" basement\", \" room\", \" floor\"]], [[\" nose\", \" finger\", \" foot\", \" eye\", \" ear\"]], [[\" cruiser\", \" submarine\", \" yacht\", \" row\", \"boat\", \" canoe\"]], [[\" eagle\", \" crow\", \" par\", \"ake\", \"et\", \" can\", \"ary\", \" hawk\"]], [[\" cherry\", \" plum\", \" banana\", \" grape\", \" peach\"]], [[\" level\", \" plane\", \" ruler\", \" wrench\", \" ch\", \"isel\"]], [[\" hail\", \" sle\", \"et\", \" storm\", \" snow\", \" wind\"]], [[\" helium\", \" sulph\", \"ur\", \" sodium\", \" k\", \"rypt\", \"on\", \" carbon\"]], [[\" jo\", \"e\", \" tom\", \" dick\", \" m\", \"ike\", \" j\", \"im\"]], [[\" mathematics\", \" astronomy\", \" zo\", \"ology\", \" bot\", \"any\", \" biology\"]], [[\" b\", \"oston\", \" l\", \"ondon\", \" m\", \"iami\", \" phil\", \"adelphia\", \" par\", \"is\"]], [[\" guitar\", \" fl\", \"ute\", \" clar\", \"inet\", \" violin\", \" sax\", \"ophone\"]], [[\" bowl\", \" stove\", \" pan\", \" pot\", \" spat\", \"ula\"]], [[\" cad\", \"illac\", \" bu\", \"ick\", \" dodge\", \" ch\", \"rys\", \"ler\", \" old\", \"sm\", \"obile\"]], [[\" per\", \"ch\", \" gold\", \"fish\", \" salmon\", \" tuna\", \" her\", \"ring\"]], [[\" golf\", \" tennis\", \" hockey\", \" soccer\", \" swimming\"]], [[\" dentist\", \" professor\", \" salesman\", \" engineer\", \" car\", \"penter\"]], [[\" red\", \"wood\", \" l\", \"ind\", \"en\", \" sp\", \"ruce\", \" el\", \"m\", \" bir\", \"ch\"]], [[\" dress\", \" shoes\", \" skirt\", \" bl\", \"ouse\", \" coat\"]], [[\" chicken\", \"pox\", \" m\", \"umps\", \" malaria\", \" leukemia\", \" polio\"]], [[\" stair\", \"way\", \" corridor\", \" elevator\", \" cup\", \"board\", \" attic\", \" hear\", \"th\", \" step\", \" chim\", \"ney\", \" foundation\", \" hall\"]], [[\" liver\", \" toe\", \" chest\", \" hand\", \" hair\", \" heart\", \" neck\", \" stomach\", \" knee\", \" mouth\"]], [[\" fre\", \"ighter\", \" c\", \"arg\", \"os\", \"hip\", \" motor\", \"boat\", \" sch\", \"oon\", \"er\", \" tug\", \"boat\", \" tanker\", \" b\", \"arge\", \" ste\", \"ams\", \"hip\", \" cl\", \"ippers\", \"hip\", \" liner\"]], [[\" ori\", \"ole\", \" star\", \"ling\", \" par\", \"rot\", \" chicken\", \" w\", \"ren\", \" v\", \"ulture\", \" pigeon\", \" black\", \"bird\", \" wood\", \"pe\", \"cker\", \" swallow\"]], [[\" lemon\", \" pineapple\", \" water\", \"melon\", \" apr\", \"ic\", \"ot\", \" t\", \"anger\", \"ine\", \" pr\", \"unes\", \" grape\", \"fruit\", \" lime\", \" black\", \"berry\", \" strawberry\"]], [[\" pl\", \"iers\", \" aw\", \"l\", \" lat\", \"he\", \" file\", \" square\", \" s\", \"ander\", \" sand\", \"paper\", \" drill\", \" screws\", \" punch\"]], [[\" thunder\", \" typh\", \"oon\", \" bl\", \"izzard\", \" mon\", \"soon\", \" fog\", \" lightning\", \" sunshine\", \" cycl\", \"one\", \" sm\", \"og\", \" clouds\"]], [[\" calcium\", \" chlorine\", \" magnesium\", \" aluminum\", \" lead\", \" uranium\", \" xen\", \"on\", \" phosphorus\", \" potassium\", \" zinc\"]], [[\" ste\", \"ve\", \" l\", \"arry\", \" sam\", \" f\", \"red\", \" har\", \"ry\", \" ge\", \"orge\", \" frank\", \" d\", \"ave\", \" jack\", \" p\", \"aul\"]], [[\" microbi\", \"ology\", \" anatomy\", \" meteor\", \"ology\", \" physiology\", \" sociology\", \" engineering\", \" medicine\", \" ge\", \"ology\", \" bi\", \"ochemistry\", \" ent\", \"om\", \"ology\"]], [[\" to\", \"ky\", \"o\", \" cle\", \"veland\", \" mos\", \"cow\", \" det\", \"roit\", \" d\", \"allas\", \" p\", \"itt\", \"sburgh\", \" mont\", \"real\", \" den\", \"ver\", \" bomb\", \"ay\", \" r\", \"ome\"]], [[\" har\", \"p\", \" viol\", \"a\", \" ob\", \"oe\", \" pic\", \"colo\", \" cell\", \"o\", \" ban\", \"jo\", \" k\", \"az\", \"oo\", \" tub\", \"a\", \" mar\", \"im\", \"ba\", \" t\", \"rom\", \"bone\"]], [[\" dish\", \" glass\", \" to\", \"aster\", \" mixer\", \" cup\", \" plate\", \" be\", \"ater\", \" skillet\", \" refrigerator\", \" fry\", \"pan\"]], [[\" op\", \"el\", \" f\", \"err\", \"ari\", \" mer\", \"cedes\", \" ply\", \"mouth\", \" vol\", \"ks\", \"wagen\", \" cor\", \"vette\", \" triumph\", \" fiat\", \" r\", \"amb\", \"ler\", \" audi\"]], [[\" fl\", \"ound\", \"er\", \" cod\", \" carp\", \" sun\", \"fish\", \" p\", \"ike\", \" blue\", \"g\", \"ill\", \" bar\", \"rac\", \"uda\", \" mar\", \"lin\", \" gu\", \"ppy\", \" min\", \"now\"]], [[\" ar\", \"chery\", \" skiing\", \" bad\", \"m\", \"inton\", \" fencing\", \" bowling\", \" fishing\", \" sn\", \"ork\", \"ling\", \" hand\", \"ball\", \" lac\", \"rosse\", \" wrestling\"]], [[\" nurse\", \" clerk\", \" psychologist\", \" under\", \"writer\", \" businessman\", \" pl\", \"umber\", \" accountant\", \" farmer\", \" scientist\", \" policeman\"]], [[\" ash\", \" ever\", \"green\", \" chest\", \"nut\", \" wal\", \"nut\", \" h\", \"ick\", \"ory\", \" pop\", \"lar\", \" will\", \"ow\", \" fir\", \" c\", \"edar\", \" sy\", \"cam\", \"ore\"]], [[\" slip\", \" shorts\", \" gloves\", \" sl\", \"acks\", \" sweater\", \" underwear\", \" hat\", \" belt\", \" jacket\", \" tie\"]], [[\" influenza\", \" pneumonia\", \" r\", \"ickets\", \" le\", \"pro\", \"sy\", \" diabetes\", \" small\", \"pox\", \" typh\", \"oid\", \" hepatitis\", \" sy\", \"ph\", \"ill\", \"is\", \" en\", \"cephal\", \"itis\"]]], \"hovertemplate\": \"prompt=3) long (~60 tok)<br>set size (n. tokens)=%{x}<br>average -log LL=%{y}<br>token_list=%{customdata[0]}<extra></extra>\", \"legendgroup\": \"3) long (~60 tok)\", \"marker\": {\"color\": \"#00cc96\"}, \"name\": \"3) long (~60 tok)\", \"notched\": false, \"offsetgroup\": \"3) long (~60 tok)\", \"orientation\": \"v\", \"showlegend\": true, \"type\": \"box\", \"x\": [3, 3, 3, 3, 3, 3, 3, 3, 3, 3, 3, 3, 3, 3, 3, 3, 3, 3, 3, 3, 5, 5, 5, 5, 5, 5, 5, 5, 5, 5, 5, 5, 5, 5, 5, 5, 5, 5, 5, 5, 10, 10, 10, 10, 10, 10, 10, 10, 10, 10, 10, 10, 10, 10, 10, 10, 10, 10, 10, 10], \"x0\": \" \", \"xaxis\": \"x\", \"y\": [2.9913292527198787, 2.995396355787913, 3.446663596108556, 0.2103475721863409, 1.880429530981928, 3.3617268403371168, 2.7663997809092202, 2.2427892287572226, 2.6329225500424704, 1.8325316707293193, 1.3966228848564373, 3.128039280573527, 2.773421749472618, 1.4029748496333403, 0.2861649714410305, 2.0254901647567753, 3.3882279992103577, 1.8058569033940632, 1.5154072841008503, 3.8712908128897348, 2.996241557598114, 3.1081292629241943, 1.7028437048817675, 1.344999004038982, 2.9440501928329468, 1.6299498907368009, 2.1827381548355334, 2.5546751968940953, 1.5055344408610836, 2.555583043489605, 1.6746069410277413, 1.739401796443417, 2.468552239598163, 1.8355904501989821, 2.2052876194939017, 2.85268976688385, 2.927227826915138, 1.5705704443416009, 2.87718734263035, 2.547600748549615, 3.236257045097383, 5.162119770050049, 1.6381342146980942, 2.5932491690627, 2.0654257938537435, 2.9143970509525388, 2.896652872581035, 3.1890387501546438, 3.0480142227675326, 2.726931987072021, 2.353016723028056, 1.9956148509973781, 2.5579880900421323, 2.2050458927809813, 2.1153267905493047, 3.3396393002587823, 3.222759232206348, 2.5097353424469473, 5.141485774328678, 1.9482985949503928], \"y0\": \" \", \"yaxis\": \"y\"}],                        {\"boxmode\": \"group\", \"height\": 500, \"legend\": {\"title\": {\"text\": \"prompt\"}, \"tracegroupgap\": 0}, \"template\": {\"data\": {\"bar\": [{\"error_x\": {\"color\": \"#2a3f5f\"}, \"error_y\": {\"color\": \"#2a3f5f\"}, \"marker\": {\"line\": {\"color\": \"#E5ECF6\", \"width\": 0.5}}, \"type\": \"bar\"}], \"barpolar\": [{\"marker\": {\"line\": {\"color\": \"#E5ECF6\", \"width\": 0.5}}, \"type\": \"barpolar\"}], \"carpet\": [{\"aaxis\": {\"endlinecolor\": \"#2a3f5f\", \"gridcolor\": \"white\", \"linecolor\": \"white\", \"minorgridcolor\": \"white\", \"startlinecolor\": \"#2a3f5f\"}, \"baxis\": {\"endlinecolor\": \"#2a3f5f\", \"gridcolor\": \"white\", \"linecolor\": \"white\", \"minorgridcolor\": \"white\", \"startlinecolor\": \"#2a3f5f\"}, \"type\": \"carpet\"}], \"choropleth\": [{\"colorbar\": {\"outlinewidth\": 0, \"ticks\": \"\"}, \"type\": \"choropleth\"}], \"contour\": [{\"colorbar\": {\"outlinewidth\": 0, \"ticks\": \"\"}, \"colorscale\": [[0.0, \"#0d0887\"], [0.1111111111111111, \"#46039f\"], [0.2222222222222222, \"#7201a8\"], [0.3333333333333333, \"#9c179e\"], [0.4444444444444444, \"#bd3786\"], [0.5555555555555556, \"#d8576b\"], [0.6666666666666666, \"#ed7953\"], [0.7777777777777778, \"#fb9f3a\"], [0.8888888888888888, \"#fdca26\"], [1.0, \"#f0f921\"]], \"type\": \"contour\"}], \"contourcarpet\": [{\"colorbar\": {\"outlinewidth\": 0, \"ticks\": \"\"}, \"type\": \"contourcarpet\"}], \"heatmap\": [{\"colorbar\": {\"outlinewidth\": 0, \"ticks\": \"\"}, \"colorscale\": [[0.0, \"#0d0887\"], [0.1111111111111111, \"#46039f\"], [0.2222222222222222, \"#7201a8\"], [0.3333333333333333, \"#9c179e\"], [0.4444444444444444, \"#bd3786\"], [0.5555555555555556, \"#d8576b\"], [0.6666666666666666, \"#ed7953\"], [0.7777777777777778, \"#fb9f3a\"], [0.8888888888888888, \"#fdca26\"], [1.0, \"#f0f921\"]], \"type\": \"heatmap\"}], \"heatmapgl\": [{\"colorbar\": {\"outlinewidth\": 0, \"ticks\": \"\"}, \"colorscale\": [[0.0, \"#0d0887\"], [0.1111111111111111, \"#46039f\"], [0.2222222222222222, \"#7201a8\"], [0.3333333333333333, \"#9c179e\"], [0.4444444444444444, \"#bd3786\"], [0.5555555555555556, \"#d8576b\"], [0.6666666666666666, \"#ed7953\"], [0.7777777777777778, \"#fb9f3a\"], [0.8888888888888888, \"#fdca26\"], [1.0, \"#f0f921\"]], \"type\": \"heatmapgl\"}], \"histogram\": [{\"marker\": {\"colorbar\": {\"outlinewidth\": 0, \"ticks\": \"\"}}, \"type\": \"histogram\"}], \"histogram2d\": [{\"colorbar\": {\"outlinewidth\": 0, \"ticks\": \"\"}, \"colorscale\": [[0.0, \"#0d0887\"], [0.1111111111111111, \"#46039f\"], [0.2222222222222222, \"#7201a8\"], [0.3333333333333333, \"#9c179e\"], [0.4444444444444444, \"#bd3786\"], [0.5555555555555556, \"#d8576b\"], [0.6666666666666666, \"#ed7953\"], [0.7777777777777778, \"#fb9f3a\"], [0.8888888888888888, \"#fdca26\"], [1.0, \"#f0f921\"]], \"type\": \"histogram2d\"}], \"histogram2dcontour\": [{\"colorbar\": {\"outlinewidth\": 0, \"ticks\": \"\"}, \"colorscale\": [[0.0, \"#0d0887\"], [0.1111111111111111, \"#46039f\"], [0.2222222222222222, \"#7201a8\"], [0.3333333333333333, \"#9c179e\"], [0.4444444444444444, \"#bd3786\"], [0.5555555555555556, \"#d8576b\"], [0.6666666666666666, \"#ed7953\"], [0.7777777777777778, \"#fb9f3a\"], [0.8888888888888888, \"#fdca26\"], [1.0, \"#f0f921\"]], \"type\": \"histogram2dcontour\"}], \"mesh3d\": [{\"colorbar\": {\"outlinewidth\": 0, \"ticks\": \"\"}, \"type\": \"mesh3d\"}], \"parcoords\": [{\"line\": {\"colorbar\": {\"outlinewidth\": 0, \"ticks\": \"\"}}, \"type\": \"parcoords\"}], \"pie\": [{\"automargin\": true, \"type\": \"pie\"}], \"scatter\": [{\"marker\": {\"colorbar\": {\"outlinewidth\": 0, \"ticks\": \"\"}}, \"type\": \"scatter\"}], \"scatter3d\": [{\"line\": {\"colorbar\": {\"outlinewidth\": 0, \"ticks\": \"\"}}, \"marker\": {\"colorbar\": {\"outlinewidth\": 0, \"ticks\": \"\"}}, \"type\": \"scatter3d\"}], \"scattercarpet\": [{\"marker\": {\"colorbar\": {\"outlinewidth\": 0, \"ticks\": \"\"}}, \"type\": \"scattercarpet\"}], \"scattergeo\": [{\"marker\": {\"colorbar\": {\"outlinewidth\": 0, \"ticks\": \"\"}}, \"type\": \"scattergeo\"}], \"scattergl\": [{\"marker\": {\"colorbar\": {\"outlinewidth\": 0, \"ticks\": \"\"}}, \"type\": \"scattergl\"}], \"scattermapbox\": [{\"marker\": {\"colorbar\": {\"outlinewidth\": 0, \"ticks\": \"\"}}, \"type\": \"scattermapbox\"}], \"scatterpolar\": [{\"marker\": {\"colorbar\": {\"outlinewidth\": 0, \"ticks\": \"\"}}, \"type\": \"scatterpolar\"}], \"scatterpolargl\": [{\"marker\": {\"colorbar\": {\"outlinewidth\": 0, \"ticks\": \"\"}}, \"type\": \"scatterpolargl\"}], \"scatterternary\": [{\"marker\": {\"colorbar\": {\"outlinewidth\": 0, \"ticks\": \"\"}}, \"type\": \"scatterternary\"}], \"surface\": [{\"colorbar\": {\"outlinewidth\": 0, \"ticks\": \"\"}, \"colorscale\": [[0.0, \"#0d0887\"], [0.1111111111111111, \"#46039f\"], [0.2222222222222222, \"#7201a8\"], [0.3333333333333333, \"#9c179e\"], [0.4444444444444444, \"#bd3786\"], [0.5555555555555556, \"#d8576b\"], [0.6666666666666666, \"#ed7953\"], [0.7777777777777778, \"#fb9f3a\"], [0.8888888888888888, \"#fdca26\"], [1.0, \"#f0f921\"]], \"type\": \"surface\"}], \"table\": [{\"cells\": {\"fill\": {\"color\": \"#EBF0F8\"}, \"line\": {\"color\": \"white\"}}, \"header\": {\"fill\": {\"color\": \"#C8D4E3\"}, \"line\": {\"color\": \"white\"}}, \"type\": \"table\"}]}, \"layout\": {\"annotationdefaults\": {\"arrowcolor\": \"#2a3f5f\", \"arrowhead\": 0, \"arrowwidth\": 1}, \"coloraxis\": {\"colorbar\": {\"outlinewidth\": 0, \"ticks\": \"\"}}, \"colorscale\": {\"diverging\": [[0, \"#8e0152\"], [0.1, \"#c51b7d\"], [0.2, \"#de77ae\"], [0.3, \"#f1b6da\"], [0.4, \"#fde0ef\"], [0.5, \"#f7f7f7\"], [0.6, \"#e6f5d0\"], [0.7, \"#b8e186\"], [0.8, \"#7fbc41\"], [0.9, \"#4d9221\"], [1, \"#276419\"]], \"sequential\": [[0.0, \"#0d0887\"], [0.1111111111111111, \"#46039f\"], [0.2222222222222222, \"#7201a8\"], [0.3333333333333333, \"#9c179e\"], [0.4444444444444444, \"#bd3786\"], [0.5555555555555556, \"#d8576b\"], [0.6666666666666666, \"#ed7953\"], [0.7777777777777778, \"#fb9f3a\"], [0.8888888888888888, \"#fdca26\"], [1.0, \"#f0f921\"]], \"sequentialminus\": [[0.0, \"#0d0887\"], [0.1111111111111111, \"#46039f\"], [0.2222222222222222, \"#7201a8\"], [0.3333333333333333, \"#9c179e\"], [0.4444444444444444, \"#bd3786\"], [0.5555555555555556, \"#d8576b\"], [0.6666666666666666, \"#ed7953\"], [0.7777777777777778, \"#fb9f3a\"], [0.8888888888888888, \"#fdca26\"], [1.0, \"#f0f921\"]]}, \"colorway\": [\"#636efa\", \"#EF553B\", \"#00cc96\", \"#ab63fa\", \"#FFA15A\", \"#19d3f3\", \"#FF6692\", \"#B6E880\", \"#FF97FF\", \"#FECB52\"], \"font\": {\"color\": \"#2a3f5f\"}, \"geo\": {\"bgcolor\": \"white\", \"lakecolor\": \"white\", \"landcolor\": \"#E5ECF6\", \"showlakes\": true, \"showland\": true, \"subunitcolor\": \"white\"}, \"hoverlabel\": {\"align\": \"left\"}, \"hovermode\": \"closest\", \"mapbox\": {\"style\": \"light\"}, \"paper_bgcolor\": \"white\", \"plot_bgcolor\": \"#E5ECF6\", \"polar\": {\"angularaxis\": {\"gridcolor\": \"white\", \"linecolor\": \"white\", \"ticks\": \"\"}, \"bgcolor\": \"#E5ECF6\", \"radialaxis\": {\"gridcolor\": \"white\", \"linecolor\": \"white\", \"ticks\": \"\"}}, \"scene\": {\"xaxis\": {\"backgroundcolor\": \"#E5ECF6\", \"gridcolor\": \"white\", \"gridwidth\": 2, \"linecolor\": \"white\", \"showbackground\": true, \"ticks\": \"\", \"zerolinecolor\": \"white\"}, \"yaxis\": {\"backgroundcolor\": \"#E5ECF6\", \"gridcolor\": \"white\", \"gridwidth\": 2, \"linecolor\": \"white\", \"showbackground\": true, \"ticks\": \"\", \"zerolinecolor\": \"white\"}, \"zaxis\": {\"backgroundcolor\": \"#E5ECF6\", \"gridcolor\": \"white\", \"gridwidth\": 2, \"linecolor\": \"white\", \"showbackground\": true, \"ticks\": \"\", \"zerolinecolor\": \"white\"}}, \"shapedefaults\": {\"line\": {\"color\": \"#2a3f5f\"}}, \"ternary\": {\"aaxis\": {\"gridcolor\": \"white\", \"linecolor\": \"white\", \"ticks\": \"\"}, \"baxis\": {\"gridcolor\": \"white\", \"linecolor\": \"white\", \"ticks\": \"\"}, \"bgcolor\": \"#E5ECF6\", \"caxis\": {\"gridcolor\": \"white\", \"linecolor\": \"white\", \"ticks\": \"\"}}, \"title\": {\"x\": 0.05}, \"xaxis\": {\"automargin\": true, \"gridcolor\": \"white\", \"linecolor\": \"white\", \"ticks\": \"\", \"title\": {\"standoff\": 15}, \"zerolinecolor\": \"white\", \"zerolinewidth\": 2}, \"yaxis\": {\"automargin\": true, \"gridcolor\": \"white\", \"linecolor\": \"white\", \"ticks\": \"\", \"title\": {\"standoff\": 15}, \"zerolinecolor\": \"white\", \"zerolinewidth\": 2}}}, \"title\": {\"text\": \"Mean neg. LL on second list presentation (semantic, permute)\"}, \"width\": 1200, \"xaxis\": {\"anchor\": \"y\", \"domain\": [0.0, 1.0], \"title\": {\"text\": \"set size (n. tokens)\"}, \"type\": \"category\"}, \"yaxis\": {\"anchor\": \"x\", \"domain\": [0.0, 1.0], \"title\": {\"text\": \"average -log LL\"}}},                        {\"responsive\": true}                    ).then(function(){\n",
       "                            \n",
       "var gd = document.getElementById('0cec9467-052e-4b51-9640-13196508cc5e');\n",
       "var x = new MutationObserver(function (mutations, observer) {{\n",
       "        var display = window.getComputedStyle(gd).display;\n",
       "        if (!display || display === 'none') {{\n",
       "            console.log([gd, 'removed!']);\n",
       "            Plotly.purge(gd);\n",
       "            observer.disconnect();\n",
       "        }}\n",
       "}});\n",
       "\n",
       "// Listen for the removal of the full notebook cells\n",
       "var notebookContainer = gd.closest('#notebook-container');\n",
       "if (notebookContainer) {{\n",
       "    x.observe(notebookContainer, {childList: true});\n",
       "}}\n",
       "\n",
       "// Listen for the clearing of the current output cell\n",
       "var outputEl = gd.closest('.output');\n",
       "if (outputEl) {{\n",
       "    x.observe(outputEl, {childList: true});\n",
       "}}\n",
       "\n",
       "                        })                };                });            </script>        </div>"
      ]
     },
     "metadata": {},
     "output_type": "display_data"
    }
   ],
   "source": [
    "fig = px.box(dagg, x=\"set_size_\", y=\"ppl_mean\", points=\"all\", color=\"prompt_\", \n",
    "             hover_data=[\"token_list\"], \n",
    "             labels={\"set_size_\": \"set size (n. tokens)\", \"ppl_mean\": \"average -log LL\",\n",
    "                   \"prompt_\": \"prompt\", \"second_list_\": \"word order\"},\n",
    "            category_orders = {\"prompt\": [\"short (~8 tok)\", \"mid (~30 tok)\", \"long (~60 tok)\"]},\n",
    "            width=figwidth, height=figheight,\n",
    "            title=\"Mean neg. LL on second list presentation ({}, {})\" \\\n",
    "                   .format(semlist, wordorder))\n",
    "fig.update_xaxes(type='category')\n",
    "fig.show()"
   ]
  },
  {
   "cell_type": "code",
   "execution_count": 23,
   "metadata": {},
   "outputs": [],
   "source": [
    "fig.write_image(\"./figures/perp_{}_{}.png\".format(semlist, wordorder))"
   ]
  },
  {
   "cell_type": "code",
   "execution_count": 24,
   "metadata": {},
   "outputs": [],
   "source": [
    "# let's filter some stuff\n",
    "dftmp = None\n",
    "semlist = \"nonsemantic\"\n",
    "wordorder = \"repeat\"\n",
    "dftmp = df2.loc[(~df2.ispunct)  & (df2.list == semlist) & (df2.second_list == wordorder), :]          # remove punctuation\n",
    "dftmp = dftmp.loc[(dftmp.trialID == 1), :]  # only look at the cue presentation word list\n",
    "dftmp[\"prompt\"] = dftmp[\"prompt\"].str.replace(\"sce1-1\", \"1) short (~8 tok)\")\n",
    "dftmp[\"prompt\"] = dftmp[\"prompt\"].str.replace(\"sce1-3\", \"2) mid (~30 tok)\")\n",
    "dftmp[\"prompt\"] = dftmp[\"prompt\"].str.replace(\"sce1-5\", \"3) long (~60 tok)\")"
   ]
  },
  {
   "cell_type": "code",
   "execution_count": 25,
   "metadata": {},
   "outputs": [],
   "source": [
    "dagg = None\n",
    "dagg = dftmp.groupby([\"prompt\", \"set_size\", \"stimID\"]) \\\n",
    "            .agg({\"ppl\": [\"mean\", \"std\"], \"token\": list}) \\\n",
    "            .reset_index()\n",
    "dagg.columns = ['_'.join(col).strip() for col in dagg.columns.values]"
   ]
  },
  {
   "cell_type": "code",
   "execution_count": 26,
   "metadata": {},
   "outputs": [
    {
     "data": {
      "application/vnd.plotly.v1+json": {
       "config": {
        "plotlyServerURL": "https://plot.ly"
       },
       "data": [
        {
         "alignmentgroup": "True",
         "boxpoints": "all",
         "customdata": [
          [
           [
            "series",
            " singer",
            " affair"
           ]
          ],
          [
           [
            "window",
            " cannon",
            " apple"
           ]
          ],
          [
           [
            "des",
            "pair",
            " kingdom",
            " b",
            "erry"
           ]
          ],
          [
           [
            "b",
            "less",
            "ing",
            " journey",
            " story"
           ]
          ],
          [
           [
            "eff",
            "ort",
            " village",
            " cottage"
           ]
          ],
          [
           [
            "sh",
            "ipping",
            " future",
            " police"
           ]
          ],
          [
           [
            "factor",
            " ocean",
            " machine"
           ]
          ],
          [
           [
            "inst",
            "ant",
            " sailor",
            " belief"
           ]
          ],
          [
           [
            "danger",
            " moment",
            " coffee"
           ]
          ],
          [
           [
            "out",
            "line",
            " basin",
            " summer"
           ]
          ],
          [
           [
            "sent",
            "ence",
            " teacher",
            " array"
           ]
          ],
          [
           [
            "football",
            " orange",
            " mistress"
           ]
          ],
          [
           [
            "will",
            "ow",
            " colonel",
            " cotton"
           ]
          ],
          [
           [
            "artist",
            " minute",
            " lady"
           ]
          ],
          [
           [
            "s",
            "her",
            "iff",
            " feature",
            " mixture"
           ]
          ],
          [
           [
            "rel",
            "ief",
            " uncle",
            " failure"
           ]
          ],
          [
           [
            "chapter",
            " pra",
            "irie",
            " pupil"
           ]
          ],
          [
           [
            "b",
            "asket",
            " prospect",
            " jewel"
           ]
          ],
          [
           [
            "the",
            "ory",
            " button",
            " congress"
           ]
          ],
          [
           [
            "c",
            "abin",
            " flavor",
            " circle"
           ]
          ],
          [
           [
            "the",
            "ater",
            " manner",
            " sorrow",
            " angel",
            " illness"
           ]
          ],
          [
           [
            "payment",
            " sugar",
            " cellar",
            " mercy",
            " paper"
           ]
          ],
          [
           [
            "gar",
            "ment",
            " garden",
            " bullet",
            " building",
            " motion"
           ]
          ],
          [
           [
            "hor",
            "ror",
            " pilot",
            " traitor",
            " quarter",
            " partner"
           ]
          ],
          [
           [
            "c",
            "andy",
            " sp",
            "arrow",
            " pistol",
            " pleasure",
            " cousin"
           ]
          ],
          [
           [
            "not",
            "ion",
            " harvest",
            " rival",
            " movie",
            " absence"
           ]
          ],
          [
           [
            "section",
            " duty",
            " onion",
            " moisture",
            " total"
           ]
          ],
          [
           [
            "ste",
            "amer",
            " baby",
            " patient",
            " husband",
            " spider"
           ]
          ],
          [
           [
            "door",
            "way",
            " hotel",
            " music",
            " silence",
            " research"
           ]
          ],
          [
           [
            "squ",
            "irrel",
            " motor",
            " pasture",
            " goddess",
            " ribbon"
           ]
          ],
          [
           [
            "pe",
            "pper",
            " unit",
            " standard",
            " begg",
            "ar",
            " meantime"
           ]
          ],
          [
           [
            "capt",
            "ive",
            " training",
            " banner",
            " victim",
            " extent"
           ]
          ],
          [
           [
            "d",
            "iet",
            " legend",
            " novel",
            " closet",
            " pony"
           ]
          ],
          [
           [
            "double",
            " maiden",
            " contents",
            " liquid",
            " planet"
           ]
          ],
          [
           [
            "detail",
            " offence",
            " comrade",
            " problem",
            " finger"
           ]
          ],
          [
           [
            "tun",
            "nel",
            " oven",
            " canal",
            " student",
            " island"
           ]
          ],
          [
           [
            "hammer",
            " engine",
            " soldier",
            " market",
            " herald"
           ]
          ],
          [
           [
            "p",
            "uzzle",
            " hatred",
            " surface",
            " sister",
            " helmet"
           ]
          ],
          [
           [
            "pit",
            "cher",
            " number",
            " agent",
            " excess",
            " needle"
           ]
          ],
          [
           [
            "har",
            "bour",
            " resort",
            " nation",
            " marriage",
            " kitten"
           ]
          ],
          [
           [
            "major",
            " hunter",
            " princess",
            " journal",
            " jersey",
            " marble",
            " fortune",
            " limit",
            " spirit",
            " mother"
           ]
          ],
          [
           [
            "bottom",
            " meeting",
            " worker",
            " ticket",
            " armor",
            " station",
            " bedroom",
            " estate",
            " letter",
            " tribute"
           ]
          ],
          [
           [
            "f",
            "ever",
            " mission",
            " par",
            "lor",
            " shower",
            " pocket",
            " temple",
            " me",
            "adow",
            " couple",
            " r",
            "attle",
            " leader"
           ]
          ],
          [
           [
            "body",
            " autumn",
            " be",
            "aver",
            " climate",
            " virtue",
            " jacket",
            " rifle",
            " triumph",
            " chapel",
            " conquest"
           ]
          ],
          [
           [
            "powder",
            " weapon",
            " blanket",
            " distance",
            " chim",
            "ney",
            " candle",
            " bargain",
            " genius",
            " evening",
            " vessel"
           ]
          ],
          [
           [
            "service",
            " fountain",
            " vapor",
            " forehead",
            " layer",
            " compound",
            " salad",
            " kitchen",
            " supper",
            " worship"
           ]
          ],
          [
           [
            "single",
            " mischief",
            " voyage",
            " product",
            " acre",
            " mad",
            "am",
            " learning",
            " treasure",
            " sl",
            "ipper",
            " speaker"
           ]
          ],
          [
           [
            "hab",
            "it",
            " err",
            "and",
            " weakness",
            " farmer",
            " clothing",
            " daylight",
            " feeling",
            " writer",
            " barrel",
            " object"
           ]
          ],
          [
           [
            "rider",
            " county",
            " career",
            " creature",
            " disease",
            " lover",
            " cluster",
            " witness",
            " linen",
            " organ"
           ]
          ],
          [
           [
            "bus",
            "hel",
            " forest",
            " parent",
            " compass",
            " sandwich",
            " lumber",
            " turkey",
            " survey",
            " nothing",
            " lecture"
           ]
          ],
          [
           [
            "front",
            "ier",
            " widow",
            " amount",
            " darkness",
            " tiger",
            " mayor",
            " echo",
            " mountain",
            " olive",
            " silver"
           ]
          ],
          [
           [
            "sun",
            "set",
            " subject",
            " leather",
            " motive",
            " table",
            " lion",
            " angle",
            " beauty",
            " program",
            " keeper"
           ]
          ],
          [
           [
            "d",
            "iamond",
            " chamber",
            " folly",
            " income",
            " effect",
            " project",
            " current",
            " costume",
            " pattern",
            " record"
           ]
          ],
          [
           [
            "rub",
            "ber",
            " crystal",
            " nephew",
            " navy",
            " highway",
            " device",
            " senate",
            " concert",
            " scatter",
            " insect"
           ]
          ],
          [
           [
            "c",
            "arp",
            "et",
            " wagon",
            " gesture",
            " shelter",
            " business",
            " package",
            " stomach",
            " dollar",
            " cable",
            " contract"
           ]
          ],
          [
           [
            "interest",
            " lawyer",
            " maker",
            " velvet",
            " women",
            " saddle",
            " carriage",
            " valley",
            " fury",
            " meaning"
           ]
          ],
          [
           [
            "million",
            " merchant",
            " money",
            " trouble",
            " winter",
            " father",
            " system",
            " bubble",
            " riches",
            " robber"
           ]
          ],
          [
           [
            "c",
            "attle",
            " justice",
            " anchor",
            " city",
            " captain",
            " member",
            " degree",
            " penny",
            " empire",
            " commerce"
           ]
          ],
          [
           [
            "tra",
            "ffic",
            " parcel",
            " owner",
            " picture",
            " message",
            " perfume",
            " carbon",
            " pigeon",
            " method",
            " oy",
            "ster"
           ]
          ],
          [
           [
            "or",
            "chard",
            " patience",
            " stocking",
            " butcher",
            " colour",
            " credit",
            " dragon",
            " aspect",
            " painter",
            " image"
           ]
          ]
         ],
         "hovertemplate": "prompt=1) short (~8 tok)<br>set size (n. tokens)=%{x}<br>average -log LL=%{y}<br>token_list=%{customdata[0]}<extra></extra>",
         "legendgroup": "1) short (~8 tok)",
         "marker": {
          "color": "#636efa"
         },
         "name": "1) short (~8 tok)",
         "notched": false,
         "offsetgroup": "1) short (~8 tok)",
         "orientation": "v",
         "showlegend": true,
         "type": "box",
         "x": [
          3,
          3,
          3,
          3,
          3,
          3,
          3,
          3,
          3,
          3,
          3,
          3,
          3,
          3,
          3,
          3,
          3,
          3,
          3,
          3,
          5,
          5,
          5,
          5,
          5,
          5,
          5,
          5,
          5,
          5,
          5,
          5,
          5,
          5,
          5,
          5,
          5,
          5,
          5,
          5,
          10,
          10,
          10,
          10,
          10,
          10,
          10,
          10,
          10,
          10,
          10,
          10,
          10,
          10,
          10,
          10,
          10,
          10,
          10,
          10
         ],
         "x0": " ",
         "xaxis": "x",
         "y": [
          13.530670801798502,
          12.353565375010172,
          9.155507850646973,
          7.4747308731079105,
          8.958927541971207,
          9.536420106887817,
          12.885051091512045,
          10.44929051399231,
          12.066099166870117,
          9.637473404407501,
          9.67557230591774,
          12.148794174194336,
          9.672398328781128,
          11.82897392908732,
          9.078077602386475,
          9.519346833229065,
          10.438711822032928,
          9.588034391403198,
          10.306570053100586,
          9.874516367912292,
          8.886483987172445,
          11.589398193359376,
          8.986523588498434,
          9.620830059051514,
          8.60653179032462,
          10.005923589070639,
          11.734535408020019,
          9.361047665278116,
          9.145787398020426,
          9.475051085154215,
          8.905472906572479,
          9.929366191228231,
          9.911142428716024,
          11.344123268127442,
          11.334018802642822,
          8.933615644772848,
          10.66986961364746,
          10.264493624369303,
          9.887442032496134,
          9.179986874262491,
          10.10877251625061,
          9.981318855285645,
          7.668145916291645,
          9.724855726415461,
          9.782675164667042,
          10.163984298706055,
          9.349065522352854,
          8.849269072214762,
          9.912316179275512,
          9.37124945900657,
          9.612727858803488,
          9.649087602441961,
          9.474403641440652,
          9.95715692910281,
          8.54644317428271,
          10.014705991744995,
          9.440266036987305,
          9.08772256157615,
          8.497493704780936,
          9.958830226551402
         ],
         "y0": " ",
         "yaxis": "y"
        },
        {
         "alignmentgroup": "True",
         "boxpoints": "all",
         "customdata": [
          [
           [
            "series",
            " singer",
            " affair"
           ]
          ],
          [
           [
            "window",
            " cannon",
            " apple"
           ]
          ],
          [
           [
            "des",
            "pair",
            " kingdom",
            " b",
            "erry"
           ]
          ],
          [
           [
            "b",
            "less",
            "ing",
            " journey",
            " story"
           ]
          ],
          [
           [
            "eff",
            "ort",
            " village",
            " cottage"
           ]
          ],
          [
           [
            "sh",
            "ipping",
            " future",
            " police"
           ]
          ],
          [
           [
            "factor",
            " ocean",
            " machine"
           ]
          ],
          [
           [
            "inst",
            "ant",
            " sailor",
            " belief"
           ]
          ],
          [
           [
            "danger",
            " moment",
            " coffee"
           ]
          ],
          [
           [
            "out",
            "line",
            " basin",
            " summer"
           ]
          ],
          [
           [
            "sent",
            "ence",
            " teacher",
            " array"
           ]
          ],
          [
           [
            "football",
            " orange",
            " mistress"
           ]
          ],
          [
           [
            "will",
            "ow",
            " colonel",
            " cotton"
           ]
          ],
          [
           [
            "artist",
            " minute",
            " lady"
           ]
          ],
          [
           [
            "s",
            "her",
            "iff",
            " feature",
            " mixture"
           ]
          ],
          [
           [
            "rel",
            "ief",
            " uncle",
            " failure"
           ]
          ],
          [
           [
            "chapter",
            " pra",
            "irie",
            " pupil"
           ]
          ],
          [
           [
            "b",
            "asket",
            " prospect",
            " jewel"
           ]
          ],
          [
           [
            "the",
            "ory",
            " button",
            " congress"
           ]
          ],
          [
           [
            "c",
            "abin",
            " flavor",
            " circle"
           ]
          ],
          [
           [
            "the",
            "ater",
            " manner",
            " sorrow",
            " angel",
            " illness"
           ]
          ],
          [
           [
            "payment",
            " sugar",
            " cellar",
            " mercy",
            " paper"
           ]
          ],
          [
           [
            "gar",
            "ment",
            " garden",
            " bullet",
            " building",
            " motion"
           ]
          ],
          [
           [
            "hor",
            "ror",
            " pilot",
            " traitor",
            " quarter",
            " partner"
           ]
          ],
          [
           [
            "c",
            "andy",
            " sp",
            "arrow",
            " pistol",
            " pleasure",
            " cousin"
           ]
          ],
          [
           [
            "not",
            "ion",
            " harvest",
            " rival",
            " movie",
            " absence"
           ]
          ],
          [
           [
            "section",
            " duty",
            " onion",
            " moisture",
            " total"
           ]
          ],
          [
           [
            "ste",
            "amer",
            " baby",
            " patient",
            " husband",
            " spider"
           ]
          ],
          [
           [
            "door",
            "way",
            " hotel",
            " music",
            " silence",
            " research"
           ]
          ],
          [
           [
            "squ",
            "irrel",
            " motor",
            " pasture",
            " goddess",
            " ribbon"
           ]
          ],
          [
           [
            "pe",
            "pper",
            " unit",
            " standard",
            " begg",
            "ar",
            " meantime"
           ]
          ],
          [
           [
            "capt",
            "ive",
            " training",
            " banner",
            " victim",
            " extent"
           ]
          ],
          [
           [
            "d",
            "iet",
            " legend",
            " novel",
            " closet",
            " pony"
           ]
          ],
          [
           [
            "double",
            " maiden",
            " contents",
            " liquid",
            " planet"
           ]
          ],
          [
           [
            "detail",
            " offence",
            " comrade",
            " problem",
            " finger"
           ]
          ],
          [
           [
            "tun",
            "nel",
            " oven",
            " canal",
            " student",
            " island"
           ]
          ],
          [
           [
            "hammer",
            " engine",
            " soldier",
            " market",
            " herald"
           ]
          ],
          [
           [
            "p",
            "uzzle",
            " hatred",
            " surface",
            " sister",
            " helmet"
           ]
          ],
          [
           [
            "pit",
            "cher",
            " number",
            " agent",
            " excess",
            " needle"
           ]
          ],
          [
           [
            "har",
            "bour",
            " resort",
            " nation",
            " marriage",
            " kitten"
           ]
          ],
          [
           [
            "major",
            " hunter",
            " princess",
            " journal",
            " jersey",
            " marble",
            " fortune",
            " limit",
            " spirit",
            " mother"
           ]
          ],
          [
           [
            "bottom",
            " meeting",
            " worker",
            " ticket",
            " armor",
            " station",
            " bedroom",
            " estate",
            " letter",
            " tribute"
           ]
          ],
          [
           [
            "f",
            "ever",
            " mission",
            " par",
            "lor",
            " shower",
            " pocket",
            " temple",
            " me",
            "adow",
            " couple",
            " r",
            "attle",
            " leader"
           ]
          ],
          [
           [
            "body",
            " autumn",
            " be",
            "aver",
            " climate",
            " virtue",
            " jacket",
            " rifle",
            " triumph",
            " chapel",
            " conquest"
           ]
          ],
          [
           [
            "powder",
            " weapon",
            " blanket",
            " distance",
            " chim",
            "ney",
            " candle",
            " bargain",
            " genius",
            " evening",
            " vessel"
           ]
          ],
          [
           [
            "service",
            " fountain",
            " vapor",
            " forehead",
            " layer",
            " compound",
            " salad",
            " kitchen",
            " supper",
            " worship"
           ]
          ],
          [
           [
            "single",
            " mischief",
            " voyage",
            " product",
            " acre",
            " mad",
            "am",
            " learning",
            " treasure",
            " sl",
            "ipper",
            " speaker"
           ]
          ],
          [
           [
            "hab",
            "it",
            " err",
            "and",
            " weakness",
            " farmer",
            " clothing",
            " daylight",
            " feeling",
            " writer",
            " barrel",
            " object"
           ]
          ],
          [
           [
            "rider",
            " county",
            " career",
            " creature",
            " disease",
            " lover",
            " cluster",
            " witness",
            " linen",
            " organ"
           ]
          ],
          [
           [
            "bus",
            "hel",
            " forest",
            " parent",
            " compass",
            " sandwich",
            " lumber",
            " turkey",
            " survey",
            " nothing",
            " lecture"
           ]
          ],
          [
           [
            "front",
            "ier",
            " widow",
            " amount",
            " darkness",
            " tiger",
            " mayor",
            " echo",
            " mountain",
            " olive",
            " silver"
           ]
          ],
          [
           [
            "sun",
            "set",
            " subject",
            " leather",
            " motive",
            " table",
            " lion",
            " angle",
            " beauty",
            " program",
            " keeper"
           ]
          ],
          [
           [
            "d",
            "iamond",
            " chamber",
            " folly",
            " income",
            " effect",
            " project",
            " current",
            " costume",
            " pattern",
            " record"
           ]
          ],
          [
           [
            "rub",
            "ber",
            " crystal",
            " nephew",
            " navy",
            " highway",
            " device",
            " senate",
            " concert",
            " scatter",
            " insect"
           ]
          ],
          [
           [
            "c",
            "arp",
            "et",
            " wagon",
            " gesture",
            " shelter",
            " business",
            " package",
            " stomach",
            " dollar",
            " cable",
            " contract"
           ]
          ],
          [
           [
            "interest",
            " lawyer",
            " maker",
            " velvet",
            " women",
            " saddle",
            " carriage",
            " valley",
            " fury",
            " meaning"
           ]
          ],
          [
           [
            "million",
            " merchant",
            " money",
            " trouble",
            " winter",
            " father",
            " system",
            " bubble",
            " riches",
            " robber"
           ]
          ],
          [
           [
            "c",
            "attle",
            " justice",
            " anchor",
            " city",
            " captain",
            " member",
            " degree",
            " penny",
            " empire",
            " commerce"
           ]
          ],
          [
           [
            "tra",
            "ffic",
            " parcel",
            " owner",
            " picture",
            " message",
            " perfume",
            " carbon",
            " pigeon",
            " method",
            " oy",
            "ster"
           ]
          ],
          [
           [
            "or",
            "chard",
            " patience",
            " stocking",
            " butcher",
            " colour",
            " credit",
            " dragon",
            " aspect",
            " painter",
            " image"
           ]
          ]
         ],
         "hovertemplate": "prompt=2) mid (~30 tok)<br>set size (n. tokens)=%{x}<br>average -log LL=%{y}<br>token_list=%{customdata[0]}<extra></extra>",
         "legendgroup": "2) mid (~30 tok)",
         "marker": {
          "color": "#EF553B"
         },
         "name": "2) mid (~30 tok)",
         "notched": false,
         "offsetgroup": "2) mid (~30 tok)",
         "orientation": "v",
         "showlegend": true,
         "type": "box",
         "x": [
          3,
          3,
          3,
          3,
          3,
          3,
          3,
          3,
          3,
          3,
          3,
          3,
          3,
          3,
          3,
          3,
          3,
          3,
          3,
          3,
          5,
          5,
          5,
          5,
          5,
          5,
          5,
          5,
          5,
          5,
          5,
          5,
          5,
          5,
          5,
          5,
          5,
          5,
          5,
          5,
          10,
          10,
          10,
          10,
          10,
          10,
          10,
          10,
          10,
          10,
          10,
          10,
          10,
          10,
          10,
          10,
          10,
          10,
          10,
          10
         ],
         "x0": " ",
         "xaxis": "x",
         "y": [
          13.530670801798502,
          12.353565375010172,
          9.155507850646973,
          7.4747308731079105,
          8.958927541971207,
          9.536420106887817,
          12.885051091512045,
          10.44929051399231,
          12.066099166870117,
          9.637473404407501,
          9.67557230591774,
          12.148794174194336,
          9.672398328781128,
          11.82897392908732,
          9.078077602386475,
          9.519346833229065,
          10.438711822032928,
          9.588034391403198,
          10.306570053100586,
          9.874516367912292,
          8.886483987172445,
          11.589398193359376,
          8.986523588498434,
          9.620830059051514,
          8.60653179032462,
          10.005923589070639,
          11.734535408020019,
          9.361047665278116,
          9.145787398020426,
          9.475051085154215,
          8.905472906572479,
          9.929366191228231,
          9.911142428716024,
          11.344123268127442,
          11.334018802642822,
          8.933615644772848,
          10.66986961364746,
          10.264493624369303,
          9.887442032496134,
          9.179986874262491,
          10.10877251625061,
          9.981318855285645,
          7.668145916291645,
          9.724855726415461,
          9.782675164667042,
          10.163984298706055,
          9.349065522352854,
          8.849269072214762,
          9.912316179275512,
          9.37124945900657,
          9.612727858803488,
          9.649087602441961,
          9.474403641440652,
          9.95715692910281,
          8.54644317428271,
          10.014705991744995,
          9.440266036987305,
          9.08772256157615,
          8.497493704780936,
          9.958830226551402
         ],
         "y0": " ",
         "yaxis": "y"
        },
        {
         "alignmentgroup": "True",
         "boxpoints": "all",
         "customdata": [
          [
           [
            "series",
            " singer",
            " affair"
           ]
          ],
          [
           [
            "window",
            " cannon",
            " apple"
           ]
          ],
          [
           [
            "des",
            "pair",
            " kingdom",
            " b",
            "erry"
           ]
          ],
          [
           [
            "b",
            "less",
            "ing",
            " journey",
            " story"
           ]
          ],
          [
           [
            "eff",
            "ort",
            " village",
            " cottage"
           ]
          ],
          [
           [
            "sh",
            "ipping",
            " future",
            " police"
           ]
          ],
          [
           [
            "factor",
            " ocean",
            " machine"
           ]
          ],
          [
           [
            "inst",
            "ant",
            " sailor",
            " belief"
           ]
          ],
          [
           [
            "danger",
            " moment",
            " coffee"
           ]
          ],
          [
           [
            "out",
            "line",
            " basin",
            " summer"
           ]
          ],
          [
           [
            "sent",
            "ence",
            " teacher",
            " array"
           ]
          ],
          [
           [
            "football",
            " orange",
            " mistress"
           ]
          ],
          [
           [
            "will",
            "ow",
            " colonel",
            " cotton"
           ]
          ],
          [
           [
            "artist",
            " minute",
            " lady"
           ]
          ],
          [
           [
            "s",
            "her",
            "iff",
            " feature",
            " mixture"
           ]
          ],
          [
           [
            "rel",
            "ief",
            " uncle",
            " failure"
           ]
          ],
          [
           [
            "chapter",
            " pra",
            "irie",
            " pupil"
           ]
          ],
          [
           [
            "b",
            "asket",
            " prospect",
            " jewel"
           ]
          ],
          [
           [
            "the",
            "ory",
            " button",
            " congress"
           ]
          ],
          [
           [
            "c",
            "abin",
            " flavor",
            " circle"
           ]
          ],
          [
           [
            "the",
            "ater",
            " manner",
            " sorrow",
            " angel",
            " illness"
           ]
          ],
          [
           [
            "payment",
            " sugar",
            " cellar",
            " mercy",
            " paper"
           ]
          ],
          [
           [
            "gar",
            "ment",
            " garden",
            " bullet",
            " building",
            " motion"
           ]
          ],
          [
           [
            "hor",
            "ror",
            " pilot",
            " traitor",
            " quarter",
            " partner"
           ]
          ],
          [
           [
            "c",
            "andy",
            " sp",
            "arrow",
            " pistol",
            " pleasure",
            " cousin"
           ]
          ],
          [
           [
            "not",
            "ion",
            " harvest",
            " rival",
            " movie",
            " absence"
           ]
          ],
          [
           [
            "section",
            " duty",
            " onion",
            " moisture",
            " total"
           ]
          ],
          [
           [
            "ste",
            "amer",
            " baby",
            " patient",
            " husband",
            " spider"
           ]
          ],
          [
           [
            "door",
            "way",
            " hotel",
            " music",
            " silence",
            " research"
           ]
          ],
          [
           [
            "squ",
            "irrel",
            " motor",
            " pasture",
            " goddess",
            " ribbon"
           ]
          ],
          [
           [
            "pe",
            "pper",
            " unit",
            " standard",
            " begg",
            "ar",
            " meantime"
           ]
          ],
          [
           [
            "capt",
            "ive",
            " training",
            " banner",
            " victim",
            " extent"
           ]
          ],
          [
           [
            "d",
            "iet",
            " legend",
            " novel",
            " closet",
            " pony"
           ]
          ],
          [
           [
            "double",
            " maiden",
            " contents",
            " liquid",
            " planet"
           ]
          ],
          [
           [
            "detail",
            " offence",
            " comrade",
            " problem",
            " finger"
           ]
          ],
          [
           [
            "tun",
            "nel",
            " oven",
            " canal",
            " student",
            " island"
           ]
          ],
          [
           [
            "hammer",
            " engine",
            " soldier",
            " market",
            " herald"
           ]
          ],
          [
           [
            "p",
            "uzzle",
            " hatred",
            " surface",
            " sister",
            " helmet"
           ]
          ],
          [
           [
            "pit",
            "cher",
            " number",
            " agent",
            " excess",
            " needle"
           ]
          ],
          [
           [
            "har",
            "bour",
            " resort",
            " nation",
            " marriage",
            " kitten"
           ]
          ],
          [
           [
            "major",
            " hunter",
            " princess",
            " journal",
            " jersey",
            " marble",
            " fortune",
            " limit",
            " spirit",
            " mother"
           ]
          ],
          [
           [
            "bottom",
            " meeting",
            " worker",
            " ticket",
            " armor",
            " station",
            " bedroom",
            " estate",
            " letter",
            " tribute"
           ]
          ],
          [
           [
            "f",
            "ever",
            " mission",
            " par",
            "lor",
            " shower",
            " pocket",
            " temple",
            " me",
            "adow",
            " couple",
            " r",
            "attle",
            " leader"
           ]
          ],
          [
           [
            "body",
            " autumn",
            " be",
            "aver",
            " climate",
            " virtue",
            " jacket",
            " rifle",
            " triumph",
            " chapel",
            " conquest"
           ]
          ],
          [
           [
            "powder",
            " weapon",
            " blanket",
            " distance",
            " chim",
            "ney",
            " candle",
            " bargain",
            " genius",
            " evening",
            " vessel"
           ]
          ],
          [
           [
            "service",
            " fountain",
            " vapor",
            " forehead",
            " layer",
            " compound",
            " salad",
            " kitchen",
            " supper",
            " worship"
           ]
          ],
          [
           [
            "single",
            " mischief",
            " voyage",
            " product",
            " acre",
            " mad",
            "am",
            " learning",
            " treasure",
            " sl",
            "ipper",
            " speaker"
           ]
          ],
          [
           [
            "hab",
            "it",
            " err",
            "and",
            " weakness",
            " farmer",
            " clothing",
            " daylight",
            " feeling",
            " writer",
            " barrel",
            " object"
           ]
          ],
          [
           [
            "rider",
            " county",
            " career",
            " creature",
            " disease",
            " lover",
            " cluster",
            " witness",
            " linen",
            " organ"
           ]
          ],
          [
           [
            "bus",
            "hel",
            " forest",
            " parent",
            " compass",
            " sandwich",
            " lumber",
            " turkey",
            " survey",
            " nothing",
            " lecture"
           ]
          ],
          [
           [
            "front",
            "ier",
            " widow",
            " amount",
            " darkness",
            " tiger",
            " mayor",
            " echo",
            " mountain",
            " olive",
            " silver"
           ]
          ],
          [
           [
            "sun",
            "set",
            " subject",
            " leather",
            " motive",
            " table",
            " lion",
            " angle",
            " beauty",
            " program",
            " keeper"
           ]
          ],
          [
           [
            "d",
            "iamond",
            " chamber",
            " folly",
            " income",
            " effect",
            " project",
            " current",
            " costume",
            " pattern",
            " record"
           ]
          ],
          [
           [
            "rub",
            "ber",
            " crystal",
            " nephew",
            " navy",
            " highway",
            " device",
            " senate",
            " concert",
            " scatter",
            " insect"
           ]
          ],
          [
           [
            "c",
            "arp",
            "et",
            " wagon",
            " gesture",
            " shelter",
            " business",
            " package",
            " stomach",
            " dollar",
            " cable",
            " contract"
           ]
          ],
          [
           [
            "interest",
            " lawyer",
            " maker",
            " velvet",
            " women",
            " saddle",
            " carriage",
            " valley",
            " fury",
            " meaning"
           ]
          ],
          [
           [
            "million",
            " merchant",
            " money",
            " trouble",
            " winter",
            " father",
            " system",
            " bubble",
            " riches",
            " robber"
           ]
          ],
          [
           [
            "c",
            "attle",
            " justice",
            " anchor",
            " city",
            " captain",
            " member",
            " degree",
            " penny",
            " empire",
            " commerce"
           ]
          ],
          [
           [
            "tra",
            "ffic",
            " parcel",
            " owner",
            " picture",
            " message",
            " perfume",
            " carbon",
            " pigeon",
            " method",
            " oy",
            "ster"
           ]
          ],
          [
           [
            "or",
            "chard",
            " patience",
            " stocking",
            " butcher",
            " colour",
            " credit",
            " dragon",
            " aspect",
            " painter",
            " image"
           ]
          ]
         ],
         "hovertemplate": "prompt=3) long (~60 tok)<br>set size (n. tokens)=%{x}<br>average -log LL=%{y}<br>token_list=%{customdata[0]}<extra></extra>",
         "legendgroup": "3) long (~60 tok)",
         "marker": {
          "color": "#00cc96"
         },
         "name": "3) long (~60 tok)",
         "notched": false,
         "offsetgroup": "3) long (~60 tok)",
         "orientation": "v",
         "showlegend": true,
         "type": "box",
         "x": [
          3,
          3,
          3,
          3,
          3,
          3,
          3,
          3,
          3,
          3,
          3,
          3,
          3,
          3,
          3,
          3,
          3,
          3,
          3,
          3,
          5,
          5,
          5,
          5,
          5,
          5,
          5,
          5,
          5,
          5,
          5,
          5,
          5,
          5,
          5,
          5,
          5,
          5,
          5,
          5,
          10,
          10,
          10,
          10,
          10,
          10,
          10,
          10,
          10,
          10,
          10,
          10,
          10,
          10,
          10,
          10,
          10,
          10,
          10,
          10
         ],
         "x0": " ",
         "xaxis": "x",
         "y": [
          13.530670801798502,
          12.353565375010172,
          9.155507850646973,
          7.4747308731079105,
          8.958927541971207,
          9.536420106887817,
          12.885051091512045,
          10.44929051399231,
          12.066099166870117,
          9.637473404407501,
          9.67557230591774,
          12.148794174194336,
          9.672398328781128,
          11.82897392908732,
          9.078077602386475,
          9.519346833229065,
          10.438711822032928,
          9.588034391403198,
          10.306570053100586,
          9.874516367912292,
          8.886483987172445,
          11.589398193359376,
          8.986523588498434,
          9.620830059051514,
          8.60653179032462,
          10.005923589070639,
          11.734535408020019,
          9.361047665278116,
          9.145787398020426,
          9.475051085154215,
          8.905472906572479,
          9.929366191228231,
          9.911142428716024,
          11.344123268127442,
          11.334018802642822,
          8.933615644772848,
          10.66986961364746,
          10.264493624369303,
          9.887442032496134,
          9.179986874262491,
          10.10877251625061,
          9.981318855285645,
          7.668145916291645,
          9.724855726415461,
          9.782675164667042,
          10.163984298706055,
          9.349065522352854,
          8.849269072214762,
          9.912316179275512,
          9.37124945900657,
          9.612727858803488,
          9.649087602441961,
          9.474403641440652,
          9.95715692910281,
          8.54644317428271,
          10.014705991744995,
          9.440266036987305,
          9.08772256157615,
          8.497493704780936,
          9.958830226551402
         ],
         "y0": " ",
         "yaxis": "y"
        }
       ],
       "layout": {
        "boxmode": "group",
        "height": 500,
        "legend": {
         "title": {
          "text": "prompt"
         },
         "tracegroupgap": 0
        },
        "template": {
         "data": {
          "bar": [
           {
            "error_x": {
             "color": "#2a3f5f"
            },
            "error_y": {
             "color": "#2a3f5f"
            },
            "marker": {
             "line": {
              "color": "#E5ECF6",
              "width": 0.5
             }
            },
            "type": "bar"
           }
          ],
          "barpolar": [
           {
            "marker": {
             "line": {
              "color": "#E5ECF6",
              "width": 0.5
             }
            },
            "type": "barpolar"
           }
          ],
          "carpet": [
           {
            "aaxis": {
             "endlinecolor": "#2a3f5f",
             "gridcolor": "white",
             "linecolor": "white",
             "minorgridcolor": "white",
             "startlinecolor": "#2a3f5f"
            },
            "baxis": {
             "endlinecolor": "#2a3f5f",
             "gridcolor": "white",
             "linecolor": "white",
             "minorgridcolor": "white",
             "startlinecolor": "#2a3f5f"
            },
            "type": "carpet"
           }
          ],
          "choropleth": [
           {
            "colorbar": {
             "outlinewidth": 0,
             "ticks": ""
            },
            "type": "choropleth"
           }
          ],
          "contour": [
           {
            "colorbar": {
             "outlinewidth": 0,
             "ticks": ""
            },
            "colorscale": [
             [
              0,
              "#0d0887"
             ],
             [
              0.1111111111111111,
              "#46039f"
             ],
             [
              0.2222222222222222,
              "#7201a8"
             ],
             [
              0.3333333333333333,
              "#9c179e"
             ],
             [
              0.4444444444444444,
              "#bd3786"
             ],
             [
              0.5555555555555556,
              "#d8576b"
             ],
             [
              0.6666666666666666,
              "#ed7953"
             ],
             [
              0.7777777777777778,
              "#fb9f3a"
             ],
             [
              0.8888888888888888,
              "#fdca26"
             ],
             [
              1,
              "#f0f921"
             ]
            ],
            "type": "contour"
           }
          ],
          "contourcarpet": [
           {
            "colorbar": {
             "outlinewidth": 0,
             "ticks": ""
            },
            "type": "contourcarpet"
           }
          ],
          "heatmap": [
           {
            "colorbar": {
             "outlinewidth": 0,
             "ticks": ""
            },
            "colorscale": [
             [
              0,
              "#0d0887"
             ],
             [
              0.1111111111111111,
              "#46039f"
             ],
             [
              0.2222222222222222,
              "#7201a8"
             ],
             [
              0.3333333333333333,
              "#9c179e"
             ],
             [
              0.4444444444444444,
              "#bd3786"
             ],
             [
              0.5555555555555556,
              "#d8576b"
             ],
             [
              0.6666666666666666,
              "#ed7953"
             ],
             [
              0.7777777777777778,
              "#fb9f3a"
             ],
             [
              0.8888888888888888,
              "#fdca26"
             ],
             [
              1,
              "#f0f921"
             ]
            ],
            "type": "heatmap"
           }
          ],
          "heatmapgl": [
           {
            "colorbar": {
             "outlinewidth": 0,
             "ticks": ""
            },
            "colorscale": [
             [
              0,
              "#0d0887"
             ],
             [
              0.1111111111111111,
              "#46039f"
             ],
             [
              0.2222222222222222,
              "#7201a8"
             ],
             [
              0.3333333333333333,
              "#9c179e"
             ],
             [
              0.4444444444444444,
              "#bd3786"
             ],
             [
              0.5555555555555556,
              "#d8576b"
             ],
             [
              0.6666666666666666,
              "#ed7953"
             ],
             [
              0.7777777777777778,
              "#fb9f3a"
             ],
             [
              0.8888888888888888,
              "#fdca26"
             ],
             [
              1,
              "#f0f921"
             ]
            ],
            "type": "heatmapgl"
           }
          ],
          "histogram": [
           {
            "marker": {
             "colorbar": {
              "outlinewidth": 0,
              "ticks": ""
             }
            },
            "type": "histogram"
           }
          ],
          "histogram2d": [
           {
            "colorbar": {
             "outlinewidth": 0,
             "ticks": ""
            },
            "colorscale": [
             [
              0,
              "#0d0887"
             ],
             [
              0.1111111111111111,
              "#46039f"
             ],
             [
              0.2222222222222222,
              "#7201a8"
             ],
             [
              0.3333333333333333,
              "#9c179e"
             ],
             [
              0.4444444444444444,
              "#bd3786"
             ],
             [
              0.5555555555555556,
              "#d8576b"
             ],
             [
              0.6666666666666666,
              "#ed7953"
             ],
             [
              0.7777777777777778,
              "#fb9f3a"
             ],
             [
              0.8888888888888888,
              "#fdca26"
             ],
             [
              1,
              "#f0f921"
             ]
            ],
            "type": "histogram2d"
           }
          ],
          "histogram2dcontour": [
           {
            "colorbar": {
             "outlinewidth": 0,
             "ticks": ""
            },
            "colorscale": [
             [
              0,
              "#0d0887"
             ],
             [
              0.1111111111111111,
              "#46039f"
             ],
             [
              0.2222222222222222,
              "#7201a8"
             ],
             [
              0.3333333333333333,
              "#9c179e"
             ],
             [
              0.4444444444444444,
              "#bd3786"
             ],
             [
              0.5555555555555556,
              "#d8576b"
             ],
             [
              0.6666666666666666,
              "#ed7953"
             ],
             [
              0.7777777777777778,
              "#fb9f3a"
             ],
             [
              0.8888888888888888,
              "#fdca26"
             ],
             [
              1,
              "#f0f921"
             ]
            ],
            "type": "histogram2dcontour"
           }
          ],
          "mesh3d": [
           {
            "colorbar": {
             "outlinewidth": 0,
             "ticks": ""
            },
            "type": "mesh3d"
           }
          ],
          "parcoords": [
           {
            "line": {
             "colorbar": {
              "outlinewidth": 0,
              "ticks": ""
             }
            },
            "type": "parcoords"
           }
          ],
          "pie": [
           {
            "automargin": true,
            "type": "pie"
           }
          ],
          "scatter": [
           {
            "marker": {
             "colorbar": {
              "outlinewidth": 0,
              "ticks": ""
             }
            },
            "type": "scatter"
           }
          ],
          "scatter3d": [
           {
            "line": {
             "colorbar": {
              "outlinewidth": 0,
              "ticks": ""
             }
            },
            "marker": {
             "colorbar": {
              "outlinewidth": 0,
              "ticks": ""
             }
            },
            "type": "scatter3d"
           }
          ],
          "scattercarpet": [
           {
            "marker": {
             "colorbar": {
              "outlinewidth": 0,
              "ticks": ""
             }
            },
            "type": "scattercarpet"
           }
          ],
          "scattergeo": [
           {
            "marker": {
             "colorbar": {
              "outlinewidth": 0,
              "ticks": ""
             }
            },
            "type": "scattergeo"
           }
          ],
          "scattergl": [
           {
            "marker": {
             "colorbar": {
              "outlinewidth": 0,
              "ticks": ""
             }
            },
            "type": "scattergl"
           }
          ],
          "scattermapbox": [
           {
            "marker": {
             "colorbar": {
              "outlinewidth": 0,
              "ticks": ""
             }
            },
            "type": "scattermapbox"
           }
          ],
          "scatterpolar": [
           {
            "marker": {
             "colorbar": {
              "outlinewidth": 0,
              "ticks": ""
             }
            },
            "type": "scatterpolar"
           }
          ],
          "scatterpolargl": [
           {
            "marker": {
             "colorbar": {
              "outlinewidth": 0,
              "ticks": ""
             }
            },
            "type": "scatterpolargl"
           }
          ],
          "scatterternary": [
           {
            "marker": {
             "colorbar": {
              "outlinewidth": 0,
              "ticks": ""
             }
            },
            "type": "scatterternary"
           }
          ],
          "surface": [
           {
            "colorbar": {
             "outlinewidth": 0,
             "ticks": ""
            },
            "colorscale": [
             [
              0,
              "#0d0887"
             ],
             [
              0.1111111111111111,
              "#46039f"
             ],
             [
              0.2222222222222222,
              "#7201a8"
             ],
             [
              0.3333333333333333,
              "#9c179e"
             ],
             [
              0.4444444444444444,
              "#bd3786"
             ],
             [
              0.5555555555555556,
              "#d8576b"
             ],
             [
              0.6666666666666666,
              "#ed7953"
             ],
             [
              0.7777777777777778,
              "#fb9f3a"
             ],
             [
              0.8888888888888888,
              "#fdca26"
             ],
             [
              1,
              "#f0f921"
             ]
            ],
            "type": "surface"
           }
          ],
          "table": [
           {
            "cells": {
             "fill": {
              "color": "#EBF0F8"
             },
             "line": {
              "color": "white"
             }
            },
            "header": {
             "fill": {
              "color": "#C8D4E3"
             },
             "line": {
              "color": "white"
             }
            },
            "type": "table"
           }
          ]
         },
         "layout": {
          "annotationdefaults": {
           "arrowcolor": "#2a3f5f",
           "arrowhead": 0,
           "arrowwidth": 1
          },
          "coloraxis": {
           "colorbar": {
            "outlinewidth": 0,
            "ticks": ""
           }
          },
          "colorscale": {
           "diverging": [
            [
             0,
             "#8e0152"
            ],
            [
             0.1,
             "#c51b7d"
            ],
            [
             0.2,
             "#de77ae"
            ],
            [
             0.3,
             "#f1b6da"
            ],
            [
             0.4,
             "#fde0ef"
            ],
            [
             0.5,
             "#f7f7f7"
            ],
            [
             0.6,
             "#e6f5d0"
            ],
            [
             0.7,
             "#b8e186"
            ],
            [
             0.8,
             "#7fbc41"
            ],
            [
             0.9,
             "#4d9221"
            ],
            [
             1,
             "#276419"
            ]
           ],
           "sequential": [
            [
             0,
             "#0d0887"
            ],
            [
             0.1111111111111111,
             "#46039f"
            ],
            [
             0.2222222222222222,
             "#7201a8"
            ],
            [
             0.3333333333333333,
             "#9c179e"
            ],
            [
             0.4444444444444444,
             "#bd3786"
            ],
            [
             0.5555555555555556,
             "#d8576b"
            ],
            [
             0.6666666666666666,
             "#ed7953"
            ],
            [
             0.7777777777777778,
             "#fb9f3a"
            ],
            [
             0.8888888888888888,
             "#fdca26"
            ],
            [
             1,
             "#f0f921"
            ]
           ],
           "sequentialminus": [
            [
             0,
             "#0d0887"
            ],
            [
             0.1111111111111111,
             "#46039f"
            ],
            [
             0.2222222222222222,
             "#7201a8"
            ],
            [
             0.3333333333333333,
             "#9c179e"
            ],
            [
             0.4444444444444444,
             "#bd3786"
            ],
            [
             0.5555555555555556,
             "#d8576b"
            ],
            [
             0.6666666666666666,
             "#ed7953"
            ],
            [
             0.7777777777777778,
             "#fb9f3a"
            ],
            [
             0.8888888888888888,
             "#fdca26"
            ],
            [
             1,
             "#f0f921"
            ]
           ]
          },
          "colorway": [
           "#636efa",
           "#EF553B",
           "#00cc96",
           "#ab63fa",
           "#FFA15A",
           "#19d3f3",
           "#FF6692",
           "#B6E880",
           "#FF97FF",
           "#FECB52"
          ],
          "font": {
           "color": "#2a3f5f"
          },
          "geo": {
           "bgcolor": "white",
           "lakecolor": "white",
           "landcolor": "#E5ECF6",
           "showlakes": true,
           "showland": true,
           "subunitcolor": "white"
          },
          "hoverlabel": {
           "align": "left"
          },
          "hovermode": "closest",
          "mapbox": {
           "style": "light"
          },
          "paper_bgcolor": "white",
          "plot_bgcolor": "#E5ECF6",
          "polar": {
           "angularaxis": {
            "gridcolor": "white",
            "linecolor": "white",
            "ticks": ""
           },
           "bgcolor": "#E5ECF6",
           "radialaxis": {
            "gridcolor": "white",
            "linecolor": "white",
            "ticks": ""
           }
          },
          "scene": {
           "xaxis": {
            "backgroundcolor": "#E5ECF6",
            "gridcolor": "white",
            "gridwidth": 2,
            "linecolor": "white",
            "showbackground": true,
            "ticks": "",
            "zerolinecolor": "white"
           },
           "yaxis": {
            "backgroundcolor": "#E5ECF6",
            "gridcolor": "white",
            "gridwidth": 2,
            "linecolor": "white",
            "showbackground": true,
            "ticks": "",
            "zerolinecolor": "white"
           },
           "zaxis": {
            "backgroundcolor": "#E5ECF6",
            "gridcolor": "white",
            "gridwidth": 2,
            "linecolor": "white",
            "showbackground": true,
            "ticks": "",
            "zerolinecolor": "white"
           }
          },
          "shapedefaults": {
           "line": {
            "color": "#2a3f5f"
           }
          },
          "ternary": {
           "aaxis": {
            "gridcolor": "white",
            "linecolor": "white",
            "ticks": ""
           },
           "baxis": {
            "gridcolor": "white",
            "linecolor": "white",
            "ticks": ""
           },
           "bgcolor": "#E5ECF6",
           "caxis": {
            "gridcolor": "white",
            "linecolor": "white",
            "ticks": ""
           }
          },
          "title": {
           "x": 0.05
          },
          "xaxis": {
           "automargin": true,
           "gridcolor": "white",
           "linecolor": "white",
           "ticks": "",
           "title": {
            "standoff": 15
           },
           "zerolinecolor": "white",
           "zerolinewidth": 2
          },
          "yaxis": {
           "automargin": true,
           "gridcolor": "white",
           "linecolor": "white",
           "ticks": "",
           "title": {
            "standoff": 15
           },
           "zerolinecolor": "white",
           "zerolinewidth": 2
          }
         }
        },
        "title": {
         "text": "Mean neg. LL on first presentation (nonsemantic)"
        },
        "width": 1200,
        "xaxis": {
         "anchor": "y",
         "autorange": true,
         "domain": [
          0,
          1
         ],
         "range": [
          -0.7489592566118657,
          2.6709978556111507
         ],
         "title": {
          "text": "set size (n. tokens)"
         },
         "type": "category"
        },
        "yaxis": {
         "anchor": "x",
         "autorange": true,
         "domain": [
          0,
          1
         ],
         "range": [
          7.138289765958433,
          13.86711190894798
         ],
         "title": {
          "text": "average -log LL"
         },
         "type": "linear"
        }
       }
      },
      "image/png": "[encoded data removed]",
      "text/html": [
       "<div>                            <div id=\"cf0675ed-135e-4612-8f6b-ad720da579f0\" class=\"plotly-graph-div\" style=\"height:500px; width:1200px;\"></div>            <script type=\"text/javascript\">                require([\"plotly\"], function(Plotly) {                    window.PLOTLYENV=window.PLOTLYENV || {};                                    if (document.getElementById(\"cf0675ed-135e-4612-8f6b-ad720da579f0\")) {                    Plotly.newPlot(                        \"cf0675ed-135e-4612-8f6b-ad720da579f0\",                        [{\"alignmentgroup\": \"True\", \"boxpoints\": \"all\", \"customdata\": [[[\"series\", \" singer\", \" affair\"]], [[\"window\", \" cannon\", \" apple\"]], [[\"des\", \"pair\", \" kingdom\", \" b\", \"erry\"]], [[\"b\", \"less\", \"ing\", \" journey\", \" story\"]], [[\"eff\", \"ort\", \" village\", \" cottage\"]], [[\"sh\", \"ipping\", \" future\", \" police\"]], [[\"factor\", \" ocean\", \" machine\"]], [[\"inst\", \"ant\", \" sailor\", \" belief\"]], [[\"danger\", \" moment\", \" coffee\"]], [[\"out\", \"line\", \" basin\", \" summer\"]], [[\"sent\", \"ence\", \" teacher\", \" array\"]], [[\"football\", \" orange\", \" mistress\"]], [[\"will\", \"ow\", \" colonel\", \" cotton\"]], [[\"artist\", \" minute\", \" lady\"]], [[\"s\", \"her\", \"iff\", \" feature\", \" mixture\"]], [[\"rel\", \"ief\", \" uncle\", \" failure\"]], [[\"chapter\", \" pra\", \"irie\", \" pupil\"]], [[\"b\", \"asket\", \" prospect\", \" jewel\"]], [[\"the\", \"ory\", \" button\", \" congress\"]], [[\"c\", \"abin\", \" flavor\", \" circle\"]], [[\"the\", \"ater\", \" manner\", \" sorrow\", \" angel\", \" illness\"]], [[\"payment\", \" sugar\", \" cellar\", \" mercy\", \" paper\"]], [[\"gar\", \"ment\", \" garden\", \" bullet\", \" building\", \" motion\"]], [[\"hor\", \"ror\", \" pilot\", \" traitor\", \" quarter\", \" partner\"]], [[\"c\", \"andy\", \" sp\", \"arrow\", \" pistol\", \" pleasure\", \" cousin\"]], [[\"not\", \"ion\", \" harvest\", \" rival\", \" movie\", \" absence\"]], [[\"section\", \" duty\", \" onion\", \" moisture\", \" total\"]], [[\"ste\", \"amer\", \" baby\", \" patient\", \" husband\", \" spider\"]], [[\"door\", \"way\", \" hotel\", \" music\", \" silence\", \" research\"]], [[\"squ\", \"irrel\", \" motor\", \" pasture\", \" goddess\", \" ribbon\"]], [[\"pe\", \"pper\", \" unit\", \" standard\", \" begg\", \"ar\", \" meantime\"]], [[\"capt\", \"ive\", \" training\", \" banner\", \" victim\", \" extent\"]], [[\"d\", \"iet\", \" legend\", \" novel\", \" closet\", \" pony\"]], [[\"double\", \" maiden\", \" contents\", \" liquid\", \" planet\"]], [[\"detail\", \" offence\", \" comrade\", \" problem\", \" finger\"]], [[\"tun\", \"nel\", \" oven\", \" canal\", \" student\", \" island\"]], [[\"hammer\", \" engine\", \" soldier\", \" market\", \" herald\"]], [[\"p\", \"uzzle\", \" hatred\", \" surface\", \" sister\", \" helmet\"]], [[\"pit\", \"cher\", \" number\", \" agent\", \" excess\", \" needle\"]], [[\"har\", \"bour\", \" resort\", \" nation\", \" marriage\", \" kitten\"]], [[\"major\", \" hunter\", \" princess\", \" journal\", \" jersey\", \" marble\", \" fortune\", \" limit\", \" spirit\", \" mother\"]], [[\"bottom\", \" meeting\", \" worker\", \" ticket\", \" armor\", \" station\", \" bedroom\", \" estate\", \" letter\", \" tribute\"]], [[\"f\", \"ever\", \" mission\", \" par\", \"lor\", \" shower\", \" pocket\", \" temple\", \" me\", \"adow\", \" couple\", \" r\", \"attle\", \" leader\"]], [[\"body\", \" autumn\", \" be\", \"aver\", \" climate\", \" virtue\", \" jacket\", \" rifle\", \" triumph\", \" chapel\", \" conquest\"]], [[\"powder\", \" weapon\", \" blanket\", \" distance\", \" chim\", \"ney\", \" candle\", \" bargain\", \" genius\", \" evening\", \" vessel\"]], [[\"service\", \" fountain\", \" vapor\", \" forehead\", \" layer\", \" compound\", \" salad\", \" kitchen\", \" supper\", \" worship\"]], [[\"single\", \" mischief\", \" voyage\", \" product\", \" acre\", \" mad\", \"am\", \" learning\", \" treasure\", \" sl\", \"ipper\", \" speaker\"]], [[\"hab\", \"it\", \" err\", \"and\", \" weakness\", \" farmer\", \" clothing\", \" daylight\", \" feeling\", \" writer\", \" barrel\", \" object\"]], [[\"rider\", \" county\", \" career\", \" creature\", \" disease\", \" lover\", \" cluster\", \" witness\", \" linen\", \" organ\"]], [[\"bus\", \"hel\", \" forest\", \" parent\", \" compass\", \" sandwich\", \" lumber\", \" turkey\", \" survey\", \" nothing\", \" lecture\"]], [[\"front\", \"ier\", \" widow\", \" amount\", \" darkness\", \" tiger\", \" mayor\", \" echo\", \" mountain\", \" olive\", \" silver\"]], [[\"sun\", \"set\", \" subject\", \" leather\", \" motive\", \" table\", \" lion\", \" angle\", \" beauty\", \" program\", \" keeper\"]], [[\"d\", \"iamond\", \" chamber\", \" folly\", \" income\", \" effect\", \" project\", \" current\", \" costume\", \" pattern\", \" record\"]], [[\"rub\", \"ber\", \" crystal\", \" nephew\", \" navy\", \" highway\", \" device\", \" senate\", \" concert\", \" scatter\", \" insect\"]], [[\"c\", \"arp\", \"et\", \" wagon\", \" gesture\", \" shelter\", \" business\", \" package\", \" stomach\", \" dollar\", \" cable\", \" contract\"]], [[\"interest\", \" lawyer\", \" maker\", \" velvet\", \" women\", \" saddle\", \" carriage\", \" valley\", \" fury\", \" meaning\"]], [[\"million\", \" merchant\", \" money\", \" trouble\", \" winter\", \" father\", \" system\", \" bubble\", \" riches\", \" robber\"]], [[\"c\", \"attle\", \" justice\", \" anchor\", \" city\", \" captain\", \" member\", \" degree\", \" penny\", \" empire\", \" commerce\"]], [[\"tra\", \"ffic\", \" parcel\", \" owner\", \" picture\", \" message\", \" perfume\", \" carbon\", \" pigeon\", \" method\", \" oy\", \"ster\"]], [[\"or\", \"chard\", \" patience\", \" stocking\", \" butcher\", \" colour\", \" credit\", \" dragon\", \" aspect\", \" painter\", \" image\"]]], \"hovertemplate\": \"prompt=1) short (~8 tok)<br>set size (n. tokens)=%{x}<br>average -log LL=%{y}<br>token_list=%{customdata[0]}<extra></extra>\", \"legendgroup\": \"1) short (~8 tok)\", \"marker\": {\"color\": \"#636efa\"}, \"name\": \"1) short (~8 tok)\", \"notched\": false, \"offsetgroup\": \"1) short (~8 tok)\", \"orientation\": \"v\", \"showlegend\": true, \"type\": \"box\", \"x\": [3, 3, 3, 3, 3, 3, 3, 3, 3, 3, 3, 3, 3, 3, 3, 3, 3, 3, 3, 3, 5, 5, 5, 5, 5, 5, 5, 5, 5, 5, 5, 5, 5, 5, 5, 5, 5, 5, 5, 5, 10, 10, 10, 10, 10, 10, 10, 10, 10, 10, 10, 10, 10, 10, 10, 10, 10, 10, 10, 10], \"x0\": \" \", \"xaxis\": \"x\", \"y\": [13.530670801798502, 12.353565375010172, 9.155507850646973, 7.4747308731079105, 8.958927541971207, 9.536420106887817, 12.885051091512045, 10.44929051399231, 12.066099166870117, 9.637473404407501, 9.67557230591774, 12.148794174194336, 9.672398328781128, 11.82897392908732, 9.078077602386475, 9.519346833229065, 10.438711822032928, 9.588034391403198, 10.306570053100586, 9.874516367912292, 8.886483987172445, 11.589398193359376, 8.986523588498434, 9.620830059051514, 8.60653179032462, 10.005923589070639, 11.734535408020019, 9.361047665278116, 9.145787398020426, 9.475051085154215, 8.905472906572479, 9.929366191228231, 9.911142428716024, 11.344123268127442, 11.334018802642822, 8.933615644772848, 10.66986961364746, 10.264493624369303, 9.887442032496134, 9.179986874262491, 10.10877251625061, 9.981318855285645, 7.668145916291645, 9.724855726415461, 9.782675164667042, 10.163984298706055, 9.349065522352854, 8.849269072214762, 9.912316179275512, 9.37124945900657, 9.612727858803488, 9.649087602441961, 9.474403641440652, 9.95715692910281, 8.54644317428271, 10.014705991744995, 9.440266036987305, 9.08772256157615, 8.497493704780936, 9.958830226551402], \"y0\": \" \", \"yaxis\": \"y\"}, {\"alignmentgroup\": \"True\", \"boxpoints\": \"all\", \"customdata\": [[[\"series\", \" singer\", \" affair\"]], [[\"window\", \" cannon\", \" apple\"]], [[\"des\", \"pair\", \" kingdom\", \" b\", \"erry\"]], [[\"b\", \"less\", \"ing\", \" journey\", \" story\"]], [[\"eff\", \"ort\", \" village\", \" cottage\"]], [[\"sh\", \"ipping\", \" future\", \" police\"]], [[\"factor\", \" ocean\", \" machine\"]], [[\"inst\", \"ant\", \" sailor\", \" belief\"]], [[\"danger\", \" moment\", \" coffee\"]], [[\"out\", \"line\", \" basin\", \" summer\"]], [[\"sent\", \"ence\", \" teacher\", \" array\"]], [[\"football\", \" orange\", \" mistress\"]], [[\"will\", \"ow\", \" colonel\", \" cotton\"]], [[\"artist\", \" minute\", \" lady\"]], [[\"s\", \"her\", \"iff\", \" feature\", \" mixture\"]], [[\"rel\", \"ief\", \" uncle\", \" failure\"]], [[\"chapter\", \" pra\", \"irie\", \" pupil\"]], [[\"b\", \"asket\", \" prospect\", \" jewel\"]], [[\"the\", \"ory\", \" button\", \" congress\"]], [[\"c\", \"abin\", \" flavor\", \" circle\"]], [[\"the\", \"ater\", \" manner\", \" sorrow\", \" angel\", \" illness\"]], [[\"payment\", \" sugar\", \" cellar\", \" mercy\", \" paper\"]], [[\"gar\", \"ment\", \" garden\", \" bullet\", \" building\", \" motion\"]], [[\"hor\", \"ror\", \" pilot\", \" traitor\", \" quarter\", \" partner\"]], [[\"c\", \"andy\", \" sp\", \"arrow\", \" pistol\", \" pleasure\", \" cousin\"]], [[\"not\", \"ion\", \" harvest\", \" rival\", \" movie\", \" absence\"]], [[\"section\", \" duty\", \" onion\", \" moisture\", \" total\"]], [[\"ste\", \"amer\", \" baby\", \" patient\", \" husband\", \" spider\"]], [[\"door\", \"way\", \" hotel\", \" music\", \" silence\", \" research\"]], [[\"squ\", \"irrel\", \" motor\", \" pasture\", \" goddess\", \" ribbon\"]], [[\"pe\", \"pper\", \" unit\", \" standard\", \" begg\", \"ar\", \" meantime\"]], [[\"capt\", \"ive\", \" training\", \" banner\", \" victim\", \" extent\"]], [[\"d\", \"iet\", \" legend\", \" novel\", \" closet\", \" pony\"]], [[\"double\", \" maiden\", \" contents\", \" liquid\", \" planet\"]], [[\"detail\", \" offence\", \" comrade\", \" problem\", \" finger\"]], [[\"tun\", \"nel\", \" oven\", \" canal\", \" student\", \" island\"]], [[\"hammer\", \" engine\", \" soldier\", \" market\", \" herald\"]], [[\"p\", \"uzzle\", \" hatred\", \" surface\", \" sister\", \" helmet\"]], [[\"pit\", \"cher\", \" number\", \" agent\", \" excess\", \" needle\"]], [[\"har\", \"bour\", \" resort\", \" nation\", \" marriage\", \" kitten\"]], [[\"major\", \" hunter\", \" princess\", \" journal\", \" jersey\", \" marble\", \" fortune\", \" limit\", \" spirit\", \" mother\"]], [[\"bottom\", \" meeting\", \" worker\", \" ticket\", \" armor\", \" station\", \" bedroom\", \" estate\", \" letter\", \" tribute\"]], [[\"f\", \"ever\", \" mission\", \" par\", \"lor\", \" shower\", \" pocket\", \" temple\", \" me\", \"adow\", \" couple\", \" r\", \"attle\", \" leader\"]], [[\"body\", \" autumn\", \" be\", \"aver\", \" climate\", \" virtue\", \" jacket\", \" rifle\", \" triumph\", \" chapel\", \" conquest\"]], [[\"powder\", \" weapon\", \" blanket\", \" distance\", \" chim\", \"ney\", \" candle\", \" bargain\", \" genius\", \" evening\", \" vessel\"]], [[\"service\", \" fountain\", \" vapor\", \" forehead\", \" layer\", \" compound\", \" salad\", \" kitchen\", \" supper\", \" worship\"]], [[\"single\", \" mischief\", \" voyage\", \" product\", \" acre\", \" mad\", \"am\", \" learning\", \" treasure\", \" sl\", \"ipper\", \" speaker\"]], [[\"hab\", \"it\", \" err\", \"and\", \" weakness\", \" farmer\", \" clothing\", \" daylight\", \" feeling\", \" writer\", \" barrel\", \" object\"]], [[\"rider\", \" county\", \" career\", \" creature\", \" disease\", \" lover\", \" cluster\", \" witness\", \" linen\", \" organ\"]], [[\"bus\", \"hel\", \" forest\", \" parent\", \" compass\", \" sandwich\", \" lumber\", \" turkey\", \" survey\", \" nothing\", \" lecture\"]], [[\"front\", \"ier\", \" widow\", \" amount\", \" darkness\", \" tiger\", \" mayor\", \" echo\", \" mountain\", \" olive\", \" silver\"]], [[\"sun\", \"set\", \" subject\", \" leather\", \" motive\", \" table\", \" lion\", \" angle\", \" beauty\", \" program\", \" keeper\"]], [[\"d\", \"iamond\", \" chamber\", \" folly\", \" income\", \" effect\", \" project\", \" current\", \" costume\", \" pattern\", \" record\"]], [[\"rub\", \"ber\", \" crystal\", \" nephew\", \" navy\", \" highway\", \" device\", \" senate\", \" concert\", \" scatter\", \" insect\"]], [[\"c\", \"arp\", \"et\", \" wagon\", \" gesture\", \" shelter\", \" business\", \" package\", \" stomach\", \" dollar\", \" cable\", \" contract\"]], [[\"interest\", \" lawyer\", \" maker\", \" velvet\", \" women\", \" saddle\", \" carriage\", \" valley\", \" fury\", \" meaning\"]], [[\"million\", \" merchant\", \" money\", \" trouble\", \" winter\", \" father\", \" system\", \" bubble\", \" riches\", \" robber\"]], [[\"c\", \"attle\", \" justice\", \" anchor\", \" city\", \" captain\", \" member\", \" degree\", \" penny\", \" empire\", \" commerce\"]], [[\"tra\", \"ffic\", \" parcel\", \" owner\", \" picture\", \" message\", \" perfume\", \" carbon\", \" pigeon\", \" method\", \" oy\", \"ster\"]], [[\"or\", \"chard\", \" patience\", \" stocking\", \" butcher\", \" colour\", \" credit\", \" dragon\", \" aspect\", \" painter\", \" image\"]]], \"hovertemplate\": \"prompt=2) mid (~30 tok)<br>set size (n. tokens)=%{x}<br>average -log LL=%{y}<br>token_list=%{customdata[0]}<extra></extra>\", \"legendgroup\": \"2) mid (~30 tok)\", \"marker\": {\"color\": \"#EF553B\"}, \"name\": \"2) mid (~30 tok)\", \"notched\": false, \"offsetgroup\": \"2) mid (~30 tok)\", \"orientation\": \"v\", \"showlegend\": true, \"type\": \"box\", \"x\": [3, 3, 3, 3, 3, 3, 3, 3, 3, 3, 3, 3, 3, 3, 3, 3, 3, 3, 3, 3, 5, 5, 5, 5, 5, 5, 5, 5, 5, 5, 5, 5, 5, 5, 5, 5, 5, 5, 5, 5, 10, 10, 10, 10, 10, 10, 10, 10, 10, 10, 10, 10, 10, 10, 10, 10, 10, 10, 10, 10], \"x0\": \" \", \"xaxis\": \"x\", \"y\": [13.530670801798502, 12.353565375010172, 9.155507850646973, 7.4747308731079105, 8.958927541971207, 9.536420106887817, 12.885051091512045, 10.44929051399231, 12.066099166870117, 9.637473404407501, 9.67557230591774, 12.148794174194336, 9.672398328781128, 11.82897392908732, 9.078077602386475, 9.519346833229065, 10.438711822032928, 9.588034391403198, 10.306570053100586, 9.874516367912292, 8.886483987172445, 11.589398193359376, 8.986523588498434, 9.620830059051514, 8.60653179032462, 10.005923589070639, 11.734535408020019, 9.361047665278116, 9.145787398020426, 9.475051085154215, 8.905472906572479, 9.929366191228231, 9.911142428716024, 11.344123268127442, 11.334018802642822, 8.933615644772848, 10.66986961364746, 10.264493624369303, 9.887442032496134, 9.179986874262491, 10.10877251625061, 9.981318855285645, 7.668145916291645, 9.724855726415461, 9.782675164667042, 10.163984298706055, 9.349065522352854, 8.849269072214762, 9.912316179275512, 9.37124945900657, 9.612727858803488, 9.649087602441961, 9.474403641440652, 9.95715692910281, 8.54644317428271, 10.014705991744995, 9.440266036987305, 9.08772256157615, 8.497493704780936, 9.958830226551402], \"y0\": \" \", \"yaxis\": \"y\"}, {\"alignmentgroup\": \"True\", \"boxpoints\": \"all\", \"customdata\": [[[\"series\", \" singer\", \" affair\"]], [[\"window\", \" cannon\", \" apple\"]], [[\"des\", \"pair\", \" kingdom\", \" b\", \"erry\"]], [[\"b\", \"less\", \"ing\", \" journey\", \" story\"]], [[\"eff\", \"ort\", \" village\", \" cottage\"]], [[\"sh\", \"ipping\", \" future\", \" police\"]], [[\"factor\", \" ocean\", \" machine\"]], [[\"inst\", \"ant\", \" sailor\", \" belief\"]], [[\"danger\", \" moment\", \" coffee\"]], [[\"out\", \"line\", \" basin\", \" summer\"]], [[\"sent\", \"ence\", \" teacher\", \" array\"]], [[\"football\", \" orange\", \" mistress\"]], [[\"will\", \"ow\", \" colonel\", \" cotton\"]], [[\"artist\", \" minute\", \" lady\"]], [[\"s\", \"her\", \"iff\", \" feature\", \" mixture\"]], [[\"rel\", \"ief\", \" uncle\", \" failure\"]], [[\"chapter\", \" pra\", \"irie\", \" pupil\"]], [[\"b\", \"asket\", \" prospect\", \" jewel\"]], [[\"the\", \"ory\", \" button\", \" congress\"]], [[\"c\", \"abin\", \" flavor\", \" circle\"]], [[\"the\", \"ater\", \" manner\", \" sorrow\", \" angel\", \" illness\"]], [[\"payment\", \" sugar\", \" cellar\", \" mercy\", \" paper\"]], [[\"gar\", \"ment\", \" garden\", \" bullet\", \" building\", \" motion\"]], [[\"hor\", \"ror\", \" pilot\", \" traitor\", \" quarter\", \" partner\"]], [[\"c\", \"andy\", \" sp\", \"arrow\", \" pistol\", \" pleasure\", \" cousin\"]], [[\"not\", \"ion\", \" harvest\", \" rival\", \" movie\", \" absence\"]], [[\"section\", \" duty\", \" onion\", \" moisture\", \" total\"]], [[\"ste\", \"amer\", \" baby\", \" patient\", \" husband\", \" spider\"]], [[\"door\", \"way\", \" hotel\", \" music\", \" silence\", \" research\"]], [[\"squ\", \"irrel\", \" motor\", \" pasture\", \" goddess\", \" ribbon\"]], [[\"pe\", \"pper\", \" unit\", \" standard\", \" begg\", \"ar\", \" meantime\"]], [[\"capt\", \"ive\", \" training\", \" banner\", \" victim\", \" extent\"]], [[\"d\", \"iet\", \" legend\", \" novel\", \" closet\", \" pony\"]], [[\"double\", \" maiden\", \" contents\", \" liquid\", \" planet\"]], [[\"detail\", \" offence\", \" comrade\", \" problem\", \" finger\"]], [[\"tun\", \"nel\", \" oven\", \" canal\", \" student\", \" island\"]], [[\"hammer\", \" engine\", \" soldier\", \" market\", \" herald\"]], [[\"p\", \"uzzle\", \" hatred\", \" surface\", \" sister\", \" helmet\"]], [[\"pit\", \"cher\", \" number\", \" agent\", \" excess\", \" needle\"]], [[\"har\", \"bour\", \" resort\", \" nation\", \" marriage\", \" kitten\"]], [[\"major\", \" hunter\", \" princess\", \" journal\", \" jersey\", \" marble\", \" fortune\", \" limit\", \" spirit\", \" mother\"]], [[\"bottom\", \" meeting\", \" worker\", \" ticket\", \" armor\", \" station\", \" bedroom\", \" estate\", \" letter\", \" tribute\"]], [[\"f\", \"ever\", \" mission\", \" par\", \"lor\", \" shower\", \" pocket\", \" temple\", \" me\", \"adow\", \" couple\", \" r\", \"attle\", \" leader\"]], [[\"body\", \" autumn\", \" be\", \"aver\", \" climate\", \" virtue\", \" jacket\", \" rifle\", \" triumph\", \" chapel\", \" conquest\"]], [[\"powder\", \" weapon\", \" blanket\", \" distance\", \" chim\", \"ney\", \" candle\", \" bargain\", \" genius\", \" evening\", \" vessel\"]], [[\"service\", \" fountain\", \" vapor\", \" forehead\", \" layer\", \" compound\", \" salad\", \" kitchen\", \" supper\", \" worship\"]], [[\"single\", \" mischief\", \" voyage\", \" product\", \" acre\", \" mad\", \"am\", \" learning\", \" treasure\", \" sl\", \"ipper\", \" speaker\"]], [[\"hab\", \"it\", \" err\", \"and\", \" weakness\", \" farmer\", \" clothing\", \" daylight\", \" feeling\", \" writer\", \" barrel\", \" object\"]], [[\"rider\", \" county\", \" career\", \" creature\", \" disease\", \" lover\", \" cluster\", \" witness\", \" linen\", \" organ\"]], [[\"bus\", \"hel\", \" forest\", \" parent\", \" compass\", \" sandwich\", \" lumber\", \" turkey\", \" survey\", \" nothing\", \" lecture\"]], [[\"front\", \"ier\", \" widow\", \" amount\", \" darkness\", \" tiger\", \" mayor\", \" echo\", \" mountain\", \" olive\", \" silver\"]], [[\"sun\", \"set\", \" subject\", \" leather\", \" motive\", \" table\", \" lion\", \" angle\", \" beauty\", \" program\", \" keeper\"]], [[\"d\", \"iamond\", \" chamber\", \" folly\", \" income\", \" effect\", \" project\", \" current\", \" costume\", \" pattern\", \" record\"]], [[\"rub\", \"ber\", \" crystal\", \" nephew\", \" navy\", \" highway\", \" device\", \" senate\", \" concert\", \" scatter\", \" insect\"]], [[\"c\", \"arp\", \"et\", \" wagon\", \" gesture\", \" shelter\", \" business\", \" package\", \" stomach\", \" dollar\", \" cable\", \" contract\"]], [[\"interest\", \" lawyer\", \" maker\", \" velvet\", \" women\", \" saddle\", \" carriage\", \" valley\", \" fury\", \" meaning\"]], [[\"million\", \" merchant\", \" money\", \" trouble\", \" winter\", \" father\", \" system\", \" bubble\", \" riches\", \" robber\"]], [[\"c\", \"attle\", \" justice\", \" anchor\", \" city\", \" captain\", \" member\", \" degree\", \" penny\", \" empire\", \" commerce\"]], [[\"tra\", \"ffic\", \" parcel\", \" owner\", \" picture\", \" message\", \" perfume\", \" carbon\", \" pigeon\", \" method\", \" oy\", \"ster\"]], [[\"or\", \"chard\", \" patience\", \" stocking\", \" butcher\", \" colour\", \" credit\", \" dragon\", \" aspect\", \" painter\", \" image\"]]], \"hovertemplate\": \"prompt=3) long (~60 tok)<br>set size (n. tokens)=%{x}<br>average -log LL=%{y}<br>token_list=%{customdata[0]}<extra></extra>\", \"legendgroup\": \"3) long (~60 tok)\", \"marker\": {\"color\": \"#00cc96\"}, \"name\": \"3) long (~60 tok)\", \"notched\": false, \"offsetgroup\": \"3) long (~60 tok)\", \"orientation\": \"v\", \"showlegend\": true, \"type\": \"box\", \"x\": [3, 3, 3, 3, 3, 3, 3, 3, 3, 3, 3, 3, 3, 3, 3, 3, 3, 3, 3, 3, 5, 5, 5, 5, 5, 5, 5, 5, 5, 5, 5, 5, 5, 5, 5, 5, 5, 5, 5, 5, 10, 10, 10, 10, 10, 10, 10, 10, 10, 10, 10, 10, 10, 10, 10, 10, 10, 10, 10, 10], \"x0\": \" \", \"xaxis\": \"x\", \"y\": [13.530670801798502, 12.353565375010172, 9.155507850646973, 7.4747308731079105, 8.958927541971207, 9.536420106887817, 12.885051091512045, 10.44929051399231, 12.066099166870117, 9.637473404407501, 9.67557230591774, 12.148794174194336, 9.672398328781128, 11.82897392908732, 9.078077602386475, 9.519346833229065, 10.438711822032928, 9.588034391403198, 10.306570053100586, 9.874516367912292, 8.886483987172445, 11.589398193359376, 8.986523588498434, 9.620830059051514, 8.60653179032462, 10.005923589070639, 11.734535408020019, 9.361047665278116, 9.145787398020426, 9.475051085154215, 8.905472906572479, 9.929366191228231, 9.911142428716024, 11.344123268127442, 11.334018802642822, 8.933615644772848, 10.66986961364746, 10.264493624369303, 9.887442032496134, 9.179986874262491, 10.10877251625061, 9.981318855285645, 7.668145916291645, 9.724855726415461, 9.782675164667042, 10.163984298706055, 9.349065522352854, 8.849269072214762, 9.912316179275512, 9.37124945900657, 9.612727858803488, 9.649087602441961, 9.474403641440652, 9.95715692910281, 8.54644317428271, 10.014705991744995, 9.440266036987305, 9.08772256157615, 8.497493704780936, 9.958830226551402], \"y0\": \" \", \"yaxis\": \"y\"}],                        {\"boxmode\": \"group\", \"height\": 500, \"legend\": {\"title\": {\"text\": \"prompt\"}, \"tracegroupgap\": 0}, \"template\": {\"data\": {\"bar\": [{\"error_x\": {\"color\": \"#2a3f5f\"}, \"error_y\": {\"color\": \"#2a3f5f\"}, \"marker\": {\"line\": {\"color\": \"#E5ECF6\", \"width\": 0.5}}, \"type\": \"bar\"}], \"barpolar\": [{\"marker\": {\"line\": {\"color\": \"#E5ECF6\", \"width\": 0.5}}, \"type\": \"barpolar\"}], \"carpet\": [{\"aaxis\": {\"endlinecolor\": \"#2a3f5f\", \"gridcolor\": \"white\", \"linecolor\": \"white\", \"minorgridcolor\": \"white\", \"startlinecolor\": \"#2a3f5f\"}, \"baxis\": {\"endlinecolor\": \"#2a3f5f\", \"gridcolor\": \"white\", \"linecolor\": \"white\", \"minorgridcolor\": \"white\", \"startlinecolor\": \"#2a3f5f\"}, \"type\": \"carpet\"}], \"choropleth\": [{\"colorbar\": {\"outlinewidth\": 0, \"ticks\": \"\"}, \"type\": \"choropleth\"}], \"contour\": [{\"colorbar\": {\"outlinewidth\": 0, \"ticks\": \"\"}, \"colorscale\": [[0.0, \"#0d0887\"], [0.1111111111111111, \"#46039f\"], [0.2222222222222222, \"#7201a8\"], [0.3333333333333333, \"#9c179e\"], [0.4444444444444444, \"#bd3786\"], [0.5555555555555556, \"#d8576b\"], [0.6666666666666666, \"#ed7953\"], [0.7777777777777778, \"#fb9f3a\"], [0.8888888888888888, \"#fdca26\"], [1.0, \"#f0f921\"]], \"type\": \"contour\"}], \"contourcarpet\": [{\"colorbar\": {\"outlinewidth\": 0, \"ticks\": \"\"}, \"type\": \"contourcarpet\"}], \"heatmap\": [{\"colorbar\": {\"outlinewidth\": 0, \"ticks\": \"\"}, \"colorscale\": [[0.0, \"#0d0887\"], [0.1111111111111111, \"#46039f\"], [0.2222222222222222, \"#7201a8\"], [0.3333333333333333, \"#9c179e\"], [0.4444444444444444, \"#bd3786\"], [0.5555555555555556, \"#d8576b\"], [0.6666666666666666, \"#ed7953\"], [0.7777777777777778, \"#fb9f3a\"], [0.8888888888888888, \"#fdca26\"], [1.0, \"#f0f921\"]], \"type\": \"heatmap\"}], \"heatmapgl\": [{\"colorbar\": {\"outlinewidth\": 0, \"ticks\": \"\"}, \"colorscale\": [[0.0, \"#0d0887\"], [0.1111111111111111, \"#46039f\"], [0.2222222222222222, \"#7201a8\"], [0.3333333333333333, \"#9c179e\"], [0.4444444444444444, \"#bd3786\"], [0.5555555555555556, \"#d8576b\"], [0.6666666666666666, \"#ed7953\"], [0.7777777777777778, \"#fb9f3a\"], [0.8888888888888888, \"#fdca26\"], [1.0, \"#f0f921\"]], \"type\": \"heatmapgl\"}], \"histogram\": [{\"marker\": {\"colorbar\": {\"outlinewidth\": 0, \"ticks\": \"\"}}, \"type\": \"histogram\"}], \"histogram2d\": [{\"colorbar\": {\"outlinewidth\": 0, \"ticks\": \"\"}, \"colorscale\": [[0.0, \"#0d0887\"], [0.1111111111111111, \"#46039f\"], [0.2222222222222222, \"#7201a8\"], [0.3333333333333333, \"#9c179e\"], [0.4444444444444444, \"#bd3786\"], [0.5555555555555556, \"#d8576b\"], [0.6666666666666666, \"#ed7953\"], [0.7777777777777778, \"#fb9f3a\"], [0.8888888888888888, \"#fdca26\"], [1.0, \"#f0f921\"]], \"type\": \"histogram2d\"}], \"histogram2dcontour\": [{\"colorbar\": {\"outlinewidth\": 0, \"ticks\": \"\"}, \"colorscale\": [[0.0, \"#0d0887\"], [0.1111111111111111, \"#46039f\"], [0.2222222222222222, \"#7201a8\"], [0.3333333333333333, \"#9c179e\"], [0.4444444444444444, \"#bd3786\"], [0.5555555555555556, \"#d8576b\"], [0.6666666666666666, \"#ed7953\"], [0.7777777777777778, \"#fb9f3a\"], [0.8888888888888888, \"#fdca26\"], [1.0, \"#f0f921\"]], \"type\": \"histogram2dcontour\"}], \"mesh3d\": [{\"colorbar\": {\"outlinewidth\": 0, \"ticks\": \"\"}, \"type\": \"mesh3d\"}], \"parcoords\": [{\"line\": {\"colorbar\": {\"outlinewidth\": 0, \"ticks\": \"\"}}, \"type\": \"parcoords\"}], \"pie\": [{\"automargin\": true, \"type\": \"pie\"}], \"scatter\": [{\"marker\": {\"colorbar\": {\"outlinewidth\": 0, \"ticks\": \"\"}}, \"type\": \"scatter\"}], \"scatter3d\": [{\"line\": {\"colorbar\": {\"outlinewidth\": 0, \"ticks\": \"\"}}, \"marker\": {\"colorbar\": {\"outlinewidth\": 0, \"ticks\": \"\"}}, \"type\": \"scatter3d\"}], \"scattercarpet\": [{\"marker\": {\"colorbar\": {\"outlinewidth\": 0, \"ticks\": \"\"}}, \"type\": \"scattercarpet\"}], \"scattergeo\": [{\"marker\": {\"colorbar\": {\"outlinewidth\": 0, \"ticks\": \"\"}}, \"type\": \"scattergeo\"}], \"scattergl\": [{\"marker\": {\"colorbar\": {\"outlinewidth\": 0, \"ticks\": \"\"}}, \"type\": \"scattergl\"}], \"scattermapbox\": [{\"marker\": {\"colorbar\": {\"outlinewidth\": 0, \"ticks\": \"\"}}, \"type\": \"scattermapbox\"}], \"scatterpolar\": [{\"marker\": {\"colorbar\": {\"outlinewidth\": 0, \"ticks\": \"\"}}, \"type\": \"scatterpolar\"}], \"scatterpolargl\": [{\"marker\": {\"colorbar\": {\"outlinewidth\": 0, \"ticks\": \"\"}}, \"type\": \"scatterpolargl\"}], \"scatterternary\": [{\"marker\": {\"colorbar\": {\"outlinewidth\": 0, \"ticks\": \"\"}}, \"type\": \"scatterternary\"}], \"surface\": [{\"colorbar\": {\"outlinewidth\": 0, \"ticks\": \"\"}, \"colorscale\": [[0.0, \"#0d0887\"], [0.1111111111111111, \"#46039f\"], [0.2222222222222222, \"#7201a8\"], [0.3333333333333333, \"#9c179e\"], [0.4444444444444444, \"#bd3786\"], [0.5555555555555556, \"#d8576b\"], [0.6666666666666666, \"#ed7953\"], [0.7777777777777778, \"#fb9f3a\"], [0.8888888888888888, \"#fdca26\"], [1.0, \"#f0f921\"]], \"type\": \"surface\"}], \"table\": [{\"cells\": {\"fill\": {\"color\": \"#EBF0F8\"}, \"line\": {\"color\": \"white\"}}, \"header\": {\"fill\": {\"color\": \"#C8D4E3\"}, \"line\": {\"color\": \"white\"}}, \"type\": \"table\"}]}, \"layout\": {\"annotationdefaults\": {\"arrowcolor\": \"#2a3f5f\", \"arrowhead\": 0, \"arrowwidth\": 1}, \"coloraxis\": {\"colorbar\": {\"outlinewidth\": 0, \"ticks\": \"\"}}, \"colorscale\": {\"diverging\": [[0, \"#8e0152\"], [0.1, \"#c51b7d\"], [0.2, \"#de77ae\"], [0.3, \"#f1b6da\"], [0.4, \"#fde0ef\"], [0.5, \"#f7f7f7\"], [0.6, \"#e6f5d0\"], [0.7, \"#b8e186\"], [0.8, \"#7fbc41\"], [0.9, \"#4d9221\"], [1, \"#276419\"]], \"sequential\": [[0.0, \"#0d0887\"], [0.1111111111111111, \"#46039f\"], [0.2222222222222222, \"#7201a8\"], [0.3333333333333333, \"#9c179e\"], [0.4444444444444444, \"#bd3786\"], [0.5555555555555556, \"#d8576b\"], [0.6666666666666666, \"#ed7953\"], [0.7777777777777778, \"#fb9f3a\"], [0.8888888888888888, \"#fdca26\"], [1.0, \"#f0f921\"]], \"sequentialminus\": [[0.0, \"#0d0887\"], [0.1111111111111111, \"#46039f\"], [0.2222222222222222, \"#7201a8\"], [0.3333333333333333, \"#9c179e\"], [0.4444444444444444, \"#bd3786\"], [0.5555555555555556, \"#d8576b\"], [0.6666666666666666, \"#ed7953\"], [0.7777777777777778, \"#fb9f3a\"], [0.8888888888888888, \"#fdca26\"], [1.0, \"#f0f921\"]]}, \"colorway\": [\"#636efa\", \"#EF553B\", \"#00cc96\", \"#ab63fa\", \"#FFA15A\", \"#19d3f3\", \"#FF6692\", \"#B6E880\", \"#FF97FF\", \"#FECB52\"], \"font\": {\"color\": \"#2a3f5f\"}, \"geo\": {\"bgcolor\": \"white\", \"lakecolor\": \"white\", \"landcolor\": \"#E5ECF6\", \"showlakes\": true, \"showland\": true, \"subunitcolor\": \"white\"}, \"hoverlabel\": {\"align\": \"left\"}, \"hovermode\": \"closest\", \"mapbox\": {\"style\": \"light\"}, \"paper_bgcolor\": \"white\", \"plot_bgcolor\": \"#E5ECF6\", \"polar\": {\"angularaxis\": {\"gridcolor\": \"white\", \"linecolor\": \"white\", \"ticks\": \"\"}, \"bgcolor\": \"#E5ECF6\", \"radialaxis\": {\"gridcolor\": \"white\", \"linecolor\": \"white\", \"ticks\": \"\"}}, \"scene\": {\"xaxis\": {\"backgroundcolor\": \"#E5ECF6\", \"gridcolor\": \"white\", \"gridwidth\": 2, \"linecolor\": \"white\", \"showbackground\": true, \"ticks\": \"\", \"zerolinecolor\": \"white\"}, \"yaxis\": {\"backgroundcolor\": \"#E5ECF6\", \"gridcolor\": \"white\", \"gridwidth\": 2, \"linecolor\": \"white\", \"showbackground\": true, \"ticks\": \"\", \"zerolinecolor\": \"white\"}, \"zaxis\": {\"backgroundcolor\": \"#E5ECF6\", \"gridcolor\": \"white\", \"gridwidth\": 2, \"linecolor\": \"white\", \"showbackground\": true, \"ticks\": \"\", \"zerolinecolor\": \"white\"}}, \"shapedefaults\": {\"line\": {\"color\": \"#2a3f5f\"}}, \"ternary\": {\"aaxis\": {\"gridcolor\": \"white\", \"linecolor\": \"white\", \"ticks\": \"\"}, \"baxis\": {\"gridcolor\": \"white\", \"linecolor\": \"white\", \"ticks\": \"\"}, \"bgcolor\": \"#E5ECF6\", \"caxis\": {\"gridcolor\": \"white\", \"linecolor\": \"white\", \"ticks\": \"\"}}, \"title\": {\"x\": 0.05}, \"xaxis\": {\"automargin\": true, \"gridcolor\": \"white\", \"linecolor\": \"white\", \"ticks\": \"\", \"title\": {\"standoff\": 15}, \"zerolinecolor\": \"white\", \"zerolinewidth\": 2}, \"yaxis\": {\"automargin\": true, \"gridcolor\": \"white\", \"linecolor\": \"white\", \"ticks\": \"\", \"title\": {\"standoff\": 15}, \"zerolinecolor\": \"white\", \"zerolinewidth\": 2}}}, \"title\": {\"text\": \"Mean neg. LL on first presentation (nonsemantic)\"}, \"width\": 1200, \"xaxis\": {\"anchor\": \"y\", \"domain\": [0.0, 1.0], \"title\": {\"text\": \"set size (n. tokens)\"}, \"type\": \"category\"}, \"yaxis\": {\"anchor\": \"x\", \"domain\": [0.0, 1.0], \"title\": {\"text\": \"average -log LL\"}}},                        {\"responsive\": true}                    ).then(function(){\n",
       "                            \n",
       "var gd = document.getElementById('cf0675ed-135e-4612-8f6b-ad720da579f0');\n",
       "var x = new MutationObserver(function (mutations, observer) {{\n",
       "        var display = window.getComputedStyle(gd).display;\n",
       "        if (!display || display === 'none') {{\n",
       "            console.log([gd, 'removed!']);\n",
       "            Plotly.purge(gd);\n",
       "            observer.disconnect();\n",
       "        }}\n",
       "}});\n",
       "\n",
       "// Listen for the removal of the full notebook cells\n",
       "var notebookContainer = gd.closest('#notebook-container');\n",
       "if (notebookContainer) {{\n",
       "    x.observe(notebookContainer, {childList: true});\n",
       "}}\n",
       "\n",
       "// Listen for the clearing of the current output cell\n",
       "var outputEl = gd.closest('.output');\n",
       "if (outputEl) {{\n",
       "    x.observe(outputEl, {childList: true});\n",
       "}}\n",
       "\n",
       "                        })                };                });            </script>        </div>"
      ]
     },
     "metadata": {},
     "output_type": "display_data"
    }
   ],
   "source": [
    "fig = px.box(dagg, x=\"set_size_\", y=\"ppl_mean\", points=\"all\", color=\"prompt_\", \n",
    "             hover_data=[\"token_list\"], \n",
    "             labels={\"set_size_\": \"set size (n. tokens)\", \"ppl_mean\": \"average -log LL\",\n",
    "                   \"prompt_\": \"prompt\", \"second_list_\": \"word order\"},\n",
    "            category_orders = {\"prompt\": [\"short (~8 tok)\", \"mid (~30 tok)\", \"long (~60 tok)\"]},\n",
    "            width=figwidth, height=figheight,\n",
    "            title=\"Mean neg. LL on first presentation ({})\" \\\n",
    "                   .format(semlist))\n",
    "fig.update_xaxes(type='category')\n",
    "fig.show()"
   ]
  },
  {
   "cell_type": "code",
   "execution_count": 27,
   "metadata": {},
   "outputs": [],
   "source": [
    "fig.write_image(\"./figures/perp_{}_{}_cue.png\".format(semlist, wordorder))"
   ]
  },
  {
   "cell_type": "code",
   "execution_count": 28,
   "metadata": {},
   "outputs": [],
   "source": [
    "# let's filter some stuff\n",
    "dftmp = None\n",
    "semlist = \"semantic\"\n",
    "wordorder = \"repeat\"\n",
    "dftmp = df2.loc[(~df2.ispunct)  & (df2.list == semlist) & (df2.second_list == wordorder), :]          # remove punctuation\n",
    "dftmp = dftmp.loc[(dftmp.trialID == 1), :]                                                            # only look at the cue presentation word list\n",
    "dftmp[\"prompt\"] = dftmp[\"prompt\"].str.replace(\"sce1-1\", \"1) short (~8 tok)\")\n",
    "dftmp[\"prompt\"] = dftmp[\"prompt\"].str.replace(\"sce1-3\", \"2) mid (~30 tok)\")\n",
    "dftmp[\"prompt\"] = dftmp[\"prompt\"].str.replace(\"sce1-5\", \"3) long (~60 tok)\")"
   ]
  },
  {
   "cell_type": "code",
   "execution_count": 29,
   "metadata": {},
   "outputs": [],
   "source": [
    "dagg = None\n",
    "dagg = dftmp.groupby([\"prompt\", \"set_size\", \"stimID\"]) \\\n",
    "            .agg({\"ppl\": [\"mean\", \"std\"], \"token\": list}) \\\n",
    "            .reset_index()\n",
    "dagg.columns = ['_'.join(col).strip() for col in dagg.columns.values]"
   ]
  },
  {
   "cell_type": "code",
   "execution_count": 31,
   "metadata": {},
   "outputs": [
    {
     "data": {
      "application/vnd.plotly.v1+json": {
       "config": {
        "plotlyServerURL": "https://plot.ly"
       },
       "data": [
        {
         "alignmentgroup": "True",
         "boxpoints": "all",
         "customdata": [
          [
           [
            "window",
            " door",
            " roof"
           ]
          ],
          [
           [
            "leg",
            " arms",
            " head"
           ]
          ],
          [
           [
            "s",
            "ail",
            "boat",
            " destroyer",
            " battles",
            "hip"
           ]
          ],
          [
           [
            "ro",
            "bin",
            " sp",
            "arrow",
            " her",
            "on"
           ]
          ],
          [
           [
            "apple",
            " t",
            "angelo",
            " pear"
           ]
          ],
          [
           [
            "hammer",
            " saw",
            " nails"
           ]
          ],
          [
           [
            "hur",
            "ricane",
            " tornado",
            " rain"
           ]
          ],
          [
           [
            "oxy",
            "gen",
            " hydrogen",
            " nitrogen"
           ]
          ],
          [
           [
            "john",
            " bob",
            " bill"
           ]
          ],
          [
           [
            "chem",
            "istry",
            " physics",
            " psychology"
           ]
          ],
          [
           [
            "ch",
            "icago",
            " hel",
            "s",
            "inki",
            " tor",
            "onto"
           ]
          ],
          [
           [
            "p",
            "iano",
            " drum",
            " trumpet"
           ]
          ],
          [
           [
            "knife",
            " spoon",
            " fork"
           ]
          ],
          [
           [
            "ford",
            " che",
            "v",
            "rolet",
            " pont",
            "iac"
           ]
          ],
          [
           [
            "tr",
            "out",
            " gu",
            "pp",
            "ie",
            " shark"
           ]
          ],
          [
           [
            "football",
            " baseball",
            " basketball"
           ]
          ],
          [
           [
            "doctor",
            " lawyer",
            " teacher"
           ]
          ],
          [
           [
            "oak",
            " maple",
            " pine"
           ]
          ],
          [
           [
            "shirt",
            " socks",
            " pants"
           ]
          ],
          [
           [
            "cancer",
            " measles",
            " tuberculosis"
           ]
          ],
          [
           [
            "wall",
            " floor",
            " ceiling",
            " room",
            " basement"
           ]
          ],
          [
           [
            "eye",
            " foot",
            " nose",
            " finger",
            " ear"
           ]
          ],
          [
           [
            "cru",
            "iser",
            " submarine",
            " row",
            "boat",
            " yacht",
            " canoe"
           ]
          ],
          [
           [
            "e",
            "agle",
            " crow",
            " can",
            "ary",
            " par",
            "ake",
            "et",
            " hawk"
           ]
          ],
          [
           [
            "ban",
            "ana",
            " peach",
            " grape",
            " cherry",
            " plum"
           ]
          ],
          [
           [
            "level",
            " plane",
            " ch",
            "isel",
            " ruler",
            " wrench"
           ]
          ],
          [
           [
            "s",
            "now",
            " hail",
            " sle",
            "et",
            " storm",
            " wind"
           ]
          ],
          [
           [
            "carbon",
            " sodium",
            " k",
            "rypt",
            "on",
            " sulph",
            "ur",
            " helium"
           ]
          ],
          [
           [
            "j",
            "im",
            " tom",
            " jo",
            "e",
            " dick",
            " m",
            "ike"
           ]
          ],
          [
           [
            "biology",
            " zo",
            "ology",
            " bot",
            "any",
            " astronomy",
            " mathematics"
           ]
          ],
          [
           [
            "l",
            "ondon",
            " par",
            "is",
            " m",
            "iami",
            " b",
            "oston",
            " phil",
            "adelphia"
           ]
          ],
          [
           [
            "viol",
            "in",
            " clar",
            "inet",
            " fl",
            "ute",
            " guitar",
            " sax",
            "ophone"
           ]
          ],
          [
           [
            "pan",
            " pot",
            " spat",
            "ula",
            " stove",
            " bowl"
           ]
          ],
          [
           [
            "old",
            "sm",
            "obile",
            " bu",
            "ick",
            " cad",
            "illac",
            " dodge",
            " ch",
            "rys",
            "ler"
           ]
          ],
          [
           [
            "her",
            "ring",
            " per",
            "ch",
            " salmon",
            " tuna",
            " gold",
            "fish"
           ]
          ],
          [
           [
            "ten",
            "nis",
            " swimming",
            " soccer",
            " golf",
            " hockey"
           ]
          ],
          [
           [
            "d",
            "ent",
            "ist",
            " engineer",
            " professor",
            " car",
            "penter",
            " salesman"
           ]
          ],
          [
           [
            "el",
            "m",
            " bir",
            "ch",
            " l",
            "ind",
            "en",
            " sp",
            "ruce",
            " red",
            "wood"
           ]
          ],
          [
           [
            "sh",
            "oes",
            " bl",
            "ouse",
            " skirt",
            " coat",
            " dress"
           ]
          ],
          [
           [
            "m",
            "umps",
            " polio",
            " chicken",
            "pox",
            " malaria",
            " leukemia"
           ]
          ],
          [
           [
            "he",
            "arth",
            " hall",
            " corridor",
            " elevator",
            " chim",
            "ney",
            " foundation",
            " step",
            " stair",
            "way",
            " attic",
            " cup",
            "board"
           ]
          ],
          [
           [
            "hand",
            " toe",
            " mouth",
            " stomach",
            " hair",
            " neck",
            " heart",
            " knee",
            " chest",
            " liver"
           ]
          ],
          [
           [
            "fre",
            "ighter",
            " tug",
            "boat",
            " ste",
            "ams",
            "hip",
            " sch",
            "oon",
            "er",
            " liner",
            " motor",
            "boat",
            " c",
            "arg",
            "os",
            "hip",
            " cl",
            "ippers",
            "hip",
            " tanker",
            " b",
            "arge"
           ]
          ],
          [
           [
            "black",
            "bird",
            " w",
            "ren",
            " ori",
            "ole",
            " par",
            "rot",
            " pigeon",
            " star",
            "ling",
            " wood",
            "pe",
            "cker",
            " v",
            "ulture",
            " swallow",
            " chicken"
           ]
          ],
          [
           [
            "g",
            "rape",
            "fruit",
            " lemon",
            " t",
            "anger",
            "ine",
            " apr",
            "ic",
            "ot",
            " pineapple",
            " lime",
            " strawberry",
            " black",
            "berry",
            " water",
            "melon",
            " pr",
            "unes"
           ]
          ],
          [
           [
            "pl",
            "iers",
            " drill",
            " screws",
            " punch",
            " square",
            " file",
            " lat",
            "he",
            " sand",
            "paper",
            " aw",
            "l",
            " s",
            "ander"
           ]
          ],
          [
           [
            "cycl",
            "one",
            " clouds",
            " sunshine",
            " lightning",
            " typh",
            "oon",
            " thunder",
            " sm",
            "og",
            " bl",
            "izzard",
            " fog",
            " mon",
            "soon"
           ]
          ],
          [
           [
            "chlor",
            "ine",
            " calcium",
            " potassium",
            " magnesium",
            " uranium",
            " lead",
            " aluminum",
            " zinc",
            " phosphorus",
            " xen",
            "on"
           ]
          ],
          [
           [
            "ge",
            "orge",
            " jack",
            " har",
            "ry",
            " ste",
            "ve",
            " l",
            "arry",
            " frank",
            " p",
            "aul",
            " sam",
            " d",
            "ave",
            " f",
            "red"
           ]
          ],
          [
           [
            "ge",
            "ology",
            " microbi",
            "ology",
            " sociology",
            " ent",
            "om",
            "ology",
            " medicine",
            " engineering",
            " bi",
            "ochemistry",
            " meteor",
            "ology",
            " physiology",
            " anatomy"
           ]
          ],
          [
           [
            "det",
            "roit",
            " d",
            "allas",
            " r",
            "ome",
            " bomb",
            "ay",
            " cle",
            "veland",
            " p",
            "itt",
            "sburgh",
            " den",
            "ver",
            " mont",
            "real",
            " to",
            "ky",
            "o",
            " mos",
            "cow"
           ]
          ],
          [
           [
            "t",
            "rom",
            "bone",
            " ob",
            "oe",
            " tub",
            "a",
            " har",
            "p",
            " cell",
            "o",
            " ban",
            "jo",
            " k",
            "az",
            "oo",
            " mar",
            "im",
            "ba",
            " viol",
            "a",
            " pic",
            "colo"
           ]
          ],
          [
           [
            "mix",
            "er",
            " cup",
            " dish",
            " be",
            "ater",
            " plate",
            " skillet",
            " refrigerator",
            " fry",
            "pan",
            " glass",
            " to",
            "aster"
           ]
          ],
          [
           [
            "ply",
            "mouth",
            " vol",
            "ks",
            "wagen",
            " r",
            "amb",
            "ler",
            " op",
            "el",
            " mer",
            "cedes",
            " fiat",
            " f",
            "err",
            "ari",
            " audi",
            " cor",
            "vette",
            " triumph"
           ]
          ],
          [
           [
            "sun",
            "fish",
            " cod",
            " blue",
            "g",
            "ill",
            " carp",
            " p",
            "ike",
            " min",
            "now",
            " gu",
            "ppy",
            " fl",
            "ound",
            "er",
            " mar",
            "lin",
            " bar",
            "rac",
            "uda"
           ]
          ],
          [
           [
            "sn",
            "ork",
            "ling",
            " lac",
            "rosse",
            " bad",
            "m",
            "inton",
            " bowling",
            " wrestling",
            " ar",
            "chery",
            " skiing",
            " fencing",
            " fishing",
            " hand",
            "ball"
           ]
          ],
          [
           [
            "n",
            "urse",
            " psychologist",
            " pl",
            "umber",
            " accountant",
            " businessman",
            " scientist",
            " clerk",
            " farmer",
            " under",
            "writer",
            " policeman"
           ]
          ],
          [
           [
            "wal",
            "nut",
            " fir",
            " h",
            "ick",
            "ory",
            " sy",
            "cam",
            "ore",
            " ash",
            " pop",
            "lar",
            " will",
            "ow",
            " chest",
            "nut",
            " c",
            "edar",
            " ever",
            "green"
           ]
          ],
          [
           [
            "hat",
            " sweater",
            " tie",
            " slip",
            " jacket",
            " sl",
            "acks",
            " gloves",
            " belt",
            " underwear",
            " shorts"
           ]
          ],
          [
           [
            "p",
            "neum",
            "onia",
            " small",
            "pox",
            " influenza",
            " en",
            "cephal",
            "itis",
            " le",
            "pro",
            "sy",
            " sy",
            "ph",
            "ill",
            "is",
            " hepatitis",
            " typh",
            "oid",
            " r",
            "ickets",
            " diabetes"
           ]
          ]
         ],
         "hovertemplate": "prompt=1) short (~8 tok)<br>set size (n. tokens)=%{x}<br>average -log LL=%{y}<br>token_list=%{customdata[0]}<extra></extra>",
         "legendgroup": "1) short (~8 tok)",
         "marker": {
          "color": "#636efa"
         },
         "name": "1) short (~8 tok)",
         "notched": false,
         "offsetgroup": "1) short (~8 tok)",
         "orientation": "v",
         "showlegend": true,
         "type": "box",
         "x": [
          3,
          3,
          3,
          3,
          3,
          3,
          3,
          3,
          3,
          3,
          3,
          3,
          3,
          3,
          3,
          3,
          3,
          3,
          3,
          3,
          5,
          5,
          5,
          5,
          5,
          5,
          5,
          5,
          5,
          5,
          5,
          5,
          5,
          5,
          5,
          5,
          5,
          5,
          5,
          5,
          10,
          10,
          10,
          10,
          10,
          10,
          10,
          10,
          10,
          10,
          10,
          10,
          10,
          10,
          10,
          10,
          10,
          10,
          10,
          10
         ],
         "x0": " ",
         "xaxis": "x",
         "y": [
          9.95686340332031,
          9.600722630818685,
          6.173808966530487,
          6.229691465695699,
          8.879740953445435,
          11.294138113657633,
          7.511471152305603,
          6.425338506698608,
          10.474563280741373,
          6.771621257066727,
          6.727224860872541,
          7.4400715827941895,
          9.750870704650879,
          7.782977263132731,
          7.516388018925984,
          7.6382246017456055,
          8.62405021985372,
          9.851209958394369,
          8.396915833155314,
          9.10417898495992,
          7.545794248580933,
          6.784128665924072,
          7.263020890099662,
          5.525362637307909,
          5.845008850097656,
          8.978253364562988,
          5.272258592503412,
          5.624486453831196,
          5.776320308446884,
          5.174759538844228,
          5.839649623632431,
          4.273133387168248,
          7.517357230186462,
          5.981443654407155,
          6.873644593171775,
          7.122708837191264,
          5.966716242022812,
          4.86922255971215,
          6.28488506589617,
          6.59718074968883,
          6.145661402094577,
          6.643749856948853,
          4.511551569927099,
          5.174310375418928,
          3.7319649202507112,
          6.2659430285294855,
          5.343918574353059,
          5.109691108266513,
          4.86385096171323,
          4.538606130721746,
          4.881722458722916,
          3.975525588526026,
          6.437095006661756,
          6.416984399780631,
          4.597339294850826,
          5.436777895699968,
          6.241249148662273,
          4.438442883745301,
          6.295318625190041,
          4.133783424868439
         ],
         "y0": " ",
         "yaxis": "y"
        },
        {
         "alignmentgroup": "True",
         "boxpoints": "all",
         "customdata": [
          [
           [
            "window",
            " door",
            " roof"
           ]
          ],
          [
           [
            "leg",
            " arms",
            " head"
           ]
          ],
          [
           [
            "s",
            "ail",
            "boat",
            " destroyer",
            " battles",
            "hip"
           ]
          ],
          [
           [
            "ro",
            "bin",
            " sp",
            "arrow",
            " her",
            "on"
           ]
          ],
          [
           [
            "apple",
            " t",
            "angelo",
            " pear"
           ]
          ],
          [
           [
            "hammer",
            " saw",
            " nails"
           ]
          ],
          [
           [
            "hur",
            "ricane",
            " tornado",
            " rain"
           ]
          ],
          [
           [
            "oxy",
            "gen",
            " hydrogen",
            " nitrogen"
           ]
          ],
          [
           [
            "john",
            " bob",
            " bill"
           ]
          ],
          [
           [
            "chem",
            "istry",
            " physics",
            " psychology"
           ]
          ],
          [
           [
            "ch",
            "icago",
            " hel",
            "s",
            "inki",
            " tor",
            "onto"
           ]
          ],
          [
           [
            "p",
            "iano",
            " drum",
            " trumpet"
           ]
          ],
          [
           [
            "knife",
            " spoon",
            " fork"
           ]
          ],
          [
           [
            "ford",
            " che",
            "v",
            "rolet",
            " pont",
            "iac"
           ]
          ],
          [
           [
            "tr",
            "out",
            " gu",
            "pp",
            "ie",
            " shark"
           ]
          ],
          [
           [
            "football",
            " baseball",
            " basketball"
           ]
          ],
          [
           [
            "doctor",
            " lawyer",
            " teacher"
           ]
          ],
          [
           [
            "oak",
            " maple",
            " pine"
           ]
          ],
          [
           [
            "shirt",
            " socks",
            " pants"
           ]
          ],
          [
           [
            "cancer",
            " measles",
            " tuberculosis"
           ]
          ],
          [
           [
            "wall",
            " floor",
            " ceiling",
            " room",
            " basement"
           ]
          ],
          [
           [
            "eye",
            " foot",
            " nose",
            " finger",
            " ear"
           ]
          ],
          [
           [
            "cru",
            "iser",
            " submarine",
            " row",
            "boat",
            " yacht",
            " canoe"
           ]
          ],
          [
           [
            "e",
            "agle",
            " crow",
            " can",
            "ary",
            " par",
            "ake",
            "et",
            " hawk"
           ]
          ],
          [
           [
            "ban",
            "ana",
            " peach",
            " grape",
            " cherry",
            " plum"
           ]
          ],
          [
           [
            "level",
            " plane",
            " ch",
            "isel",
            " ruler",
            " wrench"
           ]
          ],
          [
           [
            "s",
            "now",
            " hail",
            " sle",
            "et",
            " storm",
            " wind"
           ]
          ],
          [
           [
            "carbon",
            " sodium",
            " k",
            "rypt",
            "on",
            " sulph",
            "ur",
            " helium"
           ]
          ],
          [
           [
            "j",
            "im",
            " tom",
            " jo",
            "e",
            " dick",
            " m",
            "ike"
           ]
          ],
          [
           [
            "biology",
            " zo",
            "ology",
            " bot",
            "any",
            " astronomy",
            " mathematics"
           ]
          ],
          [
           [
            "l",
            "ondon",
            " par",
            "is",
            " m",
            "iami",
            " b",
            "oston",
            " phil",
            "adelphia"
           ]
          ],
          [
           [
            "viol",
            "in",
            " clar",
            "inet",
            " fl",
            "ute",
            " guitar",
            " sax",
            "ophone"
           ]
          ],
          [
           [
            "pan",
            " pot",
            " spat",
            "ula",
            " stove",
            " bowl"
           ]
          ],
          [
           [
            "old",
            "sm",
            "obile",
            " bu",
            "ick",
            " cad",
            "illac",
            " dodge",
            " ch",
            "rys",
            "ler"
           ]
          ],
          [
           [
            "her",
            "ring",
            " per",
            "ch",
            " salmon",
            " tuna",
            " gold",
            "fish"
           ]
          ],
          [
           [
            "ten",
            "nis",
            " swimming",
            " soccer",
            " golf",
            " hockey"
           ]
          ],
          [
           [
            "d",
            "ent",
            "ist",
            " engineer",
            " professor",
            " car",
            "penter",
            " salesman"
           ]
          ],
          [
           [
            "el",
            "m",
            " bir",
            "ch",
            " l",
            "ind",
            "en",
            " sp",
            "ruce",
            " red",
            "wood"
           ]
          ],
          [
           [
            "sh",
            "oes",
            " bl",
            "ouse",
            " skirt",
            " coat",
            " dress"
           ]
          ],
          [
           [
            "m",
            "umps",
            " polio",
            " chicken",
            "pox",
            " malaria",
            " leukemia"
           ]
          ],
          [
           [
            "he",
            "arth",
            " hall",
            " corridor",
            " elevator",
            " chim",
            "ney",
            " foundation",
            " step",
            " stair",
            "way",
            " attic",
            " cup",
            "board"
           ]
          ],
          [
           [
            "hand",
            " toe",
            " mouth",
            " stomach",
            " hair",
            " neck",
            " heart",
            " knee",
            " chest",
            " liver"
           ]
          ],
          [
           [
            "fre",
            "ighter",
            " tug",
            "boat",
            " ste",
            "ams",
            "hip",
            " sch",
            "oon",
            "er",
            " liner",
            " motor",
            "boat",
            " c",
            "arg",
            "os",
            "hip",
            " cl",
            "ippers",
            "hip",
            " tanker",
            " b",
            "arge"
           ]
          ],
          [
           [
            "black",
            "bird",
            " w",
            "ren",
            " ori",
            "ole",
            " par",
            "rot",
            " pigeon",
            " star",
            "ling",
            " wood",
            "pe",
            "cker",
            " v",
            "ulture",
            " swallow",
            " chicken"
           ]
          ],
          [
           [
            "g",
            "rape",
            "fruit",
            " lemon",
            " t",
            "anger",
            "ine",
            " apr",
            "ic",
            "ot",
            " pineapple",
            " lime",
            " strawberry",
            " black",
            "berry",
            " water",
            "melon",
            " pr",
            "unes"
           ]
          ],
          [
           [
            "pl",
            "iers",
            " drill",
            " screws",
            " punch",
            " square",
            " file",
            " lat",
            "he",
            " sand",
            "paper",
            " aw",
            "l",
            " s",
            "ander"
           ]
          ],
          [
           [
            "cycl",
            "one",
            " clouds",
            " sunshine",
            " lightning",
            " typh",
            "oon",
            " thunder",
            " sm",
            "og",
            " bl",
            "izzard",
            " fog",
            " mon",
            "soon"
           ]
          ],
          [
           [
            "chlor",
            "ine",
            " calcium",
            " potassium",
            " magnesium",
            " uranium",
            " lead",
            " aluminum",
            " zinc",
            " phosphorus",
            " xen",
            "on"
           ]
          ],
          [
           [
            "ge",
            "orge",
            " jack",
            " har",
            "ry",
            " ste",
            "ve",
            " l",
            "arry",
            " frank",
            " p",
            "aul",
            " sam",
            " d",
            "ave",
            " f",
            "red"
           ]
          ],
          [
           [
            "ge",
            "ology",
            " microbi",
            "ology",
            " sociology",
            " ent",
            "om",
            "ology",
            " medicine",
            " engineering",
            " bi",
            "ochemistry",
            " meteor",
            "ology",
            " physiology",
            " anatomy"
           ]
          ],
          [
           [
            "det",
            "roit",
            " d",
            "allas",
            " r",
            "ome",
            " bomb",
            "ay",
            " cle",
            "veland",
            " p",
            "itt",
            "sburgh",
            " den",
            "ver",
            " mont",
            "real",
            " to",
            "ky",
            "o",
            " mos",
            "cow"
           ]
          ],
          [
           [
            "t",
            "rom",
            "bone",
            " ob",
            "oe",
            " tub",
            "a",
            " har",
            "p",
            " cell",
            "o",
            " ban",
            "jo",
            " k",
            "az",
            "oo",
            " mar",
            "im",
            "ba",
            " viol",
            "a",
            " pic",
            "colo"
           ]
          ],
          [
           [
            "mix",
            "er",
            " cup",
            " dish",
            " be",
            "ater",
            " plate",
            " skillet",
            " refrigerator",
            " fry",
            "pan",
            " glass",
            " to",
            "aster"
           ]
          ],
          [
           [
            "ply",
            "mouth",
            " vol",
            "ks",
            "wagen",
            " r",
            "amb",
            "ler",
            " op",
            "el",
            " mer",
            "cedes",
            " fiat",
            " f",
            "err",
            "ari",
            " audi",
            " cor",
            "vette",
            " triumph"
           ]
          ],
          [
           [
            "sun",
            "fish",
            " cod",
            " blue",
            "g",
            "ill",
            " carp",
            " p",
            "ike",
            " min",
            "now",
            " gu",
            "ppy",
            " fl",
            "ound",
            "er",
            " mar",
            "lin",
            " bar",
            "rac",
            "uda"
           ]
          ],
          [
           [
            "sn",
            "ork",
            "ling",
            " lac",
            "rosse",
            " bad",
            "m",
            "inton",
            " bowling",
            " wrestling",
            " ar",
            "chery",
            " skiing",
            " fencing",
            " fishing",
            " hand",
            "ball"
           ]
          ],
          [
           [
            "n",
            "urse",
            " psychologist",
            " pl",
            "umber",
            " accountant",
            " businessman",
            " scientist",
            " clerk",
            " farmer",
            " under",
            "writer",
            " policeman"
           ]
          ],
          [
           [
            "wal",
            "nut",
            " fir",
            " h",
            "ick",
            "ory",
            " sy",
            "cam",
            "ore",
            " ash",
            " pop",
            "lar",
            " will",
            "ow",
            " chest",
            "nut",
            " c",
            "edar",
            " ever",
            "green"
           ]
          ],
          [
           [
            "hat",
            " sweater",
            " tie",
            " slip",
            " jacket",
            " sl",
            "acks",
            " gloves",
            " belt",
            " underwear",
            " shorts"
           ]
          ],
          [
           [
            "p",
            "neum",
            "onia",
            " small",
            "pox",
            " influenza",
            " en",
            "cephal",
            "itis",
            " le",
            "pro",
            "sy",
            " sy",
            "ph",
            "ill",
            "is",
            " hepatitis",
            " typh",
            "oid",
            " r",
            "ickets",
            " diabetes"
           ]
          ]
         ],
         "hovertemplate": "prompt=2) mid (~30 tok)<br>set size (n. tokens)=%{x}<br>average -log LL=%{y}<br>token_list=%{customdata[0]}<extra></extra>",
         "legendgroup": "2) mid (~30 tok)",
         "marker": {
          "color": "#EF553B"
         },
         "name": "2) mid (~30 tok)",
         "notched": false,
         "offsetgroup": "2) mid (~30 tok)",
         "orientation": "v",
         "showlegend": true,
         "type": "box",
         "x": [
          3,
          3,
          3,
          3,
          3,
          3,
          3,
          3,
          3,
          3,
          3,
          3,
          3,
          3,
          3,
          3,
          3,
          3,
          3,
          3,
          5,
          5,
          5,
          5,
          5,
          5,
          5,
          5,
          5,
          5,
          5,
          5,
          5,
          5,
          5,
          5,
          5,
          5,
          5,
          5,
          10,
          10,
          10,
          10,
          10,
          10,
          10,
          10,
          10,
          10,
          10,
          10,
          10,
          10,
          10,
          10,
          10,
          10,
          10,
          10
         ],
         "x0": " ",
         "xaxis": "x",
         "y": [
          9.95686340332031,
          9.600722630818685,
          6.173808966530487,
          6.229691465695699,
          8.879740953445435,
          11.294138113657633,
          7.511471152305603,
          6.425338506698608,
          10.474563280741373,
          6.771621257066727,
          6.727224860872541,
          7.4400715827941895,
          9.750870704650879,
          7.782977263132731,
          7.516388018925984,
          7.6382246017456055,
          8.62405021985372,
          9.851209958394369,
          8.396915833155314,
          9.10417898495992,
          7.545794248580933,
          6.784128665924072,
          7.263020890099662,
          5.525362637307909,
          5.845008850097656,
          8.978253364562988,
          5.272258592503412,
          5.624486453831196,
          5.776320308446884,
          5.174759538844228,
          5.839649623632431,
          4.273133387168248,
          7.517357230186462,
          5.981443654407155,
          6.873644593171775,
          7.122708837191264,
          5.966716242022812,
          4.86922255971215,
          6.28488506589617,
          6.59718074968883,
          6.145661402094577,
          6.643749856948853,
          4.511551569927099,
          5.174310375418928,
          3.7319649202507112,
          6.2659430285294855,
          5.343918574353059,
          5.109691108266513,
          4.86385096171323,
          4.538606130721746,
          4.881722458722916,
          3.975525588526026,
          6.437095006661756,
          6.416984399780631,
          4.597339294850826,
          5.436777895699968,
          6.241249148662273,
          4.438442883745301,
          6.295318625190041,
          4.133783424868439
         ],
         "y0": " ",
         "yaxis": "y"
        },
        {
         "alignmentgroup": "True",
         "boxpoints": "all",
         "customdata": [
          [
           [
            "window",
            " door",
            " roof"
           ]
          ],
          [
           [
            "leg",
            " arms",
            " head"
           ]
          ],
          [
           [
            "s",
            "ail",
            "boat",
            " destroyer",
            " battles",
            "hip"
           ]
          ],
          [
           [
            "ro",
            "bin",
            " sp",
            "arrow",
            " her",
            "on"
           ]
          ],
          [
           [
            "apple",
            " t",
            "angelo",
            " pear"
           ]
          ],
          [
           [
            "hammer",
            " saw",
            " nails"
           ]
          ],
          [
           [
            "hur",
            "ricane",
            " tornado",
            " rain"
           ]
          ],
          [
           [
            "oxy",
            "gen",
            " hydrogen",
            " nitrogen"
           ]
          ],
          [
           [
            "john",
            " bob",
            " bill"
           ]
          ],
          [
           [
            "chem",
            "istry",
            " physics",
            " psychology"
           ]
          ],
          [
           [
            "ch",
            "icago",
            " hel",
            "s",
            "inki",
            " tor",
            "onto"
           ]
          ],
          [
           [
            "p",
            "iano",
            " drum",
            " trumpet"
           ]
          ],
          [
           [
            "knife",
            " spoon",
            " fork"
           ]
          ],
          [
           [
            "ford",
            " che",
            "v",
            "rolet",
            " pont",
            "iac"
           ]
          ],
          [
           [
            "tr",
            "out",
            " gu",
            "pp",
            "ie",
            " shark"
           ]
          ],
          [
           [
            "football",
            " baseball",
            " basketball"
           ]
          ],
          [
           [
            "doctor",
            " lawyer",
            " teacher"
           ]
          ],
          [
           [
            "oak",
            " maple",
            " pine"
           ]
          ],
          [
           [
            "shirt",
            " socks",
            " pants"
           ]
          ],
          [
           [
            "cancer",
            " measles",
            " tuberculosis"
           ]
          ],
          [
           [
            "wall",
            " floor",
            " ceiling",
            " room",
            " basement"
           ]
          ],
          [
           [
            "eye",
            " foot",
            " nose",
            " finger",
            " ear"
           ]
          ],
          [
           [
            "cru",
            "iser",
            " submarine",
            " row",
            "boat",
            " yacht",
            " canoe"
           ]
          ],
          [
           [
            "e",
            "agle",
            " crow",
            " can",
            "ary",
            " par",
            "ake",
            "et",
            " hawk"
           ]
          ],
          [
           [
            "ban",
            "ana",
            " peach",
            " grape",
            " cherry",
            " plum"
           ]
          ],
          [
           [
            "level",
            " plane",
            " ch",
            "isel",
            " ruler",
            " wrench"
           ]
          ],
          [
           [
            "s",
            "now",
            " hail",
            " sle",
            "et",
            " storm",
            " wind"
           ]
          ],
          [
           [
            "carbon",
            " sodium",
            " k",
            "rypt",
            "on",
            " sulph",
            "ur",
            " helium"
           ]
          ],
          [
           [
            "j",
            "im",
            " tom",
            " jo",
            "e",
            " dick",
            " m",
            "ike"
           ]
          ],
          [
           [
            "biology",
            " zo",
            "ology",
            " bot",
            "any",
            " astronomy",
            " mathematics"
           ]
          ],
          [
           [
            "l",
            "ondon",
            " par",
            "is",
            " m",
            "iami",
            " b",
            "oston",
            " phil",
            "adelphia"
           ]
          ],
          [
           [
            "viol",
            "in",
            " clar",
            "inet",
            " fl",
            "ute",
            " guitar",
            " sax",
            "ophone"
           ]
          ],
          [
           [
            "pan",
            " pot",
            " spat",
            "ula",
            " stove",
            " bowl"
           ]
          ],
          [
           [
            "old",
            "sm",
            "obile",
            " bu",
            "ick",
            " cad",
            "illac",
            " dodge",
            " ch",
            "rys",
            "ler"
           ]
          ],
          [
           [
            "her",
            "ring",
            " per",
            "ch",
            " salmon",
            " tuna",
            " gold",
            "fish"
           ]
          ],
          [
           [
            "ten",
            "nis",
            " swimming",
            " soccer",
            " golf",
            " hockey"
           ]
          ],
          [
           [
            "d",
            "ent",
            "ist",
            " engineer",
            " professor",
            " car",
            "penter",
            " salesman"
           ]
          ],
          [
           [
            "el",
            "m",
            " bir",
            "ch",
            " l",
            "ind",
            "en",
            " sp",
            "ruce",
            " red",
            "wood"
           ]
          ],
          [
           [
            "sh",
            "oes",
            " bl",
            "ouse",
            " skirt",
            " coat",
            " dress"
           ]
          ],
          [
           [
            "m",
            "umps",
            " polio",
            " chicken",
            "pox",
            " malaria",
            " leukemia"
           ]
          ],
          [
           [
            "he",
            "arth",
            " hall",
            " corridor",
            " elevator",
            " chim",
            "ney",
            " foundation",
            " step",
            " stair",
            "way",
            " attic",
            " cup",
            "board"
           ]
          ],
          [
           [
            "hand",
            " toe",
            " mouth",
            " stomach",
            " hair",
            " neck",
            " heart",
            " knee",
            " chest",
            " liver"
           ]
          ],
          [
           [
            "fre",
            "ighter",
            " tug",
            "boat",
            " ste",
            "ams",
            "hip",
            " sch",
            "oon",
            "er",
            " liner",
            " motor",
            "boat",
            " c",
            "arg",
            "os",
            "hip",
            " cl",
            "ippers",
            "hip",
            " tanker",
            " b",
            "arge"
           ]
          ],
          [
           [
            "black",
            "bird",
            " w",
            "ren",
            " ori",
            "ole",
            " par",
            "rot",
            " pigeon",
            " star",
            "ling",
            " wood",
            "pe",
            "cker",
            " v",
            "ulture",
            " swallow",
            " chicken"
           ]
          ],
          [
           [
            "g",
            "rape",
            "fruit",
            " lemon",
            " t",
            "anger",
            "ine",
            " apr",
            "ic",
            "ot",
            " pineapple",
            " lime",
            " strawberry",
            " black",
            "berry",
            " water",
            "melon",
            " pr",
            "unes"
           ]
          ],
          [
           [
            "pl",
            "iers",
            " drill",
            " screws",
            " punch",
            " square",
            " file",
            " lat",
            "he",
            " sand",
            "paper",
            " aw",
            "l",
            " s",
            "ander"
           ]
          ],
          [
           [
            "cycl",
            "one",
            " clouds",
            " sunshine",
            " lightning",
            " typh",
            "oon",
            " thunder",
            " sm",
            "og",
            " bl",
            "izzard",
            " fog",
            " mon",
            "soon"
           ]
          ],
          [
           [
            "chlor",
            "ine",
            " calcium",
            " potassium",
            " magnesium",
            " uranium",
            " lead",
            " aluminum",
            " zinc",
            " phosphorus",
            " xen",
            "on"
           ]
          ],
          [
           [
            "ge",
            "orge",
            " jack",
            " har",
            "ry",
            " ste",
            "ve",
            " l",
            "arry",
            " frank",
            " p",
            "aul",
            " sam",
            " d",
            "ave",
            " f",
            "red"
           ]
          ],
          [
           [
            "ge",
            "ology",
            " microbi",
            "ology",
            " sociology",
            " ent",
            "om",
            "ology",
            " medicine",
            " engineering",
            " bi",
            "ochemistry",
            " meteor",
            "ology",
            " physiology",
            " anatomy"
           ]
          ],
          [
           [
            "det",
            "roit",
            " d",
            "allas",
            " r",
            "ome",
            " bomb",
            "ay",
            " cle",
            "veland",
            " p",
            "itt",
            "sburgh",
            " den",
            "ver",
            " mont",
            "real",
            " to",
            "ky",
            "o",
            " mos",
            "cow"
           ]
          ],
          [
           [
            "t",
            "rom",
            "bone",
            " ob",
            "oe",
            " tub",
            "a",
            " har",
            "p",
            " cell",
            "o",
            " ban",
            "jo",
            " k",
            "az",
            "oo",
            " mar",
            "im",
            "ba",
            " viol",
            "a",
            " pic",
            "colo"
           ]
          ],
          [
           [
            "mix",
            "er",
            " cup",
            " dish",
            " be",
            "ater",
            " plate",
            " skillet",
            " refrigerator",
            " fry",
            "pan",
            " glass",
            " to",
            "aster"
           ]
          ],
          [
           [
            "ply",
            "mouth",
            " vol",
            "ks",
            "wagen",
            " r",
            "amb",
            "ler",
            " op",
            "el",
            " mer",
            "cedes",
            " fiat",
            " f",
            "err",
            "ari",
            " audi",
            " cor",
            "vette",
            " triumph"
           ]
          ],
          [
           [
            "sun",
            "fish",
            " cod",
            " blue",
            "g",
            "ill",
            " carp",
            " p",
            "ike",
            " min",
            "now",
            " gu",
            "ppy",
            " fl",
            "ound",
            "er",
            " mar",
            "lin",
            " bar",
            "rac",
            "uda"
           ]
          ],
          [
           [
            "sn",
            "ork",
            "ling",
            " lac",
            "rosse",
            " bad",
            "m",
            "inton",
            " bowling",
            " wrestling",
            " ar",
            "chery",
            " skiing",
            " fencing",
            " fishing",
            " hand",
            "ball"
           ]
          ],
          [
           [
            "n",
            "urse",
            " psychologist",
            " pl",
            "umber",
            " accountant",
            " businessman",
            " scientist",
            " clerk",
            " farmer",
            " under",
            "writer",
            " policeman"
           ]
          ],
          [
           [
            "wal",
            "nut",
            " fir",
            " h",
            "ick",
            "ory",
            " sy",
            "cam",
            "ore",
            " ash",
            " pop",
            "lar",
            " will",
            "ow",
            " chest",
            "nut",
            " c",
            "edar",
            " ever",
            "green"
           ]
          ],
          [
           [
            "hat",
            " sweater",
            " tie",
            " slip",
            " jacket",
            " sl",
            "acks",
            " gloves",
            " belt",
            " underwear",
            " shorts"
           ]
          ],
          [
           [
            "p",
            "neum",
            "onia",
            " small",
            "pox",
            " influenza",
            " en",
            "cephal",
            "itis",
            " le",
            "pro",
            "sy",
            " sy",
            "ph",
            "ill",
            "is",
            " hepatitis",
            " typh",
            "oid",
            " r",
            "ickets",
            " diabetes"
           ]
          ]
         ],
         "hovertemplate": "prompt=3) long (~60 tok)<br>set size (n. tokens)=%{x}<br>average -log LL=%{y}<br>token_list=%{customdata[0]}<extra></extra>",
         "legendgroup": "3) long (~60 tok)",
         "marker": {
          "color": "#00cc96"
         },
         "name": "3) long (~60 tok)",
         "notched": false,
         "offsetgroup": "3) long (~60 tok)",
         "orientation": "v",
         "showlegend": true,
         "type": "box",
         "x": [
          3,
          3,
          3,
          3,
          3,
          3,
          3,
          3,
          3,
          3,
          3,
          3,
          3,
          3,
          3,
          3,
          3,
          3,
          3,
          3,
          5,
          5,
          5,
          5,
          5,
          5,
          5,
          5,
          5,
          5,
          5,
          5,
          5,
          5,
          5,
          5,
          5,
          5,
          5,
          5,
          10,
          10,
          10,
          10,
          10,
          10,
          10,
          10,
          10,
          10,
          10,
          10,
          10,
          10,
          10,
          10,
          10,
          10,
          10,
          10
         ],
         "x0": " ",
         "xaxis": "x",
         "y": [
          9.95686340332031,
          9.600722630818685,
          6.173808966530487,
          6.229691465695699,
          8.879740953445435,
          11.294138113657633,
          7.511471152305603,
          6.425338506698608,
          10.474563280741373,
          6.771621257066727,
          6.727224860872541,
          7.4400715827941895,
          9.750870704650879,
          7.782977263132731,
          7.516388018925984,
          7.6382246017456055,
          8.62405021985372,
          9.851209958394369,
          8.396915833155314,
          9.10417898495992,
          7.545794248580933,
          6.784128665924072,
          7.263020890099662,
          5.525362637307909,
          5.845008850097656,
          8.978253364562988,
          5.272258592503412,
          5.624486453831196,
          5.776320308446884,
          5.174759538844228,
          5.839649623632431,
          4.273133387168248,
          7.517357230186462,
          5.981443654407155,
          6.873644593171775,
          7.122708837191264,
          5.966716242022812,
          4.86922255971215,
          6.28488506589617,
          6.59718074968883,
          6.145661402094577,
          6.643749856948853,
          4.511551569927099,
          5.174310375418928,
          3.7319649202507112,
          6.2659430285294855,
          5.343918574353059,
          5.109691108266513,
          4.86385096171323,
          4.538606130721746,
          4.881722458722916,
          3.975525588526026,
          6.437095006661756,
          6.416984399780631,
          4.597339294850826,
          5.436777895699968,
          6.241249148662273,
          4.438442883745301,
          6.295318625190041,
          4.133783424868439
         ],
         "y0": " ",
         "yaxis": "y"
        }
       ],
       "layout": {
        "boxmode": "group",
        "height": 500,
        "legend": {
         "title": {
          "text": "prompt"
         },
         "tracegroupgap": 0
        },
        "template": {
         "data": {
          "bar": [
           {
            "error_x": {
             "color": "#2a3f5f"
            },
            "error_y": {
             "color": "#2a3f5f"
            },
            "marker": {
             "line": {
              "color": "#E5ECF6",
              "width": 0.5
             }
            },
            "type": "bar"
           }
          ],
          "barpolar": [
           {
            "marker": {
             "line": {
              "color": "#E5ECF6",
              "width": 0.5
             }
            },
            "type": "barpolar"
           }
          ],
          "carpet": [
           {
            "aaxis": {
             "endlinecolor": "#2a3f5f",
             "gridcolor": "white",
             "linecolor": "white",
             "minorgridcolor": "white",
             "startlinecolor": "#2a3f5f"
            },
            "baxis": {
             "endlinecolor": "#2a3f5f",
             "gridcolor": "white",
             "linecolor": "white",
             "minorgridcolor": "white",
             "startlinecolor": "#2a3f5f"
            },
            "type": "carpet"
           }
          ],
          "choropleth": [
           {
            "colorbar": {
             "outlinewidth": 0,
             "ticks": ""
            },
            "type": "choropleth"
           }
          ],
          "contour": [
           {
            "colorbar": {
             "outlinewidth": 0,
             "ticks": ""
            },
            "colorscale": [
             [
              0,
              "#0d0887"
             ],
             [
              0.1111111111111111,
              "#46039f"
             ],
             [
              0.2222222222222222,
              "#7201a8"
             ],
             [
              0.3333333333333333,
              "#9c179e"
             ],
             [
              0.4444444444444444,
              "#bd3786"
             ],
             [
              0.5555555555555556,
              "#d8576b"
             ],
             [
              0.6666666666666666,
              "#ed7953"
             ],
             [
              0.7777777777777778,
              "#fb9f3a"
             ],
             [
              0.8888888888888888,
              "#fdca26"
             ],
             [
              1,
              "#f0f921"
             ]
            ],
            "type": "contour"
           }
          ],
          "contourcarpet": [
           {
            "colorbar": {
             "outlinewidth": 0,
             "ticks": ""
            },
            "type": "contourcarpet"
           }
          ],
          "heatmap": [
           {
            "colorbar": {
             "outlinewidth": 0,
             "ticks": ""
            },
            "colorscale": [
             [
              0,
              "#0d0887"
             ],
             [
              0.1111111111111111,
              "#46039f"
             ],
             [
              0.2222222222222222,
              "#7201a8"
             ],
             [
              0.3333333333333333,
              "#9c179e"
             ],
             [
              0.4444444444444444,
              "#bd3786"
             ],
             [
              0.5555555555555556,
              "#d8576b"
             ],
             [
              0.6666666666666666,
              "#ed7953"
             ],
             [
              0.7777777777777778,
              "#fb9f3a"
             ],
             [
              0.8888888888888888,
              "#fdca26"
             ],
             [
              1,
              "#f0f921"
             ]
            ],
            "type": "heatmap"
           }
          ],
          "heatmapgl": [
           {
            "colorbar": {
             "outlinewidth": 0,
             "ticks": ""
            },
            "colorscale": [
             [
              0,
              "#0d0887"
             ],
             [
              0.1111111111111111,
              "#46039f"
             ],
             [
              0.2222222222222222,
              "#7201a8"
             ],
             [
              0.3333333333333333,
              "#9c179e"
             ],
             [
              0.4444444444444444,
              "#bd3786"
             ],
             [
              0.5555555555555556,
              "#d8576b"
             ],
             [
              0.6666666666666666,
              "#ed7953"
             ],
             [
              0.7777777777777778,
              "#fb9f3a"
             ],
             [
              0.8888888888888888,
              "#fdca26"
             ],
             [
              1,
              "#f0f921"
             ]
            ],
            "type": "heatmapgl"
           }
          ],
          "histogram": [
           {
            "marker": {
             "colorbar": {
              "outlinewidth": 0,
              "ticks": ""
             }
            },
            "type": "histogram"
           }
          ],
          "histogram2d": [
           {
            "colorbar": {
             "outlinewidth": 0,
             "ticks": ""
            },
            "colorscale": [
             [
              0,
              "#0d0887"
             ],
             [
              0.1111111111111111,
              "#46039f"
             ],
             [
              0.2222222222222222,
              "#7201a8"
             ],
             [
              0.3333333333333333,
              "#9c179e"
             ],
             [
              0.4444444444444444,
              "#bd3786"
             ],
             [
              0.5555555555555556,
              "#d8576b"
             ],
             [
              0.6666666666666666,
              "#ed7953"
             ],
             [
              0.7777777777777778,
              "#fb9f3a"
             ],
             [
              0.8888888888888888,
              "#fdca26"
             ],
             [
              1,
              "#f0f921"
             ]
            ],
            "type": "histogram2d"
           }
          ],
          "histogram2dcontour": [
           {
            "colorbar": {
             "outlinewidth": 0,
             "ticks": ""
            },
            "colorscale": [
             [
              0,
              "#0d0887"
             ],
             [
              0.1111111111111111,
              "#46039f"
             ],
             [
              0.2222222222222222,
              "#7201a8"
             ],
             [
              0.3333333333333333,
              "#9c179e"
             ],
             [
              0.4444444444444444,
              "#bd3786"
             ],
             [
              0.5555555555555556,
              "#d8576b"
             ],
             [
              0.6666666666666666,
              "#ed7953"
             ],
             [
              0.7777777777777778,
              "#fb9f3a"
             ],
             [
              0.8888888888888888,
              "#fdca26"
             ],
             [
              1,
              "#f0f921"
             ]
            ],
            "type": "histogram2dcontour"
           }
          ],
          "mesh3d": [
           {
            "colorbar": {
             "outlinewidth": 0,
             "ticks": ""
            },
            "type": "mesh3d"
           }
          ],
          "parcoords": [
           {
            "line": {
             "colorbar": {
              "outlinewidth": 0,
              "ticks": ""
             }
            },
            "type": "parcoords"
           }
          ],
          "pie": [
           {
            "automargin": true,
            "type": "pie"
           }
          ],
          "scatter": [
           {
            "marker": {
             "colorbar": {
              "outlinewidth": 0,
              "ticks": ""
             }
            },
            "type": "scatter"
           }
          ],
          "scatter3d": [
           {
            "line": {
             "colorbar": {
              "outlinewidth": 0,
              "ticks": ""
             }
            },
            "marker": {
             "colorbar": {
              "outlinewidth": 0,
              "ticks": ""
             }
            },
            "type": "scatter3d"
           }
          ],
          "scattercarpet": [
           {
            "marker": {
             "colorbar": {
              "outlinewidth": 0,
              "ticks": ""
             }
            },
            "type": "scattercarpet"
           }
          ],
          "scattergeo": [
           {
            "marker": {
             "colorbar": {
              "outlinewidth": 0,
              "ticks": ""
             }
            },
            "type": "scattergeo"
           }
          ],
          "scattergl": [
           {
            "marker": {
             "colorbar": {
              "outlinewidth": 0,
              "ticks": ""
             }
            },
            "type": "scattergl"
           }
          ],
          "scattermapbox": [
           {
            "marker": {
             "colorbar": {
              "outlinewidth": 0,
              "ticks": ""
             }
            },
            "type": "scattermapbox"
           }
          ],
          "scatterpolar": [
           {
            "marker": {
             "colorbar": {
              "outlinewidth": 0,
              "ticks": ""
             }
            },
            "type": "scatterpolar"
           }
          ],
          "scatterpolargl": [
           {
            "marker": {
             "colorbar": {
              "outlinewidth": 0,
              "ticks": ""
             }
            },
            "type": "scatterpolargl"
           }
          ],
          "scatterternary": [
           {
            "marker": {
             "colorbar": {
              "outlinewidth": 0,
              "ticks": ""
             }
            },
            "type": "scatterternary"
           }
          ],
          "surface": [
           {
            "colorbar": {
             "outlinewidth": 0,
             "ticks": ""
            },
            "colorscale": [
             [
              0,
              "#0d0887"
             ],
             [
              0.1111111111111111,
              "#46039f"
             ],
             [
              0.2222222222222222,
              "#7201a8"
             ],
             [
              0.3333333333333333,
              "#9c179e"
             ],
             [
              0.4444444444444444,
              "#bd3786"
             ],
             [
              0.5555555555555556,
              "#d8576b"
             ],
             [
              0.6666666666666666,
              "#ed7953"
             ],
             [
              0.7777777777777778,
              "#fb9f3a"
             ],
             [
              0.8888888888888888,
              "#fdca26"
             ],
             [
              1,
              "#f0f921"
             ]
            ],
            "type": "surface"
           }
          ],
          "table": [
           {
            "cells": {
             "fill": {
              "color": "#EBF0F8"
             },
             "line": {
              "color": "white"
             }
            },
            "header": {
             "fill": {
              "color": "#C8D4E3"
             },
             "line": {
              "color": "white"
             }
            },
            "type": "table"
           }
          ]
         },
         "layout": {
          "annotationdefaults": {
           "arrowcolor": "#2a3f5f",
           "arrowhead": 0,
           "arrowwidth": 1
          },
          "coloraxis": {
           "colorbar": {
            "outlinewidth": 0,
            "ticks": ""
           }
          },
          "colorscale": {
           "diverging": [
            [
             0,
             "#8e0152"
            ],
            [
             0.1,
             "#c51b7d"
            ],
            [
             0.2,
             "#de77ae"
            ],
            [
             0.3,
             "#f1b6da"
            ],
            [
             0.4,
             "#fde0ef"
            ],
            [
             0.5,
             "#f7f7f7"
            ],
            [
             0.6,
             "#e6f5d0"
            ],
            [
             0.7,
             "#b8e186"
            ],
            [
             0.8,
             "#7fbc41"
            ],
            [
             0.9,
             "#4d9221"
            ],
            [
             1,
             "#276419"
            ]
           ],
           "sequential": [
            [
             0,
             "#0d0887"
            ],
            [
             0.1111111111111111,
             "#46039f"
            ],
            [
             0.2222222222222222,
             "#7201a8"
            ],
            [
             0.3333333333333333,
             "#9c179e"
            ],
            [
             0.4444444444444444,
             "#bd3786"
            ],
            [
             0.5555555555555556,
             "#d8576b"
            ],
            [
             0.6666666666666666,
             "#ed7953"
            ],
            [
             0.7777777777777778,
             "#fb9f3a"
            ],
            [
             0.8888888888888888,
             "#fdca26"
            ],
            [
             1,
             "#f0f921"
            ]
           ],
           "sequentialminus": [
            [
             0,
             "#0d0887"
            ],
            [
             0.1111111111111111,
             "#46039f"
            ],
            [
             0.2222222222222222,
             "#7201a8"
            ],
            [
             0.3333333333333333,
             "#9c179e"
            ],
            [
             0.4444444444444444,
             "#bd3786"
            ],
            [
             0.5555555555555556,
             "#d8576b"
            ],
            [
             0.6666666666666666,
             "#ed7953"
            ],
            [
             0.7777777777777778,
             "#fb9f3a"
            ],
            [
             0.8888888888888888,
             "#fdca26"
            ],
            [
             1,
             "#f0f921"
            ]
           ]
          },
          "colorway": [
           "#636efa",
           "#EF553B",
           "#00cc96",
           "#ab63fa",
           "#FFA15A",
           "#19d3f3",
           "#FF6692",
           "#B6E880",
           "#FF97FF",
           "#FECB52"
          ],
          "font": {
           "color": "#2a3f5f"
          },
          "geo": {
           "bgcolor": "white",
           "lakecolor": "white",
           "landcolor": "#E5ECF6",
           "showlakes": true,
           "showland": true,
           "subunitcolor": "white"
          },
          "hoverlabel": {
           "align": "left"
          },
          "hovermode": "closest",
          "mapbox": {
           "style": "light"
          },
          "paper_bgcolor": "white",
          "plot_bgcolor": "#E5ECF6",
          "polar": {
           "angularaxis": {
            "gridcolor": "white",
            "linecolor": "white",
            "ticks": ""
           },
           "bgcolor": "#E5ECF6",
           "radialaxis": {
            "gridcolor": "white",
            "linecolor": "white",
            "ticks": ""
           }
          },
          "scene": {
           "xaxis": {
            "backgroundcolor": "#E5ECF6",
            "gridcolor": "white",
            "gridwidth": 2,
            "linecolor": "white",
            "showbackground": true,
            "ticks": "",
            "zerolinecolor": "white"
           },
           "yaxis": {
            "backgroundcolor": "#E5ECF6",
            "gridcolor": "white",
            "gridwidth": 2,
            "linecolor": "white",
            "showbackground": true,
            "ticks": "",
            "zerolinecolor": "white"
           },
           "zaxis": {
            "backgroundcolor": "#E5ECF6",
            "gridcolor": "white",
            "gridwidth": 2,
            "linecolor": "white",
            "showbackground": true,
            "ticks": "",
            "zerolinecolor": "white"
           }
          },
          "shapedefaults": {
           "line": {
            "color": "#2a3f5f"
           }
          },
          "ternary": {
           "aaxis": {
            "gridcolor": "white",
            "linecolor": "white",
            "ticks": ""
           },
           "baxis": {
            "gridcolor": "white",
            "linecolor": "white",
            "ticks": ""
           },
           "bgcolor": "#E5ECF6",
           "caxis": {
            "gridcolor": "white",
            "linecolor": "white",
            "ticks": ""
           }
          },
          "title": {
           "x": 0.05
          },
          "xaxis": {
           "automargin": true,
           "gridcolor": "white",
           "linecolor": "white",
           "ticks": "",
           "title": {
            "standoff": 15
           },
           "zerolinecolor": "white",
           "zerolinewidth": 2
          },
          "yaxis": {
           "automargin": true,
           "gridcolor": "white",
           "linecolor": "white",
           "ticks": "",
           "title": {
            "standoff": 15
           },
           "zerolinecolor": "white",
           "zerolinewidth": 2
          }
         }
        },
        "title": {
         "text": "Mean neg. LL on first presentation (semantic)"
        },
        "width": 1200,
        "xaxis": {
         "anchor": "y",
         "autorange": true,
         "domain": [
          0,
          1
         ],
         "range": [
          -0.7489592566118657,
          2.6709978556111507
         ],
         "title": {
          "text": "set size (n. tokens)"
         },
         "type": "category"
        },
        "yaxis": {
         "anchor": "x",
         "autorange": true,
         "domain": [
          0,
          1
         ],
         "range": [
          3.31184418728366,
          11.714258846624684
         ],
         "title": {
          "text": "average -log LL"
         },
         "type": "linear"
        }
       }
      },
      "image/png": "[encoded data removed]",
      "text/html": [
       "<div>                            <div id=\"51d23619-8362-4aa2-b398-f77747da9d98\" class=\"plotly-graph-div\" style=\"height:500px; width:1200px;\"></div>            <script type=\"text/javascript\">                require([\"plotly\"], function(Plotly) {                    window.PLOTLYENV=window.PLOTLYENV || {};                                    if (document.getElementById(\"51d23619-8362-4aa2-b398-f77747da9d98\")) {                    Plotly.newPlot(                        \"51d23619-8362-4aa2-b398-f77747da9d98\",                        [{\"alignmentgroup\": \"True\", \"boxpoints\": \"all\", \"customdata\": [[[\"window\", \" door\", \" roof\"]], [[\"leg\", \" arms\", \" head\"]], [[\"s\", \"ail\", \"boat\", \" destroyer\", \" battles\", \"hip\"]], [[\"ro\", \"bin\", \" sp\", \"arrow\", \" her\", \"on\"]], [[\"apple\", \" t\", \"angelo\", \" pear\"]], [[\"hammer\", \" saw\", \" nails\"]], [[\"hur\", \"ricane\", \" tornado\", \" rain\"]], [[\"oxy\", \"gen\", \" hydrogen\", \" nitrogen\"]], [[\"john\", \" bob\", \" bill\"]], [[\"chem\", \"istry\", \" physics\", \" psychology\"]], [[\"ch\", \"icago\", \" hel\", \"s\", \"inki\", \" tor\", \"onto\"]], [[\"p\", \"iano\", \" drum\", \" trumpet\"]], [[\"knife\", \" spoon\", \" fork\"]], [[\"ford\", \" che\", \"v\", \"rolet\", \" pont\", \"iac\"]], [[\"tr\", \"out\", \" gu\", \"pp\", \"ie\", \" shark\"]], [[\"football\", \" baseball\", \" basketball\"]], [[\"doctor\", \" lawyer\", \" teacher\"]], [[\"oak\", \" maple\", \" pine\"]], [[\"shirt\", \" socks\", \" pants\"]], [[\"cancer\", \" measles\", \" tuberculosis\"]], [[\"wall\", \" floor\", \" ceiling\", \" room\", \" basement\"]], [[\"eye\", \" foot\", \" nose\", \" finger\", \" ear\"]], [[\"cru\", \"iser\", \" submarine\", \" row\", \"boat\", \" yacht\", \" canoe\"]], [[\"e\", \"agle\", \" crow\", \" can\", \"ary\", \" par\", \"ake\", \"et\", \" hawk\"]], [[\"ban\", \"ana\", \" peach\", \" grape\", \" cherry\", \" plum\"]], [[\"level\", \" plane\", \" ch\", \"isel\", \" ruler\", \" wrench\"]], [[\"s\", \"now\", \" hail\", \" sle\", \"et\", \" storm\", \" wind\"]], [[\"carbon\", \" sodium\", \" k\", \"rypt\", \"on\", \" sulph\", \"ur\", \" helium\"]], [[\"j\", \"im\", \" tom\", \" jo\", \"e\", \" dick\", \" m\", \"ike\"]], [[\"biology\", \" zo\", \"ology\", \" bot\", \"any\", \" astronomy\", \" mathematics\"]], [[\"l\", \"ondon\", \" par\", \"is\", \" m\", \"iami\", \" b\", \"oston\", \" phil\", \"adelphia\"]], [[\"viol\", \"in\", \" clar\", \"inet\", \" fl\", \"ute\", \" guitar\", \" sax\", \"ophone\"]], [[\"pan\", \" pot\", \" spat\", \"ula\", \" stove\", \" bowl\"]], [[\"old\", \"sm\", \"obile\", \" bu\", \"ick\", \" cad\", \"illac\", \" dodge\", \" ch\", \"rys\", \"ler\"]], [[\"her\", \"ring\", \" per\", \"ch\", \" salmon\", \" tuna\", \" gold\", \"fish\"]], [[\"ten\", \"nis\", \" swimming\", \" soccer\", \" golf\", \" hockey\"]], [[\"d\", \"ent\", \"ist\", \" engineer\", \" professor\", \" car\", \"penter\", \" salesman\"]], [[\"el\", \"m\", \" bir\", \"ch\", \" l\", \"ind\", \"en\", \" sp\", \"ruce\", \" red\", \"wood\"]], [[\"sh\", \"oes\", \" bl\", \"ouse\", \" skirt\", \" coat\", \" dress\"]], [[\"m\", \"umps\", \" polio\", \" chicken\", \"pox\", \" malaria\", \" leukemia\"]], [[\"he\", \"arth\", \" hall\", \" corridor\", \" elevator\", \" chim\", \"ney\", \" foundation\", \" step\", \" stair\", \"way\", \" attic\", \" cup\", \"board\"]], [[\"hand\", \" toe\", \" mouth\", \" stomach\", \" hair\", \" neck\", \" heart\", \" knee\", \" chest\", \" liver\"]], [[\"fre\", \"ighter\", \" tug\", \"boat\", \" ste\", \"ams\", \"hip\", \" sch\", \"oon\", \"er\", \" liner\", \" motor\", \"boat\", \" c\", \"arg\", \"os\", \"hip\", \" cl\", \"ippers\", \"hip\", \" tanker\", \" b\", \"arge\"]], [[\"black\", \"bird\", \" w\", \"ren\", \" ori\", \"ole\", \" par\", \"rot\", \" pigeon\", \" star\", \"ling\", \" wood\", \"pe\", \"cker\", \" v\", \"ulture\", \" swallow\", \" chicken\"]], [[\"g\", \"rape\", \"fruit\", \" lemon\", \" t\", \"anger\", \"ine\", \" apr\", \"ic\", \"ot\", \" pineapple\", \" lime\", \" strawberry\", \" black\", \"berry\", \" water\", \"melon\", \" pr\", \"unes\"]], [[\"pl\", \"iers\", \" drill\", \" screws\", \" punch\", \" square\", \" file\", \" lat\", \"he\", \" sand\", \"paper\", \" aw\", \"l\", \" s\", \"ander\"]], [[\"cycl\", \"one\", \" clouds\", \" sunshine\", \" lightning\", \" typh\", \"oon\", \" thunder\", \" sm\", \"og\", \" bl\", \"izzard\", \" fog\", \" mon\", \"soon\"]], [[\"chlor\", \"ine\", \" calcium\", \" potassium\", \" magnesium\", \" uranium\", \" lead\", \" aluminum\", \" zinc\", \" phosphorus\", \" xen\", \"on\"]], [[\"ge\", \"orge\", \" jack\", \" har\", \"ry\", \" ste\", \"ve\", \" l\", \"arry\", \" frank\", \" p\", \"aul\", \" sam\", \" d\", \"ave\", \" f\", \"red\"]], [[\"ge\", \"ology\", \" microbi\", \"ology\", \" sociology\", \" ent\", \"om\", \"ology\", \" medicine\", \" engineering\", \" bi\", \"ochemistry\", \" meteor\", \"ology\", \" physiology\", \" anatomy\"]], [[\"det\", \"roit\", \" d\", \"allas\", \" r\", \"ome\", \" bomb\", \"ay\", \" cle\", \"veland\", \" p\", \"itt\", \"sburgh\", \" den\", \"ver\", \" mont\", \"real\", \" to\", \"ky\", \"o\", \" mos\", \"cow\"]], [[\"t\", \"rom\", \"bone\", \" ob\", \"oe\", \" tub\", \"a\", \" har\", \"p\", \" cell\", \"o\", \" ban\", \"jo\", \" k\", \"az\", \"oo\", \" mar\", \"im\", \"ba\", \" viol\", \"a\", \" pic\", \"colo\"]], [[\"mix\", \"er\", \" cup\", \" dish\", \" be\", \"ater\", \" plate\", \" skillet\", \" refrigerator\", \" fry\", \"pan\", \" glass\", \" to\", \"aster\"]], [[\"ply\", \"mouth\", \" vol\", \"ks\", \"wagen\", \" r\", \"amb\", \"ler\", \" op\", \"el\", \" mer\", \"cedes\", \" fiat\", \" f\", \"err\", \"ari\", \" audi\", \" cor\", \"vette\", \" triumph\"]], [[\"sun\", \"fish\", \" cod\", \" blue\", \"g\", \"ill\", \" carp\", \" p\", \"ike\", \" min\", \"now\", \" gu\", \"ppy\", \" fl\", \"ound\", \"er\", \" mar\", \"lin\", \" bar\", \"rac\", \"uda\"]], [[\"sn\", \"ork\", \"ling\", \" lac\", \"rosse\", \" bad\", \"m\", \"inton\", \" bowling\", \" wrestling\", \" ar\", \"chery\", \" skiing\", \" fencing\", \" fishing\", \" hand\", \"ball\"]], [[\"n\", \"urse\", \" psychologist\", \" pl\", \"umber\", \" accountant\", \" businessman\", \" scientist\", \" clerk\", \" farmer\", \" under\", \"writer\", \" policeman\"]], [[\"wal\", \"nut\", \" fir\", \" h\", \"ick\", \"ory\", \" sy\", \"cam\", \"ore\", \" ash\", \" pop\", \"lar\", \" will\", \"ow\", \" chest\", \"nut\", \" c\", \"edar\", \" ever\", \"green\"]], [[\"hat\", \" sweater\", \" tie\", \" slip\", \" jacket\", \" sl\", \"acks\", \" gloves\", \" belt\", \" underwear\", \" shorts\"]], [[\"p\", \"neum\", \"onia\", \" small\", \"pox\", \" influenza\", \" en\", \"cephal\", \"itis\", \" le\", \"pro\", \"sy\", \" sy\", \"ph\", \"ill\", \"is\", \" hepatitis\", \" typh\", \"oid\", \" r\", \"ickets\", \" diabetes\"]]], \"hovertemplate\": \"prompt=1) short (~8 tok)<br>set size (n. tokens)=%{x}<br>average -log LL=%{y}<br>token_list=%{customdata[0]}<extra></extra>\", \"legendgroup\": \"1) short (~8 tok)\", \"marker\": {\"color\": \"#636efa\"}, \"name\": \"1) short (~8 tok)\", \"notched\": false, \"offsetgroup\": \"1) short (~8 tok)\", \"orientation\": \"v\", \"showlegend\": true, \"type\": \"box\", \"x\": [3, 3, 3, 3, 3, 3, 3, 3, 3, 3, 3, 3, 3, 3, 3, 3, 3, 3, 3, 3, 5, 5, 5, 5, 5, 5, 5, 5, 5, 5, 5, 5, 5, 5, 5, 5, 5, 5, 5, 5, 10, 10, 10, 10, 10, 10, 10, 10, 10, 10, 10, 10, 10, 10, 10, 10, 10, 10, 10, 10], \"x0\": \" \", \"xaxis\": \"x\", \"y\": [9.95686340332031, 9.600722630818685, 6.173808966530487, 6.229691465695699, 8.879740953445435, 11.294138113657633, 7.511471152305603, 6.425338506698608, 10.474563280741373, 6.771621257066727, 6.727224860872541, 7.4400715827941895, 9.750870704650879, 7.782977263132731, 7.516388018925984, 7.6382246017456055, 8.62405021985372, 9.851209958394369, 8.396915833155314, 9.10417898495992, 7.545794248580933, 6.784128665924072, 7.263020890099662, 5.525362637307909, 5.845008850097656, 8.978253364562988, 5.272258592503412, 5.624486453831196, 5.776320308446884, 5.174759538844228, 5.839649623632431, 4.273133387168248, 7.517357230186462, 5.981443654407155, 6.873644593171775, 7.122708837191264, 5.966716242022812, 4.86922255971215, 6.28488506589617, 6.59718074968883, 6.145661402094577, 6.643749856948853, 4.511551569927099, 5.174310375418928, 3.7319649202507112, 6.2659430285294855, 5.343918574353059, 5.109691108266513, 4.86385096171323, 4.538606130721746, 4.881722458722916, 3.975525588526026, 6.437095006661756, 6.416984399780631, 4.597339294850826, 5.436777895699968, 6.241249148662273, 4.438442883745301, 6.295318625190041, 4.133783424868439], \"y0\": \" \", \"yaxis\": \"y\"}, {\"alignmentgroup\": \"True\", \"boxpoints\": \"all\", \"customdata\": [[[\"window\", \" door\", \" roof\"]], [[\"leg\", \" arms\", \" head\"]], [[\"s\", \"ail\", \"boat\", \" destroyer\", \" battles\", \"hip\"]], [[\"ro\", \"bin\", \" sp\", \"arrow\", \" her\", \"on\"]], [[\"apple\", \" t\", \"angelo\", \" pear\"]], [[\"hammer\", \" saw\", \" nails\"]], [[\"hur\", \"ricane\", \" tornado\", \" rain\"]], [[\"oxy\", \"gen\", \" hydrogen\", \" nitrogen\"]], [[\"john\", \" bob\", \" bill\"]], [[\"chem\", \"istry\", \" physics\", \" psychology\"]], [[\"ch\", \"icago\", \" hel\", \"s\", \"inki\", \" tor\", \"onto\"]], [[\"p\", \"iano\", \" drum\", \" trumpet\"]], [[\"knife\", \" spoon\", \" fork\"]], [[\"ford\", \" che\", \"v\", \"rolet\", \" pont\", \"iac\"]], [[\"tr\", \"out\", \" gu\", \"pp\", \"ie\", \" shark\"]], [[\"football\", \" baseball\", \" basketball\"]], [[\"doctor\", \" lawyer\", \" teacher\"]], [[\"oak\", \" maple\", \" pine\"]], [[\"shirt\", \" socks\", \" pants\"]], [[\"cancer\", \" measles\", \" tuberculosis\"]], [[\"wall\", \" floor\", \" ceiling\", \" room\", \" basement\"]], [[\"eye\", \" foot\", \" nose\", \" finger\", \" ear\"]], [[\"cru\", \"iser\", \" submarine\", \" row\", \"boat\", \" yacht\", \" canoe\"]], [[\"e\", \"agle\", \" crow\", \" can\", \"ary\", \" par\", \"ake\", \"et\", \" hawk\"]], [[\"ban\", \"ana\", \" peach\", \" grape\", \" cherry\", \" plum\"]], [[\"level\", \" plane\", \" ch\", \"isel\", \" ruler\", \" wrench\"]], [[\"s\", \"now\", \" hail\", \" sle\", \"et\", \" storm\", \" wind\"]], [[\"carbon\", \" sodium\", \" k\", \"rypt\", \"on\", \" sulph\", \"ur\", \" helium\"]], [[\"j\", \"im\", \" tom\", \" jo\", \"e\", \" dick\", \" m\", \"ike\"]], [[\"biology\", \" zo\", \"ology\", \" bot\", \"any\", \" astronomy\", \" mathematics\"]], [[\"l\", \"ondon\", \" par\", \"is\", \" m\", \"iami\", \" b\", \"oston\", \" phil\", \"adelphia\"]], [[\"viol\", \"in\", \" clar\", \"inet\", \" fl\", \"ute\", \" guitar\", \" sax\", \"ophone\"]], [[\"pan\", \" pot\", \" spat\", \"ula\", \" stove\", \" bowl\"]], [[\"old\", \"sm\", \"obile\", \" bu\", \"ick\", \" cad\", \"illac\", \" dodge\", \" ch\", \"rys\", \"ler\"]], [[\"her\", \"ring\", \" per\", \"ch\", \" salmon\", \" tuna\", \" gold\", \"fish\"]], [[\"ten\", \"nis\", \" swimming\", \" soccer\", \" golf\", \" hockey\"]], [[\"d\", \"ent\", \"ist\", \" engineer\", \" professor\", \" car\", \"penter\", \" salesman\"]], [[\"el\", \"m\", \" bir\", \"ch\", \" l\", \"ind\", \"en\", \" sp\", \"ruce\", \" red\", \"wood\"]], [[\"sh\", \"oes\", \" bl\", \"ouse\", \" skirt\", \" coat\", \" dress\"]], [[\"m\", \"umps\", \" polio\", \" chicken\", \"pox\", \" malaria\", \" leukemia\"]], [[\"he\", \"arth\", \" hall\", \" corridor\", \" elevator\", \" chim\", \"ney\", \" foundation\", \" step\", \" stair\", \"way\", \" attic\", \" cup\", \"board\"]], [[\"hand\", \" toe\", \" mouth\", \" stomach\", \" hair\", \" neck\", \" heart\", \" knee\", \" chest\", \" liver\"]], [[\"fre\", \"ighter\", \" tug\", \"boat\", \" ste\", \"ams\", \"hip\", \" sch\", \"oon\", \"er\", \" liner\", \" motor\", \"boat\", \" c\", \"arg\", \"os\", \"hip\", \" cl\", \"ippers\", \"hip\", \" tanker\", \" b\", \"arge\"]], [[\"black\", \"bird\", \" w\", \"ren\", \" ori\", \"ole\", \" par\", \"rot\", \" pigeon\", \" star\", \"ling\", \" wood\", \"pe\", \"cker\", \" v\", \"ulture\", \" swallow\", \" chicken\"]], [[\"g\", \"rape\", \"fruit\", \" lemon\", \" t\", \"anger\", \"ine\", \" apr\", \"ic\", \"ot\", \" pineapple\", \" lime\", \" strawberry\", \" black\", \"berry\", \" water\", \"melon\", \" pr\", \"unes\"]], [[\"pl\", \"iers\", \" drill\", \" screws\", \" punch\", \" square\", \" file\", \" lat\", \"he\", \" sand\", \"paper\", \" aw\", \"l\", \" s\", \"ander\"]], [[\"cycl\", \"one\", \" clouds\", \" sunshine\", \" lightning\", \" typh\", \"oon\", \" thunder\", \" sm\", \"og\", \" bl\", \"izzard\", \" fog\", \" mon\", \"soon\"]], [[\"chlor\", \"ine\", \" calcium\", \" potassium\", \" magnesium\", \" uranium\", \" lead\", \" aluminum\", \" zinc\", \" phosphorus\", \" xen\", \"on\"]], [[\"ge\", \"orge\", \" jack\", \" har\", \"ry\", \" ste\", \"ve\", \" l\", \"arry\", \" frank\", \" p\", \"aul\", \" sam\", \" d\", \"ave\", \" f\", \"red\"]], [[\"ge\", \"ology\", \" microbi\", \"ology\", \" sociology\", \" ent\", \"om\", \"ology\", \" medicine\", \" engineering\", \" bi\", \"ochemistry\", \" meteor\", \"ology\", \" physiology\", \" anatomy\"]], [[\"det\", \"roit\", \" d\", \"allas\", \" r\", \"ome\", \" bomb\", \"ay\", \" cle\", \"veland\", \" p\", \"itt\", \"sburgh\", \" den\", \"ver\", \" mont\", \"real\", \" to\", \"ky\", \"o\", \" mos\", \"cow\"]], [[\"t\", \"rom\", \"bone\", \" ob\", \"oe\", \" tub\", \"a\", \" har\", \"p\", \" cell\", \"o\", \" ban\", \"jo\", \" k\", \"az\", \"oo\", \" mar\", \"im\", \"ba\", \" viol\", \"a\", \" pic\", \"colo\"]], [[\"mix\", \"er\", \" cup\", \" dish\", \" be\", \"ater\", \" plate\", \" skillet\", \" refrigerator\", \" fry\", \"pan\", \" glass\", \" to\", \"aster\"]], [[\"ply\", \"mouth\", \" vol\", \"ks\", \"wagen\", \" r\", \"amb\", \"ler\", \" op\", \"el\", \" mer\", \"cedes\", \" fiat\", \" f\", \"err\", \"ari\", \" audi\", \" cor\", \"vette\", \" triumph\"]], [[\"sun\", \"fish\", \" cod\", \" blue\", \"g\", \"ill\", \" carp\", \" p\", \"ike\", \" min\", \"now\", \" gu\", \"ppy\", \" fl\", \"ound\", \"er\", \" mar\", \"lin\", \" bar\", \"rac\", \"uda\"]], [[\"sn\", \"ork\", \"ling\", \" lac\", \"rosse\", \" bad\", \"m\", \"inton\", \" bowling\", \" wrestling\", \" ar\", \"chery\", \" skiing\", \" fencing\", \" fishing\", \" hand\", \"ball\"]], [[\"n\", \"urse\", \" psychologist\", \" pl\", \"umber\", \" accountant\", \" businessman\", \" scientist\", \" clerk\", \" farmer\", \" under\", \"writer\", \" policeman\"]], [[\"wal\", \"nut\", \" fir\", \" h\", \"ick\", \"ory\", \" sy\", \"cam\", \"ore\", \" ash\", \" pop\", \"lar\", \" will\", \"ow\", \" chest\", \"nut\", \" c\", \"edar\", \" ever\", \"green\"]], [[\"hat\", \" sweater\", \" tie\", \" slip\", \" jacket\", \" sl\", \"acks\", \" gloves\", \" belt\", \" underwear\", \" shorts\"]], [[\"p\", \"neum\", \"onia\", \" small\", \"pox\", \" influenza\", \" en\", \"cephal\", \"itis\", \" le\", \"pro\", \"sy\", \" sy\", \"ph\", \"ill\", \"is\", \" hepatitis\", \" typh\", \"oid\", \" r\", \"ickets\", \" diabetes\"]]], \"hovertemplate\": \"prompt=2) mid (~30 tok)<br>set size (n. tokens)=%{x}<br>average -log LL=%{y}<br>token_list=%{customdata[0]}<extra></extra>\", \"legendgroup\": \"2) mid (~30 tok)\", \"marker\": {\"color\": \"#EF553B\"}, \"name\": \"2) mid (~30 tok)\", \"notched\": false, \"offsetgroup\": \"2) mid (~30 tok)\", \"orientation\": \"v\", \"showlegend\": true, \"type\": \"box\", \"x\": [3, 3, 3, 3, 3, 3, 3, 3, 3, 3, 3, 3, 3, 3, 3, 3, 3, 3, 3, 3, 5, 5, 5, 5, 5, 5, 5, 5, 5, 5, 5, 5, 5, 5, 5, 5, 5, 5, 5, 5, 10, 10, 10, 10, 10, 10, 10, 10, 10, 10, 10, 10, 10, 10, 10, 10, 10, 10, 10, 10], \"x0\": \" \", \"xaxis\": \"x\", \"y\": [9.95686340332031, 9.600722630818685, 6.173808966530487, 6.229691465695699, 8.879740953445435, 11.294138113657633, 7.511471152305603, 6.425338506698608, 10.474563280741373, 6.771621257066727, 6.727224860872541, 7.4400715827941895, 9.750870704650879, 7.782977263132731, 7.516388018925984, 7.6382246017456055, 8.62405021985372, 9.851209958394369, 8.396915833155314, 9.10417898495992, 7.545794248580933, 6.784128665924072, 7.263020890099662, 5.525362637307909, 5.845008850097656, 8.978253364562988, 5.272258592503412, 5.624486453831196, 5.776320308446884, 5.174759538844228, 5.839649623632431, 4.273133387168248, 7.517357230186462, 5.981443654407155, 6.873644593171775, 7.122708837191264, 5.966716242022812, 4.86922255971215, 6.28488506589617, 6.59718074968883, 6.145661402094577, 6.643749856948853, 4.511551569927099, 5.174310375418928, 3.7319649202507112, 6.2659430285294855, 5.343918574353059, 5.109691108266513, 4.86385096171323, 4.538606130721746, 4.881722458722916, 3.975525588526026, 6.437095006661756, 6.416984399780631, 4.597339294850826, 5.436777895699968, 6.241249148662273, 4.438442883745301, 6.295318625190041, 4.133783424868439], \"y0\": \" \", \"yaxis\": \"y\"}, {\"alignmentgroup\": \"True\", \"boxpoints\": \"all\", \"customdata\": [[[\"window\", \" door\", \" roof\"]], [[\"leg\", \" arms\", \" head\"]], [[\"s\", \"ail\", \"boat\", \" destroyer\", \" battles\", \"hip\"]], [[\"ro\", \"bin\", \" sp\", \"arrow\", \" her\", \"on\"]], [[\"apple\", \" t\", \"angelo\", \" pear\"]], [[\"hammer\", \" saw\", \" nails\"]], [[\"hur\", \"ricane\", \" tornado\", \" rain\"]], [[\"oxy\", \"gen\", \" hydrogen\", \" nitrogen\"]], [[\"john\", \" bob\", \" bill\"]], [[\"chem\", \"istry\", \" physics\", \" psychology\"]], [[\"ch\", \"icago\", \" hel\", \"s\", \"inki\", \" tor\", \"onto\"]], [[\"p\", \"iano\", \" drum\", \" trumpet\"]], [[\"knife\", \" spoon\", \" fork\"]], [[\"ford\", \" che\", \"v\", \"rolet\", \" pont\", \"iac\"]], [[\"tr\", \"out\", \" gu\", \"pp\", \"ie\", \" shark\"]], [[\"football\", \" baseball\", \" basketball\"]], [[\"doctor\", \" lawyer\", \" teacher\"]], [[\"oak\", \" maple\", \" pine\"]], [[\"shirt\", \" socks\", \" pants\"]], [[\"cancer\", \" measles\", \" tuberculosis\"]], [[\"wall\", \" floor\", \" ceiling\", \" room\", \" basement\"]], [[\"eye\", \" foot\", \" nose\", \" finger\", \" ear\"]], [[\"cru\", \"iser\", \" submarine\", \" row\", \"boat\", \" yacht\", \" canoe\"]], [[\"e\", \"agle\", \" crow\", \" can\", \"ary\", \" par\", \"ake\", \"et\", \" hawk\"]], [[\"ban\", \"ana\", \" peach\", \" grape\", \" cherry\", \" plum\"]], [[\"level\", \" plane\", \" ch\", \"isel\", \" ruler\", \" wrench\"]], [[\"s\", \"now\", \" hail\", \" sle\", \"et\", \" storm\", \" wind\"]], [[\"carbon\", \" sodium\", \" k\", \"rypt\", \"on\", \" sulph\", \"ur\", \" helium\"]], [[\"j\", \"im\", \" tom\", \" jo\", \"e\", \" dick\", \" m\", \"ike\"]], [[\"biology\", \" zo\", \"ology\", \" bot\", \"any\", \" astronomy\", \" mathematics\"]], [[\"l\", \"ondon\", \" par\", \"is\", \" m\", \"iami\", \" b\", \"oston\", \" phil\", \"adelphia\"]], [[\"viol\", \"in\", \" clar\", \"inet\", \" fl\", \"ute\", \" guitar\", \" sax\", \"ophone\"]], [[\"pan\", \" pot\", \" spat\", \"ula\", \" stove\", \" bowl\"]], [[\"old\", \"sm\", \"obile\", \" bu\", \"ick\", \" cad\", \"illac\", \" dodge\", \" ch\", \"rys\", \"ler\"]], [[\"her\", \"ring\", \" per\", \"ch\", \" salmon\", \" tuna\", \" gold\", \"fish\"]], [[\"ten\", \"nis\", \" swimming\", \" soccer\", \" golf\", \" hockey\"]], [[\"d\", \"ent\", \"ist\", \" engineer\", \" professor\", \" car\", \"penter\", \" salesman\"]], [[\"el\", \"m\", \" bir\", \"ch\", \" l\", \"ind\", \"en\", \" sp\", \"ruce\", \" red\", \"wood\"]], [[\"sh\", \"oes\", \" bl\", \"ouse\", \" skirt\", \" coat\", \" dress\"]], [[\"m\", \"umps\", \" polio\", \" chicken\", \"pox\", \" malaria\", \" leukemia\"]], [[\"he\", \"arth\", \" hall\", \" corridor\", \" elevator\", \" chim\", \"ney\", \" foundation\", \" step\", \" stair\", \"way\", \" attic\", \" cup\", \"board\"]], [[\"hand\", \" toe\", \" mouth\", \" stomach\", \" hair\", \" neck\", \" heart\", \" knee\", \" chest\", \" liver\"]], [[\"fre\", \"ighter\", \" tug\", \"boat\", \" ste\", \"ams\", \"hip\", \" sch\", \"oon\", \"er\", \" liner\", \" motor\", \"boat\", \" c\", \"arg\", \"os\", \"hip\", \" cl\", \"ippers\", \"hip\", \" tanker\", \" b\", \"arge\"]], [[\"black\", \"bird\", \" w\", \"ren\", \" ori\", \"ole\", \" par\", \"rot\", \" pigeon\", \" star\", \"ling\", \" wood\", \"pe\", \"cker\", \" v\", \"ulture\", \" swallow\", \" chicken\"]], [[\"g\", \"rape\", \"fruit\", \" lemon\", \" t\", \"anger\", \"ine\", \" apr\", \"ic\", \"ot\", \" pineapple\", \" lime\", \" strawberry\", \" black\", \"berry\", \" water\", \"melon\", \" pr\", \"unes\"]], [[\"pl\", \"iers\", \" drill\", \" screws\", \" punch\", \" square\", \" file\", \" lat\", \"he\", \" sand\", \"paper\", \" aw\", \"l\", \" s\", \"ander\"]], [[\"cycl\", \"one\", \" clouds\", \" sunshine\", \" lightning\", \" typh\", \"oon\", \" thunder\", \" sm\", \"og\", \" bl\", \"izzard\", \" fog\", \" mon\", \"soon\"]], [[\"chlor\", \"ine\", \" calcium\", \" potassium\", \" magnesium\", \" uranium\", \" lead\", \" aluminum\", \" zinc\", \" phosphorus\", \" xen\", \"on\"]], [[\"ge\", \"orge\", \" jack\", \" har\", \"ry\", \" ste\", \"ve\", \" l\", \"arry\", \" frank\", \" p\", \"aul\", \" sam\", \" d\", \"ave\", \" f\", \"red\"]], [[\"ge\", \"ology\", \" microbi\", \"ology\", \" sociology\", \" ent\", \"om\", \"ology\", \" medicine\", \" engineering\", \" bi\", \"ochemistry\", \" meteor\", \"ology\", \" physiology\", \" anatomy\"]], [[\"det\", \"roit\", \" d\", \"allas\", \" r\", \"ome\", \" bomb\", \"ay\", \" cle\", \"veland\", \" p\", \"itt\", \"sburgh\", \" den\", \"ver\", \" mont\", \"real\", \" to\", \"ky\", \"o\", \" mos\", \"cow\"]], [[\"t\", \"rom\", \"bone\", \" ob\", \"oe\", \" tub\", \"a\", \" har\", \"p\", \" cell\", \"o\", \" ban\", \"jo\", \" k\", \"az\", \"oo\", \" mar\", \"im\", \"ba\", \" viol\", \"a\", \" pic\", \"colo\"]], [[\"mix\", \"er\", \" cup\", \" dish\", \" be\", \"ater\", \" plate\", \" skillet\", \" refrigerator\", \" fry\", \"pan\", \" glass\", \" to\", \"aster\"]], [[\"ply\", \"mouth\", \" vol\", \"ks\", \"wagen\", \" r\", \"amb\", \"ler\", \" op\", \"el\", \" mer\", \"cedes\", \" fiat\", \" f\", \"err\", \"ari\", \" audi\", \" cor\", \"vette\", \" triumph\"]], [[\"sun\", \"fish\", \" cod\", \" blue\", \"g\", \"ill\", \" carp\", \" p\", \"ike\", \" min\", \"now\", \" gu\", \"ppy\", \" fl\", \"ound\", \"er\", \" mar\", \"lin\", \" bar\", \"rac\", \"uda\"]], [[\"sn\", \"ork\", \"ling\", \" lac\", \"rosse\", \" bad\", \"m\", \"inton\", \" bowling\", \" wrestling\", \" ar\", \"chery\", \" skiing\", \" fencing\", \" fishing\", \" hand\", \"ball\"]], [[\"n\", \"urse\", \" psychologist\", \" pl\", \"umber\", \" accountant\", \" businessman\", \" scientist\", \" clerk\", \" farmer\", \" under\", \"writer\", \" policeman\"]], [[\"wal\", \"nut\", \" fir\", \" h\", \"ick\", \"ory\", \" sy\", \"cam\", \"ore\", \" ash\", \" pop\", \"lar\", \" will\", \"ow\", \" chest\", \"nut\", \" c\", \"edar\", \" ever\", \"green\"]], [[\"hat\", \" sweater\", \" tie\", \" slip\", \" jacket\", \" sl\", \"acks\", \" gloves\", \" belt\", \" underwear\", \" shorts\"]], [[\"p\", \"neum\", \"onia\", \" small\", \"pox\", \" influenza\", \" en\", \"cephal\", \"itis\", \" le\", \"pro\", \"sy\", \" sy\", \"ph\", \"ill\", \"is\", \" hepatitis\", \" typh\", \"oid\", \" r\", \"ickets\", \" diabetes\"]]], \"hovertemplate\": \"prompt=3) long (~60 tok)<br>set size (n. tokens)=%{x}<br>average -log LL=%{y}<br>token_list=%{customdata[0]}<extra></extra>\", \"legendgroup\": \"3) long (~60 tok)\", \"marker\": {\"color\": \"#00cc96\"}, \"name\": \"3) long (~60 tok)\", \"notched\": false, \"offsetgroup\": \"3) long (~60 tok)\", \"orientation\": \"v\", \"showlegend\": true, \"type\": \"box\", \"x\": [3, 3, 3, 3, 3, 3, 3, 3, 3, 3, 3, 3, 3, 3, 3, 3, 3, 3, 3, 3, 5, 5, 5, 5, 5, 5, 5, 5, 5, 5, 5, 5, 5, 5, 5, 5, 5, 5, 5, 5, 10, 10, 10, 10, 10, 10, 10, 10, 10, 10, 10, 10, 10, 10, 10, 10, 10, 10, 10, 10], \"x0\": \" \", \"xaxis\": \"x\", \"y\": [9.95686340332031, 9.600722630818685, 6.173808966530487, 6.229691465695699, 8.879740953445435, 11.294138113657633, 7.511471152305603, 6.425338506698608, 10.474563280741373, 6.771621257066727, 6.727224860872541, 7.4400715827941895, 9.750870704650879, 7.782977263132731, 7.516388018925984, 7.6382246017456055, 8.62405021985372, 9.851209958394369, 8.396915833155314, 9.10417898495992, 7.545794248580933, 6.784128665924072, 7.263020890099662, 5.525362637307909, 5.845008850097656, 8.978253364562988, 5.272258592503412, 5.624486453831196, 5.776320308446884, 5.174759538844228, 5.839649623632431, 4.273133387168248, 7.517357230186462, 5.981443654407155, 6.873644593171775, 7.122708837191264, 5.966716242022812, 4.86922255971215, 6.28488506589617, 6.59718074968883, 6.145661402094577, 6.643749856948853, 4.511551569927099, 5.174310375418928, 3.7319649202507112, 6.2659430285294855, 5.343918574353059, 5.109691108266513, 4.86385096171323, 4.538606130721746, 4.881722458722916, 3.975525588526026, 6.437095006661756, 6.416984399780631, 4.597339294850826, 5.436777895699968, 6.241249148662273, 4.438442883745301, 6.295318625190041, 4.133783424868439], \"y0\": \" \", \"yaxis\": \"y\"}],                        {\"boxmode\": \"group\", \"height\": 500, \"legend\": {\"title\": {\"text\": \"prompt\"}, \"tracegroupgap\": 0}, \"template\": {\"data\": {\"bar\": [{\"error_x\": {\"color\": \"#2a3f5f\"}, \"error_y\": {\"color\": \"#2a3f5f\"}, \"marker\": {\"line\": {\"color\": \"#E5ECF6\", \"width\": 0.5}}, \"type\": \"bar\"}], \"barpolar\": [{\"marker\": {\"line\": {\"color\": \"#E5ECF6\", \"width\": 0.5}}, \"type\": \"barpolar\"}], \"carpet\": [{\"aaxis\": {\"endlinecolor\": \"#2a3f5f\", \"gridcolor\": \"white\", \"linecolor\": \"white\", \"minorgridcolor\": \"white\", \"startlinecolor\": \"#2a3f5f\"}, \"baxis\": {\"endlinecolor\": \"#2a3f5f\", \"gridcolor\": \"white\", \"linecolor\": \"white\", \"minorgridcolor\": \"white\", \"startlinecolor\": \"#2a3f5f\"}, \"type\": \"carpet\"}], \"choropleth\": [{\"colorbar\": {\"outlinewidth\": 0, \"ticks\": \"\"}, \"type\": \"choropleth\"}], \"contour\": [{\"colorbar\": {\"outlinewidth\": 0, \"ticks\": \"\"}, \"colorscale\": [[0.0, \"#0d0887\"], [0.1111111111111111, \"#46039f\"], [0.2222222222222222, \"#7201a8\"], [0.3333333333333333, \"#9c179e\"], [0.4444444444444444, \"#bd3786\"], [0.5555555555555556, \"#d8576b\"], [0.6666666666666666, \"#ed7953\"], [0.7777777777777778, \"#fb9f3a\"], [0.8888888888888888, \"#fdca26\"], [1.0, \"#f0f921\"]], \"type\": \"contour\"}], \"contourcarpet\": [{\"colorbar\": {\"outlinewidth\": 0, \"ticks\": \"\"}, \"type\": \"contourcarpet\"}], \"heatmap\": [{\"colorbar\": {\"outlinewidth\": 0, \"ticks\": \"\"}, \"colorscale\": [[0.0, \"#0d0887\"], [0.1111111111111111, \"#46039f\"], [0.2222222222222222, \"#7201a8\"], [0.3333333333333333, \"#9c179e\"], [0.4444444444444444, \"#bd3786\"], [0.5555555555555556, \"#d8576b\"], [0.6666666666666666, \"#ed7953\"], [0.7777777777777778, \"#fb9f3a\"], [0.8888888888888888, \"#fdca26\"], [1.0, \"#f0f921\"]], \"type\": \"heatmap\"}], \"heatmapgl\": [{\"colorbar\": {\"outlinewidth\": 0, \"ticks\": \"\"}, \"colorscale\": [[0.0, \"#0d0887\"], [0.1111111111111111, \"#46039f\"], [0.2222222222222222, \"#7201a8\"], [0.3333333333333333, \"#9c179e\"], [0.4444444444444444, \"#bd3786\"], [0.5555555555555556, \"#d8576b\"], [0.6666666666666666, \"#ed7953\"], [0.7777777777777778, \"#fb9f3a\"], [0.8888888888888888, \"#fdca26\"], [1.0, \"#f0f921\"]], \"type\": \"heatmapgl\"}], \"histogram\": [{\"marker\": {\"colorbar\": {\"outlinewidth\": 0, \"ticks\": \"\"}}, \"type\": \"histogram\"}], \"histogram2d\": [{\"colorbar\": {\"outlinewidth\": 0, \"ticks\": \"\"}, \"colorscale\": [[0.0, \"#0d0887\"], [0.1111111111111111, \"#46039f\"], [0.2222222222222222, \"#7201a8\"], [0.3333333333333333, \"#9c179e\"], [0.4444444444444444, \"#bd3786\"], [0.5555555555555556, \"#d8576b\"], [0.6666666666666666, \"#ed7953\"], [0.7777777777777778, \"#fb9f3a\"], [0.8888888888888888, \"#fdca26\"], [1.0, \"#f0f921\"]], \"type\": \"histogram2d\"}], \"histogram2dcontour\": [{\"colorbar\": {\"outlinewidth\": 0, \"ticks\": \"\"}, \"colorscale\": [[0.0, \"#0d0887\"], [0.1111111111111111, \"#46039f\"], [0.2222222222222222, \"#7201a8\"], [0.3333333333333333, \"#9c179e\"], [0.4444444444444444, \"#bd3786\"], [0.5555555555555556, \"#d8576b\"], [0.6666666666666666, \"#ed7953\"], [0.7777777777777778, \"#fb9f3a\"], [0.8888888888888888, \"#fdca26\"], [1.0, \"#f0f921\"]], \"type\": \"histogram2dcontour\"}], \"mesh3d\": [{\"colorbar\": {\"outlinewidth\": 0, \"ticks\": \"\"}, \"type\": \"mesh3d\"}], \"parcoords\": [{\"line\": {\"colorbar\": {\"outlinewidth\": 0, \"ticks\": \"\"}}, \"type\": \"parcoords\"}], \"pie\": [{\"automargin\": true, \"type\": \"pie\"}], \"scatter\": [{\"marker\": {\"colorbar\": {\"outlinewidth\": 0, \"ticks\": \"\"}}, \"type\": \"scatter\"}], \"scatter3d\": [{\"line\": {\"colorbar\": {\"outlinewidth\": 0, \"ticks\": \"\"}}, \"marker\": {\"colorbar\": {\"outlinewidth\": 0, \"ticks\": \"\"}}, \"type\": \"scatter3d\"}], \"scattercarpet\": [{\"marker\": {\"colorbar\": {\"outlinewidth\": 0, \"ticks\": \"\"}}, \"type\": \"scattercarpet\"}], \"scattergeo\": [{\"marker\": {\"colorbar\": {\"outlinewidth\": 0, \"ticks\": \"\"}}, \"type\": \"scattergeo\"}], \"scattergl\": [{\"marker\": {\"colorbar\": {\"outlinewidth\": 0, \"ticks\": \"\"}}, \"type\": \"scattergl\"}], \"scattermapbox\": [{\"marker\": {\"colorbar\": {\"outlinewidth\": 0, \"ticks\": \"\"}}, \"type\": \"scattermapbox\"}], \"scatterpolar\": [{\"marker\": {\"colorbar\": {\"outlinewidth\": 0, \"ticks\": \"\"}}, \"type\": \"scatterpolar\"}], \"scatterpolargl\": [{\"marker\": {\"colorbar\": {\"outlinewidth\": 0, \"ticks\": \"\"}}, \"type\": \"scatterpolargl\"}], \"scatterternary\": [{\"marker\": {\"colorbar\": {\"outlinewidth\": 0, \"ticks\": \"\"}}, \"type\": \"scatterternary\"}], \"surface\": [{\"colorbar\": {\"outlinewidth\": 0, \"ticks\": \"\"}, \"colorscale\": [[0.0, \"#0d0887\"], [0.1111111111111111, \"#46039f\"], [0.2222222222222222, \"#7201a8\"], [0.3333333333333333, \"#9c179e\"], [0.4444444444444444, \"#bd3786\"], [0.5555555555555556, \"#d8576b\"], [0.6666666666666666, \"#ed7953\"], [0.7777777777777778, \"#fb9f3a\"], [0.8888888888888888, \"#fdca26\"], [1.0, \"#f0f921\"]], \"type\": \"surface\"}], \"table\": [{\"cells\": {\"fill\": {\"color\": \"#EBF0F8\"}, \"line\": {\"color\": \"white\"}}, \"header\": {\"fill\": {\"color\": \"#C8D4E3\"}, \"line\": {\"color\": \"white\"}}, \"type\": \"table\"}]}, \"layout\": {\"annotationdefaults\": {\"arrowcolor\": \"#2a3f5f\", \"arrowhead\": 0, \"arrowwidth\": 1}, \"coloraxis\": {\"colorbar\": {\"outlinewidth\": 0, \"ticks\": \"\"}}, \"colorscale\": {\"diverging\": [[0, \"#8e0152\"], [0.1, \"#c51b7d\"], [0.2, \"#de77ae\"], [0.3, \"#f1b6da\"], [0.4, \"#fde0ef\"], [0.5, \"#f7f7f7\"], [0.6, \"#e6f5d0\"], [0.7, \"#b8e186\"], [0.8, \"#7fbc41\"], [0.9, \"#4d9221\"], [1, \"#276419\"]], \"sequential\": [[0.0, \"#0d0887\"], [0.1111111111111111, \"#46039f\"], [0.2222222222222222, \"#7201a8\"], [0.3333333333333333, \"#9c179e\"], [0.4444444444444444, \"#bd3786\"], [0.5555555555555556, \"#d8576b\"], [0.6666666666666666, \"#ed7953\"], [0.7777777777777778, \"#fb9f3a\"], [0.8888888888888888, \"#fdca26\"], [1.0, \"#f0f921\"]], \"sequentialminus\": [[0.0, \"#0d0887\"], [0.1111111111111111, \"#46039f\"], [0.2222222222222222, \"#7201a8\"], [0.3333333333333333, \"#9c179e\"], [0.4444444444444444, \"#bd3786\"], [0.5555555555555556, \"#d8576b\"], [0.6666666666666666, \"#ed7953\"], [0.7777777777777778, \"#fb9f3a\"], [0.8888888888888888, \"#fdca26\"], [1.0, \"#f0f921\"]]}, \"colorway\": [\"#636efa\", \"#EF553B\", \"#00cc96\", \"#ab63fa\", \"#FFA15A\", \"#19d3f3\", \"#FF6692\", \"#B6E880\", \"#FF97FF\", \"#FECB52\"], \"font\": {\"color\": \"#2a3f5f\"}, \"geo\": {\"bgcolor\": \"white\", \"lakecolor\": \"white\", \"landcolor\": \"#E5ECF6\", \"showlakes\": true, \"showland\": true, \"subunitcolor\": \"white\"}, \"hoverlabel\": {\"align\": \"left\"}, \"hovermode\": \"closest\", \"mapbox\": {\"style\": \"light\"}, \"paper_bgcolor\": \"white\", \"plot_bgcolor\": \"#E5ECF6\", \"polar\": {\"angularaxis\": {\"gridcolor\": \"white\", \"linecolor\": \"white\", \"ticks\": \"\"}, \"bgcolor\": \"#E5ECF6\", \"radialaxis\": {\"gridcolor\": \"white\", \"linecolor\": \"white\", \"ticks\": \"\"}}, \"scene\": {\"xaxis\": {\"backgroundcolor\": \"#E5ECF6\", \"gridcolor\": \"white\", \"gridwidth\": 2, \"linecolor\": \"white\", \"showbackground\": true, \"ticks\": \"\", \"zerolinecolor\": \"white\"}, \"yaxis\": {\"backgroundcolor\": \"#E5ECF6\", \"gridcolor\": \"white\", \"gridwidth\": 2, \"linecolor\": \"white\", \"showbackground\": true, \"ticks\": \"\", \"zerolinecolor\": \"white\"}, \"zaxis\": {\"backgroundcolor\": \"#E5ECF6\", \"gridcolor\": \"white\", \"gridwidth\": 2, \"linecolor\": \"white\", \"showbackground\": true, \"ticks\": \"\", \"zerolinecolor\": \"white\"}}, \"shapedefaults\": {\"line\": {\"color\": \"#2a3f5f\"}}, \"ternary\": {\"aaxis\": {\"gridcolor\": \"white\", \"linecolor\": \"white\", \"ticks\": \"\"}, \"baxis\": {\"gridcolor\": \"white\", \"linecolor\": \"white\", \"ticks\": \"\"}, \"bgcolor\": \"#E5ECF6\", \"caxis\": {\"gridcolor\": \"white\", \"linecolor\": \"white\", \"ticks\": \"\"}}, \"title\": {\"x\": 0.05}, \"xaxis\": {\"automargin\": true, \"gridcolor\": \"white\", \"linecolor\": \"white\", \"ticks\": \"\", \"title\": {\"standoff\": 15}, \"zerolinecolor\": \"white\", \"zerolinewidth\": 2}, \"yaxis\": {\"automargin\": true, \"gridcolor\": \"white\", \"linecolor\": \"white\", \"ticks\": \"\", \"title\": {\"standoff\": 15}, \"zerolinecolor\": \"white\", \"zerolinewidth\": 2}}}, \"title\": {\"text\": \"Mean neg. LL on first presentation (semantic)\"}, \"width\": 1200, \"xaxis\": {\"anchor\": \"y\", \"domain\": [0.0, 1.0], \"title\": {\"text\": \"set size (n. tokens)\"}, \"type\": \"category\"}, \"yaxis\": {\"anchor\": \"x\", \"domain\": [0.0, 1.0], \"title\": {\"text\": \"average -log LL\"}}},                        {\"responsive\": true}                    ).then(function(){\n",
       "                            \n",
       "var gd = document.getElementById('51d23619-8362-4aa2-b398-f77747da9d98');\n",
       "var x = new MutationObserver(function (mutations, observer) {{\n",
       "        var display = window.getComputedStyle(gd).display;\n",
       "        if (!display || display === 'none') {{\n",
       "            console.log([gd, 'removed!']);\n",
       "            Plotly.purge(gd);\n",
       "            observer.disconnect();\n",
       "        }}\n",
       "}});\n",
       "\n",
       "// Listen for the removal of the full notebook cells\n",
       "var notebookContainer = gd.closest('#notebook-container');\n",
       "if (notebookContainer) {{\n",
       "    x.observe(notebookContainer, {childList: true});\n",
       "}}\n",
       "\n",
       "// Listen for the clearing of the current output cell\n",
       "var outputEl = gd.closest('.output');\n",
       "if (outputEl) {{\n",
       "    x.observe(outputEl, {childList: true});\n",
       "}}\n",
       "\n",
       "                        })                };                });            </script>        </div>"
      ]
     },
     "metadata": {},
     "output_type": "display_data"
    }
   ],
   "source": [
    "fig = px.box(dagg, x=\"set_size_\", y=\"ppl_mean\", points=\"all\", color=\"prompt_\", \n",
    "             hover_data=[\"token_list\"], \n",
    "             labels={\"set_size_\": \"set size (n. tokens)\", \"ppl_mean\": \"average -log LL\",\n",
    "                   \"prompt_\": \"prompt\", \"second_list_\": \"word order\"},\n",
    "            category_orders = {\"prompt\": [\"short (~8 tok)\", \"mid (~30 tok)\", \"long (~60 tok)\"]},\n",
    "            width=figwidth, height=figheight,\n",
    "            title=\"Mean neg. LL on first presentation ({})\" \\\n",
    "                   .format(semlist))\n",
    "fig.update_xaxes(type='category')\n",
    "fig.show()"
   ]
  },
  {
   "cell_type": "code",
   "execution_count": 32,
   "metadata": {},
   "outputs": [],
   "source": [
    "fig.write_image(\"./figures/perp_{}_{}_cue.png\".format(semlist, wordorder))"
   ]
  }
 ],
 "metadata": {
  "kernelspec": {
   "display_name": "Python 3",
   "language": "python",
   "name": "python3"
  },
  "language_info": {
   "codemirror_mode": {
    "name": "ipython",
    "version": 3
   },
   "file_extension": ".py",
   "mimetype": "text/x-python",
   "name": "python",
   "nbconvert_exporter": "python",
   "pygments_lexer": "ipython3",
   "version": "3.7.9"
  }
 },
 "nbformat": 4,
 "nbformat_minor": 4
}
